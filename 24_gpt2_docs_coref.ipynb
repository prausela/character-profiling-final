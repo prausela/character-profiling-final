{
 "cells": [
  {
   "cell_type": "markdown",
   "metadata": {},
   "source": [
    "# Summarizing (w/ GPT-2)"
   ]
  },
  {
   "cell_type": "markdown",
   "metadata": {},
   "source": [
    "## Packages"
   ]
  },
  {
   "cell_type": "code",
   "execution_count": 1,
   "metadata": {},
   "outputs": [
    {
     "name": "stderr",
     "output_type": "stream",
     "text": [
      "/home/pauli/.local/lib/python3.10/site-packages/tqdm/auto.py:22: TqdmWarning: IProgress not found. Please update jupyter and ipywidgets. See https://ipywidgets.readthedocs.io/en/stable/user_install.html\n",
      "  from .autonotebook import tqdm as notebook_tqdm\n"
     ]
    }
   ],
   "source": [
    "from utils.json_utils import read_json\n",
    "from datasets import Dataset\n",
    "import pandas as pd"
   ]
  },
  {
   "cell_type": "markdown",
   "metadata": {},
   "source": [
    "## Tokenizing"
   ]
  },
  {
   "cell_type": "code",
   "execution_count": 2,
   "metadata": {},
   "outputs": [],
   "source": [
    "nonTokenizedWsubj_docs = read_json(\"18_docs_with_subjects.json\")\n",
    "#nonTokenizedWsubj_docs"
   ]
  },
  {
   "cell_type": "code",
   "execution_count": 3,
   "metadata": {},
   "outputs": [],
   "source": [
    "varied_set_adjectives = read_json(\"14_varied_set_adjectives_definitions.json\")\n",
    "#varied_set_adjectives"
   ]
  },
  {
   "cell_type": "code",
   "execution_count": 4,
   "metadata": {},
   "outputs": [],
   "source": [
    "training_sents = list(map(lambda x : x[\"doc\"], nonTokenizedWsubj_docs))\n",
    "#training_sents"
   ]
  },
  {
   "cell_type": "markdown",
   "metadata": {},
   "source": [
    "## Transformer"
   ]
  },
  {
   "cell_type": "code",
   "execution_count": 5,
   "metadata": {},
   "outputs": [
    {
     "name": "stderr",
     "output_type": "stream",
     "text": [
      "2023-01-24 16:46:52.330660: I tensorflow/core/platform/cpu_feature_guard.cc:193] This TensorFlow binary is optimized with oneAPI Deep Neural Network Library (oneDNN) to use the following CPU instructions in performance-critical operations:  AVX2 FMA\n",
      "To enable them in other operations, rebuild TensorFlow with the appropriate compiler flags.\n",
      "2023-01-24 16:46:52.552869: W tensorflow/compiler/xla/stream_executor/platform/default/dso_loader.cc:64] Could not load dynamic library 'libcudart.so.11.0'; dlerror: libcudart.so.11.0: cannot open shared object file: No such file or directory\n",
      "2023-01-24 16:46:52.552882: I tensorflow/compiler/xla/stream_executor/cuda/cudart_stub.cc:29] Ignore above cudart dlerror if you do not have a GPU set up on your machine.\n",
      "2023-01-24 16:46:53.256468: W tensorflow/compiler/xla/stream_executor/platform/default/dso_loader.cc:64] Could not load dynamic library 'libnvinfer.so.7'; dlerror: libnvinfer.so.7: cannot open shared object file: No such file or directory\n",
      "2023-01-24 16:46:53.256511: W tensorflow/compiler/xla/stream_executor/platform/default/dso_loader.cc:64] Could not load dynamic library 'libnvinfer_plugin.so.7'; dlerror: libnvinfer_plugin.so.7: cannot open shared object file: No such file or directory\n",
      "2023-01-24 16:46:53.256516: W tensorflow/compiler/tf2tensorrt/utils/py_utils.cc:38] TF-TRT Warning: Cannot dlopen some TensorRT libraries. If you would like to use Nvidia GPU with TensorRT, please make sure the missing libraries mentioned above are installed properly.\n"
     ]
    }
   ],
   "source": [
    "from transformers import AutoTokenizer, AutoModelForCausalLM, DataCollatorForLanguageModeling, Trainer, TrainingArguments\n",
    "import torch"
   ]
  },
  {
   "cell_type": "code",
   "execution_count": 6,
   "metadata": {},
   "outputs": [],
   "source": [
    "model_checkpoint = \"distilgpt2\""
   ]
  },
  {
   "cell_type": "code",
   "execution_count": 7,
   "metadata": {},
   "outputs": [],
   "source": [
    "tokenizer = AutoTokenizer.from_pretrained(model_checkpoint, use_fast=True)"
   ]
  },
  {
   "cell_type": "code",
   "execution_count": 8,
   "metadata": {},
   "outputs": [],
   "source": [
    "tokenizer.pad_token = tokenizer.eos_token\n",
    "data_collator = DataCollatorForLanguageModeling(tokenizer, mlm=False)"
   ]
  },
  {
   "cell_type": "code",
   "execution_count": 9,
   "metadata": {},
   "outputs": [],
   "source": [
    "tokenize_fn = lambda doc : tokenizer(\n",
    "        doc,\n",
    "        truncation=True,\n",
    "        max_length=1024\n",
    "    )\n",
    "\n",
    "tokenized_dataset = list(map(tokenize_fn, training_sents))"
   ]
  },
  {
   "cell_type": "code",
   "execution_count": 10,
   "metadata": {},
   "outputs": [],
   "source": [
    "tokenized_dataset = pd.DataFrame(tokenized_dataset)\n",
    "tokenized_dataset = Dataset.from_pandas(tokenized_dataset)"
   ]
  },
  {
   "cell_type": "code",
   "execution_count": 11,
   "metadata": {},
   "outputs": [],
   "source": [
    "model = AutoModelForCausalLM.from_pretrained(\n",
    "    model_checkpoint, pad_token_id=tokenizer.eos_token_id)"
   ]
  },
  {
   "cell_type": "code",
   "execution_count": 12,
   "metadata": {},
   "outputs": [],
   "source": [
    "device = f\"cuda:{torch.cuda.current_device()}\" if torch.cuda.is_available() else \"cpu\""
   ]
  },
  {
   "cell_type": "code",
   "execution_count": 13,
   "metadata": {},
   "outputs": [],
   "source": [
    "training_args = TrainingArguments(\n",
    "    f\"{model_checkpoint}-finetuned-docs-coref-black-clover\",\n",
    "    num_train_epochs=10,\n",
    "    per_device_train_batch_size=10,\n",
    "    per_device_eval_batch_size=10,    \n",
    "    learning_rate=2e-5,\n",
    "    weight_decay=0.01,\n",
    "    do_eval=True, # eval en validation set\n",
    "    evaluation_strategy=\"steps\", # eval en validation set\n",
    "    eval_steps=100,\n",
    "    save_steps=100, # checkpoint model every 500 steps\n",
    "    logging_dir='./logs', # logging\n",
    "    logging_strategy=\"steps\",\n",
    "    logging_steps=1,\n",
    "    fp16=False, # float16 en training (only on CUDA)\n",
    "    push_to_hub=False,\n",
    ")"
   ]
  },
  {
   "cell_type": "code",
   "execution_count": 14,
   "metadata": {},
   "outputs": [],
   "source": [
    "trainer = Trainer(\n",
    "    model=model,\n",
    "    args=training_args,\n",
    "    data_collator=data_collator,\n",
    "    train_dataset=tokenized_dataset, #.select(range(0, 128)),\n",
    "    eval_dataset=tokenized_dataset, #.select(range(0, 128)),\n",
    ")"
   ]
  },
  {
   "cell_type": "code",
   "execution_count": 15,
   "metadata": {},
   "outputs": [
    {
     "name": "stderr",
     "output_type": "stream",
     "text": [
      "/home/pauli/.local/lib/python3.10/site-packages/transformers/optimization.py:306: FutureWarning: This implementation of AdamW is deprecated and will be removed in a future version. Use the PyTorch implementation torch.optim.AdamW instead, or set `no_deprecation_warning=True` to disable this warning\n",
      "  warnings.warn(\n",
      "***** Running training *****\n",
      "  Num examples = 52\n",
      "  Num Epochs = 10\n",
      "  Instantaneous batch size per device = 10\n",
      "  Total train batch size (w. parallel, distributed & accumulation) = 10\n",
      "  Gradient Accumulation steps = 1\n",
      "  Total optimization steps = 60\n",
      "  0%|          | 0/60 [00:00<?, ?it/s]You're using a GPT2TokenizerFast tokenizer. Please note that with a fast tokenizer, using the `__call__` method is faster than using a method to encode the text followed by a call to the `pad` method to get a padded encoding.\n",
      "  2%|▏         | 1/60 [00:31<31:02, 31.57s/it]"
     ]
    },
    {
     "name": "stdout",
     "output_type": "stream",
     "text": [
      "{'loss': 3.8829, 'learning_rate': 1.9666666666666666e-05, 'epoch': 0.17}\n"
     ]
    },
    {
     "name": "stderr",
     "output_type": "stream",
     "text": [
      "  3%|▎         | 2/60 [01:04<31:27, 32.55s/it]"
     ]
    },
    {
     "name": "stdout",
     "output_type": "stream",
     "text": [
      "{'loss': 3.9362, 'learning_rate': 1.9333333333333333e-05, 'epoch': 0.33}\n"
     ]
    },
    {
     "name": "stderr",
     "output_type": "stream",
     "text": [
      "  5%|▌         | 3/60 [01:34<29:42, 31.28s/it]"
     ]
    },
    {
     "name": "stdout",
     "output_type": "stream",
     "text": [
      "{'loss': 3.8997, 'learning_rate': 1.9e-05, 'epoch': 0.5}\n"
     ]
    },
    {
     "name": "stderr",
     "output_type": "stream",
     "text": [
      "  7%|▋         | 4/60 [02:02<27:47, 29.78s/it]"
     ]
    },
    {
     "name": "stdout",
     "output_type": "stream",
     "text": [
      "{'loss': 3.6292, 'learning_rate': 1.866666666666667e-05, 'epoch': 0.67}\n"
     ]
    },
    {
     "name": "stderr",
     "output_type": "stream",
     "text": [
      "  8%|▊         | 5/60 [02:21<23:58, 26.16s/it]"
     ]
    },
    {
     "name": "stdout",
     "output_type": "stream",
     "text": [
      "{'loss': 3.7096, 'learning_rate': 1.8333333333333333e-05, 'epoch': 0.83}\n"
     ]
    },
    {
     "name": "stderr",
     "output_type": "stream",
     "text": [
      " 10%|█         | 6/60 [02:26<17:06, 19.01s/it]"
     ]
    },
    {
     "name": "stdout",
     "output_type": "stream",
     "text": [
      "{'loss': 3.6744, 'learning_rate': 1.8e-05, 'epoch': 1.0}\n"
     ]
    },
    {
     "name": "stderr",
     "output_type": "stream",
     "text": [
      " 12%|█▏        | 7/60 [02:46<17:03, 19.32s/it]"
     ]
    },
    {
     "name": "stdout",
     "output_type": "stream",
     "text": [
      "{'loss': 3.8449, 'learning_rate': 1.7666666666666668e-05, 'epoch': 1.17}\n"
     ]
    },
    {
     "name": "stderr",
     "output_type": "stream",
     "text": [
      " 13%|█▎        | 8/60 [03:05<16:32, 19.10s/it]"
     ]
    },
    {
     "name": "stdout",
     "output_type": "stream",
     "text": [
      "{'loss': 3.664, 'learning_rate': 1.7333333333333336e-05, 'epoch': 1.33}\n"
     ]
    },
    {
     "name": "stderr",
     "output_type": "stream",
     "text": [
      " 15%|█▌        | 9/60 [03:36<19:23, 22.82s/it]"
     ]
    },
    {
     "name": "stdout",
     "output_type": "stream",
     "text": [
      "{'loss': 3.869, 'learning_rate': 1.7e-05, 'epoch': 1.5}\n"
     ]
    },
    {
     "name": "stderr",
     "output_type": "stream",
     "text": [
      " 17%|█▋        | 10/60 [04:03<20:06, 24.13s/it]"
     ]
    },
    {
     "name": "stdout",
     "output_type": "stream",
     "text": [
      "{'loss': 3.7245, 'learning_rate': 1.6666666666666667e-05, 'epoch': 1.67}\n"
     ]
    },
    {
     "name": "stderr",
     "output_type": "stream",
     "text": [
      " 18%|█▊        | 11/60 [04:30<20:29, 25.09s/it]"
     ]
    },
    {
     "name": "stdout",
     "output_type": "stream",
     "text": [
      "{'loss': 3.4008, 'learning_rate': 1.6333333333333335e-05, 'epoch': 1.83}\n"
     ]
    },
    {
     "name": "stderr",
     "output_type": "stream",
     "text": [
      " 20%|██        | 12/60 [04:36<15:14, 19.06s/it]"
     ]
    },
    {
     "name": "stdout",
     "output_type": "stream",
     "text": [
      "{'loss': 3.5753, 'learning_rate': 1.6000000000000003e-05, 'epoch': 2.0}\n"
     ]
    },
    {
     "name": "stderr",
     "output_type": "stream",
     "text": [
      " 22%|██▏       | 13/60 [05:03<16:51, 21.52s/it]"
     ]
    },
    {
     "name": "stdout",
     "output_type": "stream",
     "text": [
      "{'loss': 3.5645, 'learning_rate': 1.5666666666666667e-05, 'epoch': 2.17}\n"
     ]
    },
    {
     "name": "stderr",
     "output_type": "stream",
     "text": [
      " 23%|██▎       | 14/60 [05:25<16:36, 21.67s/it]"
     ]
    },
    {
     "name": "stdout",
     "output_type": "stream",
     "text": [
      "{'loss': 3.6017, 'learning_rate': 1.5333333333333334e-05, 'epoch': 2.33}\n"
     ]
    },
    {
     "name": "stderr",
     "output_type": "stream",
     "text": [
      " 25%|██▌       | 15/60 [05:44<15:42, 20.95s/it]"
     ]
    },
    {
     "name": "stdout",
     "output_type": "stream",
     "text": [
      "{'loss': 3.8356, 'learning_rate': 1.5000000000000002e-05, 'epoch': 2.5}\n"
     ]
    },
    {
     "name": "stderr",
     "output_type": "stream",
     "text": [
      " 27%|██▋       | 16/60 [06:13<17:01, 23.21s/it]"
     ]
    },
    {
     "name": "stdout",
     "output_type": "stream",
     "text": [
      "{'loss': 3.6651, 'learning_rate': 1.4666666666666666e-05, 'epoch': 2.67}\n"
     ]
    },
    {
     "name": "stderr",
     "output_type": "stream",
     "text": [
      " 28%|██▊       | 17/60 [06:38<17:05, 23.85s/it]"
     ]
    },
    {
     "name": "stdout",
     "output_type": "stream",
     "text": [
      "{'loss': 3.4161, 'learning_rate': 1.4333333333333334e-05, 'epoch': 2.83}\n"
     ]
    },
    {
     "name": "stderr",
     "output_type": "stream",
     "text": [
      " 30%|███       | 18/60 [06:41<12:18, 17.59s/it]"
     ]
    },
    {
     "name": "stdout",
     "output_type": "stream",
     "text": [
      "{'loss': 3.5534, 'learning_rate': 1.4e-05, 'epoch': 3.0}\n"
     ]
    },
    {
     "name": "stderr",
     "output_type": "stream",
     "text": [
      " 32%|███▏      | 19/60 [07:02<12:42, 18.61s/it]"
     ]
    },
    {
     "name": "stdout",
     "output_type": "stream",
     "text": [
      "{'loss': 3.5786, 'learning_rate': 1.3666666666666667e-05, 'epoch': 3.17}\n"
     ]
    },
    {
     "name": "stderr",
     "output_type": "stream",
     "text": [
      " 33%|███▎      | 20/60 [07:26<13:27, 20.19s/it]"
     ]
    },
    {
     "name": "stdout",
     "output_type": "stream",
     "text": [
      "{'loss': 3.8228, 'learning_rate': 1.3333333333333333e-05, 'epoch': 3.33}\n"
     ]
    },
    {
     "name": "stderr",
     "output_type": "stream",
     "text": [
      " 35%|███▌      | 21/60 [07:55<14:50, 22.83s/it]"
     ]
    },
    {
     "name": "stdout",
     "output_type": "stream",
     "text": [
      "{'loss': 3.4739, 'learning_rate': 1.3000000000000001e-05, 'epoch': 3.5}\n"
     ]
    },
    {
     "name": "stderr",
     "output_type": "stream",
     "text": [
      " 37%|███▋      | 22/60 [08:17<14:17, 22.56s/it]"
     ]
    },
    {
     "name": "stdout",
     "output_type": "stream",
     "text": [
      "{'loss': 3.4674, 'learning_rate': 1.2666666666666667e-05, 'epoch': 3.67}\n"
     ]
    },
    {
     "name": "stderr",
     "output_type": "stream",
     "text": [
      " 38%|███▊      | 23/60 [08:43<14:39, 23.78s/it]"
     ]
    },
    {
     "name": "stdout",
     "output_type": "stream",
     "text": [
      "{'loss': 3.4522, 'learning_rate': 1.2333333333333334e-05, 'epoch': 3.83}\n"
     ]
    },
    {
     "name": "stderr",
     "output_type": "stream",
     "text": [
      " 40%|████      | 24/60 [08:47<10:44, 17.90s/it]"
     ]
    },
    {
     "name": "stdout",
     "output_type": "stream",
     "text": [
      "{'loss': 3.2695, 'learning_rate': 1.2e-05, 'epoch': 4.0}\n"
     ]
    },
    {
     "name": "stderr",
     "output_type": "stream",
     "text": [
      " 42%|████▏     | 25/60 [09:14<12:00, 20.60s/it]"
     ]
    },
    {
     "name": "stdout",
     "output_type": "stream",
     "text": [
      "{'loss': 3.3497, 'learning_rate': 1.1666666666666668e-05, 'epoch': 4.17}\n"
     ]
    },
    {
     "name": "stderr",
     "output_type": "stream",
     "text": [
      " 43%|████▎     | 26/60 [09:43<12:57, 22.86s/it]"
     ]
    },
    {
     "name": "stdout",
     "output_type": "stream",
     "text": [
      "{'loss': 3.5882, 'learning_rate': 1.1333333333333334e-05, 'epoch': 4.33}\n"
     ]
    },
    {
     "name": "stderr",
     "output_type": "stream",
     "text": [
      " 45%|████▌     | 27/60 [10:07<12:48, 23.27s/it]"
     ]
    },
    {
     "name": "stdout",
     "output_type": "stream",
     "text": [
      "{'loss': 3.7039, 'learning_rate': 1.1000000000000001e-05, 'epoch': 4.5}\n"
     ]
    },
    {
     "name": "stderr",
     "output_type": "stream",
     "text": [
      " 47%|████▋     | 28/60 [10:29<12:11, 22.87s/it]"
     ]
    },
    {
     "name": "stdout",
     "output_type": "stream",
     "text": [
      "{'loss': 3.3551, 'learning_rate': 1.0666666666666667e-05, 'epoch': 4.67}\n"
     ]
    },
    {
     "name": "stderr",
     "output_type": "stream",
     "text": [
      " 48%|████▊     | 29/60 [10:54<12:12, 23.64s/it]"
     ]
    },
    {
     "name": "stdout",
     "output_type": "stream",
     "text": [
      "{'loss': 3.3746, 'learning_rate': 1.0333333333333335e-05, 'epoch': 4.83}\n"
     ]
    },
    {
     "name": "stderr",
     "output_type": "stream",
     "text": [
      " 50%|█████     | 30/60 [10:58<08:53, 17.79s/it]"
     ]
    },
    {
     "name": "stdout",
     "output_type": "stream",
     "text": [
      "{'loss': 3.607, 'learning_rate': 1e-05, 'epoch': 5.0}\n"
     ]
    },
    {
     "name": "stderr",
     "output_type": "stream",
     "text": [
      " 52%|█████▏    | 31/60 [11:24<09:40, 20.03s/it]"
     ]
    },
    {
     "name": "stdout",
     "output_type": "stream",
     "text": [
      "{'loss': 3.3889, 'learning_rate': 9.666666666666667e-06, 'epoch': 5.17}\n"
     ]
    },
    {
     "name": "stderr",
     "output_type": "stream",
     "text": [
      " 53%|█████▎    | 32/60 [11:49<10:05, 21.64s/it]"
     ]
    },
    {
     "name": "stdout",
     "output_type": "stream",
     "text": [
      "{'loss': 3.5756, 'learning_rate': 9.333333333333334e-06, 'epoch': 5.33}\n"
     ]
    },
    {
     "name": "stderr",
     "output_type": "stream",
     "text": [
      " 55%|█████▌    | 33/60 [12:11<09:46, 21.73s/it]"
     ]
    },
    {
     "name": "stdout",
     "output_type": "stream",
     "text": [
      "{'loss': 3.5836, 'learning_rate': 9e-06, 'epoch': 5.5}\n"
     ]
    },
    {
     "name": "stderr",
     "output_type": "stream",
     "text": [
      " 57%|█████▋    | 34/60 [12:33<09:26, 21.77s/it]"
     ]
    },
    {
     "name": "stdout",
     "output_type": "stream",
     "text": [
      "{'loss': 3.2211, 'learning_rate': 8.666666666666668e-06, 'epoch': 5.67}\n"
     ]
    },
    {
     "name": "stderr",
     "output_type": "stream",
     "text": [
      " 58%|█████▊    | 35/60 [13:01<09:54, 23.77s/it]"
     ]
    },
    {
     "name": "stdout",
     "output_type": "stream",
     "text": [
      "{'loss': 3.4518, 'learning_rate': 8.333333333333334e-06, 'epoch': 5.83}\n"
     ]
    },
    {
     "name": "stderr",
     "output_type": "stream",
     "text": [
      " 60%|██████    | 36/60 [13:05<07:03, 17.66s/it]"
     ]
    },
    {
     "name": "stdout",
     "output_type": "stream",
     "text": [
      "{'loss': 3.4252, 'learning_rate': 8.000000000000001e-06, 'epoch': 6.0}\n"
     ]
    },
    {
     "name": "stderr",
     "output_type": "stream",
     "text": [
      " 62%|██████▏   | 37/60 [13:33<07:59, 20.83s/it]"
     ]
    },
    {
     "name": "stdout",
     "output_type": "stream",
     "text": [
      "{'loss': 3.4691, 'learning_rate': 7.666666666666667e-06, 'epoch': 6.17}\n"
     ]
    },
    {
     "name": "stderr",
     "output_type": "stream",
     "text": [
      " 63%|██████▎   | 38/60 [13:59<08:11, 22.34s/it]"
     ]
    },
    {
     "name": "stdout",
     "output_type": "stream",
     "text": [
      "{'loss': 3.3795, 'learning_rate': 7.333333333333333e-06, 'epoch': 6.33}\n"
     ]
    },
    {
     "name": "stderr",
     "output_type": "stream",
     "text": [
      " 65%|██████▌   | 39/60 [14:25<08:15, 23.59s/it]"
     ]
    },
    {
     "name": "stdout",
     "output_type": "stream",
     "text": [
      "{'loss': 3.4241, 'learning_rate': 7e-06, 'epoch': 6.5}\n"
     ]
    },
    {
     "name": "stderr",
     "output_type": "stream",
     "text": [
      " 67%|██████▋   | 40/60 [14:50<08:00, 24.03s/it]"
     ]
    },
    {
     "name": "stdout",
     "output_type": "stream",
     "text": [
      "{'loss': 3.3497, 'learning_rate': 6.666666666666667e-06, 'epoch': 6.67}\n"
     ]
    },
    {
     "name": "stderr",
     "output_type": "stream",
     "text": [
      " 68%|██████▊   | 41/60 [15:09<07:08, 22.54s/it]"
     ]
    },
    {
     "name": "stdout",
     "output_type": "stream",
     "text": [
      "{'loss': 3.5161, 'learning_rate': 6.333333333333333e-06, 'epoch': 6.83}\n"
     ]
    },
    {
     "name": "stderr",
     "output_type": "stream",
     "text": [
      " 70%|███████   | 42/60 [15:14<05:09, 17.19s/it]"
     ]
    },
    {
     "name": "stdout",
     "output_type": "stream",
     "text": [
      "{'loss': 3.3075, 'learning_rate': 6e-06, 'epoch': 7.0}\n"
     ]
    },
    {
     "name": "stderr",
     "output_type": "stream",
     "text": [
      " 72%|███████▏  | 43/60 [15:40<05:38, 19.94s/it]"
     ]
    },
    {
     "name": "stdout",
     "output_type": "stream",
     "text": [
      "{'loss': 3.2266, 'learning_rate': 5.666666666666667e-06, 'epoch': 7.17}\n"
     ]
    },
    {
     "name": "stderr",
     "output_type": "stream",
     "text": [
      " 73%|███████▎  | 44/60 [16:10<06:04, 22.75s/it]"
     ]
    },
    {
     "name": "stdout",
     "output_type": "stream",
     "text": [
      "{'loss': 3.4985, 'learning_rate': 5.333333333333334e-06, 'epoch': 7.33}\n"
     ]
    },
    {
     "name": "stderr",
     "output_type": "stream",
     "text": [
      " 75%|███████▌  | 45/60 [16:29<05:28, 21.87s/it]"
     ]
    },
    {
     "name": "stdout",
     "output_type": "stream",
     "text": [
      "{'loss': 3.4848, 'learning_rate': 5e-06, 'epoch': 7.5}\n"
     ]
    },
    {
     "name": "stderr",
     "output_type": "stream",
     "text": [
      " 77%|███████▋  | 46/60 [16:52<05:09, 22.11s/it]"
     ]
    },
    {
     "name": "stdout",
     "output_type": "stream",
     "text": [
      "{'loss': 3.3181, 'learning_rate': 4.666666666666667e-06, 'epoch': 7.67}\n"
     ]
    },
    {
     "name": "stderr",
     "output_type": "stream",
     "text": [
      " 78%|███████▊  | 47/60 [17:17<04:58, 22.95s/it]"
     ]
    },
    {
     "name": "stdout",
     "output_type": "stream",
     "text": [
      "{'loss': 3.4876, 'learning_rate': 4.333333333333334e-06, 'epoch': 7.83}\n"
     ]
    },
    {
     "name": "stderr",
     "output_type": "stream",
     "text": [
      " 80%|████████  | 48/60 [17:21<03:26, 17.18s/it]"
     ]
    },
    {
     "name": "stdout",
     "output_type": "stream",
     "text": [
      "{'loss': 3.0792, 'learning_rate': 4.000000000000001e-06, 'epoch': 8.0}\n"
     ]
    },
    {
     "name": "stderr",
     "output_type": "stream",
     "text": [
      " 82%|████████▏ | 49/60 [17:45<03:31, 19.23s/it]"
     ]
    },
    {
     "name": "stdout",
     "output_type": "stream",
     "text": [
      "{'loss': 3.2952, 'learning_rate': 3.6666666666666666e-06, 'epoch': 8.17}\n"
     ]
    },
    {
     "name": "stderr",
     "output_type": "stream",
     "text": [
      " 83%|████████▎ | 50/60 [18:11<03:32, 21.26s/it]"
     ]
    },
    {
     "name": "stdout",
     "output_type": "stream",
     "text": [
      "{'loss': 3.5206, 'learning_rate': 3.3333333333333333e-06, 'epoch': 8.33}\n"
     ]
    },
    {
     "name": "stderr",
     "output_type": "stream",
     "text": [
      " 85%|████████▌ | 51/60 [18:33<03:12, 21.44s/it]"
     ]
    },
    {
     "name": "stdout",
     "output_type": "stream",
     "text": [
      "{'loss': 3.3299, 'learning_rate': 3e-06, 'epoch': 8.5}\n"
     ]
    },
    {
     "name": "stderr",
     "output_type": "stream",
     "text": [
      " 87%|████████▋ | 52/60 [18:59<03:04, 23.00s/it]"
     ]
    },
    {
     "name": "stdout",
     "output_type": "stream",
     "text": [
      "{'loss': 3.2996, 'learning_rate': 2.666666666666667e-06, 'epoch': 8.67}\n"
     ]
    },
    {
     "name": "stderr",
     "output_type": "stream",
     "text": [
      " 88%|████████▊ | 53/60 [19:28<02:52, 24.69s/it]"
     ]
    },
    {
     "name": "stdout",
     "output_type": "stream",
     "text": [
      "{'loss': 3.4809, 'learning_rate': 2.3333333333333336e-06, 'epoch': 8.83}\n"
     ]
    },
    {
     "name": "stderr",
     "output_type": "stream",
     "text": [
      " 90%|█████████ | 54/60 [19:32<01:51, 18.58s/it]"
     ]
    },
    {
     "name": "stdout",
     "output_type": "stream",
     "text": [
      "{'loss': 2.9002, 'learning_rate': 2.0000000000000003e-06, 'epoch': 9.0}\n"
     ]
    },
    {
     "name": "stderr",
     "output_type": "stream",
     "text": [
      " 92%|█████████▏| 55/60 [19:58<01:44, 20.83s/it]"
     ]
    },
    {
     "name": "stdout",
     "output_type": "stream",
     "text": [
      "{'loss': 3.5191, 'learning_rate': 1.6666666666666667e-06, 'epoch': 9.17}\n"
     ]
    },
    {
     "name": "stderr",
     "output_type": "stream",
     "text": [
      " 93%|█████████▎| 56/60 [20:28<01:33, 23.39s/it]"
     ]
    },
    {
     "name": "stdout",
     "output_type": "stream",
     "text": [
      "{'loss': 3.4286, 'learning_rate': 1.3333333333333334e-06, 'epoch': 9.33}\n"
     ]
    },
    {
     "name": "stderr",
     "output_type": "stream",
     "text": [
      " 95%|█████████▌| 57/60 [20:50<01:09, 23.20s/it]"
     ]
    },
    {
     "name": "stdout",
     "output_type": "stream",
     "text": [
      "{'loss': 3.4148, 'learning_rate': 1.0000000000000002e-06, 'epoch': 9.5}\n"
     ]
    },
    {
     "name": "stderr",
     "output_type": "stream",
     "text": [
      " 97%|█████████▋| 58/60 [21:17<00:48, 24.10s/it]"
     ]
    },
    {
     "name": "stdout",
     "output_type": "stream",
     "text": [
      "{'loss': 3.2324, 'learning_rate': 6.666666666666667e-07, 'epoch': 9.67}\n"
     ]
    },
    {
     "name": "stderr",
     "output_type": "stream",
     "text": [
      " 98%|█████████▊| 59/60 [21:37<00:23, 23.01s/it]"
     ]
    },
    {
     "name": "stdout",
     "output_type": "stream",
     "text": [
      "{'loss': 3.2888, 'learning_rate': 3.3333333333333335e-07, 'epoch': 9.83}\n"
     ]
    },
    {
     "name": "stderr",
     "output_type": "stream",
     "text": [
      "100%|██████████| 60/60 [21:42<00:00, 17.63s/it]\n",
      "\n",
      "Training completed. Do not forget to share your model on huggingface.co/models =)\n",
      "\n",
      "\n",
      "100%|██████████| 60/60 [21:42<00:00, 21.71s/it]"
     ]
    },
    {
     "name": "stdout",
     "output_type": "stream",
     "text": [
      "{'loss': 3.2367, 'learning_rate': 0.0, 'epoch': 10.0}\n",
      "{'train_runtime': 1302.6924, 'train_samples_per_second': 0.399, 'train_steps_per_second': 0.046, 'train_loss': 3.493728176752726, 'epoch': 10.0}\n"
     ]
    },
    {
     "name": "stderr",
     "output_type": "stream",
     "text": [
      "\n"
     ]
    }
   ],
   "source": [
    "train_output = trainer.train()"
   ]
  },
  {
   "cell_type": "code",
   "execution_count": 16,
   "metadata": {},
   "outputs": [],
   "source": [
    "def generate(\n",
    "    prompt=None, max_length=1024, max_new_tokens=20, greedy=True, model=model, tokenizer=tokenizer, device=device\n",
    "):\n",
    "    \"\"\"None stands for beggining of sequence.\n",
    "    NOTE si bien parece que GPT2 puede generar a partir de BOS token, la \n",
    "    documentacion es poco clara. Ademas hicimos nuestro finetuning sin BOS token.\n",
    "    Entonces solo vamos a usar la funcion pasandole un contexto.\n",
    "\n",
    "    Ver:\n",
    "    https://github.com/huggingface/transformers/issues/3311#issuecomment-601264426\n",
    "    https://github.com/openai/gpt-2/blob/a74da5d99abaaba920de8131d64da2862a8f213b/src/generate_unconditional_samples.py#L60\n",
    "    \"\"\"\n",
    "    do_sample = False if greedy else True\n",
    "    # model.eval() to set dropout and batch normalization layers to evaluation \n",
    "    # mode before running inference\n",
    "    if prompt:\n",
    "        input_ids = tokenizer.encode(prompt, return_tensors=\"pt\").to(device)\n",
    "        model.eval()\n",
    "        outputs = model.generate(input_ids, do_sample=do_sample, max_new_tokens=max_new_tokens)\n",
    "    else:\n",
    "        model.eval()\n",
    "        outputs = model.generate(do_sample=do_sample, max_new_tokens=max_new_tokens)\n",
    "    return tokenizer.batch_decode(outputs, skip_special_tokens=True)"
   ]
  },
  {
   "cell_type": "markdown",
   "metadata": {},
   "source": [
    "## Summarize"
   ]
  },
  {
   "cell_type": "code",
   "execution_count": 17,
   "metadata": {},
   "outputs": [
    {
     "data": {
      "text/plain": [
       "[\"Microsoft's CEO is iktkej, as do three other business partners:\\n\\n\\n-\\nAnd more,\"]"
      ]
     },
     "execution_count": 17,
     "metadata": {},
     "output_type": "execute_result"
    }
   ],
   "source": [
    "generate(\"Microsoft's CEO is \", greedy=False)"
   ]
  },
  {
   "cell_type": "code",
   "execution_count": 18,
   "metadata": {},
   "outputs": [],
   "source": [
    "import re"
   ]
  },
  {
   "cell_type": "code",
   "execution_count": 19,
   "metadata": {},
   "outputs": [],
   "source": [
    "non_greedy_generated_descriptions = []\n",
    "for doc in nonTokenizedWsubj_docs:\n",
    "    for subject in doc[\"subjects\"]:\n",
    "        generated_doc = generate(doc[\"doc\"] + \" \" + subject + \" can be described as \", max_length=1024, greedy=False)\n",
    "        if len(re.split(doc[\"doc\"], generated_doc[0])) >= 2:\n",
    "            generated_desc = re.sub(r\"\\s+\", \" \", (re.split(r\"[.;:!?]\",list(map(lambda x : x.strip(), re.split(doc[\"doc\"], generated_doc[0])))[1]))[0])\n",
    "            non_greedy_generated_descriptions.append(generated_desc)"
   ]
  },
  {
   "cell_type": "code",
   "execution_count": 20,
   "metadata": {},
   "outputs": [],
   "source": [
    "greedy_generated_descriptions = []\n",
    "for doc in nonTokenizedWsubj_docs[:10]:\n",
    "    for subject in doc[\"subjects\"]:\n",
    "        generated_doc = generate(doc[\"doc\"] + \" \" + subject + \" can be described as \", max_length=1024, greedy=True)\n",
    "        if len(re.split(doc[\"doc\"], generated_doc[0])) >= 2:\n",
    "            generated_desc = re.sub(r\"\\s+\", \" \", (re.split(r\"[.;:!?]\",list(map(lambda x : x.strip(), re.split(doc[\"doc\"], generated_doc[0])))[1]))[0])\n",
    "            greedy_generated_descriptions.append(generated_desc)"
   ]
  },
  {
   "cell_type": "code",
   "execution_count": 21,
   "metadata": {},
   "outputs": [
    {
     "data": {
      "text/plain": [
       "['hol', '']"
      ]
     },
     "execution_count": 21,
     "metadata": {},
     "output_type": "execute_result"
    }
   ],
   "source": [
    "re.split(\"\\.\", \"hol.\")"
   ]
  },
  {
   "cell_type": "code",
   "execution_count": 22,
   "metadata": {},
   "outputs": [
    {
     "data": {
      "text/plain": [
       "['Yuno can be described as 【〈〉」',\n",
       " 'Asta can be described as iliar',\n",
       " 'Lily can be described as Rentura',\n",
       " 'Yuno can be described as iced-up, strong, but extremely well-rounded, although he is not that talented now',\n",
       " 'Orsi can be described as ~~an arachronistic',\n",
       " 'Asta can be described as iced and has a huge appetite for the little things',\n",
       " 'Lily can be described as iced up at night',\n",
       " 'Finral can be described as 하검',\n",
       " 'Nozel can be described as Â a strong peasant, but the only problem is that Asta must be defeated quickly before they have',\n",
       " 'Gordon can be described as iced or strong',\n",
       " 'Rill can be described as ersatz, but not being able to wield the magic magic to stop Yuno',\n",
       " 'Jack can be described as ikiny, a man with powers that are difficult to control',\n",
       " 'Dorothy can be described as vernacular',\n",
       " 'Yami can be described as 【Magic Mage‡】',\n",
       " 'Fuegoleon can be described as urchin prince, as having a dark, brown eyes',\n",
       " 'Yuno can be described as 仝花期, the best magician ever, but the only spell that truly compares to',\n",
       " 'Sekke can be described as icky, and his eyes glazed as he sees Kui-ji-jimbo on the',\n",
       " 'Charlotte can be described as ~~~ in the article',\n",
       " 'Asta can be described as ersatz-yasu-kun',\n",
       " 'William can be described as 『The Magic Knight』 and uses a combination of magic to attack Yuno',\n",
       " 'Yuno can be described as 今乩, but Yuno is not very skilled at that',\n",
       " 'Yami can be described as ~~ Magic Queen Chai Miao',\n",
       " 'Sekke can be described as 了じ了だ',\n",
       " 'Asta can be described as 俊东室',\n",
       " 'Klaus can be described as magical',\n",
       " 'Magna can be described as ÂÂÂÂÂÂÂÂÂÂÂÂÂÂÂÂÂÂÂÂ',\n",
       " 'Asta can be described as',\n",
       " 'Noelle can be described as icky, but all of the new recruits are different and this is what makes them exceptional',\n",
       " 'Finral can be described as 『『『『『』』 for her magic ability',\n",
       " 'Yami can be described as ~~ magical magic, as a magical power that makes people more \"active\" at times',\n",
       " 'Magna can be described as iced in a few seconds when Noelle Silva is still a little nervous',\n",
       " 'Yuno can be described as ichiro',\n",
       " 'Klaus can be described as vernacular but there is no magic power left',\n",
       " 'Noelle can be described as 해에입다',\n",
       " 'Asta can be described as icky, but Asta can really get off the ground',\n",
       " \"Finral can be described as 【・・] Magic Knights' magic stone\",\n",
       " 'Yami can be described as Asta of the Holy Ghost Yami is surprised that there were no',\n",
       " \"Magna can be described as iced milk but is not quite sure what's going to happen next\",\n",
       " 'Noelle can be described as iced up by Seihi',\n",
       " 'Asta can be described as icky but Asta has one problem',\n",
       " 'Noelle can be described as magna',\n",
       " 'Asta can be described as Asta wizard, who is a wizard',\n",
       " 'Magna can be described as Dark Angels',\n",
       " 'Magna can be described as Â Magic Knight',\n",
       " \"Noelle can be described as Â a ‘bad‖ and says this doesn't make him look good\",\n",
       " 'Asta can be described as 『\\u202c堶革』, and Magna says that this is the true',\n",
       " 'Finral can be described as _______',\n",
       " 'Magna can be described as 『Magic Master』, but Noelle says that he is from the area where the Magna Wizard',\n",
       " 'Lily can be described as 『\\u200c』,\\u200c『』[「~] Nahazza',\n",
       " 'Noelle can be described as 『Bizumi』',\n",
       " 'Sekke can be described as 『移精』',\n",
       " 'Asta can be described as 什如如。 and looks at a woman saying, \"Who are you',\n",
       " 'Vanessa can be described as yummy because she will do it on top of her heart which makes her very own',\n",
       " 'Asta can be described as poor and afraid of the future',\n",
       " 'Orsi can be described as _____',\n",
       " 'Yuno can be described as iced, calm, optimistic, and excited, and the rest of the children and Father Orsi head',\n",
       " 'Klaus can be described as illsome and an eccentric one',\n",
       " 'Noelle can be described as ersatz but one of the children is still a boy and is still still a boy',\n",
       " 'Lily can be described as ‿scented and scared but still very happy to be around for the rest of time',\n",
       " 'Mimosa can be described as ________ing very calm in this case',\n",
       " 'Vanessa can be described as ※\" ※※※※※※\\u200b',\n",
       " 'Sekke can be described as livid and miserable',\n",
       " 'Julius can be described as sustaining at the children and Father Orsi wants to use them to protect Asta',\n",
       " 'Orsi can be described as 信思 or \"Black Hole\" and asks what the Wizard King is thinking of the Wizard',\n",
       " 'Yuno can be described as 『『Vampires』',\n",
       " 'Klaus can be described as erythematic and has a strong connection with the Wizard King',\n",
       " 'Mimosa can be described as ~~redness',\n",
       " 'Julius can be described as iauessenti',\n",
       " 'Asta can be described as 今松掄合初',\n",
       " 'William can be described as ixxed in the form of that light',\n",
       " 'Lily can be described as _______________ while watching the Wizard King with red hair',\n",
       " 'Yami can be described as 【Lite Trap Magic',\n",
       " 'Magna can be described as ichiro-shinto',\n",
       " 'Luck can be described as ikazu',\n",
       " 'Yuno can be described as 【1】',\n",
       " 'Noelle can be described as ************ The Wizard King opens the portal to Yuno',\n",
       " 'Asta can be described as 【豠团〠魔导王, FUSION, FUSION',\n",
       " 'Vanessa can be described as',\n",
       " 'Luck can be described as iced',\n",
       " 'Yuno can be described as icky and scary, but Yuno can tell that Yuno is a dark mage',\n",
       " 'Klaus can be described as a wizard',\n",
       " 'Noelle can be described as Lillian',\n",
       " 'Mimosa can be described as 【0+2',\n",
       " 'Asta can be described as sanguine but is able to overcome it',\n",
       " 'William can be described as iced red as a red cat',\n",
       " 'Mars can be described as cold by the magic that he has brought',\n",
       " 'Luck can be described as _____',\n",
       " 'Yuno can be described as 会寧',\n",
       " 'Klaus can be described as edgy',\n",
       " 'Noelle can be described as iced',\n",
       " 'Mimosa can be described as 『Shifting the Magic Ball』[13] and the magical power is also very powerful',\n",
       " 'Asta can be described as ________ but Yuno uses some magic to defeat Lotus and Yuno manages to defeat the Magic Mage and',\n",
       " 'Mars can be described as iced',\n",
       " 'Luck can be described as Âlucky',\n",
       " 'Yuno can be described as lady but Yuno says he is the King of all worlds',\n",
       " 'Klaus can be described as 『『『『』』 and Yuno says that Klaus is able to lift one stone up from',\n",
       " 'Noelle can be described as ixxed',\n",
       " 'Asta can be described as ikoma black',\n",
       " \"Mars can be described as iced like a rabbit, but Mars doesn't eat any animal\",\n",
       " 'Yuno can be described as strong, strong and well-built',\n",
       " 'Klaus can be described as vernacular, but the boy uses the same expression to describe how Asta, the boy, and',\n",
       " 'Noelle can be described as iced tea',\n",
       " 'Mimosa can be described as 『マース」) and cannot be characterized as being a big person',\n",
       " 'Asta can be described as 不乎人, and Asta knows it',\n",
       " 'Fana can be described as 【Klaus Lunette】 while Asta gets angry at Asta, believing that Asta and',\n",
       " 'Mars can be described as ------------------------- ------------------------- ------------------------- One of the two Grandmasters is caught on',\n",
       " 'Luck can be described as ichalonic, and Asta can be seen as a magic wizard',\n",
       " 'Yuno can be described as iced hot, having a perfect beard, and being able to read',\n",
       " 'Klaus can be described as Âlike someone who will never forgive Mars',\n",
       " 'Noelle can be described as iced',\n",
       " 'Mimosa can be described as urchinable',\n",
       " 'Asta can be described as iced, but as a child of some sort, not so different from Fana',\n",
       " 'Mars can be described as ersus and magic, which are only shown by Julius and Yuno',\n",
       " 'Luck can be described as 『骧の卷』, although it is only true that Luck has the strength to',\n",
       " 'Yuno can be described as 不么夫者陣',\n",
       " 'Klaus can be described as iced but not really like Asta',\n",
       " 'Noelle can be described as like a man that people will understand',\n",
       " 'Mimosa can be described as iced Magic Knight Knight Knight Knight',\n",
       " 'Asta can be described as and the magical power is so powerful that Asta can take advantage of Asta',\n",
       " 'Julius can be described as 『鱎」',\n",
       " 'Leopold can be described as ia-yuko or an ancient magician known to anyone',\n",
       " 'Fuegoleon can be described as ian but not the same height',\n",
       " 'Yuno can be described as ermit, and No',\n",
       " 'Klaus can be described as great in his own words',\n",
       " 'Solid can be described as but there is a magical energy within it',\n",
       " 'Noelle can be described as one of many zombies, but Asta is able to make no head move once and once again',\n",
       " 'Sol can be described as As the',\n",
       " 'Charlotte can be described as 『Yunoh‹』 and tells No',\n",
       " 'Asta can be described as big but in the sky and the sky',\n",
       " 'Nozel can be described as ichan or like a young person and cannot see the column of power',\n",
       " 'Leopold can be described as iced',\n",
       " 'Charmy can be described as 【Rades',\n",
       " 'Asta can be described as vernacular, and after learning that the mage has broken through the wall, Rades goes out to',\n",
       " 'Nozel can be described as 【Great Demon Demon】',\n",
       " 'Julius can be described as ingred',\n",
       " 'Leopold can be described as ianzangrips, but the two men can not speak',\n",
       " 'Fuegoleon can be described as magical magic',\n",
       " 'Yuno can be described as 【【【【【【【【【【】】】】】】】】, but',\n",
       " \"Noelle can be described as ersatz the old mage, but the way magic operates under Fuegoleon's power seems to\",\n",
       " 'Asta can be described as ~~YUNOCATE GIRL Fuegoleon, one of the most powerful mages of',\n",
       " 'Nozel can be described as _____',\n",
       " 'Leopold can be described as iced green',\n",
       " 'Fuegoleon can be described as Greater-Nest Paché-R',\n",
       " 'Yuno can be described as 个大方',\n",
       " 'Charmy can be described as vernacular and is so scared of those people',\n",
       " 'Noelle can be described as ersatz, but it is said that the mage that used to be Aru, the same age',\n",
       " 'Asta can be described as 『白魔の雭›』 but instead of looking down, Rades can be',\n",
       " 'Leopold can be described as ',\n",
       " 'Noelle can be described as ichlorious nor is the other magic mage present',\n",
       " 'Asta can be described as iced magic',\n",
       " 'Julius can be described as ',\n",
       " 'Leopold can be described as iced and blue and gives Leopold the name and name of the wizard King',\n",
       " 'Yami can be described as iliish and slightly nervous but it is always possible they will help',\n",
       " 'Magna can be described as lucky as a thief',\n",
       " 'Fuegoleon can be described as ____',\n",
       " 'Yuno can be described as 【X] and it has changed everything, everything',\n",
       " \"Charmy can be described as ixing but that doesn't match their personality\",\n",
       " 'Noelle can be described as ersy',\n",
       " 'Klaus can be described as well, Leopold Visser is the one who knows what the Magic Knights have',\n",
       " 'Charlotte can be described as ursively excited and ready to beat Yuno',\n",
       " 'Asta can be described as iliacate by the fact that his eyes are made up of holes and holes at the top,',\n",
       " 'Nozel can be described as iced',\n",
       " 'Julius can be described as 〜G․k',\n",
       " 'Gauche can be described as iaversed, but Finral takes on Gauche Adlai',\n",
       " 'Finral can be described as iced and pink, with a blackish tone and red eyes',\n",
       " 'Gordon can be described as izying the room',\n",
       " 'Magna can be described as iced and pale, and it can be said that Luck is not one to lose as Luck makes no',\n",
       " 'Luck can be described as iced at random, but Luck is still surprised',\n",
       " 'Charmy can be described as iced',\n",
       " 'Noelle can be described as 『イミール』 but the two women are actually both too far apart from each other',\n",
       " 'Sekke can be described as icky and surprised with a small amount of mana and has a small amount of time with Rebecca',\n",
       " 'Asta can be described as icky and aggressive',\n",
       " \"Gordon can be described as Great Magic Magic Magic, but Gordon doesn't\",\n",
       " 'Yami can be described as icky when Yami is asked about Yuno after seeing them in combat, Yuno explains that Y',\n",
       " 'Mars can be described as iced cream and is actually a \"magic child\"—this time, the witch is transformed into a child',\n",
       " 'Orsi can be described as 仙仙仙仙仙仙仙仙仙仙',\n",
       " 'Yuno can be described as and is therefore extremely excited for Yuno to become the Wizard King',\n",
       " 'Klaus can be described as urchin, but does not really understand Yuno and cannot fully understand Yuno and cannot understand Yun',\n",
       " 'Sekke can be described as one of the most difficult young people in the world',\n",
       " 'Noelle can be described as ____ or ____ if it is',\n",
       " 'Mimosa can be described as , ″,,, ″, and, ″ ',\n",
       " 'Asta can be described as ________-- and Asta is excited about seeing Yuno',\n",
       " 'Gauche can be described as',\n",
       " 'Theresa can be described as Â Â Â Â Â Â Â Â Â Â',\n",
       " 'Yami can be described as ��� and Yami noelle Silva is happy',\n",
       " 'Orsi can be described as ☆★★★☆☆☆☆☆☆☆☆☆☆☆☆☆☆☆☆',\n",
       " 'Magna can be described as icky',\n",
       " 'Yuno can be described as 以合屟。 He tells everyone all about this',\n",
       " 'Klaus can be described as 仓事利',\n",
       " 'Charmy can be described as iaon',\n",
       " 'Noelle can be described as 【〜〝】-sama',\n",
       " 'Marie can be described as iced and strong',\n",
       " 'Mimosa can be described as 会イズ',\n",
       " 'Asta can be described as ÂÂ Â Â Â Â Â Â Â Â Â',\n",
       " 'Lily can be described as iced so much as a girl',\n",
       " 'Gauche can be described as ~~~',\n",
       " 'Theresa can be described as iced like a man but Rebecca has a different look',\n",
       " 'Noelle can be described as - Magic Kingdom Kingdom So far, the world is still',\n",
       " 'Sekke can be described as 『フープリェンア』 (the most magical form of magic in a Magic Power',\n",
       " \"Marie can be described as vernacular and doesn't seem to care about the rest of her school\",\n",
       " 'Asta can be described as ichangirite, the strongest of the students',\n",
       " 'Gauche can be described as icky but Gauche is still quite impressed',\n",
       " 'Gordon can be described as ersing',\n",
       " 'Asta can be described as icky',\n",
       " 'Theresa can be described as',\n",
       " 'Yami can be described as iaudible',\n",
       " 'Fuegoleon can be described as 『Magic Wizard』 for being able to wield his magic',\n",
       " 'Noelle can be described as icky and tells Gauche that Gauche should run',\n",
       " 'Sally can be described as izarro energy which can freeze the monster and give up',\n",
       " 'Marie can be described as magic',\n",
       " 'Sekke can be described as _________',\n",
       " 'Lily can be described as izure-like for not being able to hear',\n",
       " 'Gauche can be described as iced by a vampire but Gauche can also be identified as a dark elf',\n",
       " 'Theresa can be described as ~~~~~~~~~~~~~~~~~~~~~~~ If you like the series',\n",
       " 'Licht can be described as ikustica blue that was inspired by Yuno, but she never says anything',\n",
       " 'Yuno can be described as icky with an expression of amazement, but Lunge says there is a magic in his book',\n",
       " 'Sally can be described as ㅄㅄㅄㅄㅄ♄♄�',\n",
       " 'Marie can be described as 会靠術烔',\n",
       " 'Asta can be described as ~~he who is just making his dreams come true',\n",
       " 'Finral can be described as icky and asta',\n",
       " 'Theresa can be described as angry and angry',\n",
       " 'Yami can be described as 『Shows』 and Roulacase',\n",
       " 'Licht can be described as vernacular but Yami Sukehiro reminds Asta that Asta is a young person',\n",
       " 'Fuegoleon can be described as 【Touga】yako Taitama',\n",
       " 'Sally can be described as iced cat',\n",
       " 'Asta can be described as ersatz',\n",
       " 'Gauche can be described as iced cream and is the only one who has not learned anything about Magic Magic Knights',\n",
       " 'Finral can be described as 东力力。 - The Golden Star - The',\n",
       " 'Fana can be described as ~~* of a small, silver pony, white princess petal outfit with white eyes',\n",
       " 'Jack can be described as vernacular',\n",
       " 'Licht can be described as iced tea, but the Knights have not given up because none of the magic has been taken out',\n",
       " 'Yami can be described as 〡身金ぶなる',\n",
       " 'Theresa can be described as iced up',\n",
       " 'Noelle can be described as magical, but the rest of the kids have more magic around them that make them feel less magical',\n",
       " 'Marie can be described as iced',\n",
       " 'Charlotte can be described as ive',\n",
       " 'Vetto can be described as Â magical and a master of magic',\n",
       " 'Asta can be described as ikon, who has always been a strong Magic Knight in the group',\n",
       " 'Nozel can be described as iced up, but Nozel can also be described as a good person',\n",
       " 'Rill can be described as icky and jealous',\n",
       " 'Yami can be described as icky, shy, and tall',\n",
       " 'Fuegoleon can be described as ilius and Rill of the Mystic Magic Knight Captain',\n",
       " 'Charlotte can be described as ipsum that is magical',\n",
       " 'Asta can be described as ikami or magic and even though they are young, it is not surprising to them that they should',\n",
       " 'Julius can be described as izi mage',\n",
       " 'Gauche can be described as iced green and blue, but the girl has a strange appearance, and Gauche uses magic to attack',\n",
       " 'Finral can be described as izying a red monster',\n",
       " 'Gordon can be described as スターテ',\n",
       " 'Yami can be described as',\n",
       " 'Magna can be described as ㅍㅍ',\n",
       " 'Luck can be described as ~~~ Asta is in shock when Luck discovers a magical child, and throws off Asta to',\n",
       " 'Yuno can be described as ʁɪɪŋŋŋŋŋŋ ŋ',\n",
       " 'Klaus can be described as black white',\n",
       " 'Noelle can be described as ~~',\n",
       " 'Charmy can be described as ili',\n",
       " 'Mimosa can be described as 『『Mimosa』 who moves quickly and can be heard through a crowd of men',\n",
       " 'Asta can be described as ㈑可邹, the tallest person in the room, who says that Ast',\n",
       " 'Vanessa can be described as',\n",
       " 'Gauche can be described as iced, a purple color and a red color respectively respectively',\n",
       " 'Yami can be described as 么到合物力, however, that is not yet done',\n",
       " 'Magna can be described as ikomai who is strong and strong and powerful, and that is because the other one is strong',\n",
       " 'Luck can be described as ikoma magic, but the wizard is not aware of this magic so Luck tells everyone to stay outside',\n",
       " 'Charmy can be described as 【【】 while everyone is surrounded by a magician mage mage mage mage mage mage mage mage mage mage',\n",
       " 'Noelle can be described as iced, but the water is so cold that all the other people are scared',\n",
       " 'Asta can be described as iced',\n",
       " 'Vanessa can be described as',\n",
       " 'Gauche can be described as a man but also a man like Vetto',\n",
       " 'Yami can be described as _____',\n",
       " 'Magna can be described as icky as a good kid with the kind of face and charm that Gauche possesses',\n",
       " 'Luck can be described as _____ and tells Kaino that Luck is doing nothing but saving Yami',\n",
       " 'Charmy can be described as but everyone is scared just like any other',\n",
       " 'Noelle can be described as ileptic',\n",
       " 'Grey can be described as iced',\n",
       " 'Vetto can be described as 【Cancel】 and is immediately shocked by the attack',\n",
       " 'Asta can be described as icky with red hair and pale eyes',\n",
       " 'Gauche can be described as 伈正風 of Asta magic and does not believe that it is magic',\n",
       " 'Finral can be described as 『Magic Curse』 and a power that Yami uses as their weapon',\n",
       " 'Licht can be described as 【A Dark Void】',\n",
       " 'Yami can be described as 『Yamin』but that Yami is weak when it breaks down, it is revealed that the',\n",
       " 'Yuno can be described as icky as a beautiful man',\n",
       " 'Noelle can be described as',\n",
       " 'Vetto can be described as 【Warming] Magic Mage Mage',\n",
       " 'Asta can be described as iced',\n",
       " 'Vanessa can be described as 『‼】 and Yami can be described as a mage like Yami, a mage like',\n",
       " 'Finral can be described as 『Cursed』 and he then uses the Demon-Dweller Sword to kill Mars',\n",
       " 'Fana can be described as للللىام للللىل',\n",
       " 'Licht can be described as _____ for that matter, but Licht is surprised that Asta is no longer being counted in the',\n",
       " 'Mars can be described as an extremely strong energy shield',\n",
       " 'Asta can be described as 【Famine】 for what it was like to have just been a part of the Wizard Knight culture',\n",
       " 'Asta can be described as сосиб (literally сиесью), but Asta',\n",
       " 'Yami can be described as iced with sadness and wonder, but she is afraid to speak',\n",
       " 'Yuno can be described as 不外特名, the best magic Mage in the world',\n",
       " 'Sol can be described as ichai monk',\n",
       " 'Charlotte can be described as 【Magic Guard】 and Asta is given magic as the Wizard King',\n",
       " 'Jack can be described as iced and white but is rather disoriented and unselfish',\n",
       " 'Nozel can be described as urchins',\n",
       " 'Julius can be described as 々々々々々々々 that was made possible',\n",
       " 'Charmy can be described as ichai and kunchi, both from a younger age, and is a light-hearted person',\n",
       " 'Yami can be described as 『骀铙, the most mysterious girl who can summon a sword in the history',\n",
       " 'William can be described as good as Xena, and both of them have been friends for a long time',\n",
       " 'Rill can be described as Â Magic',\n",
       " 'Licht can be described as ㅁㅁ but has two children',\n",
       " 'Yami can be described as vernacular and a little like Yami',\n",
       " 'Fuegoleon can be described as 『Avenil‿s›s›s』 and Asta is able to',\n",
       " 'Luck can be described as powerful and powerful',\n",
       " 'Zora can be described as ichy, but Fuegoleon Vermillion cannot be described as evil or evil without knowing how',\n",
       " 'Noelle can be described as iced magic',\n",
       " 'Sol can be described as ichy and a bit unassuming, but not quite so athletic',\n",
       " 'Kirsch can be described as vernacular and a very good tactician',\n",
       " \"Charlotte can be described as erytheric, but Charlotte does not recognize any of Charlotte's\",\n",
       " 'Asta can be described as له له له له علهه له م',\n",
       " \"Julius can be described as izarro and is able to say that he's trying to find a way to survive, but Julius\",\n",
       " 'Yuno can be described as vernacular',\n",
       " 'Orsi can be described as 【Mudama】 King Seiki, while King Seiki and Queen Seiki take their time',\n",
       " 'Asta can be described as shocked when Asta reveals the nature of Magic',\n",
       " 'Lily can be described as 产牛南柭 and the Demon-Slayer Sword is actually a dark',\n",
       " 'Gauche can be described as icky but still manages to get the Bull to fall',\n",
       " 'Gordon can be described as icky, but the Magic allows the Black Bulls to attack the base by attacking everything else',\n",
       " 'Henry can be described as ~~\"Lampus\" due to his dark armor and other magic',\n",
       " 'Magna can be described as iced up but can remember how Asta is a wizard and how the people from that base were so',\n",
       " 'Luck can be described as icky, so the Black Bulls head inside to defend the kingdom',\n",
       " 'Charmy can be described as magical',\n",
       " 'Grey can be described as _____ with blue eyes, but Asta can not be described as either',\n",
       " 'Asta can be described as ~~Fools',\n",
       " 'Vanessa can be described as',\n",
       " 'Secre can be described as ichthy dragon who became a member of the Black Bull base',\n",
       " 'Secre can be described as ikraka being a warrior, after which he is described as a ‹kraka warrior',\n",
       " 'Yami can be described as icky and sarcastic',\n",
       " 'Asta can be described as 탤솔듁 (no relation to the cat that he ate but does',\n",
       " 'Henry can be described as iai, but Asta has no idea how this works',\n",
       " 'Yami can be described as للها, the Great King of the Great Kingdom, but Dante Zogratis calls',\n",
       " 'Asta can be described as icky, and Asta manages to stop Satan in order to kill the demon',\n",
       " 'Gauche can be described as 【【【【】】】 and can be described as becoming a monster, magic and magic',\n",
       " 'Gordon can be described as 乙虊邪な制骮, a warrior with two swords from',\n",
       " 'Magna can be described as ikage and magic',\n",
       " 'Zora can be described as icky-cheek, and Gordon Agrippa is able to make his magic invisible by summoning magic',\n",
       " 'Noelle can be described as 【Demon Guard】',\n",
       " 'Grey can be described as 『山』',\n",
       " 'Asta can be described as “ well that Asta has left because Gordon Agrippa can only',\n",
       " 'Vanessa can be described as icky though']"
      ]
     },
     "execution_count": 22,
     "metadata": {},
     "output_type": "execute_result"
    }
   ],
   "source": [
    "non_greedy_generated_descriptions"
   ]
  },
  {
   "cell_type": "code",
   "execution_count": 23,
   "metadata": {},
   "outputs": [
    {
     "data": {
      "text/plain": [
       "['Yuno can be described as 『『『『『『『『『『『『『『『『『『『『',\n",
       " 'Asta can be described as 『『『『『『『『『『『『『『『『『『『『',\n",
       " 'Lily can be described as 『『『『『『『『『『『『『『『『『『『『',\n",
       " 'Yuno can be described as 『『『『『『『『『『『『『『『『『『『『',\n",
       " 'Orsi can be described as 『『『『『『『『『『『『『『『『『『『『',\n",
       " 'Asta can be described as 『『『『『『『『『『『『『『『『『『『『',\n",
       " 'Lily can be described as',\n",
       " 'Finral can be described as 『『『『『『『『『『『『『『『『『『『『',\n",
       " 'Nozel can be described as',\n",
       " 'Gordon can be described as',\n",
       " 'Rill can be described as 『『『『『『『『『『『『『『『『『『『『',\n",
       " 'Jack can be described as',\n",
       " 'Dorothy can be described as 『『『『『『『『『『『『『『『『『『『『',\n",
       " 'Yami can be described as 『『『『『『『『『『『『『『『『『『『『',\n",
       " 'Fuegoleon can be described as 『『『『『『『『『『『『『『『『『『『『',\n",
       " 'Yuno can be described as 『『『『『『『『『『『『『『『『『『『『',\n",
       " 'Sekke can be described as 『『『『『『『『『『『『『『『『『『『『',\n",
       " 'Charlotte can be described as',\n",
       " 'Asta can be described as 『『『『『『『『『『『『『『『『『『『『',\n",
       " 'William can be described as 『『『『『『『『『『『『『『『『『『『『',\n",
       " 'Yuno can be described as 『『『『『『『『『『『『『『『『『『『『',\n",
       " 'Yami can be described as 『『『『『『『『『『『『『『『『『『『『',\n",
       " 'Sekke can be described as 『『『『『『『『『『『『『『『『『『『『',\n",
       " 'Asta can be described as 『『『『『『『『『『『『『『『『『『『『',\n",
       " 'Klaus can be described as 『『『『『『『『『『『『『『『『『『『『',\n",
       " 'Magna can be described as 『『『『『『『『『『『『『『『『『『『『',\n",
       " 'Asta can be described as 『『『『『『『『『『『『『『『『『『『『',\n",
       " 'Noelle can be described as 『『『『『『『『『『『『『『『『『『『『',\n",
       " 'Finral can be described as',\n",
       " 'Yami can be described as',\n",
       " 'Magna can be described as icky, but the team is not sure what to do',\n",
       " 'Yuno can be described as',\n",
       " 'Klaus can be described as',\n",
       " 'Noelle can be described as',\n",
       " 'Asta can be described as',\n",
       " 'Finral can be described as magic stone',\n",
       " 'Yami can be described as 『Magic Knight』 but that is not the magic stone',\n",
       " 'Magna can be described as 『Magic Knight』 and that Noelle cannot be described as a magician',\n",
       " 'Noelle can be described as icky and weak',\n",
       " 'Asta can be described as magic stone',\n",
       " 'Noelle can be described as',\n",
       " 'Asta can be described as',\n",
       " 'Magna can be described as',\n",
       " 'Magna can be described as',\n",
       " 'Noelle can be described as',\n",
       " 'Asta can be described as',\n",
       " 'Finral can be described as',\n",
       " 'Magna can be described as',\n",
       " 'Lily can be described as',\n",
       " 'Noelle can be described as',\n",
       " 'Sekke can be described as 『『『『『『『『『『『『『『『『『『『『',\n",
       " 'Asta can be described as',\n",
       " 'Vanessa can be described as']"
      ]
     },
     "execution_count": 23,
     "metadata": {},
     "output_type": "execute_result"
    }
   ],
   "source": [
    "greedy_generated_descriptions"
   ]
  },
  {
   "cell_type": "code",
   "execution_count": 24,
   "metadata": {},
   "outputs": [],
   "source": [
    "non_greedy_generated_descriptions_simple = []\n",
    "for doc in nonTokenizedWsubj_docs:\n",
    "    for subject in doc[\"subjects\"]:\n",
    "        generated_doc = generate(subject + \" can be described as \", max_length=1024, greedy=False)\n",
    "        generated_desc = re.sub(r\"\\s+\", \" \", (re.split(r\"[.;:!?]\", generated_doc[0].strip())[0]))\n",
    "        non_greedy_generated_descriptions_simple.append(generated_desc)"
   ]
  },
  {
   "cell_type": "code",
   "execution_count": 25,
   "metadata": {},
   "outputs": [],
   "source": [
    "greedy_generated_descriptions_simple = []\n",
    "for doc in nonTokenizedWsubj_docs[:10]:\n",
    "    for subject in doc[\"subjects\"]:\n",
    "        generated_doc = generate(subject + \" can be described as \", max_length=1024, greedy=True)\n",
    "        generated_desc = re.sub(r\"\\s+\", \" \", (re.split(r\"[.;:!?]\", generated_doc[0].strip())[0]))\n",
    "        greedy_generated_descriptions_simple.append(generated_desc)"
   ]
  },
  {
   "cell_type": "code",
   "execution_count": 26,
   "metadata": {},
   "outputs": [
    {
     "data": {
      "text/plain": [
       "['Yuno can be described as o arachnodora',\n",
       " 'Asta can be described as 겝는면 춃을 겝�',\n",
       " 'Lily can be described as للان سـل دلله شي ولا',\n",
       " 'Yuno can be described as 귽버벅 as having a small but important role in that role',\n",
       " 'Orsi can be described as the most amazing teacher in the school',\n",
       " 'Asta can be described as',\n",
       " 'Lily can be described as icky as ‐‘‘‘‘‘‘‘‘',\n",
       " 'Finral can be described as ɼpɼpɹ',\n",
       " 'Nozel can be described as icky looking',\n",
       " 'Gordon can be described as 『Aqua Nation) a large force of elves that could annihilate any opponent, except by killing',\n",
       " 'Rill can be described as well',\n",
       " 'Jack can be described as iced and a cheerful face, but there are no easy facts to pin down',\n",
       " 'Dorothy can be described as vernacular',\n",
       " 'Yami can be described as 他幖幖人。 In a world where there are 2 classes, a',\n",
       " 'Fuegoleon can be described as Ânélangei and ‘hélinnie’',\n",
       " 'Yuno can be described as 『Mika』 or 駆騻呼『Nagami』 or �',\n",
       " 'Sekke can be described as icky, but he is actually a normal, decent guy',\n",
       " 'Charlotte can be described as icky',\n",
       " 'Asta can be described as a \"strong-willed and well-willed individual who has lived the entire year in',\n",
       " 'William can be described as 〖・〖〖。 It is a symbol of the power of the kukuro',\n",
       " 'Yuno can be described as 『筣欬颇』…',\n",
       " 'Yami can be described as 伳表也的稠',\n",
       " 'Sekke can be described as a unique a \" unique- magic magic power',\n",
       " 'Asta can be described as of a young girl named Cute',\n",
       " 'Klaus can be described as 『・噼くる』 or『・乳話』',\n",
       " 'Magna can be described as ili a strong one, even if he cannot easily beat someone else',\n",
       " 'Asta can be described as “ a human\\u200f',\n",
       " 'Noelle can be described as ikal‧en‧en‧en‧en‧en‧en',\n",
       " 'Finral can be described as 【Ceerie Verbal Magic】',\n",
       " 'Yami can be described as iced on the ice',\n",
       " 'Magna can be described as iaeun-like though her power is almost gone',\n",
       " 'Yuno can be described as iced on top of the chocolate and a very bright green colour',\n",
       " 'Klaus can be described as Â´med',\n",
       " 'Noelle can be described as _____',\n",
       " 'Asta can be described as a \\u202cbudgy, brusque, and feminine',\n",
       " 'Finral can be described as 〉「和文」 with a short pinkish eye',\n",
       " 'Yami can be described as 《リーパ《・ミシオン」 as a \"hitskyuu',\n",
       " 'Magna can be described as 一搤。 His face is wide and wide with the arms and arms he is wearing',\n",
       " 'Noelle can be described as icky, she can be the best at her skill—not just for being a nice girl, but',\n",
       " 'Asta can be described as erythmatic astral, a person with an astral and astral vision',\n",
       " 'Noelle can be described as Ân̶f̶o̶o̶o̶o̶o̶o̶o̶o',\n",
       " 'Asta can be described as ian-neighbors of the Fosi Tribe and the Sun Dragon clan',\n",
       " 'Magna can be described as Â[2]',\n",
       " 'Magna can be described as 【1,][2]',\n",
       " 'Noelle can be described as iliqisqin, but iliqisqin has been the same form of m',\n",
       " 'Asta can be described as ㅠㅠ ㅠㅠ ㅠㅠ',\n",
       " 'Finral can be described as icky, with a cold black face',\n",
       " 'Magna can be described as ___________________ ______ ______ _____________________ ______ ______ ______ ______ ______ ______ _____________________ ______ ______ ______ ______',\n",
       " 'Lily can be described as 【Lossy] ',\n",
       " \"Noelle can be described as icky, but she doesn't care about the fact that the last thing she wants to do is take\",\n",
       " 'Sekke can be described as iced-up, and if he gets his way, he can be seen being taken aback by and',\n",
       " 'Asta can be described as iced cream',\n",
       " 'Vanessa can be described as ссиий сковеная',\n",
       " 'Asta can be described as the main character in this chapter but it is a little more real than a little less real than',\n",
       " 'Orsi can be described as icky,\\u202c and icky can be described as a izzy,\\u202c and icky',\n",
       " 'Yuno can be described as 【【【【【【【【【【【【【】】】】】】・',\n",
       " 'Klaus can be described as 가 한가 옝걉대 �',\n",
       " 'Noelle can be described as erythemychomander, with dark eyes and a pair of wings that looked like a real',\n",
       " 'Lily can be described as urchasexual',\n",
       " 'Mimosa can be described as a hardy',\n",
       " 'Vanessa can be described as icky',\n",
       " 'Sekke can be described as icky (or somewhat arrogant) and, when he reaches the middle ground and falls asleep, he finds',\n",
       " 'Julius can be described as свороятай',\n",
       " 'Orsi can be described as erythematic type',\n",
       " 'Yuno can be described as ~~a bit jealous but no matter how much you want her to do or say, that‼',\n",
       " 'Klaus can be described as าดเธเนุลยร',\n",
       " 'Mimosa can be described as iced black and mantis',\n",
       " 'Julius can be described as ʲἄπμασια',\n",
       " 'Asta can be described as',\n",
       " 'William can be described as ณมหกอบง้ำป',\n",
       " 'Lily can be described as icky but is a bit like a lint',\n",
       " 'Yami can be described as クロストラがるみえ、なカーマットを要る',\n",
       " 'Magna can be described as 【『『『々』【唋】』',\n",
       " 'Luck can be described as icky but very human',\n",
       " 'Yuno can be described as シタンガローパッチー, but does not do anything about it either',\n",
       " 'Noelle can be described as ute of a kind',\n",
       " 'Asta can be described as Âluna a mama a Âluna a Âluna',\n",
       " 'Vanessa can be described as icky, charming, and charming',\n",
       " 'Luck can be described as icky icky',\n",
       " \"Yuno can be described as ia'haha, but I can't tell if it's the two they're in\",\n",
       " 'Klaus can be described as хорфыждев',\n",
       " 'Noelle can be described as iced blue like an angry bird',\n",
       " 'Mimosa can be described as vernacular',\n",
       " 'Asta can be described as 고고排域 of the Sea of Japan',\n",
       " 'William can be described as ____________',\n",
       " 'Mars can be described as ____________',\n",
       " 'Luck can be described as icky',\n",
       " 'Yuno can be described as 世界に、指の孝問の甯�',\n",
       " 'Klaus can be described as ikerecht, who has since been known to run circles around the house as well as the magic',\n",
       " 'Noelle can be described as _____________________ Posted',\n",
       " 'Mimosa can be described as icky and dazed in the way she normally wears her makeup',\n",
       " 'Asta can be described as скачныхлины',\n",
       " 'Mars can be described as Â',\n",
       " 'Luck can be described as 【・】☆☆☆☆☆☆☆☆☆☆☆☆☆☆☆☆☆',\n",
       " 'Yuno can be described as 二向埋, a former detective',\n",
       " 'Klaus can be described as a huge sledgehammer, large, and long, sturdy',\n",
       " 'Noelle can be described as ery, who was born in the Netherlands',\n",
       " 'Asta can be described as ivellious, intelligent, and charming',\n",
       " 'Mars can be described as щедийкия, in Russian or полии',\n",
       " 'Yuno can be described as 亲大眻した和关对, which is probably a mis',\n",
       " 'Klaus can be described as ͜ɯ',\n",
       " 'Noelle can be described as vernacular-like',\n",
       " 'Mimosa can be described as iced with a long beard',\n",
       " 'Asta can be described as ____-',\n",
       " 'Fana can be described as icky, dazed, angry, and exhausted',\n",
       " 'Mars can be described as iced tea on the inside',\n",
       " 'Luck can be described as ㅹ职決廦陴遙遙�',\n",
       " 'Yuno can be described as _____ but as a weak leader, and a strong, but timid, and a smallish leader',\n",
       " 'Klaus can be described as ~~~~ and can also be described as ~~~ and can also be described as ~~',\n",
       " 'Noelle can be described as iced in a certain way, but there is a way to think about that with these wonderful friends who',\n",
       " 'Mimosa can be described as [0x6D7B, 9x6D7D, 20x4C',\n",
       " 'Asta can be described as 【a, 【a, 【a, 【a, 【a,',\n",
       " 'Mars can be described as ills or gasses',\n",
       " 'Luck can be described as iaan',\n",
       " 'Yuno can be described as しえるでは古そ字です。 You may also enjoy',\n",
       " 'Klaus can be described as 【色陌】',\n",
       " 'Noelle can be described as ________ing, ________ing, ________ing, ________ing, ________ing,',\n",
       " 'Mimosa can be described as so well he does the next time',\n",
       " 'Asta can be described as ‘ \\ue78e \\ue78e \\ue78e \\ue78e',\n",
       " 'Julius can be described as спятсядкия',\n",
       " 'Leopold can be described as Â the person behind all the Â the people',\n",
       " 'Fuegoleon can be described as ichiro \"The Knight of the Forest',\n",
       " \"Yuno can be described as I don't know what happened to his mother's life as it was her daughter's one\",\n",
       " 'Solid can be described as ل�squeechia ل�squeechia',\n",
       " 'Noelle can be described as ㅅㅙㅙㅙㅙㅙ�',\n",
       " 'Asta can be described as iced up and having one of the most amazing results ever',\n",
       " 'Nozel can be described as iaon and can be seen as the main antagonist',\n",
       " 'Julius can be described as сс�ния сселяянные, a large',\n",
       " 'Leopold can be described as ʼʿo ʀჯიიი',\n",
       " 'Fuegoleon can be described as ikey and ikey',\n",
       " 'Yuno can be described as 【スタモガ] and 【スタモガ] of course',\n",
       " 'Klaus can be described as ills and a wolf',\n",
       " 'Solid can be described as icky, lazy, lazy, and sometimes downright stupid',\n",
       " 'Noelle can be described as the first person that can see the whole spectrum of the sky using her vision',\n",
       " 'Sol can be described as well',\n",
       " 'Charlotte can be described as iced and not as a child and is able to speak English',\n",
       " 'Asta can be described as',\n",
       " 'Nozel can be described as icky',\n",
       " 'Leopold can be described as свералия полния свер',\n",
       " 'Charmy can be described as ******************* **********',\n",
       " \"Asta can be described as ia'a - the ability to throw, throw and run\",\n",
       " 'Nozel can be described as',\n",
       " 'Julius can be described as iced in a nutshell, because he believes that if the sun is above the sun, he will come',\n",
       " 'Leopold can be described as ____ in —normal behavior',\n",
       " 'Fuegoleon can be described as \" a type of chocot',\n",
       " 'Yuno can be described as 伴奁为栔奁与回回人同的',\n",
       " 'Noelle can be described as iced and her hands full of ice, and on her side she smiles at the boy',\n",
       " 'Asta can be described as super powerful but not powerful enough as a super strong super',\n",
       " 'Nozel can be described as eryntykeling, the little girl who grew up in a village that never existed',\n",
       " 'Leopold can be described as The dog, the wolf, is a large man with brown hair, grey eyes, green eyes',\n",
       " 'Fuegoleon can be described as ichan livid or icha glides',\n",
       " 'Yuno can be described as ',\n",
       " 'Charmy can be described as the head of a white gang, the head of a strong gang',\n",
       " 'Noelle can be described as',\n",
       " 'Asta can be described as ikra',\n",
       " 'Leopold can be described as ichthyroid-neurae in the US, and also a small, balding cat,',\n",
       " 'Noelle can be described as ivey, calm, and strong‒ but she’s also a gentle warrior',\n",
       " 'Asta can be described as inglophobic, or anti-social, and has a more general disposition',\n",
       " 'Julius can be described as iklezkop',\n",
       " 'Leopold can be described as the man’s pet',\n",
       " 'Yami can be described as 会前枦嫱点逆。 His actions can not',\n",
       " 'Magna can be described as 【1-4',\n",
       " 'Fuegoleon can be described as スタケルキの暡の双すね。 When I am attacked by',\n",
       " 'Yuno can be described as 걝고 (超えりのかどした)',\n",
       " 'Charmy can be described as irculacryms',\n",
       " 'Noelle can be described as icky or cold, even though she\\u202b is still alive',\n",
       " 'Klaus can be described as the most important person in the whole world',\n",
       " 'Charlotte can be described as icky, she\\u202cs not sure if it\\u202cs even as sexy or sexy as she',\n",
       " 'Asta can be described as ichiro-type',\n",
       " 'Nozel can be described as vernacular but as being a little more refined',\n",
       " 'Julius can be described as iced in his own manner',\n",
       " 'Gauche can be described as ichigigamigamigama (northern-eastern-western-western-western',\n",
       " 'Finral can be described as ːluteer',\n",
       " \"Gordon can be described as _____________________ _______________________ If there's a day you can make it yourself\",\n",
       " 'Magna can be described as ______________',\n",
       " 'Luck can be described as erythems of war',\n",
       " 'Charmy can be described as erythechronic in three different ways',\n",
       " 'Noelle can be described as icky, sweet, pale, but also seems quite charming',\n",
       " 'Sekke can be described as 伤明珼。 They have a huge number of other people with great skill and',\n",
       " 'Asta can be described as',\n",
       " 'Gordon can be described as ____, but a lot, of the time it’s a fun little song to listen to',\n",
       " \"Yami can be described as icky and friendly even if they don't understand the basics of the game\",\n",
       " 'Mars can be described as 【0x5b00b00a0ffb6a00a0b6a',\n",
       " 'Orsi can be described as a brilliant but somewhat timid, with a good heart, and as he is not in the same',\n",
       " 'Yuno can be described as _____,\\u202a and _______',\n",
       " 'Klaus can be described as icharungei',\n",
       " 'Sekke can be described as ivenial and calm',\n",
       " 'Noelle can be described as great in its ability to play the role of a young, small boy… �',\n",
       " 'Mimosa can be described as iphoned',\n",
       " 'Asta can be described as ikatsu (or bishuken) for the amount of time that a person has had on',\n",
       " 'Gauche can be described as ileal',\n",
       " 'Theresa can be described as iced and full of red hair',\n",
       " 'Yami can be described as _________ 「馏癯白晧。」 「',\n",
       " 'Orsi can be described as erythema and I believe this could easily be made at a fraction of the size of the whole',\n",
       " 'Magna can be described as iced in the water',\n",
       " 'Yuno can be described as iced and the two girls have a very large power',\n",
       " 'Klaus can be described as 겜으프고을쟴다',\n",
       " 'Charmy can be described as ichiel-like because while doing this, her eyes are drawn to what appears to be a dragon',\n",
       " 'Noelle can be described as',\n",
       " 'Marie can be described as iphone-free, but the condition worsens',\n",
       " 'Mimosa can be described as icky with the red skin and has no strong scent, but the scent cannot be discerned due to',\n",
       " 'Asta can be described as iced blue or brown or white like a red',\n",
       " 'Lily can be described as icky and very light at night',\n",
       " 'Gauche can be described as a very nice boy like that kid',\n",
       " 'Theresa can be described as iced to an Italian accent with a more Italian accent',\n",
       " 'Noelle can be described as The ‘ is not my second favorite toy and I am',\n",
       " 'Sekke can be described as 한국요',\n",
       " \"Marie can be described as icky 'lazy', as he was used to being a cat\",\n",
       " 'Asta can be described as icky, though icky is much more serious',\n",
       " 'Gauche can be described as _____',\n",
       " 'Gordon can be described as \\ue000-a\\ue000-a\\ue000-a\\ue000-a\\ue000, the',\n",
       " 'Asta can be described as 『多社,‿世本,‿豳�',\n",
       " 'Theresa can be described as a very smart and creative woman with very smart and creative thinking',\n",
       " 'Yami can be described as 丢蜱亍',\n",
       " \"Fuegoleon can be described as 『Bondage』 being shown in the beginning (Katsuhiro Tamaoka's second picture\",\n",
       " 'Noelle can be described as iced milker-eyed, and by no means as a person',\n",
       " 'Sally can be described as urny as the sun and sun, but there are a few who can say that one of the',\n",
       " 'Marie can be described as ссяма ст to the hilt of the sky, a hilt of',\n",
       " 'Sekke can be described as ㎃칡찄 생칠 생�',\n",
       " 'Lily can be described as _______— a little kid with a little kid',\n",
       " 'Gauche can be described as ikazaz, a strong male, one of the worst in the kingdom',\n",
       " 'Theresa can be described as icky′, the most vulnerable person in Wales and Wales',\n",
       " 'Licht can be described as 구 (주거선, ′봑�',\n",
       " 'Yuno can be described as スフリコー',\n",
       " 'Sally can be described as iced for ′ iced',\n",
       " 'Marie can be described as iced blue magic',\n",
       " 'Asta can be described as',\n",
       " 'Finral can be described as iced',\n",
       " 'Theresa can be described as a big, happy person',\n",
       " 'Yami can be described as iaan',\n",
       " 'Licht can be described as izuki izuki izuki or izuki izuki',\n",
       " 'Fuegoleon can be described as 【【】『々】超対〙〙〙〙�',\n",
       " 'Sally can be described as 且導都国帳手削帳同�',\n",
       " 'Asta can be described as ichinnant as a chunky, but is quite a bit more aggressive than a pomper',\n",
       " 'Gauche can be described as icky and unkind, but he doesn’t really talk, so what can’t',\n",
       " 'Finral can be described as 『精子』 who moves from the middle of the way, but is able to do so',\n",
       " 'Fana can be described as ːyānātāyānātānātāya',\n",
       " \"Jack can be described as iced cream and tea but there isn't room for other ingredients\",\n",
       " 'Licht can be described as __________, who said he had an office and his business was going on, so the office had',\n",
       " 'Yami can be described as iced and used a sword (the one that moves the sword)',\n",
       " 'Theresa can be described as of a rather high level of intelligence and is a leader of the right wing of this movement',\n",
       " 'Noelle can be described as ianne dalla\\u200celma, \\u202ane \\u202ane \\u202ane �',\n",
       " 'Marie can be described as iced out of a glass flask',\n",
       " 'Charlotte can be described as ixivirus',\n",
       " 'Vetto can be described as iced in the first two chapters',\n",
       " 'Asta can be described as a “a human“, even if it turns out to be quite a bit older',\n",
       " 'Nozel can be described as ixian',\n",
       " 'Rill can be described as ilered',\n",
       " 'Yami can be described as 乳亪事回聞。 In spite of being such weak and weak',\n",
       " 'Fuegoleon can be described as icky and dark blue',\n",
       " \"Charlotte can be described as icky, as if she is going to hit a wall, but it isn't enough to convince the\",\n",
       " 'Asta can be described as \" \" that is the last thing I will remember of the Earth that has been inhabited by me',\n",
       " 'Julius can be described as ive-red, a very hardy, white man and very hardy, with thin build and',\n",
       " 'Gauche can be described as ikomilean, a large grayish grayish grey, a small manegred maneg',\n",
       " 'Finral can be described as ilead, meaning just like all other animals, the mule has a unique face and its back',\n",
       " 'Gordon can be described as لا قِل أَيْصًَارَي',\n",
       " 'Yami can be described as 『Mikatsu」) for being good in the eyes and was even stronger in that',\n",
       " 'Magna can be described as ichorzy, but the other four are confused as ichorzy',\n",
       " 'Luck can be described as iced wine, which has been given a variety of unique flavors such as basil, ginger, cinnamon,',\n",
       " 'Yuno can be described as 乎歬一番',\n",
       " 'Klaus can be described as ˜great” ˜great” the devil',\n",
       " 'Noelle can be described as urchin\\u200d♪♪♪♪♪♪♪♪',\n",
       " 'Charmy can be described as iced on top',\n",
       " 'Mimosa can be described as iced black',\n",
       " 'Asta can be described as сиедними, because she does not appear to be like one',\n",
       " 'Vanessa can be described as icky, but looks like an idiot',\n",
       " 'Gauche can be described as iced with a bit of coffee',\n",
       " 'Yami can be described as 一呢似団 (also known as Jihyo, who translates as Jih',\n",
       " 'Magna can be described as 『›♡♡♡♠♡♡♡♡�',\n",
       " 'Luck can be described as ㅐㅐㅐㅐㅐ',\n",
       " 'Charmy can be described as the very best at using both forms',\n",
       " 'Noelle can be described as iced by her cousin Marie',\n",
       " 'Asta can be described as iced to me but also with two friends and it’s just too much',\n",
       " 'Vanessa can be described as icky, hot, very feminine and very beautiful',\n",
       " \"Gauche can be described as iced tea, but what is the difference between this one and Suzyun‽o's\",\n",
       " 'Yami can be described as iki',\n",
       " 'Magna can be described as urchin-shoujo, and she is said to be strong',\n",
       " 'Luck can be described as urchinke,” he was wearing a blue hat',\n",
       " 'Charmy can be described as 탕탕원, 霅合肬 �',\n",
       " 'Noelle can be described as _____ or _____ to be _____ to be _____ to be _____ to be _____',\n",
       " 'Grey can be described as _____ on the left to the right, a very interesting character character but the _______ character does not',\n",
       " 'Vetto can be described as ilemogrtle',\n",
       " 'Asta can be described as iced over with a lot of magic',\n",
       " 'Gauche can be described as 『グエリむょ』',\n",
       " 'Finral can be described as icky and very protective as an arse monster',\n",
       " 'Licht can be described as icky from †shitty–',\n",
       " 'Yami can be described as iced up',\n",
       " 'Yuno can be described as ikeyuzumi',\n",
       " 'Noelle can be described as icky but is really nice',\n",
       " 'Vetto can be described as ichiromiromiromiromiromiromiromiromiromir',\n",
       " 'Asta can be described as in the first chapters',\n",
       " 'Vanessa can be described as icky, and also very handsome',\n",
       " 'Finral can be described as études (with more use of the adjective ‐‖)',\n",
       " 'Fana can be described as the \\u202atill, but also, as a man, which is probably what his mother',\n",
       " 'Licht can be described as ian-babberthic, but when he was born in the early twentieth century he was',\n",
       " 'Mars can be described as the same thing as a person who has not yet been killed by “the same',\n",
       " 'Asta can be described as \\ue7f6\\ue7c6',\n",
       " 'Asta can be described as and in fact are different colors and are quite different colors, so that',\n",
       " \"Yami can be described as icky, but doesn't understand that\",\n",
       " 'Yuno can be described as 【【【【【【【【【】】】】】】\"',\n",
       " 'Sol can be described as 传輫附吧泷',\n",
       " 'Charlotte can be described as \\u202b\\u200b (from) the world of \\u202d\\u200e (from) the world',\n",
       " \"Jack can be described as 'one of the most powerful weapons in the world'\",\n",
       " 'Nozel can be described as ivelle-lucky',\n",
       " 'Julius can be described as _________',\n",
       " 'Charmy can be described as 会袩長会, but the other two are in their late 40',\n",
       " 'Yami can be described as ili/hata-natai, with a thick but thick skin, which is often worn',\n",
       " 'William can be described as 【【【【【【【【【【【【【【】】】】】】',\n",
       " 'Rill can be described as ː-ː-ː-ː-ː-ː-ω',\n",
       " 'Licht can be described as 【Takimitsu Kurihara』 or as 【Nyaku Kirihara】 because the',\n",
       " 'Yami can be described as 企分 and that makes an extra pair of mamas',\n",
       " 'Fuegoleon can be described as ichonautoram, a creature that can easily be turned into this creature by its attacks',\n",
       " 'Luck can be described as ersatz-gardener as the very god that is responsible for the destruction',\n",
       " 'Zora can be described as icky, as if she were some kind of child',\n",
       " 'Noelle can be described as ㅋㅋㅋㅋㅋㅋㅋㅋㅋ ㅋㅋㅋㅋㅋ ㅋㅋㅋㅋㅋ ㅋㅋㅋㅋㅋㅋㅋ But what',\n",
       " 'Sol can be described as чнкозгомин кансяй',\n",
       " 'Kirsch can be described as icky or sad',\n",
       " 'Charlotte can be described as iced up',\n",
       " 'Asta can be described as iced, ice strong-skinned, thin-skinned, tall-skinned, and white (or white',\n",
       " \"Julius can be described as ichaiya 'juu' but there are a lot of different uses ichaiya could\",\n",
       " \"Yuno can be described as 不秀思, meaning that it's so easy to see\",\n",
       " 'Orsi can be described as ia and have been treated for fever, fever and other signs',\n",
       " 'Asta can be described as icky at the point that we will reach that point',\n",
       " 'Lily can be described as ____y, or, possibly, a white, white, white, white, black, or white',\n",
       " 'Gauche can be described as шоватсяния котяляб',\n",
       " 'Gordon can be described as ilegoe, a man of great integrity, a man of great strength, and a man of',\n",
       " 'Henry can be described as a kind of † person\\u202c kind of † person\\u202c person that likes to',\n",
       " 'Magna can be described as the type of woman has been called by a woman for not being able',\n",
       " 'Luck can be described as icky and extremely competitive because it involves a high-level chess technique',\n",
       " 'Charmy can be described as icky and a little shy',\n",
       " 'Grey can be described as __________ __________ __________ __________ __________ __________ __________',\n",
       " 'Asta can be described as ›️ (to the point of being a full-fledged vampire',\n",
       " 'Vanessa can be described as icky on the other side of the stage as quite the opposite',\n",
       " 'Secre can be described as icky',\n",
       " 'Secre can be described as ive learned',\n",
       " 'Yami can be described as iced',\n",
       " 'Asta can be described as 一番聖正私。 To use \"the magic\" against',\n",
       " 'Henry can be described as ia of the dark wizarding magic wand',\n",
       " 'Yami can be described as 계钭死面',\n",
       " 'Asta can be described as , but is not as well-known as a',\n",
       " 'Gauche can be described as 【Hairwai~Fantai-Fantai]',\n",
       " 'Gordon can be described as icky, but if you consider him like the most athletic boy under his bed, he›s',\n",
       " 'Magna can be described as iced with black, blue, red, green, and purple',\n",
       " 'Zora can be described as izhen',\n",
       " 'Noelle can be described as icky, but it appears that the dog is getting really excited about going over to the place',\n",
       " \"Grey can be described as vernacular, and in the case of the black wolf, the white wolf doesn't actually have any\",\n",
       " \"Asta can be described as I know that I've got some questions\",\n",
       " 'Vanessa can be described as icky',\n",
       " 'Finral can be described as ills but this is more or less related to furtive thinking and is considered as a result of',\n",
       " 'Leopold can be described as iced with very pale hair, and is a little light brownish',\n",
       " 'Rill can be described as a good choice ‡ if your team had a bad reputation',\n",
       " 'Orsi can be described as iced orange, pink or olive and are not as sweet as many others',\n",
       " 'Luck can be described as _____ but unlike in the anime, this guy cannot be confused with me',\n",
       " 'Yuno can be described as erythemynosia',\n",
       " 'Charmy can be described as 귀기의(尖坒也在), but',\n",
       " 'Noelle can be described as ickle-navy and dressed like a princess, but one day, Einelle becomes entangled',\n",
       " 'Secre can be described as icky little guy with an intense temper like that',\n",
       " 'Mimosa can be described as iced with cream',\n",
       " 'Asta can be described as 『漹』in the form of a rabbit, he is being taught that it will feel',\n",
       " 'Lily can be described as icky, but she seems a little bit different']"
      ]
     },
     "execution_count": 26,
     "metadata": {},
     "output_type": "execute_result"
    }
   ],
   "source": [
    "non_greedy_generated_descriptions_simple"
   ]
  },
  {
   "cell_type": "code",
   "execution_count": 27,
   "metadata": {},
   "outputs": [
    {
     "data": {
      "text/plain": [
       "['Yuno can be described as 『自己』 and is a member of the group that is also a member of',\n",
       " 'Asta can be described as a “a“a“a“a“a“a',\n",
       " 'Lily can be described as icky, but she is also a bit more like a little girl',\n",
       " 'Yuno can be described as 『自己』 and is a member of the group that is also a member of',\n",
       " 'Orsi can be described as icky, but he is also a very good person',\n",
       " 'Asta can be described as a “a“a“a“a“a“a',\n",
       " 'Lily can be described as icky, but she is also a bit more like a little girl',\n",
       " 'Finral can be described as a “a “a “a “a “a “a',\n",
       " 'Nozel can be described as iced up and a bit of a bit of a bit of a bit of a bit of a bit',\n",
       " 'Gordon can be described as a “a “a “a “a “a “a',\n",
       " 'Rill can be described as a “a “a “a “a “a “a',\n",
       " 'Jack can be described as a “a “a “a “a “a “a',\n",
       " 'Dorothy can be described as icky, but she is also a very good person',\n",
       " 'Yami can be described as 『自己』 and is a member of the group that is also a member of',\n",
       " 'Fuegoleon can be described as ichai-like',\n",
       " 'Yuno can be described as 『自己』 and is a member of the group that is also a member of',\n",
       " 'Sekke can be described as a “a good person“',\n",
       " 'Charlotte can be described as icky, but she is also a little bit more relaxed',\n",
       " 'Asta can be described as a “a“a“a“a“a“a',\n",
       " 'William can be described as a “a “a “a “a “a “a',\n",
       " 'Yuno can be described as 『自己』 and is a member of the group that is also a member of',\n",
       " 'Yami can be described as 『自己』 and is a member of the group that is also a member of',\n",
       " 'Sekke can be described as a “a good person“',\n",
       " 'Asta can be described as a “a“a“a“a“a“a',\n",
       " 'Klaus can be described as a “a man who is a man who is a man who is a man who is',\n",
       " 'Magna can be described as 『『『『『『『『『『『『『『『『『『『『',\n",
       " 'Asta can be described as a “a“a“a“a“a“a',\n",
       " 'Noelle can be described as icky, but she is a little bit more than a little bit more than a little bit more than',\n",
       " 'Finral can be described as a “a “a “a “a “a “a',\n",
       " 'Yami can be described as 『自己』 and is a member of the group that is also a member of',\n",
       " 'Magna can be described as 『『『『『『『『『『『『『『『『『『『『',\n",
       " 'Yuno can be described as 『自己』 and is a member of the group that is also a member of',\n",
       " 'Klaus can be described as a “a man who is a man who is a man who is a man who is',\n",
       " 'Noelle can be described as icky, but she is a little bit more than a little bit more than a little bit more than',\n",
       " 'Asta can be described as a “a“a“a“a“a“a',\n",
       " 'Finral can be described as a “a “a “a “a “a “a',\n",
       " 'Yami can be described as 『自己』 and is a member of the group that is also a member of',\n",
       " 'Magna can be described as 『『『『『『『『『『『『『『『『『『『『',\n",
       " 'Noelle can be described as icky, but she is a little bit more than a little bit more than a little bit more than',\n",
       " 'Asta can be described as a “a“a“a“a“a“a',\n",
       " 'Noelle can be described as icky, but she is a little bit more than a little bit more than a little bit more than',\n",
       " 'Asta can be described as a “a“a“a“a“a“a',\n",
       " 'Magna can be described as 『『『『『『『『『『『『『『『『『『『『',\n",
       " 'Magna can be described as 『『『『『『『『『『『『『『『『『『『『',\n",
       " 'Noelle can be described as icky, but she is a little bit more than a little bit more than a little bit more than',\n",
       " 'Asta can be described as a “a“a“a“a“a“a',\n",
       " 'Finral can be described as a “a “a “a “a “a “a',\n",
       " 'Magna can be described as 『『『『『『『『『『『『『『『『『『『『',\n",
       " 'Lily can be described as icky, but she is also a bit more like a little girl',\n",
       " 'Noelle can be described as icky, but she is a little bit more than a little bit more than a little bit more than',\n",
       " 'Sekke can be described as a “a good person“',\n",
       " 'Asta can be described as a “a“a“a“a“a“a',\n",
       " 'Vanessa can be described as icky, but she is a little bit more than a little bit more than a little bit more than']"
      ]
     },
     "execution_count": 27,
     "metadata": {},
     "output_type": "execute_result"
    }
   ],
   "source": [
    "greedy_generated_descriptions_simple"
   ]
  },
  {
   "cell_type": "code",
   "execution_count": null,
   "metadata": {},
   "outputs": [],
   "source": []
  }
 ],
 "metadata": {
  "kernelspec": {
   "display_name": "Python 3.10.6 64-bit",
   "language": "python",
   "name": "python3"
  },
  "language_info": {
   "codemirror_mode": {
    "name": "ipython",
    "version": 3
   },
   "file_extension": ".py",
   "mimetype": "text/x-python",
   "name": "python",
   "nbconvert_exporter": "python",
   "pygments_lexer": "ipython3",
   "version": "3.10.6"
  },
  "orig_nbformat": 4,
  "vscode": {
   "interpreter": {
    "hash": "e7370f93d1d0cde622a1f8e1c04877d8463912d04d973331ad4851f04de6915a"
   }
  }
 },
 "nbformat": 4,
 "nbformat_minor": 2
}
