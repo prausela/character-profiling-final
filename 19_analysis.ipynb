{
 "cells": [
  {
   "cell_type": "code",
   "execution_count": 25,
   "metadata": {},
   "outputs": [],
   "source": [
    "from utils.json_utils import read_json"
   ]
  },
  {
   "cell_type": "code",
   "execution_count": 26,
   "metadata": {},
   "outputs": [],
   "source": [
    "summarized = read_json(\"19_summarizing_w_bert.json\")\n",
    "characters = read_json(\"3_characters_black_clover.json\")"
   ]
  },
  {
   "cell_type": "code",
   "execution_count": 27,
   "metadata": {},
   "outputs": [
    {
     "data": {
      "text/plain": [
       "{'Yuno': [{'token': 'dead', 'prob': 0.022366022691130638},\n",
       "  {'token': 'bisexual', 'prob': 0.020451199263334274},\n",
       "  {'token': 'pregnant', 'prob': 0.01924494095146656},\n",
       "  {'token': 'gay', 'prob': 0.018964018672704697},\n",
       "  {'token': 'beautiful', 'prob': 0.018636494874954224}]}"
      ]
     },
     "execution_count": 27,
     "metadata": {},
     "output_type": "execute_result"
    }
   ],
   "source": [
    "summarized[0]"
   ]
  },
  {
   "cell_type": "code",
   "execution_count": 28,
   "metadata": {},
   "outputs": [],
   "source": [
    "by_character_first_token = dict()\n",
    "by_character_tokens = dict()\n",
    "\n",
    "for character in characters:\n",
    "    by_character_first_token[character] = []\n",
    "    by_character_tokens[character] = []\n",
    "\n",
    "for x in summarized:\n",
    "    for c in x:\n",
    "        for k in x[c][0]:\n",
    "            if k == \"token\":\n",
    "                by_character_first_token[c].append(x[c][0][k])\n",
    "        for o in x[c]:\n",
    "            for k in o:\n",
    "                if k == \"token\":\n",
    "                    by_character_tokens[c].append(o[k])"
   ]
  },
  {
   "cell_type": "code",
   "execution_count": 29,
   "metadata": {},
   "outputs": [],
   "source": [
    "import pandas as pd"
   ]
  },
  {
   "cell_type": "code",
   "execution_count": 30,
   "metadata": {},
   "outputs": [],
   "source": [
    "by_character_first_token_as_series = dict()\n",
    "by_character_tokens_as_series = dict()\n",
    "\n",
    "for character in characters:\n",
    "    by_character_first_token_as_series[character] = pd.Series(by_character_first_token[character])\n",
    "    by_character_tokens_as_series[character] = pd.Series(by_character_tokens[character])"
   ]
  },
  {
   "cell_type": "code",
   "execution_count": 31,
   "metadata": {},
   "outputs": [],
   "source": [
    "for character in characters:\n",
    "    with open(\"19_\" + character + \"_tokens.txt\", \"w\") as f:\n",
    "        print(by_character_tokens_as_series[character].value_counts().to_string(), file=f)\n",
    "    with open(\"19_\" + character + \"_first_tokens.txt\", \"w\") as f:\n",
    "        print(by_character_first_token_as_series[character].value_counts().to_string(), file=f)"
   ]
  },
  {
   "cell_type": "code",
   "execution_count": null,
   "metadata": {},
   "outputs": [],
   "source": []
  }
 ],
 "metadata": {
  "kernelspec": {
   "display_name": "Python 3.10.6 64-bit",
   "language": "python",
   "name": "python3"
  },
  "language_info": {
   "codemirror_mode": {
    "name": "ipython",
    "version": 3
   },
   "file_extension": ".py",
   "mimetype": "text/x-python",
   "name": "python",
   "nbconvert_exporter": "python",
   "pygments_lexer": "ipython3",
   "version": "3.10.6"
  },
  "orig_nbformat": 4,
  "vscode": {
   "interpreter": {
    "hash": "e7370f93d1d0cde622a1f8e1c04877d8463912d04d973331ad4851f04de6915a"
   }
  }
 },
 "nbformat": 4,
 "nbformat_minor": 2
}
