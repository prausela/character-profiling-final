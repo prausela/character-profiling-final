{
 "cells": [
  {
   "cell_type": "code",
   "execution_count": 1,
   "metadata": {},
   "outputs": [],
   "source": [
    "import spacy"
   ]
  },
  {
   "cell_type": "markdown",
   "metadata": {},
   "source": [
    "https://towardsdatascience.com/coreference-resolution-in-python-aca946541dec\n",
    "\n",
    "https://github.com/huggingface/neuralcoref"
   ]
  },
  {
   "cell_type": "code",
   "execution_count": 2,
   "metadata": {},
   "outputs": [],
   "source": [
    "%%capture\n",
    "!python -m spacy download en_core_web_lg\n",
    "!git clone https://github.com/huggingface/neuralcoref.git\n",
    "!cd neuralcoref\n",
    "!pip install -r requirements.txt\n",
    "!pip install -e ."
   ]
  },
  {
   "cell_type": "code",
   "execution_count": 3,
   "metadata": {},
   "outputs": [],
   "source": [
    "import neuralcoref"
   ]
  },
  {
   "cell_type": "code",
   "execution_count": 4,
   "metadata": {},
   "outputs": [
    {
     "data": {
      "text/plain": [
       "<spacy.lang.en.English at 0x7f278e122dd0>"
      ]
     },
     "execution_count": 4,
     "metadata": {},
     "output_type": "execute_result"
    }
   ],
   "source": [
    "nlp = spacy.load('en_core_web_lg')\n",
    "neuralcoref.add_to_pipe(nlp)"
   ]
  },
  {
   "cell_type": "code",
   "execution_count": 5,
   "metadata": {},
   "outputs": [
    {
     "data": {
      "text/plain": [
       "\"Yuno Grinberryall recollects his memories with the Golden Dawn squad and how considerate and friendly they had become. In the present, Gaderois Godroc tells Yuno that he has killed half of his comrades and left others barely alive. Gaderois also adds that they should be honored of being beaten by someone strong like him. Yuno uses Spirit Storm but Gaderois blocks and destroys the spell. Gaderois feels excited to face a Spirit Magic user, but also warns Yuno that his Stone Magic has been enhanced with devil power and counterattacks Yuno. Using Spirit's Hushed Dance, Yuno evades Gaderois attacks and also saves his injured comrades. Gaderois feels lucky to meet a Stage Zero mage other than the Magic Knights Captain. Gaderois introduces himself and asks for Yuno's name, but Yuno refuses to give his name and attacks with Crescent Kamaitachi.\""
      ]
     },
     "execution_count": 5,
     "metadata": {},
     "output_type": "execute_result"
    }
   ],
   "source": [
    "test = \"\"\"Yuno Grinberryall recollects his memories with the Golden Dawn squad and how considerate and friendly they had become. In the present, Gaderois Godroc tells Yuno that he has killed half of his comrades and left others barely alive. Gaderois also adds that they should be honored of being beaten by someone strong like him. Yuno uses Spirit Storm but Gaderois blocks and destroys the spell. Gaderois feels excited to face a Spirit Magic user, but also warns Yuno that his Stone Magic has been enhanced with devil power and counterattacks Yuno. Using Spirit's Hushed Dance, Yuno evades Gaderois attacks and also saves his injured comrades. Gaderois feels lucky to meet a Stage Zero mage other than the Magic Knights Captain. Gaderois introduces himself and asks for Yuno's name, but Yuno refuses to give his name and attacks with Crescent Kamaitachi.\"\"\"\n",
    "test"
   ]
  },
  {
   "cell_type": "code",
   "execution_count": 6,
   "metadata": {},
   "outputs": [],
   "source": [
    "doc = nlp(test)"
   ]
  },
  {
   "cell_type": "code",
   "execution_count": 7,
   "metadata": {},
   "outputs": [
    {
     "data": {
      "text/plain": [
       "\"Yuno Grinberryall recollects Yuno Grinberryall memories with the Golden Dawn squad and how considerate and friendly the Golden Dawn squad had become. In the present, Gaderois Godroc tells Yuno that Yuno has killed half of Yuno comrades and left others barely alive. Gaderois Godroc also adds that they should be honored of being beaten by someone strong like Yuno. Yuno uses Spirit Storm but Gaderois Godroc blocks and destroys the spell. Gaderois Godroc feels excited to face a Spirit Magic user, but also warns Yuno that Spirit Magic has been enhanced with devil power and counterattacks Yuno. Using Spirit's Hushed Dance, Yuno evades Gaderois Godroc attacks and also saves his comrades. Gaderois Godroc feels lucky to meet a Stage Zero mage other than the Magic Knights Captain. Gaderois Godroc introduces Gaderois Godroc and asks for Yuno's name, but Yuno refuses to give Gaderois Godroc name and attacks with Crescent Kamaitachi.\""
      ]
     },
     "execution_count": 7,
     "metadata": {},
     "output_type": "execute_result"
    }
   ],
   "source": [
    "doc._.coref_resolved"
   ]
  },
  {
   "cell_type": "code",
   "execution_count": 8,
   "metadata": {},
   "outputs": [],
   "source": [
    "import json"
   ]
  },
  {
   "cell_type": "code",
   "execution_count": 9,
   "metadata": {},
   "outputs": [],
   "source": [
    "def read_json(filename):    \n",
    "    with open(filename, 'r') as openfile:\n",
    "        return json.load(openfile)\n",
    "\n",
    "def write_json(to_json, filename):\n",
    "    json_object = json.dumps(to_json)\n",
    "\n",
    "    with open(filename, \"w\") as outfile:\n",
    "        outfile.write(json_object)"
   ]
  },
  {
   "cell_type": "code",
   "execution_count": 10,
   "metadata": {},
   "outputs": [],
   "source": [
    "corpus = read_json(\"1_scrapping_black_clover.json\")"
   ]
  },
  {
   "cell_type": "code",
   "execution_count": 11,
   "metadata": {},
   "outputs": [
    {
     "data": {
      "text/plain": [
       "'A city is being attacked by a giant demon. The First Wizard King then appears and defeats the demon.\\nOver the following generations, the Clover Kingdom is protected by a Wizard King, who commands nine squads of Magic Knights. The duty of all is to protect the kingdom, as well as the citizens, with their own lives.\\nAsta finishes his thousand swings with the sword he got from his grimoire and proceeds to drink moguro leaf juice. Yuno has been training too, chopping wood and shattering rocks. Both of them want to apply to the Magic Knights Entrance Exam.\\nSister Lily and Father Orsi visit Drouot to discuss their foster sons taking the exam. Afterward, Asta and Yuno race each other back to the church, and Nash claims Yuno won.\\nThe next day while Asta is training, Nash approaches him and says that orphans are too weak and poor to dream of becoming Magic Knights. However, Asta yells at him not to give up, declaring that he will prove anyone can. That night, Lily and Orsi prepare a special dinner of various tato dishes for the boys before they leave in the morning.\\nThe boys depart and Lily remembers first meeting the boys and the night Yuno brought back an injured Asta. During their long journey to the Royal Capital, the boys continue training.\\n'"
      ]
     },
     "execution_count": 11,
     "metadata": {},
     "output_type": "execute_result"
    }
   ],
   "source": [
    "corpus[2]"
   ]
  },
  {
   "cell_type": "code",
   "execution_count": 12,
   "metadata": {},
   "outputs": [
    {
     "data": {
      "text/plain": [
       "'A city is being attacked by a giant demon. The First Wizard King then appears and defeats the demon. \\n Over the following generations, the Clover Kingdom is protected by a Wizard King, who commands nine squads of Magic Knights. The duty of all is to protect the kingdom, as well as the citizens, with their own lives. \\n Asta finishes his thousand swings with the sword he got from his grimoire and proceeds to drink moguro leaf juice. Yuno has been training too, chopping wood and shattering rocks. Both of them want to apply to the Magic Knights Entrance Exam. \\n Sister Lily and Father Orsi visit Drouot to discuss their foster sons taking the exam. Afterward, Asta and Yuno race each other back to the church, and Nash claims Yuno won. \\n The next day while Asta is training, Nash approaches him and says that orphans are too weak and poor to dream of becoming Magic Knights. However, Asta yells at him not to give up, declaring that he will prove anyone can. That night, Lily and Orsi prepare a special dinner of various tato dishes for the boys before they leave in the morning. \\n The boys depart and Lily remembers first meeting the boys and the night Yuno brought back an injured Asta. During their long journey to the Royal Capital, the boys continue training. \\n '"
      ]
     },
     "execution_count": 12,
     "metadata": {},
     "output_type": "execute_result"
    }
   ],
   "source": [
    "doc = corpus[2].replace('\\n', ' \\n ')\n",
    "doc"
   ]
  },
  {
   "cell_type": "code",
   "execution_count": 13,
   "metadata": {},
   "outputs": [
    {
     "data": {
      "text/plain": [
       "A city is being attacked by a giant demon. The First Wizard King then appears and defeats the demon. \n",
       " Over the following generations, the Clover Kingdom is protected by a Wizard King, who commands nine squads of Magic Knights. The duty of all is to protect the kingdom, as well as the citizens, with their own lives. \n",
       " Asta finishes his thousand swings with the sword he got from his grimoire and proceeds to drink moguro leaf juice. Yuno has been training too, chopping wood and shattering rocks. Both of them want to apply to the Magic Knights Entrance Exam. \n",
       " Sister Lily and Father Orsi visit Drouot to discuss their foster sons taking the exam. Afterward, Asta and Yuno race each other back to the church, and Nash claims Yuno won. \n",
       " The next day while Asta is training, Nash approaches him and says that orphans are too weak and poor to dream of becoming Magic Knights. However, Asta yells at him not to give up, declaring that he will prove anyone can. That night, Lily and Orsi prepare a special dinner of various tato dishes for the boys before they leave in the morning. \n",
       " The boys depart and Lily remembers first meeting the boys and the night Yuno brought back an injured Asta. During their long journey to the Royal Capital, the boys continue training. \n",
       " "
      ]
     },
     "execution_count": 13,
     "metadata": {},
     "output_type": "execute_result"
    }
   ],
   "source": [
    "doc = nlp(doc)\n",
    "doc"
   ]
  },
  {
   "cell_type": "code",
   "execution_count": 14,
   "metadata": {},
   "outputs": [
    {
     "data": {
      "text/plain": [
       "'A city is being attacked by a giant demon. The First Wizard King then appears and defeats a giant demon. \\n Over the following generations, the Clover Kingdom is protected by a Wizard King, who commands nine squads of Magic Knights. The duty of all is to protect the Clover Kingdom, as well as the citizens, with the citizens own lives. \\n Asta finishes Asta thousand swings with the sword Asta got from Asta grimoire and proceeds to drink moguro leaf juice. Yuno has been training too, chopping wood and shattering rocks. Both of them want to apply to the Magic Knights Entrance Exam. \\n Sister Lily and Father Orsi visit Drouot to discuss Sister Lily and Father Orsi foster sons taking the exam. Afterward, Asta and Yuno race each other back to the church, and Nash claims Yuno won. \\n The next day while Asta is training, Nash approaches Asta and says that orphans are too weak and poor to dream of becoming Magic Knights. However, Asta yells at Asta not to give up, declaring that Asta will prove anyone can. That night, Lily and Orsi prepare a special dinner of various tato dishes for the boys before Lily and Orsi leave in the morning. \\n the boys depart and Lily remembers first meeting the boys and the night Yuno brought back AstaAsta. During the boys long journey to the Royal Capital, the boys continue training. \\n '"
      ]
     },
     "execution_count": 14,
     "metadata": {},
     "output_type": "execute_result"
    }
   ],
   "source": [
    "doc._.coref_resolved"
   ]
  },
  {
   "cell_type": "code",
   "execution_count": 15,
   "metadata": {},
   "outputs": [],
   "source": [
    "corpus = [nlp(doc.replace('\\n', ' \\n '))._.coref_resolved for doc in corpus]"
   ]
  },
  {
   "cell_type": "code",
   "execution_count": 16,
   "metadata": {},
   "outputs": [
    {
     "data": {
      "text/plain": [
       "\"In Hage, a priest finds two babies abandoned outside a priest church. a priest takes two babies abandoned outside his church inside and discovers two babies abandoned outside his church names to be Yuno and Asta. \\n Fifteen years later, Asta proposes to Sister Lily, who refuses repeatedly. Yuno and the other orphans criticize Asta and point out Yuno lack of magic. Asta tries to show off Asta skills, but Yuno outshines Asta with Asta magic. \\n Later, at the Grimoire Acceptance Ceremony, a pair of nobles criticize the commoners there. Despite Asta not receiving a grimoire while Yuno attains a four-leaf clover one, Asta challenges Yuno to the title of Wizard King, but Yuno ignores Asta. \\n After the Grimoire Acceptance Ceremony, the two nobles ambush Yuno outside the tower, but Yuno overpowers them. All three are then ambushed by Revchi Salik, a former Magic Knight who plans to steal Yuno's grimoire and sell Yuno's grimoire. Asta comes to Yuno's rescue but fails. \\n As Revchi breaks Asta's spirit, Yuno calls Asta. Motivated by this acknowledgment, Asta decides to keep fighting, which summons a grimoire from the tower. Revchi notices that Revchi has a five-leaf clover, and when a large sword appears from the grimoire, Asta grabs Revchi and the shadow of a devil appears behind him. \\n \""
      ]
     },
     "execution_count": 16,
     "metadata": {},
     "output_type": "execute_result"
    }
   ],
   "source": [
    "corpus[0]"
   ]
  },
  {
   "cell_type": "code",
   "execution_count": 17,
   "metadata": {},
   "outputs": [],
   "source": [
    "write_json(corpus, \"8_coreference_resolution_black_clover.json\")"
   ]
  }
 ],
 "metadata": {
  "kernelspec": {
   "display_name": "Python 3.10.6 64-bit",
   "language": "python",
   "name": "python3"
  },
  "language_info": {
   "codemirror_mode": {
    "name": "ipython",
    "version": 3
   },
   "file_extension": ".py",
   "mimetype": "text/x-python",
   "name": "python",
   "nbconvert_exporter": "python",
   "pygments_lexer": "ipython3",
   "version": "3.10.6"
  },
  "orig_nbformat": 4,
  "vscode": {
   "interpreter": {
    "hash": "e7370f93d1d0cde622a1f8e1c04877d8463912d04d973331ad4851f04de6915a"
   }
  }
 },
 "nbformat": 4,
 "nbformat_minor": 2
}
