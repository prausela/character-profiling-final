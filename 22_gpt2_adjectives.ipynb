{
 "cells": [
  {
   "cell_type": "markdown",
   "metadata": {},
   "source": [
    "# Summarizing (w/ GPT-2)"
   ]
  },
  {
   "cell_type": "markdown",
   "metadata": {},
   "source": [
    "## Packages"
   ]
  },
  {
   "cell_type": "code",
   "execution_count": 1,
   "metadata": {},
   "outputs": [
    {
     "name": "stderr",
     "output_type": "stream",
     "text": [
      "/home/pauli/.local/lib/python3.10/site-packages/tqdm/auto.py:22: TqdmWarning: IProgress not found. Please update jupyter and ipywidgets. See https://ipywidgets.readthedocs.io/en/stable/user_install.html\n",
      "  from .autonotebook import tqdm as notebook_tqdm\n"
     ]
    }
   ],
   "source": [
    "from utils.json_utils import read_json\n",
    "from datasets import Dataset\n",
    "import pandas as pd"
   ]
  },
  {
   "cell_type": "markdown",
   "metadata": {},
   "source": [
    "## Tokenizing"
   ]
  },
  {
   "cell_type": "code",
   "execution_count": 2,
   "metadata": {},
   "outputs": [],
   "source": [
    "nonTokenizedWsubj_docs = read_json(\"18_docs_with_subjects_non_coref.json\")\n",
    "#nonTokenizedWsubj_docs"
   ]
  },
  {
   "cell_type": "code",
   "execution_count": 3,
   "metadata": {},
   "outputs": [],
   "source": [
    "varied_set_adjectives = read_json(\"14_varied_set_adjectives_definitions.json\")\n",
    "#varied_set_adjectives"
   ]
  },
  {
   "cell_type": "code",
   "execution_count": 4,
   "metadata": {},
   "outputs": [],
   "source": [
    "training_sents = []\n",
    "for adj in varied_set_adjectives:\n",
    "    training_sents.append(\"Someone can be described as \" + adj + \": \" + varied_set_adjectives[adj])"
   ]
  },
  {
   "cell_type": "markdown",
   "metadata": {},
   "source": [
    "## Transformer"
   ]
  },
  {
   "cell_type": "code",
   "execution_count": 5,
   "metadata": {},
   "outputs": [
    {
     "name": "stderr",
     "output_type": "stream",
     "text": [
      "2023-01-23 23:05:12.349620: I tensorflow/core/platform/cpu_feature_guard.cc:193] This TensorFlow binary is optimized with oneAPI Deep Neural Network Library (oneDNN) to use the following CPU instructions in performance-critical operations:  AVX2 FMA\n",
      "To enable them in other operations, rebuild TensorFlow with the appropriate compiler flags.\n",
      "2023-01-23 23:05:12.540630: W tensorflow/compiler/xla/stream_executor/platform/default/dso_loader.cc:64] Could not load dynamic library 'libcudart.so.11.0'; dlerror: libcudart.so.11.0: cannot open shared object file: No such file or directory\n",
      "2023-01-23 23:05:12.540643: I tensorflow/compiler/xla/stream_executor/cuda/cudart_stub.cc:29] Ignore above cudart dlerror if you do not have a GPU set up on your machine.\n",
      "2023-01-23 23:05:13.141959: W tensorflow/compiler/xla/stream_executor/platform/default/dso_loader.cc:64] Could not load dynamic library 'libnvinfer.so.7'; dlerror: libnvinfer.so.7: cannot open shared object file: No such file or directory\n",
      "2023-01-23 23:05:13.142002: W tensorflow/compiler/xla/stream_executor/platform/default/dso_loader.cc:64] Could not load dynamic library 'libnvinfer_plugin.so.7'; dlerror: libnvinfer_plugin.so.7: cannot open shared object file: No such file or directory\n",
      "2023-01-23 23:05:13.142007: W tensorflow/compiler/tf2tensorrt/utils/py_utils.cc:38] TF-TRT Warning: Cannot dlopen some TensorRT libraries. If you would like to use Nvidia GPU with TensorRT, please make sure the missing libraries mentioned above are installed properly.\n"
     ]
    }
   ],
   "source": [
    "from transformers import AutoTokenizer, AutoModelForCausalLM, DataCollatorForLanguageModeling, Trainer, TrainingArguments\n",
    "import torch"
   ]
  },
  {
   "cell_type": "code",
   "execution_count": 6,
   "metadata": {},
   "outputs": [],
   "source": [
    "model_checkpoint = \"gpt2\""
   ]
  },
  {
   "cell_type": "code",
   "execution_count": 7,
   "metadata": {},
   "outputs": [],
   "source": [
    "tokenizer = AutoTokenizer.from_pretrained(model_checkpoint, use_fast=True)"
   ]
  },
  {
   "cell_type": "code",
   "execution_count": 8,
   "metadata": {},
   "outputs": [],
   "source": [
    "tokenizer.pad_token = tokenizer.eos_token\n",
    "data_collator = DataCollatorForLanguageModeling(tokenizer, mlm=False)"
   ]
  },
  {
   "cell_type": "code",
   "execution_count": 9,
   "metadata": {},
   "outputs": [],
   "source": [
    "tokenize_fn = lambda doc : tokenizer(\n",
    "        doc,\n",
    "        truncation=True,\n",
    "        max_length=1024\n",
    "    )\n",
    "\n",
    "tokenized_dataset = list(map(tokenize_fn, training_sents))"
   ]
  },
  {
   "cell_type": "code",
   "execution_count": 10,
   "metadata": {},
   "outputs": [],
   "source": [
    "tokenized_dataset = pd.DataFrame(tokenized_dataset)\n",
    "tokenized_dataset = Dataset.from_pandas(tokenized_dataset)"
   ]
  },
  {
   "cell_type": "code",
   "execution_count": 11,
   "metadata": {},
   "outputs": [],
   "source": [
    "model = AutoModelForCausalLM.from_pretrained(\n",
    "    model_checkpoint, pad_token_id=tokenizer.eos_token_id)"
   ]
  },
  {
   "cell_type": "code",
   "execution_count": 12,
   "metadata": {},
   "outputs": [],
   "source": [
    "device = f\"cuda:{torch.cuda.current_device()}\" if torch.cuda.is_available() else \"cpu\""
   ]
  },
  {
   "cell_type": "code",
   "execution_count": 13,
   "metadata": {},
   "outputs": [],
   "source": [
    "training_args = TrainingArguments(\n",
    "    f\"{model_checkpoint}-finetuned-variedadj-black-clover\",\n",
    "    num_train_epochs=100,\n",
    "    per_device_train_batch_size=10,\n",
    "    per_device_eval_batch_size=10,    \n",
    "    learning_rate=2e-5,\n",
    "    weight_decay=0.01,\n",
    "    do_eval=True, # eval en validation set\n",
    "    evaluation_strategy=\"steps\", # eval en validation set\n",
    "    eval_steps=100,\n",
    "    save_steps=100, # checkpoint model every 500 steps\n",
    "    logging_dir='./logs', # logging\n",
    "    logging_strategy=\"steps\",\n",
    "    logging_steps=1,\n",
    "    fp16=False, # float16 en training (only on CUDA)\n",
    "    push_to_hub=False,\n",
    ")"
   ]
  },
  {
   "cell_type": "code",
   "execution_count": 14,
   "metadata": {},
   "outputs": [],
   "source": [
    "trainer = Trainer(\n",
    "    model=model,\n",
    "    args=training_args,\n",
    "    data_collator=data_collator,\n",
    "    train_dataset=tokenized_dataset, #.select(range(0, 128)),\n",
    "    eval_dataset=tokenized_dataset, #.select(range(0, 128)),\n",
    ")"
   ]
  },
  {
   "cell_type": "code",
   "execution_count": 15,
   "metadata": {},
   "outputs": [
    {
     "name": "stderr",
     "output_type": "stream",
     "text": [
      "/home/pauli/.local/lib/python3.10/site-packages/transformers/optimization.py:306: FutureWarning: This implementation of AdamW is deprecated and will be removed in a future version. Use the PyTorch implementation torch.optim.AdamW instead, or set `no_deprecation_warning=True` to disable this warning\n",
      "  warnings.warn(\n",
      "***** Running training *****\n",
      "  Num examples = 50\n",
      "  Num Epochs = 100\n",
      "  Instantaneous batch size per device = 10\n",
      "  Total train batch size (w. parallel, distributed & accumulation) = 10\n",
      "  Gradient Accumulation steps = 1\n",
      "  Total optimization steps = 500\n",
      "  0%|          | 0/500 [00:00<?, ?it/s]You're using a GPT2TokenizerFast tokenizer. Please note that with a fast tokenizer, using the `__call__` method is faster than using a method to encode the text followed by a call to the `pad` method to get a padded encoding.\n",
      "  0%|          | 1/500 [00:01<15:17,  1.84s/it]"
     ]
    },
    {
     "name": "stdout",
     "output_type": "stream",
     "text": [
      "{'loss': 4.9619, 'learning_rate': 1.9960000000000002e-05, 'epoch': 0.2}\n"
     ]
    },
    {
     "name": "stderr",
     "output_type": "stream",
     "text": [
      "  0%|          | 2/500 [00:03<14:05,  1.70s/it]"
     ]
    },
    {
     "name": "stdout",
     "output_type": "stream",
     "text": [
      "{'loss': 4.8097, 'learning_rate': 1.9920000000000002e-05, 'epoch': 0.4}\n"
     ]
    },
    {
     "name": "stderr",
     "output_type": "stream",
     "text": [
      "  1%|          | 3/500 [00:04<13:30,  1.63s/it]"
     ]
    },
    {
     "name": "stdout",
     "output_type": "stream",
     "text": [
      "{'loss': 4.2993, 'learning_rate': 1.9880000000000003e-05, 'epoch': 0.6}\n"
     ]
    },
    {
     "name": "stderr",
     "output_type": "stream",
     "text": [
      "  1%|          | 4/500 [00:06<12:59,  1.57s/it]"
     ]
    },
    {
     "name": "stdout",
     "output_type": "stream",
     "text": [
      "{'loss': 4.3009, 'learning_rate': 1.9840000000000003e-05, 'epoch': 0.8}\n"
     ]
    },
    {
     "name": "stderr",
     "output_type": "stream",
     "text": [
      "  1%|          | 5/500 [00:07<12:45,  1.55s/it]"
     ]
    },
    {
     "name": "stdout",
     "output_type": "stream",
     "text": [
      "{'loss': 3.9344, 'learning_rate': 1.98e-05, 'epoch': 1.0}\n"
     ]
    },
    {
     "name": "stderr",
     "output_type": "stream",
     "text": [
      "  1%|          | 6/500 [00:09<12:59,  1.58s/it]"
     ]
    },
    {
     "name": "stdout",
     "output_type": "stream",
     "text": [
      "{'loss': 3.6921, 'learning_rate': 1.976e-05, 'epoch': 1.2}\n"
     ]
    },
    {
     "name": "stderr",
     "output_type": "stream",
     "text": [
      "  1%|▏         | 7/500 [00:11<12:46,  1.56s/it]"
     ]
    },
    {
     "name": "stdout",
     "output_type": "stream",
     "text": [
      "{'loss': 3.3057, 'learning_rate': 1.972e-05, 'epoch': 1.4}\n"
     ]
    },
    {
     "name": "stderr",
     "output_type": "stream",
     "text": [
      "  2%|▏         | 8/500 [00:12<12:35,  1.53s/it]"
     ]
    },
    {
     "name": "stdout",
     "output_type": "stream",
     "text": [
      "{'loss': 3.4156, 'learning_rate': 1.968e-05, 'epoch': 1.6}\n"
     ]
    },
    {
     "name": "stderr",
     "output_type": "stream",
     "text": [
      "  2%|▏         | 9/500 [00:14<13:12,  1.62s/it]"
     ]
    },
    {
     "name": "stdout",
     "output_type": "stream",
     "text": [
      "{'loss': 3.2616, 'learning_rate': 1.9640000000000002e-05, 'epoch': 1.8}\n"
     ]
    },
    {
     "name": "stderr",
     "output_type": "stream",
     "text": [
      "  2%|▏         | 10/500 [00:15<12:49,  1.57s/it]"
     ]
    },
    {
     "name": "stdout",
     "output_type": "stream",
     "text": [
      "{'loss': 2.8447, 'learning_rate': 1.9600000000000002e-05, 'epoch': 2.0}\n"
     ]
    },
    {
     "name": "stderr",
     "output_type": "stream",
     "text": [
      "  2%|▏         | 11/500 [00:17<12:57,  1.59s/it]"
     ]
    },
    {
     "name": "stdout",
     "output_type": "stream",
     "text": [
      "{'loss': 2.6928, 'learning_rate': 1.9560000000000002e-05, 'epoch': 2.2}\n"
     ]
    },
    {
     "name": "stderr",
     "output_type": "stream",
     "text": [
      "  2%|▏         | 12/500 [00:19<13:28,  1.66s/it]"
     ]
    },
    {
     "name": "stdout",
     "output_type": "stream",
     "text": [
      "{'loss': 2.9024, 'learning_rate': 1.9520000000000003e-05, 'epoch': 2.4}\n"
     ]
    },
    {
     "name": "stderr",
     "output_type": "stream",
     "text": [
      "  3%|▎         | 13/500 [00:20<12:58,  1.60s/it]"
     ]
    },
    {
     "name": "stdout",
     "output_type": "stream",
     "text": [
      "{'loss': 2.8498, 'learning_rate': 1.948e-05, 'epoch': 2.6}\n"
     ]
    },
    {
     "name": "stderr",
     "output_type": "stream",
     "text": [
      "  3%|▎         | 14/500 [00:22<12:42,  1.57s/it]"
     ]
    },
    {
     "name": "stdout",
     "output_type": "stream",
     "text": [
      "{'loss': 2.4809, 'learning_rate': 1.944e-05, 'epoch': 2.8}\n"
     ]
    },
    {
     "name": "stderr",
     "output_type": "stream",
     "text": [
      "  3%|▎         | 15/500 [00:23<12:21,  1.53s/it]"
     ]
    },
    {
     "name": "stdout",
     "output_type": "stream",
     "text": [
      "{'loss': 2.5776, 'learning_rate': 1.94e-05, 'epoch': 3.0}\n"
     ]
    },
    {
     "name": "stderr",
     "output_type": "stream",
     "text": [
      "  3%|▎         | 16/500 [00:25<12:55,  1.60s/it]"
     ]
    },
    {
     "name": "stdout",
     "output_type": "stream",
     "text": [
      "{'loss': 2.5543, 'learning_rate': 1.936e-05, 'epoch': 3.2}\n"
     ]
    },
    {
     "name": "stderr",
     "output_type": "stream",
     "text": [
      "  3%|▎         | 17/500 [00:27<12:43,  1.58s/it]"
     ]
    },
    {
     "name": "stdout",
     "output_type": "stream",
     "text": [
      "{'loss': 2.2065, 'learning_rate': 1.932e-05, 'epoch': 3.4}\n"
     ]
    },
    {
     "name": "stderr",
     "output_type": "stream",
     "text": [
      "  4%|▎         | 18/500 [00:28<12:26,  1.55s/it]"
     ]
    },
    {
     "name": "stdout",
     "output_type": "stream",
     "text": [
      "{'loss': 2.4275, 'learning_rate': 1.9280000000000002e-05, 'epoch': 3.6}\n"
     ]
    },
    {
     "name": "stderr",
     "output_type": "stream",
     "text": [
      "  4%|▍         | 19/500 [00:30<12:44,  1.59s/it]"
     ]
    },
    {
     "name": "stdout",
     "output_type": "stream",
     "text": [
      "{'loss': 2.2961, 'learning_rate': 1.9240000000000002e-05, 'epoch': 3.8}\n"
     ]
    },
    {
     "name": "stderr",
     "output_type": "stream",
     "text": [
      "  4%|▍         | 20/500 [00:31<12:34,  1.57s/it]"
     ]
    },
    {
     "name": "stdout",
     "output_type": "stream",
     "text": [
      "{'loss': 2.4181, 'learning_rate': 1.9200000000000003e-05, 'epoch': 4.0}\n"
     ]
    },
    {
     "name": "stderr",
     "output_type": "stream",
     "text": [
      "  4%|▍         | 21/500 [00:33<12:31,  1.57s/it]"
     ]
    },
    {
     "name": "stdout",
     "output_type": "stream",
     "text": [
      "{'loss': 2.4554, 'learning_rate': 1.916e-05, 'epoch': 4.2}\n"
     ]
    },
    {
     "name": "stderr",
     "output_type": "stream",
     "text": [
      "  4%|▍         | 22/500 [00:34<12:17,  1.54s/it]"
     ]
    },
    {
     "name": "stdout",
     "output_type": "stream",
     "text": [
      "{'loss': 2.1241, 'learning_rate': 1.912e-05, 'epoch': 4.4}\n"
     ]
    },
    {
     "name": "stderr",
     "output_type": "stream",
     "text": [
      "  5%|▍         | 23/500 [00:36<12:36,  1.59s/it]"
     ]
    },
    {
     "name": "stdout",
     "output_type": "stream",
     "text": [
      "{'loss': 2.144, 'learning_rate': 1.908e-05, 'epoch': 4.6}\n"
     ]
    },
    {
     "name": "stderr",
     "output_type": "stream",
     "text": [
      "  5%|▍         | 24/500 [00:37<12:21,  1.56s/it]"
     ]
    },
    {
     "name": "stdout",
     "output_type": "stream",
     "text": [
      "{'loss': 2.2665, 'learning_rate': 1.904e-05, 'epoch': 4.8}\n"
     ]
    },
    {
     "name": "stderr",
     "output_type": "stream",
     "text": [
      "  5%|▌         | 25/500 [00:39<12:53,  1.63s/it]"
     ]
    },
    {
     "name": "stdout",
     "output_type": "stream",
     "text": [
      "{'loss': 2.1256, 'learning_rate': 1.9e-05, 'epoch': 5.0}\n"
     ]
    },
    {
     "name": "stderr",
     "output_type": "stream",
     "text": [
      "  5%|▌         | 26/500 [00:41<12:51,  1.63s/it]"
     ]
    },
    {
     "name": "stdout",
     "output_type": "stream",
     "text": [
      "{'loss': 1.8361, 'learning_rate': 1.896e-05, 'epoch': 5.2}\n"
     ]
    },
    {
     "name": "stderr",
     "output_type": "stream",
     "text": [
      "  5%|▌         | 27/500 [00:42<12:44,  1.62s/it]"
     ]
    },
    {
     "name": "stdout",
     "output_type": "stream",
     "text": [
      "{'loss': 1.9749, 'learning_rate': 1.8920000000000002e-05, 'epoch': 5.4}\n"
     ]
    },
    {
     "name": "stderr",
     "output_type": "stream",
     "text": [
      "  6%|▌         | 28/500 [00:44<12:13,  1.55s/it]"
     ]
    },
    {
     "name": "stdout",
     "output_type": "stream",
     "text": [
      "{'loss': 2.1573, 'learning_rate': 1.8880000000000002e-05, 'epoch': 5.6}\n"
     ]
    },
    {
     "name": "stderr",
     "output_type": "stream",
     "text": [
      "  6%|▌         | 29/500 [00:46<12:44,  1.62s/it]"
     ]
    },
    {
     "name": "stdout",
     "output_type": "stream",
     "text": [
      "{'loss': 1.9688, 'learning_rate': 1.884e-05, 'epoch': 5.8}\n"
     ]
    },
    {
     "name": "stderr",
     "output_type": "stream",
     "text": [
      "  6%|▌         | 30/500 [00:47<12:15,  1.57s/it]"
     ]
    },
    {
     "name": "stdout",
     "output_type": "stream",
     "text": [
      "{'loss': 2.1615, 'learning_rate': 1.88e-05, 'epoch': 6.0}\n"
     ]
    },
    {
     "name": "stderr",
     "output_type": "stream",
     "text": [
      "  6%|▌         | 31/500 [00:49<12:10,  1.56s/it]"
     ]
    },
    {
     "name": "stdout",
     "output_type": "stream",
     "text": [
      "{'loss': 2.0908, 'learning_rate': 1.876e-05, 'epoch': 6.2}\n"
     ]
    },
    {
     "name": "stderr",
     "output_type": "stream",
     "text": [
      "  6%|▋         | 32/500 [00:50<11:58,  1.54s/it]"
     ]
    },
    {
     "name": "stdout",
     "output_type": "stream",
     "text": [
      "{'loss': 1.7803, 'learning_rate': 1.8720000000000004e-05, 'epoch': 6.4}\n"
     ]
    },
    {
     "name": "stderr",
     "output_type": "stream",
     "text": [
      "  7%|▋         | 33/500 [00:52<12:13,  1.57s/it]"
     ]
    },
    {
     "name": "stdout",
     "output_type": "stream",
     "text": [
      "{'loss': 1.6771, 'learning_rate': 1.8680000000000004e-05, 'epoch': 6.6}\n"
     ]
    },
    {
     "name": "stderr",
     "output_type": "stream",
     "text": [
      "  7%|▋         | 34/500 [00:53<11:53,  1.53s/it]"
     ]
    },
    {
     "name": "stdout",
     "output_type": "stream",
     "text": [
      "{'loss': 1.8444, 'learning_rate': 1.864e-05, 'epoch': 6.8}\n"
     ]
    },
    {
     "name": "stderr",
     "output_type": "stream",
     "text": [
      "  7%|▋         | 35/500 [00:55<12:28,  1.61s/it]"
     ]
    },
    {
     "name": "stdout",
     "output_type": "stream",
     "text": [
      "{'loss': 2.0885, 'learning_rate': 1.86e-05, 'epoch': 7.0}\n"
     ]
    },
    {
     "name": "stderr",
     "output_type": "stream",
     "text": [
      "  7%|▋         | 36/500 [00:56<12:08,  1.57s/it]"
     ]
    },
    {
     "name": "stdout",
     "output_type": "stream",
     "text": [
      "{'loss': 1.7445, 'learning_rate': 1.8560000000000002e-05, 'epoch': 7.2}\n"
     ]
    },
    {
     "name": "stderr",
     "output_type": "stream",
     "text": [
      "  7%|▋         | 37/500 [00:58<11:57,  1.55s/it]"
     ]
    },
    {
     "name": "stdout",
     "output_type": "stream",
     "text": [
      "{'loss': 2.0763, 'learning_rate': 1.8520000000000002e-05, 'epoch': 7.4}\n"
     ]
    },
    {
     "name": "stderr",
     "output_type": "stream",
     "text": [
      "  8%|▊         | 38/500 [00:59<11:46,  1.53s/it]"
     ]
    },
    {
     "name": "stdout",
     "output_type": "stream",
     "text": [
      "{'loss': 1.8169, 'learning_rate': 1.8480000000000003e-05, 'epoch': 7.6}\n"
     ]
    },
    {
     "name": "stderr",
     "output_type": "stream",
     "text": [
      "  8%|▊         | 39/500 [01:01<11:52,  1.55s/it]"
     ]
    },
    {
     "name": "stdout",
     "output_type": "stream",
     "text": [
      "{'loss': 1.8133, 'learning_rate': 1.8440000000000003e-05, 'epoch': 7.8}\n"
     ]
    },
    {
     "name": "stderr",
     "output_type": "stream",
     "text": [
      "  8%|▊         | 40/500 [01:03<12:30,  1.63s/it]"
     ]
    },
    {
     "name": "stdout",
     "output_type": "stream",
     "text": [
      "{'loss': 1.7231, 'learning_rate': 1.8400000000000003e-05, 'epoch': 8.0}\n"
     ]
    },
    {
     "name": "stderr",
     "output_type": "stream",
     "text": [
      "  8%|▊         | 41/500 [01:05<12:36,  1.65s/it]"
     ]
    },
    {
     "name": "stdout",
     "output_type": "stream",
     "text": [
      "{'loss': 1.6839, 'learning_rate': 1.8360000000000004e-05, 'epoch': 8.2}\n"
     ]
    },
    {
     "name": "stderr",
     "output_type": "stream",
     "text": [
      "  8%|▊         | 42/500 [01:06<12:59,  1.70s/it]"
     ]
    },
    {
     "name": "stdout",
     "output_type": "stream",
     "text": [
      "{'loss': 1.8367, 'learning_rate': 1.832e-05, 'epoch': 8.4}\n"
     ]
    },
    {
     "name": "stderr",
     "output_type": "stream",
     "text": [
      "  9%|▊         | 43/500 [01:08<12:32,  1.65s/it]"
     ]
    },
    {
     "name": "stdout",
     "output_type": "stream",
     "text": [
      "{'loss': 1.737, 'learning_rate': 1.828e-05, 'epoch': 8.6}\n"
     ]
    },
    {
     "name": "stderr",
     "output_type": "stream",
     "text": [
      "  9%|▉         | 44/500 [01:09<12:21,  1.63s/it]"
     ]
    },
    {
     "name": "stdout",
     "output_type": "stream",
     "text": [
      "{'loss': 1.6827, 'learning_rate': 1.824e-05, 'epoch': 8.8}\n"
     ]
    },
    {
     "name": "stderr",
     "output_type": "stream",
     "text": [
      "  9%|▉         | 45/500 [01:11<12:01,  1.59s/it]"
     ]
    },
    {
     "name": "stdout",
     "output_type": "stream",
     "text": [
      "{'loss': 1.7066, 'learning_rate': 1.8200000000000002e-05, 'epoch': 9.0}\n"
     ]
    },
    {
     "name": "stderr",
     "output_type": "stream",
     "text": [
      "  9%|▉         | 46/500 [01:13<12:02,  1.59s/it]"
     ]
    },
    {
     "name": "stdout",
     "output_type": "stream",
     "text": [
      "{'loss': 1.7072, 'learning_rate': 1.8160000000000002e-05, 'epoch': 9.2}\n"
     ]
    },
    {
     "name": "stderr",
     "output_type": "stream",
     "text": [
      "  9%|▉         | 47/500 [01:14<11:48,  1.56s/it]"
     ]
    },
    {
     "name": "stdout",
     "output_type": "stream",
     "text": [
      "{'loss': 1.6174, 'learning_rate': 1.8120000000000003e-05, 'epoch': 9.4}\n"
     ]
    },
    {
     "name": "stderr",
     "output_type": "stream",
     "text": [
      " 10%|▉         | 48/500 [01:16<12:20,  1.64s/it]"
     ]
    },
    {
     "name": "stdout",
     "output_type": "stream",
     "text": [
      "{'loss': 1.4696, 'learning_rate': 1.8080000000000003e-05, 'epoch': 9.6}\n"
     ]
    },
    {
     "name": "stderr",
     "output_type": "stream",
     "text": [
      " 10%|▉         | 49/500 [01:18<12:24,  1.65s/it]"
     ]
    },
    {
     "name": "stdout",
     "output_type": "stream",
     "text": [
      "{'loss': 1.644, 'learning_rate': 1.8040000000000003e-05, 'epoch': 9.8}\n"
     ]
    },
    {
     "name": "stderr",
     "output_type": "stream",
     "text": [
      " 10%|█         | 50/500 [01:19<12:06,  1.61s/it]"
     ]
    },
    {
     "name": "stdout",
     "output_type": "stream",
     "text": [
      "{'loss': 1.4829, 'learning_rate': 1.8e-05, 'epoch': 10.0}\n"
     ]
    },
    {
     "name": "stderr",
     "output_type": "stream",
     "text": [
      " 10%|█         | 51/500 [01:21<12:32,  1.67s/it]"
     ]
    },
    {
     "name": "stdout",
     "output_type": "stream",
     "text": [
      "{'loss': 1.3173, 'learning_rate': 1.796e-05, 'epoch': 10.2}\n"
     ]
    },
    {
     "name": "stderr",
     "output_type": "stream",
     "text": [
      " 10%|█         | 52/500 [01:22<12:01,  1.61s/it]"
     ]
    },
    {
     "name": "stdout",
     "output_type": "stream",
     "text": [
      "{'loss': 1.3602, 'learning_rate': 1.792e-05, 'epoch': 10.4}\n"
     ]
    },
    {
     "name": "stderr",
     "output_type": "stream",
     "text": [
      " 11%|█         | 53/500 [01:24<11:36,  1.56s/it]"
     ]
    },
    {
     "name": "stdout",
     "output_type": "stream",
     "text": [
      "{'loss': 1.6781, 'learning_rate': 1.788e-05, 'epoch': 10.6}\n"
     ]
    },
    {
     "name": "stderr",
     "output_type": "stream",
     "text": [
      " 11%|█         | 54/500 [01:25<11:25,  1.54s/it]"
     ]
    },
    {
     "name": "stdout",
     "output_type": "stream",
     "text": [
      "{'loss': 1.3046, 'learning_rate': 1.7840000000000002e-05, 'epoch': 10.8}\n"
     ]
    },
    {
     "name": "stderr",
     "output_type": "stream",
     "text": [
      " 11%|█         | 55/500 [01:27<11:20,  1.53s/it]"
     ]
    },
    {
     "name": "stdout",
     "output_type": "stream",
     "text": [
      "{'loss': 1.6019, 'learning_rate': 1.7800000000000002e-05, 'epoch': 11.0}\n"
     ]
    },
    {
     "name": "stderr",
     "output_type": "stream",
     "text": [
      " 11%|█         | 56/500 [01:28<11:15,  1.52s/it]"
     ]
    },
    {
     "name": "stdout",
     "output_type": "stream",
     "text": [
      "{'loss': 1.4191, 'learning_rate': 1.7760000000000003e-05, 'epoch': 11.2}\n"
     ]
    },
    {
     "name": "stderr",
     "output_type": "stream",
     "text": [
      " 11%|█▏        | 57/500 [01:30<11:02,  1.50s/it]"
     ]
    },
    {
     "name": "stdout",
     "output_type": "stream",
     "text": [
      "{'loss': 1.5522, 'learning_rate': 1.7720000000000003e-05, 'epoch': 11.4}\n"
     ]
    },
    {
     "name": "stderr",
     "output_type": "stream",
     "text": [
      " 12%|█▏        | 58/500 [01:31<11:22,  1.54s/it]"
     ]
    },
    {
     "name": "stdout",
     "output_type": "stream",
     "text": [
      "{'loss': 1.4792, 'learning_rate': 1.768e-05, 'epoch': 11.6}\n"
     ]
    },
    {
     "name": "stderr",
     "output_type": "stream",
     "text": [
      " 12%|█▏        | 59/500 [01:33<11:17,  1.54s/it]"
     ]
    },
    {
     "name": "stdout",
     "output_type": "stream",
     "text": [
      "{'loss': 1.3421, 'learning_rate': 1.764e-05, 'epoch': 11.8}\n"
     ]
    },
    {
     "name": "stderr",
     "output_type": "stream",
     "text": [
      " 12%|█▏        | 60/500 [01:35<11:57,  1.63s/it]"
     ]
    },
    {
     "name": "stdout",
     "output_type": "stream",
     "text": [
      "{'loss': 1.1951, 'learning_rate': 1.76e-05, 'epoch': 12.0}\n"
     ]
    },
    {
     "name": "stderr",
     "output_type": "stream",
     "text": [
      " 12%|█▏        | 61/500 [01:36<11:38,  1.59s/it]"
     ]
    },
    {
     "name": "stdout",
     "output_type": "stream",
     "text": [
      "{'loss': 1.4385, 'learning_rate': 1.756e-05, 'epoch': 12.2}\n"
     ]
    },
    {
     "name": "stderr",
     "output_type": "stream",
     "text": [
      " 12%|█▏        | 62/500 [01:38<11:25,  1.56s/it]"
     ]
    },
    {
     "name": "stdout",
     "output_type": "stream",
     "text": [
      "{'loss': 1.3177, 'learning_rate': 1.752e-05, 'epoch': 12.4}\n"
     ]
    },
    {
     "name": "stderr",
     "output_type": "stream",
     "text": [
      " 13%|█▎        | 63/500 [01:39<11:12,  1.54s/it]"
     ]
    },
    {
     "name": "stdout",
     "output_type": "stream",
     "text": [
      "{'loss': 1.1673, 'learning_rate': 1.7480000000000002e-05, 'epoch': 12.6}\n"
     ]
    },
    {
     "name": "stderr",
     "output_type": "stream",
     "text": [
      " 13%|█▎        | 64/500 [01:41<11:40,  1.61s/it]"
     ]
    },
    {
     "name": "stdout",
     "output_type": "stream",
     "text": [
      "{'loss': 1.2288, 'learning_rate': 1.7440000000000002e-05, 'epoch': 12.8}\n"
     ]
    },
    {
     "name": "stderr",
     "output_type": "stream",
     "text": [
      " 13%|█▎        | 65/500 [01:43<12:02,  1.66s/it]"
     ]
    },
    {
     "name": "stdout",
     "output_type": "stream",
     "text": [
      "{'loss': 1.2777, 'learning_rate': 1.7400000000000003e-05, 'epoch': 13.0}\n"
     ]
    },
    {
     "name": "stderr",
     "output_type": "stream",
     "text": [
      " 13%|█▎        | 66/500 [01:44<11:21,  1.57s/it]"
     ]
    },
    {
     "name": "stdout",
     "output_type": "stream",
     "text": [
      "{'loss': 1.345, 'learning_rate': 1.736e-05, 'epoch': 13.2}\n"
     ]
    },
    {
     "name": "stderr",
     "output_type": "stream",
     "text": [
      " 13%|█▎        | 67/500 [01:46<11:07,  1.54s/it]"
     ]
    },
    {
     "name": "stdout",
     "output_type": "stream",
     "text": [
      "{'loss': 1.304, 'learning_rate': 1.732e-05, 'epoch': 13.4}\n"
     ]
    },
    {
     "name": "stderr",
     "output_type": "stream",
     "text": [
      " 14%|█▎        | 68/500 [01:48<11:53,  1.65s/it]"
     ]
    },
    {
     "name": "stdout",
     "output_type": "stream",
     "text": [
      "{'loss': 1.3821, 'learning_rate': 1.728e-05, 'epoch': 13.6}\n"
     ]
    },
    {
     "name": "stderr",
     "output_type": "stream",
     "text": [
      " 14%|█▍        | 69/500 [01:49<11:59,  1.67s/it]"
     ]
    },
    {
     "name": "stdout",
     "output_type": "stream",
     "text": [
      "{'loss': 1.2378, 'learning_rate': 1.724e-05, 'epoch': 13.8}\n"
     ]
    },
    {
     "name": "stderr",
     "output_type": "stream",
     "text": [
      " 14%|█▍        | 70/500 [01:51<11:35,  1.62s/it]"
     ]
    },
    {
     "name": "stdout",
     "output_type": "stream",
     "text": [
      "{'loss': 1.1521, 'learning_rate': 1.72e-05, 'epoch': 14.0}\n"
     ]
    },
    {
     "name": "stderr",
     "output_type": "stream",
     "text": [
      " 14%|█▍        | 71/500 [01:52<11:20,  1.59s/it]"
     ]
    },
    {
     "name": "stdout",
     "output_type": "stream",
     "text": [
      "{'loss': 1.1679, 'learning_rate': 1.7160000000000002e-05, 'epoch': 14.2}\n"
     ]
    },
    {
     "name": "stderr",
     "output_type": "stream",
     "text": [
      " 14%|█▍        | 72/500 [01:54<11:44,  1.65s/it]"
     ]
    },
    {
     "name": "stdout",
     "output_type": "stream",
     "text": [
      "{'loss': 1.2431, 'learning_rate': 1.7120000000000002e-05, 'epoch': 14.4}\n"
     ]
    },
    {
     "name": "stderr",
     "output_type": "stream",
     "text": [
      " 15%|█▍        | 73/500 [01:56<11:19,  1.59s/it]"
     ]
    },
    {
     "name": "stdout",
     "output_type": "stream",
     "text": [
      "{'loss': 1.0745, 'learning_rate': 1.7080000000000002e-05, 'epoch': 14.6}\n"
     ]
    },
    {
     "name": "stderr",
     "output_type": "stream",
     "text": [
      " 15%|█▍        | 74/500 [01:57<11:24,  1.61s/it]"
     ]
    },
    {
     "name": "stdout",
     "output_type": "stream",
     "text": [
      "{'loss': 1.3521, 'learning_rate': 1.704e-05, 'epoch': 14.8}\n"
     ]
    },
    {
     "name": "stderr",
     "output_type": "stream",
     "text": [
      " 15%|█▌        | 75/500 [01:59<11:00,  1.56s/it]"
     ]
    },
    {
     "name": "stdout",
     "output_type": "stream",
     "text": [
      "{'loss': 1.2117, 'learning_rate': 1.7e-05, 'epoch': 15.0}\n"
     ]
    },
    {
     "name": "stderr",
     "output_type": "stream",
     "text": [
      " 15%|█▌        | 76/500 [02:00<10:51,  1.54s/it]"
     ]
    },
    {
     "name": "stdout",
     "output_type": "stream",
     "text": [
      "{'loss': 1.1343, 'learning_rate': 1.696e-05, 'epoch': 15.2}\n"
     ]
    },
    {
     "name": "stderr",
     "output_type": "stream",
     "text": [
      " 15%|█▌        | 77/500 [02:02<10:55,  1.55s/it]"
     ]
    },
    {
     "name": "stdout",
     "output_type": "stream",
     "text": [
      "{'loss': 1.0197, 'learning_rate': 1.692e-05, 'epoch': 15.4}\n"
     ]
    },
    {
     "name": "stderr",
     "output_type": "stream",
     "text": [
      " 16%|█▌        | 78/500 [02:03<10:52,  1.55s/it]"
     ]
    },
    {
     "name": "stdout",
     "output_type": "stream",
     "text": [
      "{'loss': 1.0895, 'learning_rate': 1.688e-05, 'epoch': 15.6}\n"
     ]
    },
    {
     "name": "stderr",
     "output_type": "stream",
     "text": [
      " 16%|█▌        | 79/500 [02:05<10:48,  1.54s/it]"
     ]
    },
    {
     "name": "stdout",
     "output_type": "stream",
     "text": [
      "{'loss': 1.3487, 'learning_rate': 1.684e-05, 'epoch': 15.8}\n"
     ]
    },
    {
     "name": "stderr",
     "output_type": "stream",
     "text": [
      " 16%|█▌        | 80/500 [02:07<11:30,  1.64s/it]"
     ]
    },
    {
     "name": "stdout",
     "output_type": "stream",
     "text": [
      "{'loss': 1.1743, 'learning_rate': 1.6800000000000002e-05, 'epoch': 16.0}\n"
     ]
    },
    {
     "name": "stderr",
     "output_type": "stream",
     "text": [
      " 16%|█▌        | 81/500 [02:09<12:05,  1.73s/it]"
     ]
    },
    {
     "name": "stdout",
     "output_type": "stream",
     "text": [
      "{'loss': 0.9679, 'learning_rate': 1.6760000000000002e-05, 'epoch': 16.2}\n"
     ]
    },
    {
     "name": "stderr",
     "output_type": "stream",
     "text": [
      " 16%|█▋        | 82/500 [02:10<12:13,  1.76s/it]"
     ]
    },
    {
     "name": "stdout",
     "output_type": "stream",
     "text": [
      "{'loss': 0.9699, 'learning_rate': 1.672e-05, 'epoch': 16.4}\n"
     ]
    },
    {
     "ename": "KeyboardInterrupt",
     "evalue": "",
     "output_type": "error",
     "traceback": [
      "\u001b[0;31m---------------------------------------------------------------------------\u001b[0m",
      "\u001b[0;31mKeyboardInterrupt\u001b[0m                         Traceback (most recent call last)",
      "\u001b[1;32m/home/pauli/NLP/22_gpt2_adjectives.ipynb Cell 19\u001b[0m in \u001b[0;36m<cell line: 1>\u001b[0;34m()\u001b[0m\n\u001b[0;32m----> <a href='vscode-notebook-cell:/home/pauli/NLP/22_gpt2_adjectives.ipynb#ch0000027?line=0'>1</a>\u001b[0m train_output \u001b[39m=\u001b[39m trainer\u001b[39m.\u001b[39;49mtrain()\n",
      "File \u001b[0;32m~/.local/lib/python3.10/site-packages/transformers/trainer.py:1521\u001b[0m, in \u001b[0;36mTrainer.train\u001b[0;34m(self, resume_from_checkpoint, trial, ignore_keys_for_eval, **kwargs)\u001b[0m\n\u001b[1;32m   1516\u001b[0m     \u001b[39mself\u001b[39m\u001b[39m.\u001b[39mmodel_wrapped \u001b[39m=\u001b[39m \u001b[39mself\u001b[39m\u001b[39m.\u001b[39mmodel\n\u001b[1;32m   1518\u001b[0m inner_training_loop \u001b[39m=\u001b[39m find_executable_batch_size(\n\u001b[1;32m   1519\u001b[0m     \u001b[39mself\u001b[39m\u001b[39m.\u001b[39m_inner_training_loop, \u001b[39mself\u001b[39m\u001b[39m.\u001b[39m_train_batch_size, args\u001b[39m.\u001b[39mauto_find_batch_size\n\u001b[1;32m   1520\u001b[0m )\n\u001b[0;32m-> 1521\u001b[0m \u001b[39mreturn\u001b[39;00m inner_training_loop(\n\u001b[1;32m   1522\u001b[0m     args\u001b[39m=\u001b[39;49margs,\n\u001b[1;32m   1523\u001b[0m     resume_from_checkpoint\u001b[39m=\u001b[39;49mresume_from_checkpoint,\n\u001b[1;32m   1524\u001b[0m     trial\u001b[39m=\u001b[39;49mtrial,\n\u001b[1;32m   1525\u001b[0m     ignore_keys_for_eval\u001b[39m=\u001b[39;49mignore_keys_for_eval,\n\u001b[1;32m   1526\u001b[0m )\n",
      "File \u001b[0;32m~/.local/lib/python3.10/site-packages/transformers/trainer.py:1763\u001b[0m, in \u001b[0;36mTrainer._inner_training_loop\u001b[0;34m(self, batch_size, args, resume_from_checkpoint, trial, ignore_keys_for_eval)\u001b[0m\n\u001b[1;32m   1761\u001b[0m         tr_loss_step \u001b[39m=\u001b[39m \u001b[39mself\u001b[39m\u001b[39m.\u001b[39mtraining_step(model, inputs)\n\u001b[1;32m   1762\u001b[0m \u001b[39melse\u001b[39;00m:\n\u001b[0;32m-> 1763\u001b[0m     tr_loss_step \u001b[39m=\u001b[39m \u001b[39mself\u001b[39;49m\u001b[39m.\u001b[39;49mtraining_step(model, inputs)\n\u001b[1;32m   1765\u001b[0m \u001b[39mif\u001b[39;00m (\n\u001b[1;32m   1766\u001b[0m     args\u001b[39m.\u001b[39mlogging_nan_inf_filter\n\u001b[1;32m   1767\u001b[0m     \u001b[39mand\u001b[39;00m \u001b[39mnot\u001b[39;00m is_torch_tpu_available()\n\u001b[1;32m   1768\u001b[0m     \u001b[39mand\u001b[39;00m (torch\u001b[39m.\u001b[39misnan(tr_loss_step) \u001b[39mor\u001b[39;00m torch\u001b[39m.\u001b[39misinf(tr_loss_step))\n\u001b[1;32m   1769\u001b[0m ):\n\u001b[1;32m   1770\u001b[0m     \u001b[39m# if loss is nan or inf simply add the average of previous logged losses\u001b[39;00m\n\u001b[1;32m   1771\u001b[0m     tr_loss \u001b[39m+\u001b[39m\u001b[39m=\u001b[39m tr_loss \u001b[39m/\u001b[39m (\u001b[39m1\u001b[39m \u001b[39m+\u001b[39m \u001b[39mself\u001b[39m\u001b[39m.\u001b[39mstate\u001b[39m.\u001b[39mglobal_step \u001b[39m-\u001b[39m \u001b[39mself\u001b[39m\u001b[39m.\u001b[39m_globalstep_last_logged)\n",
      "File \u001b[0;32m~/.local/lib/python3.10/site-packages/transformers/trainer.py:2517\u001b[0m, in \u001b[0;36mTrainer.training_step\u001b[0;34m(self, model, inputs)\u001b[0m\n\u001b[1;32m   2515\u001b[0m     loss \u001b[39m=\u001b[39m \u001b[39mself\u001b[39m\u001b[39m.\u001b[39mdeepspeed\u001b[39m.\u001b[39mbackward(loss)\n\u001b[1;32m   2516\u001b[0m \u001b[39melse\u001b[39;00m:\n\u001b[0;32m-> 2517\u001b[0m     loss\u001b[39m.\u001b[39;49mbackward()\n\u001b[1;32m   2519\u001b[0m \u001b[39mreturn\u001b[39;00m loss\u001b[39m.\u001b[39mdetach()\n",
      "File \u001b[0;32m~/.local/lib/python3.10/site-packages/torch/_tensor.py:488\u001b[0m, in \u001b[0;36mTensor.backward\u001b[0;34m(self, gradient, retain_graph, create_graph, inputs)\u001b[0m\n\u001b[1;32m    478\u001b[0m \u001b[39mif\u001b[39;00m has_torch_function_unary(\u001b[39mself\u001b[39m):\n\u001b[1;32m    479\u001b[0m     \u001b[39mreturn\u001b[39;00m handle_torch_function(\n\u001b[1;32m    480\u001b[0m         Tensor\u001b[39m.\u001b[39mbackward,\n\u001b[1;32m    481\u001b[0m         (\u001b[39mself\u001b[39m,),\n\u001b[0;32m   (...)\u001b[0m\n\u001b[1;32m    486\u001b[0m         inputs\u001b[39m=\u001b[39minputs,\n\u001b[1;32m    487\u001b[0m     )\n\u001b[0;32m--> 488\u001b[0m torch\u001b[39m.\u001b[39;49mautograd\u001b[39m.\u001b[39;49mbackward(\n\u001b[1;32m    489\u001b[0m     \u001b[39mself\u001b[39;49m, gradient, retain_graph, create_graph, inputs\u001b[39m=\u001b[39;49minputs\n\u001b[1;32m    490\u001b[0m )\n",
      "File \u001b[0;32m~/.local/lib/python3.10/site-packages/torch/autograd/__init__.py:197\u001b[0m, in \u001b[0;36mbackward\u001b[0;34m(tensors, grad_tensors, retain_graph, create_graph, grad_variables, inputs)\u001b[0m\n\u001b[1;32m    192\u001b[0m     retain_graph \u001b[39m=\u001b[39m create_graph\n\u001b[1;32m    194\u001b[0m \u001b[39m# The reason we repeat same the comment below is that\u001b[39;00m\n\u001b[1;32m    195\u001b[0m \u001b[39m# some Python versions print out the first line of a multi-line function\u001b[39;00m\n\u001b[1;32m    196\u001b[0m \u001b[39m# calls in the traceback and some print out the last line\u001b[39;00m\n\u001b[0;32m--> 197\u001b[0m Variable\u001b[39m.\u001b[39;49m_execution_engine\u001b[39m.\u001b[39;49mrun_backward(  \u001b[39m# Calls into the C++ engine to run the backward pass\u001b[39;49;00m\n\u001b[1;32m    198\u001b[0m     tensors, grad_tensors_, retain_graph, create_graph, inputs,\n\u001b[1;32m    199\u001b[0m     allow_unreachable\u001b[39m=\u001b[39;49m\u001b[39mTrue\u001b[39;49;00m, accumulate_grad\u001b[39m=\u001b[39;49m\u001b[39mTrue\u001b[39;49;00m)\n",
      "\u001b[0;31mKeyboardInterrupt\u001b[0m: "
     ]
    }
   ],
   "source": [
    "train_output = trainer.train()"
   ]
  },
  {
   "cell_type": "code",
   "execution_count": null,
   "metadata": {},
   "outputs": [],
   "source": [
    "def generate(\n",
    "    prompt=None, max_length=1024, max_new_tokens=20, greedy=True, model=model, tokenizer=tokenizer, device=device\n",
    "):\n",
    "    \"\"\"None stands for beggining of sequence.\n",
    "    NOTE si bien parece que GPT2 puede generar a partir de BOS token, la \n",
    "    documentacion es poco clara. Ademas hicimos nuestro finetuning sin BOS token.\n",
    "    Entonces solo vamos a usar la funcion pasandole un contexto.\n",
    "\n",
    "    Ver:\n",
    "    https://github.com/huggingface/transformers/issues/3311#issuecomment-601264426\n",
    "    https://github.com/openai/gpt-2/blob/a74da5d99abaaba920de8131d64da2862a8f213b/src/generate_unconditional_samples.py#L60\n",
    "    \"\"\"\n",
    "    do_sample = False if greedy else True\n",
    "    # model.eval() to set dropout and batch normalization layers to evaluation \n",
    "    # mode before running inference\n",
    "    if prompt:\n",
    "        input_ids = tokenizer.encode(prompt, return_tensors=\"pt\").to(device)\n",
    "        model.eval()\n",
    "        outputs = model.generate(input_ids, do_sample=do_sample, max_new_tokens=max_new_tokens)\n",
    "    else:\n",
    "        model.eval()\n",
    "        outputs = model.generate(do_sample=do_sample, max_new_tokens=max_new_tokens)\n",
    "    return tokenizer.batch_decode(outputs, skip_special_tokens=True)"
   ]
  },
  {
   "cell_type": "markdown",
   "metadata": {},
   "source": [
    "## Summarize"
   ]
  },
  {
   "cell_type": "code",
   "execution_count": null,
   "metadata": {},
   "outputs": [
    {
     "data": {
      "text/plain": [
       "[\"Microsoft's CEO is \\xa0familiar with the state of the smartphone industry - how we learn.\\nToday's post looks\"]"
      ]
     },
     "execution_count": 24,
     "metadata": {},
     "output_type": "execute_result"
    }
   ],
   "source": [
    "generate(\"Microsoft's CEO is \", greedy=False)"
   ]
  },
  {
   "cell_type": "code",
   "execution_count": null,
   "metadata": {},
   "outputs": [],
   "source": [
    "import re"
   ]
  },
  {
   "cell_type": "code",
   "execution_count": null,
   "metadata": {},
   "outputs": [],
   "source": [
    "non_greedy_generated_descriptions = []\n",
    "for doc in nonTokenizedWsubj_docs:\n",
    "    for subject in doc[\"subjects\"]:\n",
    "        generated_doc = generate(doc[\"doc\"] + \" \" + subject + \" can be described as \", max_length=1024, greedy=False)\n",
    "        if len(re.split(doc[\"doc\"], generated_doc[0])) >= 2:\n",
    "            generated_desc = re.sub(r\"\\s+\", \" \", (re.split(r\"[.;:!?]\",list(map(lambda x : x.strip(), re.split(doc[\"doc\"], generated_doc[0])))[1]))[0])\n",
    "            non_greedy_generated_descriptions.append(generated_desc)"
   ]
  },
  {
   "cell_type": "code",
   "execution_count": null,
   "metadata": {},
   "outputs": [],
   "source": [
    "greedy_generated_descriptions = []\n",
    "for doc in nonTokenizedWsubj_docs[:10]:\n",
    "    for subject in doc[\"subjects\"]:\n",
    "        generated_doc = generate(doc[\"doc\"] + \" \" + subject + \" can be described as \", max_length=1024, greedy=True)\n",
    "        if len(re.split(doc[\"doc\"], generated_doc[0])) >= 2:\n",
    "            generated_desc = re.sub(r\"\\s+\", \" \", (re.split(r\"[.;:!?]\",list(map(lambda x : x.strip(), re.split(doc[\"doc\"], generated_doc[0])))[1]))[0])\n",
    "            greedy_generated_descriptions.append(generated_desc)"
   ]
  },
  {
   "cell_type": "code",
   "execution_count": null,
   "metadata": {},
   "outputs": [
    {
     "data": {
      "text/plain": [
       "['hol', '']"
      ]
     },
     "execution_count": 28,
     "metadata": {},
     "output_type": "execute_result"
    }
   ],
   "source": [
    "re.split(\"\\.\", \"hol.\")"
   ]
  },
  {
   "cell_type": "code",
   "execution_count": null,
   "metadata": {},
   "outputs": [
    {
     "data": {
      "text/plain": [
       "['Yuno can be described as 『Darkness of the Shadow』',\n",
       " 'Asta can be described as urchin-like',\n",
       " 'Lily can be described as 『I Am Jin',\n",
       " 'Yuno can be described as very quiet and composed',\n",
       " 'Orsi can be described as 『Kung Fu Artist』or even is the \"Chosen One of Magic Kingdom\"',\n",
       " 'Asta can be described as disappointed, even annoyed with the way the boys and girls fare',\n",
       " 'Lily can be described as ~~very good~~',\n",
       " 'Finral can be described as iced, as he does little but sing, as he is not strong and is often not present with',\n",
       " 'Nozel can be described as a calm and calm type of man, whose calmness means at ease',\n",
       " 'Gordon can be described as ________',\n",
       " 'Rill can be described as 仙平巟翼九, a common form of Chinese 来',\n",
       " 'Jack can be described as a charismatic man of the heart whose personal charisma can rival that of a high priest',\n",
       " 'Dorothy can be described as 『Little Evil』',\n",
       " 'Yami can be described as pessimistic and pessimistic',\n",
       " 'Fuegoleon can be described as a cunning sorcerer who was able to take advantage of his opponent when he was weak during spells,',\n",
       " 'Yuno can be described as depressed',\n",
       " 'Sekke can be described as ikey ',\n",
       " 'Charlotte can be described as disciplined',\n",
       " 'Asta can be described as smart, intelligent and has an uncanny sense of taste',\n",
       " \"William can be described as one of Yuno's most memorable characteristics\",\n",
       " 'Yuno can be described as bright, cheerful, and gentle',\n",
       " 'Yami can be described as ㅇㅇ',\n",
       " 'Sekke can be described as naughty',\n",
       " 'Asta can be described as ichoristic',\n",
       " 'Klaus can be described as impolite',\n",
       " 'Magna can be described as icky',\n",
       " 'Asta can be described as lucid and happy',\n",
       " 'Noelle can be described as confused and not sure exactly what happened now that Noelle is an experienced, confident leader',\n",
       " 'Finral can be described as icky',\n",
       " 'Yami can be described as icky',\n",
       " \"Magna can be described as angry and worried about their leader's failure because he can not understand their failure\",\n",
       " 'Yuno can be described as disinterested',\n",
       " 'Klaus can be described as ____ type',\n",
       " 'Noelle can be described as icky',\n",
       " 'Asta can be described as ersatz',\n",
       " 'Finral can be described as dark',\n",
       " 'Yami can be described as icky',\n",
       " 'Magna can be described as bizarre and wacky',\n",
       " 'Noelle can be described as urchinish and does not like to be seen wearing it',\n",
       " 'Asta can be described as stupid or insane',\n",
       " 'Noelle can be described as iced',\n",
       " 'Asta can be described as iced up',\n",
       " 'Magna can be described as iced',\n",
       " 'Magna can be described as strong and cunning, although she is thin',\n",
       " 'Noelle can be described as somewhat sinister with a deep sense of humor and is an obvious and convincing villain',\n",
       " 'Asta can be described as',\n",
       " 'Finral can be described as extremely nervous',\n",
       " 'Magna can be described as icky, unimpressed',\n",
       " 'Lily can be described as icky and awkward, but can be described as warm',\n",
       " 'Noelle can be described as ictrained and aggressive and in no mood to lose it',\n",
       " 'Sekke can be described as icky with a small nose and thick red hair',\n",
       " 'Asta can be described as stranger-like',\n",
       " 'Vanessa can be described as iced and sweet, but when she gets angry, Asta gets angry again',\n",
       " 'Asta can be described as unhappy',\n",
       " 'Orsi can be described as as dark-eyed and unaccustomed to seeing the dark',\n",
       " \"Yuno can be described as confident in himself as well as his father's\",\n",
       " 'Klaus can be described as very concerned',\n",
       " 'Noelle can be described as -likeable',\n",
       " 'Lily can be described as icky and very upset (although she was always a good person and was always nice to the villagers and',\n",
       " 'Mimosa can be described as like someone who looks down on her surroundings and thinks she is weak',\n",
       " \"Vanessa can be described as like being on the verge of insanity, and so she tells Yuno about the devil's plan\",\n",
       " 'Sekke can be described as delicate',\n",
       " 'Julius can be described as ikable, arrogant and ruthless',\n",
       " 'Orsi can be described as troubled and angry by this revelation',\n",
       " 'Yuno can be described as excited about their achievement',\n",
       " 'Klaus can be described as ive-going-lucky',\n",
       " 'Mimosa can be described as 『Star Mage)',\n",
       " 'Julius can be described as vernacular',\n",
       " 'Asta can be described as vernacular',\n",
       " 'William can be described as 『Dark』',\n",
       " 'Lily can be described as fierce and fearsome ',\n",
       " 'Yami can be described as ingly sad—a little bit bitter—and even sadistic',\n",
       " 'Magna can be described as very impatient when things go wrong, even when things do right',\n",
       " 'Luck can be described as depraved',\n",
       " 'Yuno can be described as impulsive',\n",
       " 'Noelle can be described as fortunate',\n",
       " 'Asta can be described as icky',\n",
       " 'Vanessa can be described as macho or strong',\n",
       " 'Luck can be described as iced',\n",
       " 'Yuno can be described as Âan energetic, highly intelligent, and strong when compared to the others',\n",
       " 'Klaus can be described as Â Â Â Â Â Â Â',\n",
       " 'Noelle can be described as __________ or powerful',\n",
       " 'Mimosa can be described as _____/____',\n",
       " 'Asta can be described as bright, bright red and cheerful',\n",
       " 'William can be described as strong, like his father and father-in-law',\n",
       " 'Mars can be described as ichnay-nay, optimistic and friendly, the only one in this series whose skill on',\n",
       " 'Luck can be described as a little naive when he tries to figure things out, but he still recognizes that he has good',\n",
       " 'Yuno can be described as an evil figure that cannot be stopped',\n",
       " 'Klaus can be described as rather nervous but his physical strength is impressive',\n",
       " 'Noelle can be described as confident',\n",
       " 'Mimosa can be described as unclely',\n",
       " 'Asta can be described as Â Â Â Â Â Â Â Â Â Â',\n",
       " 'Mars can be described as socially strong',\n",
       " 'Luck can be described as icky',\n",
       " 'Yuno can be described as ___________-, energetic and energetic',\n",
       " 'Klaus can be described as strange ',\n",
       " 'Noelle can be described as strange in that regard as she never expected to be such a strong and formidable person',\n",
       " 'Asta can be described as truly magical because he can manipulate all of life and the stars and see things through with his',\n",
       " 'Mars can be described as iced up, as well as confused',\n",
       " 'Yuno can be described as icky',\n",
       " 'Klaus can be described as a kind of \"high priest\"',\n",
       " 'Noelle can be described as iced (as if she is having serious diarrhea), but Mars makes this claim with a gentle shaking gesture',\n",
       " 'Mimosa can be described as urchin',\n",
       " 'Asta can be described as ichiban',\n",
       " 'Fana can be described as iced',\n",
       " 'Mars can be described as urchinish',\n",
       " 'Luck can be described as icky, impatient',\n",
       " 'Yuno can be described as rather soft-spoken',\n",
       " 'Klaus can be described as disgusted as he does not know that he is actually his own master',\n",
       " 'Noelle can be described as likeable, friendly and attentive, but also very quick to lose a point from a conversation or',\n",
       " 'Mimosa can be described as the flowery flowerlike creature that resembles a flower',\n",
       " 'Asta can be described as bright (red) and dark (blue)',\n",
       " 'Mars can be described as ~~~ ~~= ~~ ',\n",
       " 'Luck can be described as ~~*~~~~ that the people seem to be very happy or is it anger and hopelessness',\n",
       " 'Yuno can be described as rather unpleasantly flustered due to the tension he feels about Asta',\n",
       " 'Klaus can be described as ʼas shy and timid as he is',\n",
       " 'Noelle can be described as ichoristic',\n",
       " \"Mimosa can be described as 『V-Violet of the White Flower』 She's described as a girl who can speak in\",\n",
       " 'Asta can be described as mad',\n",
       " 'Julius can be described as competent',\n",
       " 'Leopold can be described as icky and easily provoked, while Noelle is more calm',\n",
       " 'Fuegoleon can be described as _____',\n",
       " 'Yuno can be described as icky and irritable',\n",
       " 'Solid can be described as angry and angry and he says that he has been given a reason by Luna to be so',\n",
       " 'Noelle can be described as pink',\n",
       " 'Asta can be described as Âfirm as opposed to strong',\n",
       " \"Nozel can be described as macho when it comes to the way he's dressed\",\n",
       " 'Julius can be described as unattractive',\n",
       " 'Leopold can be described as weak',\n",
       " 'Fuegoleon can be described as toxic',\n",
       " 'Yuno can be described as iced (smooth or smooth) and clean-looking',\n",
       " 'Klaus can be described as like a young man',\n",
       " 'Solid can be described as unimpressed',\n",
       " 'Noelle can be described as icky, calm, calm and non-verbal',\n",
       " 'Sol can be described as dark',\n",
       " 'Charlotte can be described as icky - nervous and excited- in order to please',\n",
       " 'Asta can be described as miserably flexible',\n",
       " 'Nozel can be described as bored by the sight of the column of electricity',\n",
       " 'Leopold can be described as iced',\n",
       " 'Charmy can be described as the spirit of the Red Magic Guard, the army of adventurers in the city of Rade that',\n",
       " 'Asta can be described as icky',\n",
       " 'Nozel can be described as iced but the flavor is as fiery and hot',\n",
       " 'Julius can be described as urchinnish and has long, dark hair',\n",
       " 'Leopold can be described as very big',\n",
       " 'Fuegoleon can be described as alive',\n",
       " 'Yuno can be described as a manly figure',\n",
       " 'Noelle can be described as 【Magic King】 and appears from above',\n",
       " 'Asta can be described as iced, and wears a red shirt and brown gloves',\n",
       " 'Nozel can be described as a magician',\n",
       " 'Leopold can be described as depressed and lonely',\n",
       " 'Fuegoleon can be described as lurid like a dragon',\n",
       " 'Yuno can be described as a kind-hearted girl',\n",
       " 'Charmy can be described as 【蓣】',\n",
       " 'Noelle can be described as ileady-looking',\n",
       " 'Asta can be described as 东揜分 ',\n",
       " 'Leopold can be described as iced and bright',\n",
       " 'Noelle can be described as likelier to die and become more powerful than any mage',\n",
       " 'Asta can be described as blue',\n",
       " 'Julius can be described as ingly bright - dark (with a red band on his back), and is covered in thick black fur',\n",
       " 'Leopold can be described as iced',\n",
       " 'Yami can be described as icky',\n",
       " \"Magna can be described as drama and it's difficult to explain otherwise\",\n",
       " 'Fuegoleon can be described as icky',\n",
       " 'Yuno can be described as 『Joke』like Yami',\n",
       " 'Charmy can be described as iced (smoky), a strong spirit, and the most powerful of all',\n",
       " 'Noelle can be described as ____',\n",
       " 'Klaus can be described as sadistic and sarcastic',\n",
       " 'Charlotte can be described as very timid',\n",
       " 'Asta can be described as _____ who has a knack for mixing',\n",
       " 'Nozel can be described as iced',\n",
       " 'Julius can be described as vernacular',\n",
       " 'Gauche can be described as uncomfortable',\n",
       " 'Finral can be described as vernacular',\n",
       " 'Gordon can be described as highly enthusiastic about his job ',\n",
       " 'Magna can be described as extremely low-minded',\n",
       " 'Luck can be described as icky and arrogant, while Annie or Noelle can be described as reserved and friendly, while Berta',\n",
       " 'Charmy can be described as iced but is generally lighter',\n",
       " 'Noelle can be described as icky',\n",
       " 'Sekke can be described as as strong (weak) and calm',\n",
       " 'Asta can be described as ipsilateral and blunt yet blunt, her voice soft as a sledgehammer',\n",
       " 'Gordon can be described as ____',\n",
       " 'Yami can be described as ____',\n",
       " 'Mars can be described as vernacular',\n",
       " 'Orsi can be described as ichthyosomorphic',\n",
       " 'Yuno can be described as uncomfortable and nervous, which makes her consider abandoning him',\n",
       " 'Klaus can be described as icky about matters',\n",
       " 'Sekke can be described as Âthe type of person who likes his appearance more than others, which can be contrasted with the general',\n",
       " 'Noelle can be described as confident, but she reminds him of the things that have become very difficult for her since his',\n",
       " 'Mimosa can be described as 김래니칼범닖귺,',\n",
       " 'Asta can be described as ________ (mild), strong and agile, which suggests that he could be described as agile or strong',\n",
       " 'Gauche can be described as livid ',\n",
       " 'Theresa can be described as icky, so there were many similarities',\n",
       " 'Yami can be described as very depressed and has been feeling anxious',\n",
       " 'Orsi can be described as icky, outgoing and easy to laugh at',\n",
       " 'Magna can be described as snotty-faced and cold due to the cold inside her',\n",
       " 'Yuno can be described as \"sweet-natured and self-effacing\" and his personality is strong even when he',\n",
       " 'Klaus can be described as a cheerful young man with red eyes',\n",
       " 'Charmy can be described as 【花由】',\n",
       " 'Noelle can be described as depressed',\n",
       " 'Marie can be described as iced',\n",
       " 'Mimosa can be described as icky as she can be overly ambitious without being overly careful',\n",
       " 'Asta can be described as soft-spoken (no matter how long it snowed) who was very gentle and friendly,',\n",
       " 'Lily can be described as worried',\n",
       " 'Gauche can be described as crazy',\n",
       " 'Theresa can be described as イチール・アルマシタッド',\n",
       " 'Noelle can be described as nervous or concerned about her situation and asks the boy who they left the others with to',\n",
       " 'Sekke can be described as ursine and is timid',\n",
       " 'Marie can be described as ikkyu',\n",
       " 'Asta can be described as angry, even angry',\n",
       " 'Gauche can be described as iced up',\n",
       " 'Gordon can be described as macho',\n",
       " 'Asta can be described as 【Fire】like in nature and can be described as angry, jealous, and enraged',\n",
       " 'Theresa can be described as ian-like',\n",
       " 'Yami can be described as ichor and a fierce witch',\n",
       " 'Fuegoleon can be described as bastardish and aggressive about violence',\n",
       " 'Noelle can be described as icture-y',\n",
       " 'Sally can be described as stuffy and gaunt',\n",
       " 'Marie can be described as icky',\n",
       " 'Sekke can be described as \"charming\" and will fight anyone that is not able to resist the temptations of God',\n",
       " 'Lily can be described as \"She is a beautiful woman who is graceful in her beauty',\n",
       " 'Gauche can be described as urchin',\n",
       " 'Theresa can be described as a bit of a mischievous girl who often shows a lot of fun and mischief',\n",
       " 'Licht can be described as 修定忍法尼',\n",
       " 'Yuno can be described as icky, aggressive, sadistic and stubborn',\n",
       " 'Sally can be described as similar to a bustled witch',\n",
       " 'Marie can be described as a magical beast that is similar to the one that the eyes of sorcerers look like',\n",
       " 'Asta can be described as 【Wisdom Sorcerer】',\n",
       " 'Finral can be described as ictual',\n",
       " 'Theresa can be described as bright yellow and has a black hair',\n",
       " 'Yami can be described as イリクロ or アルモリオ',\n",
       " 'Licht can be described as icky, irritable, and loud',\n",
       " 'Fuegoleon can be described as icky and cheerful as a dragonfly',\n",
       " 'Sally can be described as ____ or ____-ish, and as such may be characterized as cold or lethargic',\n",
       " 'Asta can be described as ichor',\n",
       " 'Gauche can be described as very energetic, confident with his moves and has great concentration',\n",
       " 'Finral can be described as icky',\n",
       " 'Fana can be described as warmhearted and reserved',\n",
       " 'Jack can be described as ikkyu and arrogant as he does not care who his opponents are in life, only what they',\n",
       " 'Licht can be described as a strong Magic Knight',\n",
       " 'Yami can be described as icky because she seems to have no idea what else the other five Children are doing',\n",
       " 'Theresa can be described as Âa sweet-natured person',\n",
       " 'Noelle can be described as strong and assertive',\n",
       " 'Marie can be described as urchin',\n",
       " \"Charlotte can be described as 『Crescent Knight』, which means he's a knight of the third light of the eye\",\n",
       " 'Vetto can be described as iced',\n",
       " 'Asta can be described as Â friendly',\n",
       " 'Nozel can be described as iced',\n",
       " 'Rill can be described as ʻAquaia, as powerful and gentle',\n",
       " 'Yami can be described as ictual',\n",
       " 'Fuegoleon can be described as a tall man with a clean appearance and a blue beard',\n",
       " 'Charlotte can be described as 【Yami】, who is happy with that',\n",
       " 'Asta can be described as unbelievably calm',\n",
       " 'Julius can be described as 三丈常卑本四卑物本一�',\n",
       " 'Gauche can be described as icky and pouty, and one of her looks is a red-hued silver dress with',\n",
       " 'Finral can be described as confident, but she becomes nervous, which causes him to be frightened away from the girl with',\n",
       " 'Gordon can be described as naturally loud and energetic, and he makes an appearance as usual of his usual friendly behavior',\n",
       " 'Yami can be described as iced',\n",
       " 'Magna can be described as lily-like but lacking in many details or feeling well-developed',\n",
       " 'Luck can be described as very cheerful',\n",
       " 'Yuno can be described as icky and short-tempered, but in order for her to appear he would have to be very',\n",
       " 'Klaus can be described as kind-hearted',\n",
       " 'Noelle can be described as ursous',\n",
       " 'Charmy can be described as icky-eyed and excited',\n",
       " 'Mimosa can be described as iced ',\n",
       " 'Asta can be described as ia',\n",
       " 'Vanessa can be described as bright as light as a blue light, a dark red color that matches the water color of the',\n",
       " 'Gauche can be described as aggressive',\n",
       " 'Yami can be described as piteous as she speaks',\n",
       " 'Magna can be described as iced',\n",
       " 'Luck can be described as blessing and sad',\n",
       " 'Charmy can be described as depleted, depressed, and depressed',\n",
       " 'Noelle can be described as icky',\n",
       " 'Asta can be described as iced ',\n",
       " 'Vanessa can be described as lazy and can be described as depressed',\n",
       " 'Gauche can be described as expecting little from Vetto after all',\n",
       " 'Yami can be described as iced',\n",
       " 'Magna can be described as disappointed in the fight',\n",
       " 'Luck can be described as icky',\n",
       " 'Charmy can be described as icky',\n",
       " 'Noelle can be described as iced-up, aggressive, and sarcastic',\n",
       " 'Grey can be described as ileal and sad while Asta is always cheerful',\n",
       " 'Vetto can be described as ilius',\n",
       " 'Asta can be described as icky, angry, or weak',\n",
       " 'Gauche can be described as nervous',\n",
       " 'Finral can be described as iced-up',\n",
       " 'Licht can be described as スオリル, which is the same one used in the world at large',\n",
       " 'Yami can be described as iced',\n",
       " 'Yuno can be described as as cruel from the inside',\n",
       " 'Noelle can be described as disillusioned by what is happening for her',\n",
       " 'Vetto can be described as 『Light of Darkness』 because his eyes are so white which make one able to see only a part',\n",
       " 'Asta can be described as 不如于义容明恐長身',\n",
       " \"Vanessa can be described as like a child and that her mother's death is not a good thing\",\n",
       " 'Finral can be described as a magic user who gains power beyond the physical realm, granting Asta control over the magical world',\n",
       " 'Fana can be described as __________-',\n",
       " 'Licht can be described as 【Vigor】-Type which is powerful at inflicting minor damage such as lightning, ice, or',\n",
       " 'Mars can be described as iced and cold, as cold and hot as cold water and a liquid',\n",
       " 'Asta can be described as alchemical, using an unusual form of magic that is based on natural healing, energy drain,',\n",
       " 'Asta can be described as physically exhausted',\n",
       " 'Yami can be described as __________',\n",
       " 'Yuno can be described as extremely arrogant',\n",
       " 'Sol can be described as - calm and composed - and calm does not make those who try to attack or be taken',\n",
       " 'Charlotte can be described as iced and somewhat bitter',\n",
       " 'Jack can be described as angry',\n",
       " 'Nozel can be described as highly educated in the art of Magic',\n",
       " 'Julius can be described as brilliant',\n",
       " 'Charmy can be described as icky',\n",
       " 'Yami can be described as ㄓㄓㄓ due to the warmth and quiet nature of the room',\n",
       " 'William can be described as the most difficult man in his life',\n",
       " 'Rill can be described as icky-ass',\n",
       " 'Licht can be described as vernacular, but it is rare',\n",
       " 'Yami can be described as iced when he is cold, dry, and lifeless',\n",
       " 'Fuegoleon can be described as icky',\n",
       " 'Luck can be described as iced',\n",
       " 'Zora can be described as iced and soft as his white, silver, and bronze complexion',\n",
       " 'Noelle can be described as iced',\n",
       " 'Sol can be described as icespiral',\n",
       " \"Kirsch can be described as Â Â Â 'piercing' or'melancholia-smelling'\",\n",
       " 'Charlotte can be described as vernacular',\n",
       " 'Asta can be described as macho, but not brash',\n",
       " 'Julius can be described as unassuming and composed',\n",
       " 'Yuno can be described as as cold, calculating and stubborn, in a way that is often overlooked',\n",
       " 'Orsi can be described as as fierce and cunning',\n",
       " 'Asta can be described as 『Walking Through Fire』',\n",
       " 'Lily can be described as 不算思',\n",
       " 'Gauche can be described as ʻAquarius/Zea-quarius, meaning \"Aquarius\"',\n",
       " 'Gordon can be described as warmhearted, loving, and affectionate',\n",
       " 'Henry can be described as confused and frustrated',\n",
       " 'Magna can be described as ingly calm',\n",
       " 'Luck can be described as cooled-down',\n",
       " 'Charmy can be described as iced',\n",
       " 'Grey can be described as iced-up',\n",
       " 'Asta can be described as vernacular',\n",
       " 'Vanessa can be described as proud of her status in the party and a cheerful teenager',\n",
       " 'Secre can be described as willing to fight or be fought against as many people as he can, despite his long-',\n",
       " 'Secre can be described as an old man',\n",
       " 'Yami can be described as rather uninterested in the human element',\n",
       " 'Asta can be described as icky and anxious, but after working at it for only a few days during his stay at the base',\n",
       " 'Henry can be described as ______________',\n",
       " 'Yami can be described as イクロード, and her description of the Evil Shadow being アイスト, being',\n",
       " 'Asta can be described as iced',\n",
       " 'Gauche can be described as confident in his power and calm under pressure',\n",
       " 'Gordon can be described as intense',\n",
       " \"Magna can be described as like a greatly enraged dragon as it charges at the opposing's necks with immense\",\n",
       " 'Zora can be described as ichi-chi',\n",
       " 'Noelle can be described as 『Nephite』, a former adventurer in the region and first encountered by Noelle and No',\n",
       " 'Grey can be described as like a man dressed in military uniform and carrying a sword',\n",
       " 'Asta can be described as vernal',\n",
       " 'Vanessa can be described as icky',\n",
       " 'Finral can be described as icky and clumsy but not arrogant on the whole',\n",
       " 'Leopold can be described as iced-up',\n",
       " 'Rill can be described as a very strong lady, who can be described as stronger than a normal person',\n",
       " 'Orsi can be described as incredibly bright, calm, calm, and calm',\n",
       " 'Luck can be described as vernacular',\n",
       " 'Yuno can be described as urchinlike',\n",
       " 'Charmy can be described as 『Lord or Lady』 and is depicted as calm, reserved, and gentle',\n",
       " 'Noelle can be described as as stubborn and protective of her family and she is happy when the Dark Triad rule over Gr',\n",
       " 'Secre can be described as unimpressed',\n",
       " 'Mimosa can be described as like a person of very good will, eager to help others',\n",
       " 'Asta can be described as happy',\n",
       " 'Lily can be described as ickle in age and the love for her younger sister is evident throughout their group, stating that a certain']"
      ]
     },
     "execution_count": 29,
     "metadata": {},
     "output_type": "execute_result"
    }
   ],
   "source": [
    "non_greedy_generated_descriptions"
   ]
  },
  {
   "cell_type": "code",
   "execution_count": null,
   "metadata": {},
   "outputs": [
    {
     "data": {
      "text/plain": [
       "['Yuno can be described as as strong as a lion, and has a strong sense of smell',\n",
       " 'Asta can be described as a kind of devilish, but not evil',\n",
       " 'Lily can be described as a kind of devilish spirit',\n",
       " 'Yuno can be described as a very good student, and he is able to learn a lot from his classmates',\n",
       " 'Orsi can be described as a very good student, and is very knowledgeable about the Magic Knights',\n",
       " 'Asta can be described as a very strong and strong man',\n",
       " 'Lily can be described as very cheerful and cheerful',\n",
       " 'Finral can be described as a strong and experienced fighter',\n",
       " 'Nozel can be described as as strong as he is, and he is able to defeat Sekke with ease',\n",
       " 'Gordon can be described as a strong man',\n",
       " 'Rill can be described as a strong and experienced fighter',\n",
       " 'Jack can be described as a strong man',\n",
       " 'Dorothy can be described as a strong woman',\n",
       " 'Yami can be described as a strong and powerful man',\n",
       " 'Fuegoleon can be described as a strong and powerful magician',\n",
       " 'Yuno can be described as a strong man',\n",
       " 'Sekke can be described as a strong man',\n",
       " 'Charlotte can be described as a strong woman',\n",
       " 'Asta can be described as strong and strong-willed',\n",
       " 'William can be described as a strong man',\n",
       " 'Yuno can be described as a calm and collected person',\n",
       " 'Yami can be described as a kind and gentle person',\n",
       " 'Sekke can be described as a very calm and collected',\n",
       " 'Asta can be described as a calm and collected person',\n",
       " 'Klaus can be described as a very serious person',\n",
       " 'Magna can be described as a very calm and reserved person',\n",
       " 'Asta can be described as a little bit of a jerk',\n",
       " 'Noelle can be described as uncomfortable with the new recruit',\n",
       " 'Finral can be described as a kind and gentle person',\n",
       " 'Yami can be described as a cheerful and cheerful girl',\n",
       " 'Magna can be described as a very calm and reserved person',\n",
       " 'Yuno can be described as a very calm and reserved person',\n",
       " 'Klaus can be described as a very serious person',\n",
       " 'Noelle can be described as a very calm and collected person',\n",
       " 'Asta can be described as a very calm and collected person',\n",
       " 'Finral can be described as a kind of magic stone',\n",
       " 'Yami can be described as icky',\n",
       " 'Magna can be described as a kind of mannered and kind',\n",
       " 'Noelle can be described as icky',\n",
       " 'Asta can be described as very calm and collected',\n",
       " 'Noelle can be described as a calm and collected person',\n",
       " 'Asta can be described as very calm and collected',\n",
       " 'Magna can be described as a strong and powerful mage',\n",
       " 'Magna can be described as a young man with a long, dark hair and a beard',\n",
       " 'Noelle can be described as as calm and collected',\n",
       " 'Asta can be described as angry',\n",
       " 'Finral can be described as very serious',\n",
       " 'Magna can be described as a tall, thin, and muscular',\n",
       " 'Lily can be described as very shy and shy',\n",
       " 'Noelle can be described as icky',\n",
       " 'Sekke can be described as a man with a long beard and a long beard',\n",
       " 'Asta can be described as very serious',\n",
       " 'Vanessa can be described as very serious']"
      ]
     },
     "execution_count": 30,
     "metadata": {},
     "output_type": "execute_result"
    }
   ],
   "source": [
    "greedy_generated_descriptions"
   ]
  }
 ],
 "metadata": {
  "kernelspec": {
   "display_name": "Python 3.10.6 64-bit",
   "language": "python",
   "name": "python3"
  },
  "language_info": {
   "codemirror_mode": {
    "name": "ipython",
    "version": 3
   },
   "file_extension": ".py",
   "mimetype": "text/x-python",
   "name": "python",
   "nbconvert_exporter": "python",
   "pygments_lexer": "ipython3",
   "version": "3.10.6"
  },
  "orig_nbformat": 4,
  "vscode": {
   "interpreter": {
    "hash": "e7370f93d1d0cde622a1f8e1c04877d8463912d04d973331ad4851f04de6915a"
   }
  }
 },
 "nbformat": 4,
 "nbformat_minor": 2
}
