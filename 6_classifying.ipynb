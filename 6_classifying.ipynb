{
 "cells": [
  {
   "cell_type": "code",
   "execution_count": null,
   "metadata": {},
   "outputs": [],
   "source": [
    "import json\n",
    "import numpy as np\n",
    "import matplotlib.pyplot as plt"
   ]
  },
  {
   "cell_type": "code",
   "execution_count": null,
   "metadata": {},
   "outputs": [],
   "source": [
    "def read_json(filename):    \n",
    "    with open(filename, 'r') as openfile:\n",
    "        return json.load(openfile)"
   ]
  },
  {
   "cell_type": "code",
   "execution_count": null,
   "metadata": {},
   "outputs": [],
   "source": [
    "hot_encoded_characters = np.array(read_json(\"4_hot_encoded_characters_black_clover.json\"))\n",
    "hot_encoded_sentences  = np.array(read_json(\"4_hot_encoded_sentences_black_clover.json\"))\n",
    "\n",
    "count_vectorized_characters = np.array(read_json(\"4_count_vectorized_characters_black_clover.json\"))\n",
    "count_vectorized_sentences  = np.array(read_json(\"4_count_vectorized_sentences_black_clover.json\"))\n",
    "\n",
    "index_to_character = read_json(\"4_index_to_character_black_clover.json\")\n",
    "character_to_index = read_json(\"4_character_to_index_black_clover.json\")\n",
    "\n",
    "index_to_token = read_json(\"4_index_to_token_black_clover.json\")\n",
    "token_to_index = read_json(\"4_token_to_index_black_clover.json\")"
   ]
  },
  {
   "cell_type": "code",
   "execution_count": null,
   "metadata": {},
   "outputs": [],
   "source": [
    "from sklearn.cluster import KMeans\n",
    "from sklearn.preprocessing import StandardScaler"
   ]
  },
  {
   "cell_type": "code",
   "execution_count": null,
   "metadata": {},
   "outputs": [],
   "source": [
    "X = StandardScaler().fit_transform(hot_encoded_sentences)"
   ]
  },
  {
   "cell_type": "code",
   "execution_count": null,
   "metadata": {},
   "outputs": [],
   "source": [
    "X"
   ]
  },
  {
   "cell_type": "code",
   "execution_count": null,
   "metadata": {},
   "outputs": [],
   "source": [
    "def project(dir, vec):\n",
    "    return (np.sqrt(np.matmul(dir,np.transpose(vec)))*dir)/np.matmul(dir,np.transpose(dir))"
   ]
  },
  {
   "cell_type": "code",
   "execution_count": null,
   "metadata": {},
   "outputs": [],
   "source": [
    "for i in range(0, hot_encoded_sentences.shape[0]):\n",
    "    curr_word       = np.zeros((1, hot_encoded_sentences.shape[1]))\n",
    "    curr_word[0][1501] = 1\n",
    "    print(project(curr_word, hot_encoded_sentences[i])[0][1501])"
   ]
  },
  {
   "cell_type": "code",
   "execution_count": null,
   "metadata": {},
   "outputs": [],
   "source": [
    "#kmeans = KMeans(n_clusters=10, random_state=0).fit(X)\n",
    "#clusters = dict()\n",
    "#for i in range(0, hot_encoded_sentences.shape[1]):\n",
    "#    curr_word       = np.zeros((1, hot_encoded_sentences.shape[1]))\n",
    "#    curr_word[0][i] = 1\n",
    "#    prediction      = kmeans.predict(curr_word)\n",
    "#    curr_word_text  = index_to_token[str(i)]\n",
    "#    print(curr_word_text, prediction)\n"
   ]
  },
  {
   "cell_type": "code",
   "execution_count": null,
   "metadata": {},
   "outputs": [],
   "source": [
    "import keras\n",
    "import sklearn.model_selection\n",
    "import numpy as np\n",
    "import pandas as pd"
   ]
  },
  {
   "cell_type": "code",
   "execution_count": null,
   "metadata": {},
   "outputs": [],
   "source": [
    "x_train, x_valid, y_train, y_valid = sklearn.model_selection.train_test_split(hot_encoded_characters, hot_encoded_sentences, test_size=0.3, random_state=0)"
   ]
  },
  {
   "cell_type": "code",
   "execution_count": null,
   "metadata": {},
   "outputs": [],
   "source": [
    "y_train[0].shape\n",
    "x_train[0].shape"
   ]
  },
  {
   "cell_type": "code",
   "execution_count": null,
   "metadata": {},
   "outputs": [],
   "source": [
    "x_train"
   ]
  },
  {
   "cell_type": "code",
   "execution_count": null,
   "metadata": {},
   "outputs": [],
   "source": [
    "callback_early_stopping = keras.callbacks.EarlyStopping(monitor='val_loss', patience=10, verbose=0, mode='auto')"
   ]
  },
  {
   "cell_type": "code",
   "execution_count": null,
   "metadata": {},
   "outputs": [],
   "source": [
    "model2 = keras.models.Sequential()\n",
    "model2.add(keras.Input(shape=x_train.shape[1]))\n",
    "model2.add(keras.layers.core.Dense(hot_encoded_sentences.shape[1], activation='relu'))\n",
    "model2.add(keras.layers.core.Dense(hot_encoded_sentences.shape[1], activation='relu'))\n",
    "model2.add(keras.layers.core.Dense(hot_encoded_sentences.shape[1], activation='relu'))\n",
    "model2.add(keras.layers.core.Dense(hot_encoded_sentences.shape[1], activation='relu'))\n",
    "model2.add(keras.layers.core.Dense(hot_encoded_sentences.shape[1], activation='relu'))\n",
    "model2.add(keras.layers.core.Dense(hot_encoded_sentences.shape[1], activation='relu'))\n",
    "model2.add(keras.layers.core.Dense(hot_encoded_sentences.shape[1], activation='relu'))\n",
    "model2.add(keras.layers.core.Dense(hot_encoded_sentences.shape[1], activation='relu'))\n",
    "model2.add(keras.layers.core.Dense(hot_encoded_sentences.shape[1], activation='softmax'))\n",
    "model2.compile(loss=\"categorical_crossentropy\", optimizer=\"adadelta\",metrics=[\"accuracy\"])\n",
    "print(model2.summary())"
   ]
  },
  {
   "cell_type": "code",
   "execution_count": null,
   "metadata": {},
   "outputs": [],
   "source": [
    "model2.fit(x_train, y_train, batch_size=30, epochs=1, validation_data=(x_valid, y_valid), verbose=1, callbacks=[callback_early_stopping])"
   ]
  },
  {
   "cell_type": "code",
   "execution_count": null,
   "metadata": {},
   "outputs": [],
   "source": [
    "character_to_index['yuno']"
   ]
  },
  {
   "cell_type": "code",
   "execution_count": null,
   "metadata": {},
   "outputs": [],
   "source": [
    "yuno = np.zeros((1, len(character_to_index)))\n",
    "yuno[0][18] = 1\n",
    "yuno"
   ]
  },
  {
   "cell_type": "code",
   "execution_count": null,
   "metadata": {},
   "outputs": [],
   "source": [
    "for i in model2.predict(yuno)[0]:\n",
    "    print(i)"
   ]
  },
  {
   "cell_type": "code",
   "execution_count": null,
   "metadata": {},
   "outputs": [],
   "source": [
    "a_yuno = model2.predict(yuno)\n",
    "a2_yuno = model2.predict(yuno)"
   ]
  },
  {
   "cell_type": "code",
   "execution_count": null,
   "metadata": {},
   "outputs": [],
   "source": [
    "print(np.where(a_yuno == np.max(a_yuno)))\n",
    "print(np.where(a2_yuno == np.max(a2_yuno)))"
   ]
  },
  {
   "cell_type": "code",
   "execution_count": null,
   "metadata": {},
   "outputs": [],
   "source": [
    "a_yuno[0][2472]"
   ]
  },
  {
   "cell_type": "code",
   "execution_count": null,
   "metadata": {},
   "outputs": [],
   "source": [
    "print(index_to_token['0'], index_to_token['2472'])"
   ]
  },
  {
   "cell_type": "code",
   "execution_count": null,
   "metadata": {},
   "outputs": [],
   "source": [
    "character_to_index['yami']"
   ]
  },
  {
   "cell_type": "code",
   "execution_count": null,
   "metadata": {},
   "outputs": [],
   "source": [
    "asta = np.zeros((1, len(character_to_index)))\n",
    "asta[0][44] = 1\n",
    "\n",
    "a_asta = model2.predict(asta)"
   ]
  },
  {
   "cell_type": "code",
   "execution_count": null,
   "metadata": {},
   "outputs": [],
   "source": [
    "np.where(a_asta == np.max(a_asta))"
   ]
  },
  {
   "cell_type": "code",
   "execution_count": null,
   "metadata": {},
   "outputs": [],
   "source": [
    "print(index_to_token['0'], index_to_token['2472'])"
   ]
  },
  {
   "cell_type": "code",
   "execution_count": null,
   "metadata": {},
   "outputs": [],
   "source": [
    "ind = np.argpartition(a_asta[0], -100)[-100:]\n",
    "ind"
   ]
  },
  {
   "cell_type": "code",
   "execution_count": null,
   "metadata": {},
   "outputs": [],
   "source": [
    "for i in ind:\n",
    "    print(a_asta[0][i], '\\t', index_to_token[str(i)])"
   ]
  },
  {
   "cell_type": "code",
   "execution_count": null,
   "metadata": {},
   "outputs": [],
   "source": [
    "model2.evaluate(x_valid, y_valid)"
   ]
  },
  {
   "cell_type": "code",
   "execution_count": null,
   "metadata": {},
   "outputs": [],
   "source": []
  }
 ],
 "metadata": {
  "kernelspec": {
   "display_name": "Python 3.10.6 64-bit",
   "language": "python",
   "name": "python3"
  },
  "language_info": {
   "codemirror_mode": {
    "name": "ipython",
    "version": 3
   },
   "file_extension": ".py",
   "mimetype": "text/x-python",
   "name": "python",
   "nbconvert_exporter": "python",
   "pygments_lexer": "ipython3",
   "version": "3.10.6"
  },
  "orig_nbformat": 4,
  "vscode": {
   "interpreter": {
    "hash": "e7370f93d1d0cde622a1f8e1c04877d8463912d04d973331ad4851f04de6915a"
   }
  }
 },
 "nbformat": 4,
 "nbformat_minor": 2
}
