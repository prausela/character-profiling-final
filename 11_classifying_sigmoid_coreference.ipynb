{
 "cells": [
  {
   "cell_type": "markdown",
   "metadata": {},
   "source": [
    "# Classifying"
   ]
  },
  {
   "cell_type": "code",
   "execution_count": 1,
   "metadata": {},
   "outputs": [
    {
     "name": "stderr",
     "output_type": "stream",
     "text": [
      "2023-01-14 02:46:30.955208: I tensorflow/core/platform/cpu_feature_guard.cc:193] This TensorFlow binary is optimized with oneAPI Deep Neural Network Library (oneDNN) to use the following CPU instructions in performance-critical operations:  AVX2 FMA\n",
      "To enable them in other operations, rebuild TensorFlow with the appropriate compiler flags.\n",
      "2023-01-14 02:46:31.047057: W tensorflow/compiler/xla/stream_executor/platform/default/dso_loader.cc:64] Could not load dynamic library 'libcudart.so.11.0'; dlerror: libcudart.so.11.0: cannot open shared object file: No such file or directory\n",
      "2023-01-14 02:46:31.047069: I tensorflow/compiler/xla/stream_executor/cuda/cudart_stub.cc:29] Ignore above cudart dlerror if you do not have a GPU set up on your machine.\n",
      "2023-01-14 02:46:31.431107: W tensorflow/compiler/xla/stream_executor/platform/default/dso_loader.cc:64] Could not load dynamic library 'libnvinfer.so.7'; dlerror: libnvinfer.so.7: cannot open shared object file: No such file or directory\n",
      "2023-01-14 02:46:31.431144: W tensorflow/compiler/xla/stream_executor/platform/default/dso_loader.cc:64] Could not load dynamic library 'libnvinfer_plugin.so.7'; dlerror: libnvinfer_plugin.so.7: cannot open shared object file: No such file or directory\n",
      "2023-01-14 02:46:31.431148: W tensorflow/compiler/tf2tensorrt/utils/py_utils.cc:38] TF-TRT Warning: Cannot dlopen some TensorRT libraries. If you would like to use Nvidia GPU with TensorRT, please make sure the missing libraries mentioned above are installed properly.\n"
     ]
    }
   ],
   "source": [
    "import keras\n",
    "import sklearn.model_selection\n",
    "import numpy as np\n",
    "import pandas as pd"
   ]
  },
  {
   "cell_type": "code",
   "execution_count": 2,
   "metadata": {},
   "outputs": [],
   "source": [
    "import utils.json_utils as jsu"
   ]
  },
  {
   "cell_type": "markdown",
   "metadata": {},
   "source": [
    "### Load Inputs & Labels"
   ]
  },
  {
   "cell_type": "code",
   "execution_count": 3,
   "metadata": {},
   "outputs": [],
   "source": [
    "X = np.array(jsu.read_json(\"10_X_subjects_black_clover.json\"))\n",
    "Y = np.array(jsu.read_json(\"10_Y_tokens_black_clover.json\"))"
   ]
  },
  {
   "cell_type": "markdown",
   "metadata": {},
   "source": [
    "### Separate into Train & Validation"
   ]
  },
  {
   "cell_type": "code",
   "execution_count": 4,
   "metadata": {},
   "outputs": [],
   "source": [
    "#x_train, x_valid, y_train, y_valid = sklearn.model_selection.train_test_split(X, Y, test_size=0.3, random_state=0)\n",
    "x_train, x_valid, y_train, y_valid = X, X, Y, Y"
   ]
  },
  {
   "cell_type": "markdown",
   "metadata": {},
   "source": [
    "### Model"
   ]
  },
  {
   "cell_type": "code",
   "execution_count": 5,
   "metadata": {},
   "outputs": [],
   "source": [
    "callback_early_stopping = keras.callbacks.EarlyStopping(monitor='val_loss', patience=10, verbose=0, mode='auto')"
   ]
  },
  {
   "cell_type": "code",
   "execution_count": 6,
   "metadata": {},
   "outputs": [
    {
     "name": "stdout",
     "output_type": "stream",
     "text": [
      "Model: \"sequential\"\n",
      "_________________________________________________________________\n",
      " Layer (type)                Output Shape              Param #   \n",
      "=================================================================\n",
      " dense (Dense)               (None, 3528)              162288    \n",
      "                                                                 \n",
      " leaky_re_lu (LeakyReLU)     (None, 3528)              0         \n",
      "                                                                 \n",
      " dense_1 (Dense)             (None, 3528)              12450312  \n",
      "                                                                 \n",
      " leaky_re_lu_1 (LeakyReLU)   (None, 3528)              0         \n",
      "                                                                 \n",
      " dense_2 (Dense)             (None, 3528)              12450312  \n",
      "                                                                 \n",
      " leaky_re_lu_2 (LeakyReLU)   (None, 3528)              0         \n",
      "                                                                 \n",
      " dense_3 (Dense)             (None, 3528)              12450312  \n",
      "                                                                 \n",
      " leaky_re_lu_3 (LeakyReLU)   (None, 3528)              0         \n",
      "                                                                 \n",
      " dense_4 (Dense)             (None, 3528)              12450312  \n",
      "                                                                 \n",
      "=================================================================\n",
      "Total params: 49,963,536\n",
      "Trainable params: 49,963,536\n",
      "Non-trainable params: 0\n",
      "_________________________________________________________________\n",
      "None\n"
     ]
    },
    {
     "name": "stderr",
     "output_type": "stream",
     "text": [
      "2023-01-14 02:46:33.965830: W tensorflow/compiler/xla/stream_executor/platform/default/dso_loader.cc:64] Could not load dynamic library 'libcuda.so.1'; dlerror: libcuda.so.1: cannot open shared object file: No such file or directory\n",
      "2023-01-14 02:46:33.965854: W tensorflow/compiler/xla/stream_executor/cuda/cuda_driver.cc:265] failed call to cuInit: UNKNOWN ERROR (303)\n",
      "2023-01-14 02:46:33.965871: I tensorflow/compiler/xla/stream_executor/cuda/cuda_diagnostics.cc:156] kernel driver does not appear to be running on this host (Homura): /proc/driver/nvidia/version does not exist\n",
      "2023-01-14 02:46:33.966121: I tensorflow/core/platform/cpu_feature_guard.cc:193] This TensorFlow binary is optimized with oneAPI Deep Neural Network Library (oneDNN) to use the following CPU instructions in performance-critical operations:  AVX2 FMA\n",
      "To enable them in other operations, rebuild TensorFlow with the appropriate compiler flags.\n"
     ]
    }
   ],
   "source": [
    "\n",
    "model = keras.models.Sequential()\n",
    "model.add(keras.Input(shape=x_train.shape[1]))\n",
    "\"\"\"\n",
    "model.add(keras.layers.core.Dense(Y.shape[1]))\n",
    "model.add(keras.layers.LeakyReLU(alpha=0.3))\n",
    "model.add(keras.layers.core.Dense(Y.shape[1]))\n",
    "model.add(keras.layers.LeakyReLU(alpha=0.3))\n",
    "model.add(keras.layers.core.Dense(Y.shape[1]))\n",
    "model.add(keras.layers.LeakyReLU(alpha=0.3))\n",
    "model.add(keras.layers.core.Dense(Y.shape[1]))\n",
    "model.add(keras.layers.LeakyReLU(alpha=0.3))\n",
    "\"\"\"\n",
    "model.add(keras.layers.core.Dense(Y.shape[1]))\n",
    "model.add(keras.layers.LeakyReLU(alpha=0.3))\n",
    "model.add(keras.layers.core.Dense(Y.shape[1]))\n",
    "model.add(keras.layers.LeakyReLU(alpha=0.3))\n",
    "model.add(keras.layers.core.Dense(Y.shape[1]))\n",
    "model.add(keras.layers.LeakyReLU(alpha=0.3))\n",
    "model.add(keras.layers.core.Dense(Y.shape[1]))\n",
    "model.add(keras.layers.LeakyReLU(alpha=0.3))\n",
    "model.add(keras.layers.core.Dense(Y.shape[1], activation='sigmoid'))\n",
    "model.compile(loss=\"categorical_crossentropy\", optimizer=\"adadelta\",metrics=[\"accuracy\"])\n",
    "print(model.summary())"
   ]
  },
  {
   "cell_type": "code",
   "execution_count": 7,
   "metadata": {},
   "outputs": [
    {
     "data": {
      "text/plain": [
       "'\\nmodel = keras.models.Sequential()\\nmodel.add(keras.Input(shape=x_train.shape[1]))\\n\\nmodel.add(keras.layers.core.Dense(Y.shape[1], activation=\\'sigmoid\\'))\\nmodel.add(keras.layers.core.Dense(Y.shape[1], activation=\\'sigmoid\\'))\\nmodel.add(keras.layers.core.Dense(Y.shape[1], activation=\\'sigmoid\\'))\\nmodel.add(keras.layers.core.Dense(Y.shape[1], activation=\\'sigmoid\\'))\\nmodel.add(keras.layers.core.Dense(Y.shape[1], activation=\\'sigmoid\\'))\\n\\nmodel.add(keras.layers.core.Dense(Y.shape[1], activation=\\'sigmoid\\'))\\nmodel.add(keras.layers.core.Dense(Y.shape[1], activation=\\'sigmoid\\'))\\nmodel.add(keras.layers.core.Dense(Y.shape[1], activation=\\'sigmoid\\'))\\nmodel.add(keras.layers.core.Dense(Y.shape[1], activation=\\'softmax\\'))\\nmodel.compile(loss=\"categorical_crossentropy\", optimizer=\"adadelta\",metrics=[\"accuracy\"])\\nprint(model.summary())\\n'"
      ]
     },
     "execution_count": 7,
     "metadata": {},
     "output_type": "execute_result"
    }
   ],
   "source": [
    "\"\"\"\n",
    "model = keras.models.Sequential()\n",
    "model.add(keras.Input(shape=x_train.shape[1]))\n",
    "\n",
    "model.add(keras.layers.core.Dense(Y.shape[1], activation='sigmoid'))\n",
    "model.add(keras.layers.core.Dense(Y.shape[1], activation='sigmoid'))\n",
    "model.add(keras.layers.core.Dense(Y.shape[1], activation='sigmoid'))\n",
    "model.add(keras.layers.core.Dense(Y.shape[1], activation='sigmoid'))\n",
    "model.add(keras.layers.core.Dense(Y.shape[1], activation='sigmoid'))\n",
    "\n",
    "model.add(keras.layers.core.Dense(Y.shape[1], activation='sigmoid'))\n",
    "model.add(keras.layers.core.Dense(Y.shape[1], activation='sigmoid'))\n",
    "model.add(keras.layers.core.Dense(Y.shape[1], activation='sigmoid'))\n",
    "model.add(keras.layers.core.Dense(Y.shape[1], activation='softmax'))\n",
    "model.compile(loss=\"categorical_crossentropy\", optimizer=\"adadelta\",metrics=[\"accuracy\"])\n",
    "print(model.summary())\n",
    "\"\"\""
   ]
  },
  {
   "cell_type": "code",
   "execution_count": 8,
   "metadata": {},
   "outputs": [
    {
     "name": "stdout",
     "output_type": "stream",
     "text": [
      "Epoch 1/10\n",
      "5989/5989 [==============================] - 2873s 480ms/step - loss: 80.5468 - accuracy: 0.0000e+00 - val_loss: 77.7487 - val_accuracy: 0.0000e+00\n",
      "Epoch 2/10\n",
      "5989/5989 [==============================] - 2868s 479ms/step - loss: 109.9758 - accuracy: 0.0000e+00 - val_loss: 197.1416 - val_accuracy: 0.0000e+00\n",
      "Epoch 3/10\n",
      "5989/5989 [==============================] - 2880s 481ms/step - loss: 688.1834 - accuracy: 0.0000e+00 - val_loss: 1589.5398 - val_accuracy: 0.0000e+00\n",
      "Epoch 4/10\n",
      "5989/5989 [==============================] - 2866s 479ms/step - loss: 4344.6152 - accuracy: 0.0000e+00 - val_loss: 8766.3623 - val_accuracy: 0.0000e+00\n",
      "Epoch 5/10\n",
      "5989/5989 [==============================] - 2869s 479ms/step - loss: 19238.8223 - accuracy: 1.6697e-04 - val_loss: 34519.3438 - val_accuracy: 8.3486e-04\n",
      "Epoch 6/10\n",
      "5989/5989 [==============================] - 2859s 477ms/step - loss: 64940.8398 - accuracy: 0.0000e+00 - val_loss: 107012.1562 - val_accuracy: 1.6697e-04\n",
      "Epoch 7/10\n",
      "5989/5989 [==============================] - 2862s 478ms/step - loss: 181707.3438 - accuracy: 8.3486e-04 - val_loss: 282506.0000 - val_accuracy: 3.3395e-04\n",
      "Epoch 8/10\n",
      "5989/5989 [==============================] - 2872s 480ms/step - loss: 449215.1562 - accuracy: 6.6789e-04 - val_loss: 663282.8750 - val_accuracy: 8.3486e-04\n",
      "Epoch 9/10\n",
      "5989/5989 [==============================] - 2857s 477ms/step - loss: 1006463.9375 - accuracy: 0.0010 - val_loss: 1416787.0000 - val_accuracy: 0.0000e+00\n",
      "Epoch 10/10\n",
      "5989/5989 [==============================] - 2868s 479ms/step - loss: 2033422.7500 - accuracy: 8.3486e-04 - val_loss: 2773139.2500 - val_accuracy: 6.6789e-04\n"
     ]
    },
    {
     "data": {
      "text/plain": [
       "<keras.callbacks.History at 0x7f630acf6bf0>"
      ]
     },
     "execution_count": 8,
     "metadata": {},
     "output_type": "execute_result"
    }
   ],
   "source": [
    "model.fit(x_train, y_train, batch_size=1, epochs=10, validation_data=(x_valid, y_valid), verbose=1, callbacks=[callback_early_stopping])"
   ]
  },
  {
   "cell_type": "code",
   "execution_count": 9,
   "metadata": {},
   "outputs": [],
   "source": [
    "character2index = jsu.read_json(\"10_character2index_black_clover.json\")\n",
    "index2character = jsu.read_json(\"10_index2character_black_clover.json\")"
   ]
  },
  {
   "cell_type": "code",
   "execution_count": 10,
   "metadata": {},
   "outputs": [],
   "source": [
    "token2index = jsu.read_json(\"10_token2index_black_clover.json\")\n",
    "index2token = jsu.read_json(\"10_index2token_black_clover.json\")"
   ]
  },
  {
   "cell_type": "code",
   "execution_count": 25,
   "metadata": {},
   "outputs": [
    {
     "name": "stdout",
     "output_type": "stream",
     "text": [
      "1/1 [==============================] - 0s 24ms/step\n"
     ]
    }
   ],
   "source": [
    "hot_encoded_yuno = np.zeros((1, len(character2index)))\n",
    "hot_encoded_yuno[0][character2index['Yuno']] = 1\n",
    "\n",
    "yuno = model.predict(hot_encoded_yuno)"
   ]
  },
  {
   "cell_type": "code",
   "execution_count": 26,
   "metadata": {},
   "outputs": [
    {
     "data": {
      "text/plain": [
       "array([1549, 1579, 1515, 1540, 1539, 1538, 1537, 1536, 1534, 1532, 1529,\n",
       "       1528, 1527, 1526, 1523, 1522, 1521, 1519, 1516, 3527])"
      ]
     },
     "execution_count": 26,
     "metadata": {},
     "output_type": "execute_result"
    }
   ],
   "source": [
    "top_tokens_indexes = np.argpartition(yuno[0], -20)[-20:]\n",
    "top_tokens_indexes"
   ]
  },
  {
   "cell_type": "code",
   "execution_count": 27,
   "metadata": {},
   "outputs": [
    {
     "name": "stdout",
     "output_type": "stream",
     "text": [
      "1.0 \t pledge\n",
      "1.0 \t baron\n",
      "1.0 \t little\n",
      "1.0 \t beach\n",
      "1.0 \t absorb\n",
      "1.0 \t singing\n",
      "1.0 \t dante\n",
      "1.0 \t locate\n",
      "1.0 \t key\n",
      "1.0 \t trinity\n",
      "1.0 \t restraining\n",
      "1.0 \t essential\n",
      "1.0 \t fighting\n",
      "1.0 \t numbing\n",
      "1.0 \t Grey\n",
      "1.0 \t explosive\n",
      "1.0 \t advise\n",
      "1.0 \t battle\n",
      "1.0 \t spade\n",
      "1.0 \t notice\n"
     ]
    }
   ],
   "source": [
    "for token_index in top_tokens_indexes:\n",
    "    print(yuno[0][token_index], '\\t', index2token[str(token_index)])"
   ]
  },
  {
   "cell_type": "code",
   "execution_count": 22,
   "metadata": {},
   "outputs": [
    {
     "data": {
      "text/plain": [
       "(array([0, 0, 0, ..., 0, 0, 0]),\n",
       " array([   0,    7,    8, ..., 3525, 3526, 3527]))"
      ]
     },
     "execution_count": 22,
     "metadata": {},
     "output_type": "execute_result"
    }
   ],
   "source": [
    "np.where(yuno == np.max(yuno))"
   ]
  },
  {
   "cell_type": "code",
   "execution_count": 23,
   "metadata": {},
   "outputs": [
    {
     "data": {
      "text/plain": [
       "'go'"
      ]
     },
     "execution_count": 23,
     "metadata": {},
     "output_type": "execute_result"
    }
   ],
   "source": [
    "index2token['1323']"
   ]
  },
  {
   "cell_type": "code",
   "execution_count": 1,
   "metadata": {},
   "outputs": [
    {
     "ename": "NameError",
     "evalue": "name 'yuno' is not defined",
     "output_type": "error",
     "traceback": [
      "\u001b[0;31m---------------------------------------------------------------------------\u001b[0m",
      "\u001b[0;31mNameError\u001b[0m                                 Traceback (most recent call last)",
      "\u001b[1;32m/home/pauli/NLP/11_classifying_sigmoid_coreference.ipynb Cell 20\u001b[0m in \u001b[0;36m<cell line: 1>\u001b[0;34m()\u001b[0m\n\u001b[0;32m----> <a href='vscode-notebook-cell:/home/pauli/NLP/11_classifying_sigmoid_coreference.ipynb#ch0000019?line=0'>1</a>\u001b[0m yuno\n",
      "\u001b[0;31mNameError\u001b[0m: name 'yuno' is not defined"
     ]
    }
   ],
   "source": [
    "yuno"
   ]
  },
  {
   "cell_type": "code",
   "execution_count": null,
   "metadata": {},
   "outputs": [],
   "source": []
  }
 ],
 "metadata": {
  "kernelspec": {
   "display_name": "Python 3.10.6 64-bit",
   "language": "python",
   "name": "python3"
  },
  "language_info": {
   "codemirror_mode": {
    "name": "ipython",
    "version": 3
   },
   "file_extension": ".py",
   "mimetype": "text/x-python",
   "name": "python",
   "nbconvert_exporter": "python",
   "pygments_lexer": "ipython3",
   "version": "3.10.6"
  },
  "orig_nbformat": 4,
  "vscode": {
   "interpreter": {
    "hash": "e7370f93d1d0cde622a1f8e1c04877d8463912d04d973331ad4851f04de6915a"
   }
  }
 },
 "nbformat": 4,
 "nbformat_minor": 2
}
