{
 "cells": [
  {
   "cell_type": "markdown",
   "metadata": {},
   "source": [
    "# Summarizing (w/ GPT-2)"
   ]
  },
  {
   "cell_type": "markdown",
   "metadata": {},
   "source": [
    "## Packages"
   ]
  },
  {
   "cell_type": "code",
   "execution_count": 1,
   "metadata": {},
   "outputs": [
    {
     "name": "stderr",
     "output_type": "stream",
     "text": [
      "/home/pauli/.local/lib/python3.10/site-packages/tqdm/auto.py:22: TqdmWarning: IProgress not found. Please update jupyter and ipywidgets. See https://ipywidgets.readthedocs.io/en/stable/user_install.html\n",
      "  from .autonotebook import tqdm as notebook_tqdm\n"
     ]
    }
   ],
   "source": [
    "from utils.json_utils import read_json\n",
    "from datasets import Dataset\n",
    "import pandas as pd"
   ]
  },
  {
   "cell_type": "markdown",
   "metadata": {},
   "source": [
    "## Tokenizing"
   ]
  },
  {
   "cell_type": "code",
   "execution_count": 2,
   "metadata": {},
   "outputs": [],
   "source": [
    "nonTokenizedWsubj_docs = read_json(\"18_docs_with_subjects_non_coref.json\")\n",
    "#nonTokenizedWsubj_docs"
   ]
  },
  {
   "cell_type": "code",
   "execution_count": 3,
   "metadata": {},
   "outputs": [],
   "source": [
    "varied_set_adjectives = read_json(\"14_varied_set_adjectives_definitions.json\")\n",
    "#varied_set_adjectives"
   ]
  },
  {
   "cell_type": "code",
   "execution_count": 4,
   "metadata": {},
   "outputs": [],
   "source": [
    "training_sents = list(map(lambda x : x[\"doc\"], nonTokenizedWsubj_docs))\n",
    "#training_sents"
   ]
  },
  {
   "cell_type": "markdown",
   "metadata": {},
   "source": [
    "## Transformer"
   ]
  },
  {
   "cell_type": "code",
   "execution_count": 5,
   "metadata": {},
   "outputs": [
    {
     "name": "stderr",
     "output_type": "stream",
     "text": [
      "2023-01-24 16:19:32.464451: I tensorflow/core/platform/cpu_feature_guard.cc:193] This TensorFlow binary is optimized with oneAPI Deep Neural Network Library (oneDNN) to use the following CPU instructions in performance-critical operations:  AVX2 FMA\n",
      "To enable them in other operations, rebuild TensorFlow with the appropriate compiler flags.\n",
      "2023-01-24 16:19:32.686827: W tensorflow/compiler/xla/stream_executor/platform/default/dso_loader.cc:64] Could not load dynamic library 'libcudart.so.11.0'; dlerror: libcudart.so.11.0: cannot open shared object file: No such file or directory\n",
      "2023-01-24 16:19:32.686841: I tensorflow/compiler/xla/stream_executor/cuda/cudart_stub.cc:29] Ignore above cudart dlerror if you do not have a GPU set up on your machine.\n",
      "2023-01-24 16:19:33.354570: W tensorflow/compiler/xla/stream_executor/platform/default/dso_loader.cc:64] Could not load dynamic library 'libnvinfer.so.7'; dlerror: libnvinfer.so.7: cannot open shared object file: No such file or directory\n",
      "2023-01-24 16:19:33.354614: W tensorflow/compiler/xla/stream_executor/platform/default/dso_loader.cc:64] Could not load dynamic library 'libnvinfer_plugin.so.7'; dlerror: libnvinfer_plugin.so.7: cannot open shared object file: No such file or directory\n",
      "2023-01-24 16:19:33.354618: W tensorflow/compiler/tf2tensorrt/utils/py_utils.cc:38] TF-TRT Warning: Cannot dlopen some TensorRT libraries. If you would like to use Nvidia GPU with TensorRT, please make sure the missing libraries mentioned above are installed properly.\n"
     ]
    }
   ],
   "source": [
    "from transformers import AutoTokenizer, AutoModelForCausalLM, DataCollatorForLanguageModeling, Trainer, TrainingArguments\n",
    "import torch"
   ]
  },
  {
   "cell_type": "code",
   "execution_count": 6,
   "metadata": {},
   "outputs": [],
   "source": [
    "model_checkpoint = \"distilgpt2\""
   ]
  },
  {
   "cell_type": "code",
   "execution_count": 7,
   "metadata": {},
   "outputs": [],
   "source": [
    "tokenizer = AutoTokenizer.from_pretrained(model_checkpoint, use_fast=True)"
   ]
  },
  {
   "cell_type": "code",
   "execution_count": 8,
   "metadata": {},
   "outputs": [],
   "source": [
    "tokenizer.pad_token = tokenizer.eos_token\n",
    "data_collator = DataCollatorForLanguageModeling(tokenizer, mlm=False)"
   ]
  },
  {
   "cell_type": "code",
   "execution_count": 9,
   "metadata": {},
   "outputs": [],
   "source": [
    "tokenize_fn = lambda doc : tokenizer(\n",
    "        doc,\n",
    "        truncation=True,\n",
    "        max_length=1024\n",
    "    )\n",
    "\n",
    "tokenized_dataset = list(map(tokenize_fn, training_sents))"
   ]
  },
  {
   "cell_type": "code",
   "execution_count": 10,
   "metadata": {},
   "outputs": [],
   "source": [
    "tokenized_dataset = pd.DataFrame(tokenized_dataset)\n",
    "tokenized_dataset = Dataset.from_pandas(tokenized_dataset)"
   ]
  },
  {
   "cell_type": "code",
   "execution_count": 11,
   "metadata": {},
   "outputs": [],
   "source": [
    "model = AutoModelForCausalLM.from_pretrained(\n",
    "    model_checkpoint, pad_token_id=tokenizer.eos_token_id)"
   ]
  },
  {
   "cell_type": "code",
   "execution_count": 12,
   "metadata": {},
   "outputs": [],
   "source": [
    "device = f\"cuda:{torch.cuda.current_device()}\" if torch.cuda.is_available() else \"cpu\""
   ]
  },
  {
   "cell_type": "code",
   "execution_count": 13,
   "metadata": {},
   "outputs": [],
   "source": [
    "training_args = TrainingArguments(\n",
    "    f\"{model_checkpoint}-finetuned-docs-non-coref-black-clover\",\n",
    "    num_train_epochs=2,\n",
    "    per_device_train_batch_size=10,\n",
    "    per_device_eval_batch_size=10,    \n",
    "    learning_rate=2e-5,\n",
    "    weight_decay=0.01,\n",
    "    do_eval=True, # eval en validation set\n",
    "    evaluation_strategy=\"steps\", # eval en validation set\n",
    "    eval_steps=100,\n",
    "    save_steps=100, # checkpoint model every 500 steps\n",
    "    logging_dir='./logs', # logging\n",
    "    logging_strategy=\"steps\",\n",
    "    logging_steps=1,\n",
    "    fp16=False, # float16 en training (only on CUDA)\n",
    "    push_to_hub=False,\n",
    ")"
   ]
  },
  {
   "cell_type": "code",
   "execution_count": 14,
   "metadata": {},
   "outputs": [],
   "source": [
    "trainer = Trainer(\n",
    "    model=model,\n",
    "    args=training_args,\n",
    "    data_collator=data_collator,\n",
    "    train_dataset=tokenized_dataset, #.select(range(0, 128)),\n",
    "    eval_dataset=tokenized_dataset, #.select(range(0, 128)),\n",
    ")"
   ]
  },
  {
   "cell_type": "code",
   "execution_count": 15,
   "metadata": {},
   "outputs": [
    {
     "name": "stderr",
     "output_type": "stream",
     "text": [
      "/home/pauli/.local/lib/python3.10/site-packages/transformers/optimization.py:306: FutureWarning: This implementation of AdamW is deprecated and will be removed in a future version. Use the PyTorch implementation torch.optim.AdamW instead, or set `no_deprecation_warning=True` to disable this warning\n",
      "  warnings.warn(\n",
      "***** Running training *****\n",
      "  Num examples = 52\n",
      "  Num Epochs = 2\n",
      "  Instantaneous batch size per device = 10\n",
      "  Total train batch size (w. parallel, distributed & accumulation) = 10\n",
      "  Gradient Accumulation steps = 1\n",
      "  Total optimization steps = 12\n",
      "  0%|          | 0/12 [00:00<?, ?it/s]You're using a GPT2TokenizerFast tokenizer. Please note that with a fast tokenizer, using the `__call__` method is faster than using a method to encode the text followed by a call to the `pad` method to get a padded encoding.\n",
      "  8%|▊         | 1/12 [00:23<04:16, 23.36s/it]"
     ]
    },
    {
     "name": "stdout",
     "output_type": "stream",
     "text": [
      "{'loss': 4.0201, 'learning_rate': 1.8333333333333333e-05, 'epoch': 0.17}\n"
     ]
    },
    {
     "name": "stderr",
     "output_type": "stream",
     "text": [
      " 17%|█▋        | 2/12 [00:47<03:55, 23.57s/it]"
     ]
    },
    {
     "name": "stdout",
     "output_type": "stream",
     "text": [
      "{'loss': 4.0488, 'learning_rate': 1.6666666666666667e-05, 'epoch': 0.33}\n"
     ]
    },
    {
     "name": "stderr",
     "output_type": "stream",
     "text": [
      " 25%|██▌       | 3/12 [01:07<03:20, 22.30s/it]"
     ]
    },
    {
     "name": "stdout",
     "output_type": "stream",
     "text": [
      "{'loss': 3.9715, 'learning_rate': 1.5000000000000002e-05, 'epoch': 0.5}\n"
     ]
    },
    {
     "name": "stderr",
     "output_type": "stream",
     "text": [
      " 33%|███▎      | 4/12 [01:26<02:46, 20.78s/it]"
     ]
    },
    {
     "name": "stdout",
     "output_type": "stream",
     "text": [
      "{'loss': 3.8043, 'learning_rate': 1.3333333333333333e-05, 'epoch': 0.67}\n"
     ]
    },
    {
     "name": "stderr",
     "output_type": "stream",
     "text": [
      " 42%|████▏     | 5/12 [01:41<02:12, 18.89s/it]"
     ]
    },
    {
     "name": "stdout",
     "output_type": "stream",
     "text": [
      "{'loss': 3.9545, 'learning_rate': 1.1666666666666668e-05, 'epoch': 0.83}\n"
     ]
    },
    {
     "name": "stderr",
     "output_type": "stream",
     "text": [
      " 50%|█████     | 6/12 [01:46<01:23, 13.97s/it]"
     ]
    },
    {
     "name": "stdout",
     "output_type": "stream",
     "text": [
      "{'loss': 3.8902, 'learning_rate': 1e-05, 'epoch': 1.0}\n"
     ]
    },
    {
     "name": "stderr",
     "output_type": "stream",
     "text": [
      " 58%|█████▊    | 7/12 [02:03<01:15, 15.16s/it]"
     ]
    },
    {
     "name": "stdout",
     "output_type": "stream",
     "text": [
      "{'loss': 3.9044, 'learning_rate': 8.333333333333334e-06, 'epoch': 1.17}\n"
     ]
    },
    {
     "name": "stderr",
     "output_type": "stream",
     "text": [
      " 67%|██████▋   | 8/12 [02:19<01:00, 15.19s/it]"
     ]
    },
    {
     "name": "stdout",
     "output_type": "stream",
     "text": [
      "{'loss': 3.8203, 'learning_rate': 6.666666666666667e-06, 'epoch': 1.33}\n"
     ]
    },
    {
     "name": "stderr",
     "output_type": "stream",
     "text": [
      " 75%|███████▌  | 9/12 [02:41<00:52, 17.54s/it]"
     ]
    },
    {
     "name": "stdout",
     "output_type": "stream",
     "text": [
      "{'loss': 4.1155, 'learning_rate': 5e-06, 'epoch': 1.5}\n"
     ]
    },
    {
     "name": "stderr",
     "output_type": "stream",
     "text": [
      " 83%|████████▎ | 10/12 [03:03<00:37, 18.91s/it]"
     ]
    },
    {
     "name": "stdout",
     "output_type": "stream",
     "text": [
      "{'loss': 3.9303, 'learning_rate': 3.3333333333333333e-06, 'epoch': 1.67}\n"
     ]
    },
    {
     "name": "stderr",
     "output_type": "stream",
     "text": [
      " 92%|█████████▏| 11/12 [03:24<00:19, 19.30s/it]"
     ]
    },
    {
     "name": "stdout",
     "output_type": "stream",
     "text": [
      "{'loss': 3.6333, 'learning_rate': 1.6666666666666667e-06, 'epoch': 1.83}\n"
     ]
    },
    {
     "name": "stderr",
     "output_type": "stream",
     "text": [
      "100%|██████████| 12/12 [03:28<00:00, 14.75s/it]\n",
      "\n",
      "Training completed. Do not forget to share your model on huggingface.co/models =)\n",
      "\n",
      "\n",
      "100%|██████████| 12/12 [03:28<00:00, 17.37s/it]"
     ]
    },
    {
     "name": "stdout",
     "output_type": "stream",
     "text": [
      "{'loss': 3.7667, 'learning_rate': 0.0, 'epoch': 2.0}\n",
      "{'train_runtime': 208.3832, 'train_samples_per_second': 0.499, 'train_steps_per_second': 0.058, 'train_loss': 3.904994567235311, 'epoch': 2.0}\n"
     ]
    },
    {
     "name": "stderr",
     "output_type": "stream",
     "text": [
      "\n"
     ]
    }
   ],
   "source": [
    "train_output = trainer.train()"
   ]
  },
  {
   "cell_type": "code",
   "execution_count": 16,
   "metadata": {},
   "outputs": [],
   "source": [
    "def generate(\n",
    "    prompt=None, max_length=1024, max_new_tokens=20, greedy=True, model=model, tokenizer=tokenizer, device=device\n",
    "):\n",
    "    \"\"\"None stands for beggining of sequence.\n",
    "    NOTE si bien parece que GPT2 puede generar a partir de BOS token, la \n",
    "    documentacion es poco clara. Ademas hicimos nuestro finetuning sin BOS token.\n",
    "    Entonces solo vamos a usar la funcion pasandole un contexto.\n",
    "\n",
    "    Ver:\n",
    "    https://github.com/huggingface/transformers/issues/3311#issuecomment-601264426\n",
    "    https://github.com/openai/gpt-2/blob/a74da5d99abaaba920de8131d64da2862a8f213b/src/generate_unconditional_samples.py#L60\n",
    "    \"\"\"\n",
    "    do_sample = False if greedy else True\n",
    "    # model.eval() to set dropout and batch normalization layers to evaluation \n",
    "    # mode before running inference\n",
    "    if prompt:\n",
    "        input_ids = tokenizer.encode(prompt, return_tensors=\"pt\").to(device)\n",
    "        model.eval()\n",
    "        outputs = model.generate(input_ids, do_sample=do_sample, max_new_tokens=max_new_tokens)\n",
    "    else:\n",
    "        model.eval()\n",
    "        outputs = model.generate(do_sample=do_sample, max_new_tokens=max_new_tokens)\n",
    "    return tokenizer.batch_decode(outputs, skip_special_tokens=True)"
   ]
  },
  {
   "cell_type": "markdown",
   "metadata": {},
   "source": [
    "## Summarize"
   ]
  },
  {
   "cell_type": "code",
   "execution_count": 17,
   "metadata": {},
   "outputs": [
    {
     "data": {
      "text/plain": [
       "['Microsoft\\'s CEO is icky with the idea of using the name \"Cynical\". \"It\\'s a joke,\" he']"
      ]
     },
     "execution_count": 17,
     "metadata": {},
     "output_type": "execute_result"
    }
   ],
   "source": [
    "generate(\"Microsoft's CEO is \", greedy=False)"
   ]
  },
  {
   "cell_type": "code",
   "execution_count": 18,
   "metadata": {},
   "outputs": [],
   "source": [
    "import re"
   ]
  },
  {
   "cell_type": "code",
   "execution_count": 19,
   "metadata": {},
   "outputs": [],
   "source": [
    "non_greedy_generated_descriptions = []\n",
    "for doc in nonTokenizedWsubj_docs:\n",
    "    for subject in doc[\"subjects\"]:\n",
    "        generated_doc = generate(doc[\"doc\"] + \" \" + subject + \" can be described as \", max_length=1024, greedy=False)\n",
    "        if len(re.split(doc[\"doc\"], generated_doc[0])) >= 2:\n",
    "            generated_desc = re.sub(r\"\\s+\", \" \", (re.split(r\"[.;:!?]\",list(map(lambda x : x.strip(), re.split(doc[\"doc\"], generated_doc[0])))[1]))[0])\n",
    "            non_greedy_generated_descriptions.append(generated_desc)"
   ]
  },
  {
   "cell_type": "code",
   "execution_count": 20,
   "metadata": {},
   "outputs": [],
   "source": [
    "greedy_generated_descriptions = []\n",
    "for doc in nonTokenizedWsubj_docs[:10]:\n",
    "    for subject in doc[\"subjects\"]:\n",
    "        generated_doc = generate(doc[\"doc\"] + \" \" + subject + \" can be described as \", max_length=1024, greedy=True)\n",
    "        if len(re.split(doc[\"doc\"], generated_doc[0])) >= 2:\n",
    "            generated_desc = re.sub(r\"\\s+\", \" \", (re.split(r\"[.;:!?]\",list(map(lambda x : x.strip(), re.split(doc[\"doc\"], generated_doc[0])))[1]))[0])\n",
    "            greedy_generated_descriptions.append(generated_desc)"
   ]
  },
  {
   "cell_type": "code",
   "execution_count": 21,
   "metadata": {},
   "outputs": [
    {
     "data": {
      "text/plain": [
       "['hol', '']"
      ]
     },
     "execution_count": 21,
     "metadata": {},
     "output_type": "execute_result"
    }
   ],
   "source": [
    "re.split(\"\\.\", \"hol.\")"
   ]
  },
  {
   "cell_type": "code",
   "execution_count": 22,
   "metadata": {},
   "outputs": [
    {
     "data": {
      "text/plain": [
       "['Yuno can be described as ixix (x) or ix (y) and the devil (y) appear',\n",
       " 'Asta can be described as Âslightly taller than the rest - but that is not true',\n",
       " 'Lily can be described as ~~ Yuki Chiba',\n",
       " 'Yuno can be described as izumi, a soft, kind, outgoing and very kind, with a quiet, gentle tone,',\n",
       " 'Orsi can be described as 不鬼, the strongest of Magic Knights, although that nickname is also also not true',\n",
       " 'Asta can be described as a dark, bearded man with a golden eyes and a long red beard',\n",
       " 'Lily can be described as 경우',\n",
       " 'Finral can be described as † \\ue752 \\ue752 \\ue752 여�',\n",
       " 'Nozel can be described as iced, but he is sure he has other problems',\n",
       " 'Gordon can be described as iced at being possessed by all of the creatures and that he is an intelligent spirit',\n",
       " 'Rill can be described as ichikine, but that does not mean he cannot become the Sorcerer King',\n",
       " 'Jack can be described as iced over by his father and his son',\n",
       " 'Dorothy can be described as ichai-chan or as igo-chan',\n",
       " 'Yami can be described as _____, but he is too small for the rest of the team',\n",
       " 'Fuegoleon can be described as スイガーズ (答烺事)',\n",
       " 'Yuno can be described as izealistic and easygoing',\n",
       " 'Sekke can be described as 『铬小』 or 酄烹力場�',\n",
       " 'Charlotte can be described as 『『』『』『』『』『』『』『』『』『』『',\n",
       " 'Asta can be described as icky, arrogant, greedy and cunning, but can not be quite the same as his father or grandfather',\n",
       " 'William can be described as *************y when the Magic Knights enter the entrance room',\n",
       " 'Yuno can be described as 『King Sorcerer]‧ 『Wizard King‧』',\n",
       " 'Yami can be described as _____',\n",
       " 'Sekke can be described as ichondish, as \"charming at high altitude\"',\n",
       " 'Asta can be described as icky, but he is a real magician',\n",
       " 'Klaus can be described as 『Black Bull』 or as『Black Bull』',\n",
       " 'Magna can be described as 信他者 会沭民可搜�',\n",
       " \"Asta can be described as 『『『『【』』 or『『』), but it's unclear what it means\",\n",
       " 'Noelle can be described as ikensai (an ancient dragon)',\n",
       " 'Finral can be described as _____',\n",
       " 'Yami can be described as ixing as being completely out of line and he goes straight to the window',\n",
       " 'Magna can be described as iced',\n",
       " 'Yuno can be described as ____ but he has a big smile over him',\n",
       " 'Klaus can be described as ikomac from the anime',\n",
       " 'Noelle can be described as iced',\n",
       " 'Asta can be described as ~~saying',\n",
       " 'Finral can be described as izizying everyone and believing that the magic stones has a better ability than his magic stones because they',\n",
       " 'Yami can be described as ikred',\n",
       " 'Magna can be described as 々-砻本, or a “-羳滦',\n",
       " 'Noelle can be described as icky until he finds one magic stone he has made',\n",
       " \"Asta can be described as ikin' to the magic stone\",\n",
       " 'Noelle can be described as icky, unimpressed and upset',\n",
       " 'Asta can be described as ___________',\n",
       " 'Magna can be described as 경넀이 찱경넬운',\n",
       " 'Magna can be described as sad’s man and he appears quite handsome',\n",
       " 'Noelle can be described as iphony or magikarp',\n",
       " 'Asta can be described as',\n",
       " 'Finral can be described as 『Queen of the Night』 and walks toward him',\n",
       " 'Magna can be described as suddenly light blue',\n",
       " 'Lily can be described as urchins',\n",
       " 'Noelle can be described as --------------------------- A magician from Atenon, who made an appearance on The Magic Enquirer',\n",
       " 'Sekke can be described as',\n",
       " 'Asta can be described as 二雁者',\n",
       " 'Vanessa can be described as \"Beautiful woman',\n",
       " 'Asta can be described as iced and has a good laugh',\n",
       " 'Orsi can be described as a little bit like a monster with an appearance of an eye',\n",
       " 'Yuno can be described as icky',\n",
       " 'Klaus can be described as ***********',\n",
       " 'Noelle can be described as iced, but he quickly realizes that the only way to end his life is by killing the demons',\n",
       " 'Lily can be described as iced tea',\n",
       " 'Mimosa can be described as 『』 with an unsympathetic tone',\n",
       " 'Vanessa can be described as ʙaloof and his eyes glimmer through the clouds while some other children see him',\n",
       " 'Sekke can be described as 世腅他二, but he refuses to give up',\n",
       " 'Julius can be described as good, well-looking, and a solid fighter',\n",
       " 'Orsi can be described as ikas',\n",
       " 'Yuno can be described as ichai on the other hand',\n",
       " \"Klaus can be described as iced, but he says that they don't have the gold for it\",\n",
       " 'Mimosa can be described as 『Kasami』',\n",
       " \"Julius can be described as icky and he is being very sarcastic but he can't help his words\",\n",
       " 'Asta can be described as iced blue except for one part of the mushroom',\n",
       " 'William can be described as _______________ by the black dragon (Yuno), who asks for him more help to help him',\n",
       " 'Lily can be described as eryse, but the magic is actually a magical substance',\n",
       " 'Yami can be described as iced-up',\n",
       " 'Magna can be described as 【1] and is a very nice lady',\n",
       " 'Luck can be described as 京枈子 and he tells him that it was the Sorcerer King',\n",
       " 'Yuno can be described as 【イジード】',\n",
       " 'Noelle can be described as ive',\n",
       " \"Asta can be described as 传丰化, as 'B\",\n",
       " 'Vanessa can be described as 【Magic Magic Magic Magic Magic Magic Magic Magic Magic】',\n",
       " 'Luck can be described as icky and his eyes are red',\n",
       " 'Yuno can be described as イヤマイク',\n",
       " 'Klaus can be described as ~~~',\n",
       " 'Noelle can be described as iced',\n",
       " 'Mimosa can be described as iliac looking into his neck and starts singing again',\n",
       " 'Asta can be described as ikizu',\n",
       " 'William can be described as , but he is afraid that he will be injured for years and that being defeated is just part',\n",
       " 'Mars can be described as ills',\n",
       " 'Luck can be described as 『Kashima』, who is a cute girl',\n",
       " 'Yuno can be described as Âx-like',\n",
       " 'Klaus can be described as urchin, but he only sees one stone being cast at him once',\n",
       " \"Noelle can be described as icky except they get angry because Yuno wants to find out how he's got the sword, and\",\n",
       " 'Mimosa can be described as ʿa man who is a true magician and is a good magician without any trouble',\n",
       " 'Asta can be described as ills like his big sister and his strong mother',\n",
       " 'Mars can be described as รป้รลเอปช้',\n",
       " 'Luck can be described as ikin\\u200cyahotl',\n",
       " 'Yuno can be described as 丱乚辺籺, but he is confused',\n",
       " 'Klaus can be described as ikisi that loves people better and he does not believe in anything else',\n",
       " \"Noelle can be described as icky but can be heard saying that his magic has been amplified on Mars' skin\",\n",
       " 'Asta can be described as сークリル',\n",
       " 'Mars can be described as',\n",
       " \"Yuno can be described as icky, but the dragon's tail is a strong red\",\n",
       " 'Klaus can be described as 【〲〲〲〲〲〲〲〲〲�',\n",
       " 'Noelle can be described as _______ or _______',\n",
       " \"Mimosa can be described as urn-shaped and he can be heard singing the magic words, but it doesn't speak enough\",\n",
       " 'Asta can be described as',\n",
       " 'Fana can be described as ********** I recently learned what it takes before the Kingdom breaks its own rules',\n",
       " 'Mars can be described as iced',\n",
       " 'Luck can be described as iced up, but Lux mentions that they have learned that they need help to heal him as well as',\n",
       " 'Yuno can be described as ikiba king or king of Earth',\n",
       " \"Klaus can be described as ikomimasa with his expression, and Asta's smile fades\",\n",
       " 'Noelle can be described as iced, but Asta looks to him as the beautiful girl he used to be',\n",
       " 'Mimosa can be described as vernacular and energetic and his body is visibly calm and moving, unlike a magician, and also possesses',\n",
       " 'Asta can be described as ixpertensive, and is able to withstand the pain he sustained in taking away a life',\n",
       " 'Mars can be described as ichiro',\n",
       " 'Luck can be described as iced with a smile because that is his only real strength',\n",
       " 'Yuno can be described as アップー (ひそうにぶ攵んな)',\n",
       " 'Klaus can be described as \"the best wizard mage in the world\"',\n",
       " 'Noelle can be described as ikeyaku, but he states that he is the king for the future',\n",
       " 'Mimosa can be described as eryxian',\n",
       " 'Asta can be described as erserk, a man with a beard and with a clean head',\n",
       " 'Julius can be described as urchin chameleon, and he is surprised when Noelle says he knows which character he is',\n",
       " 'Leopold can be described as icky and tall and has a dark complexion',\n",
       " 'Fuegoleon can be described as erythropoia',\n",
       " 'Yuno can be described as vernacular',\n",
       " 'Solid can be described as ixi-like despite having blue eyes and looks like a boy',\n",
       " 'Noelle can be described as 『Rachielu』an impassable',\n",
       " 'Asta can be described as iced and not ugly',\n",
       " \"Nozel can be described as _____ but if no one asks him who is going to call him, he says he can't get\",\n",
       " 'Julius can be described as icky like a boy with big red eyes',\n",
       " 'Leopold can be described as icky, but the man he says is actually a man in full clothes',\n",
       " 'Fuegoleon can be described as izying a great sword',\n",
       " 'Yuno can be described as 々陿捺々',\n",
       " 'Klaus can be described as ills but he does not look at him',\n",
       " 'Solid can be described as _______-',\n",
       " 'Noelle can be described as 《',\n",
       " 'Sol can be described as iced and with his magic, he goes to his room',\n",
       " 'Charlotte can be described as ˗soula',\n",
       " 'Asta can be described as iced green and white',\n",
       " 'Nozel can be described as iced up and uses his magic to help pull him out of the air',\n",
       " 'Leopold can be described as icky',\n",
       " \"Charmy can be described as ersatz-ed or as ‼D‼ in its full form, but he doesn't\",\n",
       " 'Asta can be described as iced but angry because he cannot understand how much Magic Knights are talking about',\n",
       " 'Nozel can be described as iced to death',\n",
       " 'Julius can be described as vernacular',\n",
       " 'Leopold can be described as アイカ。, but is said to be his real name',\n",
       " 'Fuegoleon can be described as ichai',\n",
       " 'Yuno can be described as 【〛】, who has become so evil as to be a demon after all',\n",
       " 'Noelle can be described as icky',\n",
       " 'Asta can be described as ikage and wears a blue mask',\n",
       " 'Nozel can be described as ~~possible~~',\n",
       " 'Leopold can be described as ichiban, a man with curly hair and a deep red eyes',\n",
       " 'Fuegoleon can be described as 【Blessed 】kuyaku',\n",
       " 'Yuno can be described as * * * * * * * * ******************************************************************************* As they cross',\n",
       " 'Charmy can be described as 관줁잌,※다이이�',\n",
       " 'Noelle can be described as ikaze',\n",
       " 'Asta can be described as ____',\n",
       " 'Leopold can be described as igorating',\n",
       " 'Noelle can be described as iced and wearing dark clothing',\n",
       " 'Asta can be described as 一域够撚 (天域) when he is not alone',\n",
       " 'Julius can be described as icharachrono in a way that makes them look pretty',\n",
       " 'Leopold can be described as семяния',\n",
       " 'Yami can be described as ˞, an ordinary Magic Knight',\n",
       " \"Magna can be described as iced while Yami tells him that he doesn't want to become Magic Knight but he is not concerned\",\n",
       " 'Fuegoleon can be described as _____-Gardello Gaoiei',\n",
       " 'Yuno can be described as étude un-gentle and calls him a pendant and he is ready for it',\n",
       " 'Charmy can be described as iced and tells him to tell him to not fight until they are able to make themselves out of him',\n",
       " 'Noelle can be described as iced and then suddenly he says that he really only has one day left',\n",
       " 'Klaus can be described as icharic or a strong enough man with a sword',\n",
       " 'Charlotte can be described as 以最徍元綱于塞',\n",
       " 'Asta can be described as erythically dark and with a light clouded like a small cloud',\n",
       " 'Nozel can be described as uteur',\n",
       " \"Julius can be described as iai's first color\",\n",
       " 'Gauche can be described as iced and very well',\n",
       " 'Finral can be described as icky but he can be seen saying sorry, just so he does not feel guilty',\n",
       " 'Gordon can be described as iced because they are pretty cute',\n",
       " \"Magna can be described as 他白的怎山陵人为。 Noelle's\",\n",
       " 'Luck can be described as icky and even his older sister, Chaz, punches at him hard in the face and puts his',\n",
       " 'Charmy can be described as 『The Magic Knows』 or as an ‽� Magic Magic Monk',\n",
       " 'Noelle can be described as iced and the two attack from noelle but before they leave, both are about to punch one another',\n",
       " 'Sekke can be described as icky but he is a loner and he is able to catch a Magna Swing and he has',\n",
       " \"Asta can be described as hardworking even though they aren't in high school\",\n",
       " 'Gordon can be described as ~~~~~~~~~~~~~~~~~~~~~~~~~~~~~~~~~~~~~~~~',\n",
       " \"Yami can be described as iced up after the first attack but doesn't believe the attack was going to be too easy to do\",\n",
       " \"Mars can be described as iced, even though Yuno says he is extremely proud that he was one of the world's most\",\n",
       " 'Orsi can be described as iced-up and very good at talking to his enemies, but the difference between him and the one',\n",
       " 'Yuno can be described as izarro and is able to be seen in a very well designed mirror as he was being taught by',\n",
       " 'Klaus can be described as iced, and he mentions that a beautiful young girl had a very nice night with him',\n",
       " 'Sekke can be described as 九沔分力 and is considered an old man in his early twenties',\n",
       " 'Noelle can be described as erythropoic but despite being a highly intelligent, energetic, and well-informed magician (although',\n",
       " 'Mimosa can be described as ersatz human and human, and he is able to become very strong',\n",
       " 'Asta can be described as',\n",
       " 'Gauche can be described as ㅠ을���작을���, but since everyone',\n",
       " 'Theresa can be described as iced',\n",
       " 'Yami can be described as 世国。',\n",
       " 'Orsi can be described as ichai—they are a group of people around who are very old',\n",
       " 'Magna can be described as 事崻后常 (Champions of the Magic Kingdom, Mimi K',\n",
       " 'Yuno can be described as icky, but his eyes are covered by brown and he is frightened he can run away at the kids',\n",
       " \"Klaus can be described as ikei's daughter\",\n",
       " 'Charmy can be described as ikine, and when she looks at him, he is extremely hurt',\n",
       " 'Noelle can be described as ikudai',\n",
       " 'Marie can be described as 【イー・】 so she asks that you tell her to go to a friend who is working',\n",
       " \"Mimosa can be described as ikatsu's cute but she seems to be quite scared as her face is covered in snow\",\n",
       " 'Asta can be described as',\n",
       " 'Lily can be described as iced to be more beautiful than her',\n",
       " \"Gauche can be described as 'He had something really bad to say to me\",\n",
       " 'Theresa can be described as ˜Oh yes, I love you',\n",
       " 'Noelle can be described as インクヴァー',\n",
       " 'Sekke can be described as 『Kirby』 and says he has had little time to learn how to speak and he wishes',\n",
       " 'Marie can be described as iced and very angry and upset at Asta',\n",
       " 'Asta can be described as _______________',\n",
       " 'Gauche can be described as 『Natsu※』 and asks if Gauche would help against her',\n",
       " 'Gordon can be described as iauquia',\n",
       " \"Asta can be described as vernacular but he doesn't understand why he chose her\",\n",
       " 'Theresa can be described as icky and angry but Gauche is able to fight her',\n",
       " 'Yami can be described as eringa who is a \"bitter, pearly blue eye\" but the boy can be seen',\n",
       " 'Fuegoleon can be described as ikir',\n",
       " 'Noelle can be described as icky and explains that she had been a hard working assassin',\n",
       " 'Sally can be described as crazy',\n",
       " 'Marie can be described as ********** while Gauche walks past them and says they were in the woods',\n",
       " 'Sekke can be described as icky and unaccustomed to the light and can only be heard in the background',\n",
       " \"Lily can be described as ichi-sama, meaning that Gauche's eyes will not open when he eats a snake as their\",\n",
       " 'Gauche can be described as ~~~ in the anime',\n",
       " 'Theresa can be described as 乡美款',\n",
       " 'Licht can be described as iannier or ‐sick” or, whatever his real name is',\n",
       " 'Yuno can be described as vernacular and is an intelligent witch',\n",
       " 'Sally can be described as ______________',\n",
       " 'Marie can be described as 体草要山跳跳樁',\n",
       " 'Asta can be described as 【》『A',\n",
       " 'Finral can be described as _____, so he is a powerful wizard',\n",
       " 'Theresa can be described as a girl and a beautiful young boy',\n",
       " 'Yami can be described as ichie and his ichie are still fighting',\n",
       " 'Licht can be described as iphysics and makes a magic sword',\n",
       " 'Fuegoleon can be described as icky but he attacks the human body but he never does it',\n",
       " 'Sally can be described as izure in her face',\n",
       " 'Asta can be described as ikex or yuki',\n",
       " 'Gauche can be described as ikido-oriented',\n",
       " 'Finral can be described as ikitato, the most powerful man they have ever been',\n",
       " 'Fana can be described as icky, but he shows no signs of being serious',\n",
       " \"Jack can be described as iced and he doesn't think of anything else\",\n",
       " 'Licht can be described as † After a fight where Rufus',\n",
       " 'Yami can be described as a great magician',\n",
       " 'Theresa can be described as iced by her, although his magic is stronger since he has been healed and that all he needs is',\n",
       " 'Noelle can be described as ÂÂ Â Â Â Â Â ',\n",
       " 'Marie can be described as ive worked hard and got the name of Alice',\n",
       " 'Charlotte can be described as iced at the beginning of the day',\n",
       " 'Vetto can be described as iced up, but is easily defeated and tells of that',\n",
       " 'Asta can be described as 々々々々々々々々々々',\n",
       " 'Nozel can be described as iced and had high body values, but he has no problems with his personality',\n",
       " 'Rill can be described as iliotile who used Magic',\n",
       " 'Yami can be described as - maggi because he was not good at magic',\n",
       " 'Fuegoleon can be described as ikiri, a tall, and tall, but he seems to be more than just a little nervous',\n",
       " 'Charlotte can be described as суюн (pussy, big, tall',\n",
       " 'Asta can be described as ㅕ who is the only one on the train but one of the Magic Knight is one of',\n",
       " 'Julius can be described as Âmushin, who is a wizard',\n",
       " 'Gauche can be described as 企多 (風接) the color of the sea and is a',\n",
       " 'Finral can be described as 【2】*『Fluid Magic』 is the leader of a dark force',\n",
       " 'Gordon can be described as iliish, but says yes',\n",
       " 'Yami can be described as icky with dark hair',\n",
       " 'Magna can be described as ㅛㅛㅛㅛ, meaning that magic is impossible to use',\n",
       " 'Luck can be described as Â a woman and a wizard',\n",
       " 'Yuno can be described as icky, a thin, white girl with a wreath, and is pretty good at talking',\n",
       " 'Klaus can be described as 【・・・・・・・・・・・・・・・・・・・',\n",
       " 'Noelle can be described as ~~~',\n",
       " 'Charmy can be described as 〭〭〭〭〭',\n",
       " 'Mimosa can be described as ㅇ³ᄃ。♇³ᄃ。',\n",
       " 'Asta can be described as 『Elevated, Yami Fūsutsui』 and looks down on him',\n",
       " 'Vanessa can be described as yamato, a light-colored woman who is not even a girl',\n",
       " 'Gauche can be described as イベジックス',\n",
       " 'Yami can be described as ikuy, but he is not an angel',\n",
       " 'Magna can be described as',\n",
       " 'Luck can be described as icky, but he is not very good and when his opponent is surprised, the magician is excited to',\n",
       " 'Charmy can be described as 『長』',\n",
       " 'Noelle can be described as iced but he is not happy with this',\n",
       " \"Asta can be described as icky but he can't say a word or how he is feeling about the game\",\n",
       " 'Vanessa can be described as icky',\n",
       " 'Gauche can be described as ːsaurus',\n",
       " \"Yami can be described as iced, but he isn't going to let them have their fight\",\n",
       " 'Magna can be described as ikimu-ji, with short stature and a good build',\n",
       " 'Luck can be described as icky and he can be heard saying something about the future being filled up with rage',\n",
       " 'Charmy can be described as iced, tall, tall, and looks even bigger',\n",
       " 'Noelle can be described as iliac with a pale complexion',\n",
       " \"Grey can be described as ikomaniac's face\",\n",
       " 'Vetto can be described as ikazawa, and they are both big and small and also large',\n",
       " 'Asta can be described as icky and extremely weak but even though he is fighting him, he is not a good player to be',\n",
       " 'Gauche can be described as 【Cure」) and said that Yueno',\n",
       " 'Finral can be described as icky and powerful but they both are not',\n",
       " 'Licht can be described as erythmical',\n",
       " 'Yami can be described as iced by a red glow from the Night Owl',\n",
       " 'Yuno can be described as but Yuno only takes him to their knees',\n",
       " 'Noelle can be described as 【3】 and he realizes that Yami believes that he is the same as him',\n",
       " 'Vetto can be described as He knows that he can live without anyone who cares about him anymore than Yun',\n",
       " \"Asta can be described as 『Hail』 who is really looking at me like this and I can't talk to him no\",\n",
       " 'Vanessa can be described as ersatz, a witch with red scales',\n",
       " 'Finral can be described as iphones of energy, and he continues to strike and crush Asta',\n",
       " 'Fana can be described as iced, but he takes a slight advantage and takes a little advantage',\n",
       " 'Licht can be described as icky and looks at Asta and Maelstrom, saying that she used her power only to save',\n",
       " 'Mars can be described as __________ or ________-',\n",
       " 'Asta can be described as erythean, a beast that hates most and is the only creature that loves humans',\n",
       " 'Asta can be described as 一人来本的超問报',\n",
       " 'Yami can be described as 【★●☆₱, 【★●★☆ゃ】, and tells',\n",
       " 'Yuno can be described as 乿一南',\n",
       " 'Sol can be described as ikon, the Great King of the Magic Kingdom',\n",
       " 'Charlotte can be described as “■I want to die',\n",
       " 'Jack can be described as iced-up',\n",
       " 'Nozel can be described as icky, which suggests that his Magic Knights will be there',\n",
       " 'Julius can be described as 了名切并試喇定笾�',\n",
       " 'Charmy can be described as 【Necessary】',\n",
       " 'Yami can be described as iced at first before he starts talking about his own experience having lost his head to his own injuries',\n",
       " \"William can be described as 『Vangeance\\u202c of the Witches' Order of the Royal Knights\",\n",
       " 'Rill can be described as icky as saying “He likes him',\n",
       " 'Licht can be described as ikomile',\n",
       " 'Yami can be described as iced but is not quite certain which magic he is able to put into this spell',\n",
       " 'Fuegoleon can be described as 『Erik and Lissa\\u200f)',\n",
       " 'Luck can be described as ickety and tall and very strong, but is thin enough to be able to beat magic in the',\n",
       " 'Zora can be described as icky due to his ability to fly around the place with a Magic Soul',\n",
       " 'Noelle can be described as ive a child',\n",
       " 'Sol can be described as ștze',\n",
       " 'Kirsch can be described as ichiro-esque and cold',\n",
       " 'Charlotte can be described as iced up, and she is able to be seen crying and shaking',\n",
       " 'Asta can be described as 『I would have just told that』 and they are all alive',\n",
       " 'Julius can be described as Ânestil',\n",
       " 'Yuno can be described as 『ライン・や」陨」大行陜�',\n",
       " 'Orsi can be described as 【アイ】, and explains that his father did not suffer death by magic',\n",
       " 'Asta can be described as 【けのやむん】',\n",
       " 'Lily can be described as 〲魔法, while the monsters are on the ground',\n",
       " 'Gauche can be described as ixivinati, with the devil-like nature of those who fight alongside him',\n",
       " 'Gordon can be described as iced, but after a brief battle and they manage to defeat the Rabbit Rabbit, the Rabbit manages to',\n",
       " 'Henry can be described as ichiro, a great soldier',\n",
       " 'Magna can be described as vernacular English, a former member of the Holy Knights',\n",
       " 'Luck can be described as iced and he thinks he has good luck overcoming some of the curse',\n",
       " 'Charmy can be described as ersatz, but the entire royal family is unaware that they are members of the new king',\n",
       " 'Grey can be described as The Black Bulls were very angry about the defeat of the last Wizard King',\n",
       " 'Asta can be described as iced with a red robe of healing magic',\n",
       " 'Vanessa can be described as -Lifelong',\n",
       " 'Secre can be described as vernacular, yet the entire base is also very cool, and the ground is also so good',\n",
       " 'Secre can be described as iced and wearing his new armor',\n",
       " 'Yami can be described as ian‒s most trusted man, though he and Yami have a history as a kind of',\n",
       " 'Asta can be described as ingpike-pikey',\n",
       " \"Henry can be described as icky, angry, timid, and very angry as the black bull's head appears\",\n",
       " 'Yami can be described as 『\\u202a』 as a red-haired man who has a long, narrow beard and is considered',\n",
       " 'Asta can be described as 【Mephalic】 but not the Dark Triad nor the Dark Triad',\n",
       " 'Gauche can be described as icky and uneducated but gives Asta new directions',\n",
       " 'Gordon can be described as 临洪',\n",
       " 'Magna can be described as _____ and he has been doing a good job with him',\n",
       " 'Zora can be described as iced up and very cool when she does appear',\n",
       " \"Noelle can be described as urchin's good buddy\",\n",
       " \"Grey can be described as iliage, like Gweny's son\",\n",
       " 'Asta can be described as izizarro-like',\n",
       " 'Vanessa can be described as ianna, who can be heard in both directions to tell the story of the magic that is coming',\n",
       " 'Finral can be described as 『極』 who represents the power that the two power bring to the world',\n",
       " 'Leopold can be described as 『『Energized』 by his Magic Sword, but he is afraid too much about the Princess',\n",
       " 'Rill can be described as but Ralph is not pleased that this was not their final word',\n",
       " 'Orsi can be described as icky as he is the same type of man he looks like',\n",
       " 'Luck can be described as ____ since he has shown his prowess at the Magic Kingdom',\n",
       " 'Yuno can be described as urchin and is in fact the best person to have ever come across',\n",
       " 'Charmy can be described as iced and very pleased by his efforts',\n",
       " 'Noelle can be described as ʻ�tōdōdōdōdōdōdōdōd',\n",
       " 'Secre can be described as iliac with a purple nose and a thick head',\n",
       " 'Mimosa can be described as ikaze, and receives instructions to make sure that all his friends are alive',\n",
       " 'Asta can be described as icky, but he is calm and confident',\n",
       " 'Lily can be described as']"
      ]
     },
     "execution_count": 22,
     "metadata": {},
     "output_type": "execute_result"
    }
   ],
   "source": [
    "non_greedy_generated_descriptions"
   ]
  },
  {
   "cell_type": "code",
   "execution_count": 23,
   "metadata": {},
   "outputs": [
    {
     "data": {
      "text/plain": [
       "['Yuno can be described as 『『『『『『『『『『『『『『『『『『『『',\n",
       " 'Asta can be described as 『『『『『『『『『『『『『『『『『『『『',\n",
       " 'Lily can be described as 『『『『『『『『『『『『『『『『『『『『',\n",
       " 'Yuno can be described as 『『『『『『『『『『『『『『『『『『『『',\n",
       " 'Orsi can be described as 『『『『『『『『『『『『『『『『『『『『',\n",
       " 'Asta can be described as iced and very strong, but he is not strong enough to fight',\n",
       " 'Lily can be described as iced and very strong, but he is not strong enough to fight',\n",
       " 'Finral can be described as 『『『『『『『『『『『『『『『『『『『『',\n",
       " 'Nozel can be described as',\n",
       " 'Gordon can be described as',\n",
       " 'Rill can be described as 『『『『『『『『『『『『『『『『『『『『',\n",
       " 'Jack can be described as',\n",
       " 'Dorothy can be described as 『『『『『『『『『『『『『『『『『『『『',\n",
       " 'Yami can be described as 『『『『『『『『『『『『『『『『『『『『',\n",
       " 'Fuegoleon can be described as 『『『『『『『『『『『『『『『『『『『『',\n",
       " 'Yuno can be described as 『『『『『『『『『『『『『『『『『『『『',\n",
       " 'Sekke can be described as 『『『『『『『『『『『『『『『『『『『『',\n",
       " 'Charlotte can be described as',\n",
       " 'Asta can be described as 『『『『『『『『『『『『『『『『『『『『',\n",
       " 'William can be described as 『『『『『『『『『『『『『『『『『『『『',\n",
       " 'Yuno can be described as 『『『『『『『『『『『『『『『『『『『『',\n",
       " 'Yami can be described as 『『『『『『『『『『『『『『『『『『『『',\n",
       " 'Sekke can be described as 『『『『『『『『『『『『『『『『『『『『',\n",
       " 'Asta can be described as 『『『『『『『『『『『『『『『『『『『『',\n",
       " 'Klaus can be described as 『『『『『『『『『『『『『『『『『『『『',\n",
       " 'Magna can be described as 『『『『『『『『『『『『『『『『『『『『',\n",
       " 'Asta can be described as 『『『『『『『『『『『『『『『『『『『『',\n",
       " 'Noelle can be described as iced up and is surprised by the new recruit',\n",
       " 'Finral can be described as iced and he is very impressed by the way he is able to control his magic',\n",
       " 'Yami can be described as iced',\n",
       " 'Magna can be described as iced and very happy',\n",
       " 'Yuno can be described as iced and has a smile on his face',\n",
       " 'Klaus can be described as iced and he is very impressed by his magic',\n",
       " 'Noelle can be described as icky and shy',\n",
       " 'Asta can be described as iced and very happy',\n",
       " 'Finral can be described as iced and has a strong sense of humor',\n",
       " 'Yami can be described as iced and has a strong sense of humor',\n",
       " 'Magna can be described as iced and has a large amount of magic',\n",
       " 'Noelle can be described as iced',\n",
       " 'Asta can be described as iced and has a large amount of magic',\n",
       " 'Noelle can be described as iced',\n",
       " 'Asta can be described as iced and has a very strong sense of humor',\n",
       " 'Magna can be described as iced and has a very strong sense of humor',\n",
       " 'Magna can be described as',\n",
       " 'Noelle can be described as iced',\n",
       " 'Asta can be described as',\n",
       " 'Finral can be described as',\n",
       " 'Magna can be described as',\n",
       " 'Lily can be described as iced',\n",
       " 'Noelle can be described as icky and says that he is going to take her to the castle',\n",
       " 'Sekke can be described as',\n",
       " 'Asta can be described as',\n",
       " 'Vanessa can be described as iced']"
      ]
     },
     "execution_count": 23,
     "metadata": {},
     "output_type": "execute_result"
    }
   ],
   "source": [
    "greedy_generated_descriptions"
   ]
  },
  {
   "cell_type": "code",
   "execution_count": 24,
   "metadata": {},
   "outputs": [],
   "source": [
    "non_greedy_generated_descriptions_simple = []\n",
    "for doc in nonTokenizedWsubj_docs:\n",
    "    for subject in doc[\"subjects\"]:\n",
    "        generated_doc = generate(subject + \" can be described as \", max_length=1024, greedy=False)\n",
    "        generated_desc = re.sub(r\"\\s+\", \" \", (re.split(r\"[.;:!?]\", generated_doc[0].strip())[0]))\n",
    "        non_greedy_generated_descriptions_simple.append(generated_desc)"
   ]
  },
  {
   "cell_type": "code",
   "execution_count": 25,
   "metadata": {},
   "outputs": [],
   "source": [
    "greedy_generated_descriptions_simple = []\n",
    "for doc in nonTokenizedWsubj_docs[:10]:\n",
    "    for subject in doc[\"subjects\"]:\n",
    "        generated_doc = generate(subject + \" can be described as \", max_length=1024, greedy=True)\n",
    "        generated_desc = re.sub(r\"\\s+\", \" \", (re.split(r\"[.;:!?]\", generated_doc[0].strip())[0]))\n",
    "        greedy_generated_descriptions_simple.append(generated_desc)"
   ]
  },
  {
   "cell_type": "code",
   "execution_count": 26,
   "metadata": {},
   "outputs": [
    {
     "data": {
      "text/plain": [
       "['Yuno can be described as icky,\\u202e️,\\u202e️,\\u202e️,\\u202e️,\\u202e',\n",
       " 'Asta can be described as erylic acid, which does not necessarily indicate the presence of an enzyme in the bane or in',\n",
       " 'Lily can be described as ike‽, with an eye twinkling out at him',\n",
       " 'Yuno can be described as 一为来一踰, a character that takes on different roles as a person',\n",
       " 'Orsi can be described as iced up and dressed as an elf',\n",
       " 'Asta can be described as 《 〇〇 , or a \\u200c々, or a t',\n",
       " 'Lily can be described as icky, cold, and a very thin-skinned being',\n",
       " 'Finral can be described as ˞ləm, but the only thing to consider here is that no real-world',\n",
       " 'Nozel can be described as iced like a cactus',\n",
       " 'Gordon can be described as (Laughter) “ At the same time, if you can call yourself an',\n",
       " 'Rill can be described as __________________',\n",
       " 'Jack can be described as 『Miku›››』, but he is already quite happy about his own',\n",
       " 'Dorothy can be described as _______ or _______ with a long, heavy fur tail',\n",
       " 'Yami can be described as 【 ながる】, a cute girl who is a regular',\n",
       " 'Fuegoleon can be described as ikaelis When this trait is found, it can be',\n",
       " 'Yuno can be described as 『ダイアレゼット\\u200c,\\u200c両ゃん) as',\n",
       " 'Sekke can be described as the same person who is called “the king,“ and therefore is considered more like',\n",
       " 'Charlotte can be described as \"the very best woman she has ever played with, an amazing woman who was always amazing but',\n",
       " 'Asta can be described as Â the greatest hero to ever take on the mantle',\n",
       " 'William can be described as',\n",
       " 'Yuno can be described as 促宖備',\n",
       " 'Yami can be described as 『『ゆる』』 from the very beginning',\n",
       " 'Sekke can be described as a good fit for his side with some other top strikers, which have been in the final 12',\n",
       " 'Asta can be described as icky but the term \"the girl\" is now common in the language of English',\n",
       " 'Klaus can be described as iphones',\n",
       " 'Magna can be described as сс�яд сэтогоросс',\n",
       " 'Asta can be described as ˊΛΛ”, or ˊΛΛ”',\n",
       " 'Noelle can be described as icky, jolly, or pretty',\n",
       " 'Finral can be described as icky and not a perfect person',\n",
       " 'Yami can be described as 俱隊甩, a short film titled 孁魑幄�',\n",
       " 'Magna can be described as Âknee-hoof-claws in this article',\n",
       " 'Yuno can be described as ikigu-kohashi (a ‧及今) is a girl with',\n",
       " 'Klaus can be described as ikn, or it› The word was borrowed from a popular folk tale where the king',\n",
       " 'Noelle can be described as ______________',\n",
       " 'Asta can be described as ‣ __________________________________________________________________________________',\n",
       " 'Finral can be described as 크발인 샕찐젛준',\n",
       " 'Yami can be described as \\ua6ff, a \\u200fㅠ kana',\n",
       " 'Magna can be described as ',\n",
       " 'Noelle can be described as iced-cream',\n",
       " \"Asta can be described as icky, but he is actually rather complex and doesn't seem to have a hard time remembering his name\",\n",
       " 'Noelle can be described as iliotlautus\\u202casque',\n",
       " 'Asta can be described as the first light bulb in a major league baseball',\n",
       " 'Magna can be described as 件件件件, but she has many different ideas',\n",
       " 'Magna can be described as vernacular',\n",
       " 'Noelle can be described as icky',\n",
       " 'Asta can be described as iced pink and shiny',\n",
       " 'Finral can be described as a †‑ an a ( )',\n",
       " 'Magna can be described as irc_k1',\n",
       " 'Lily can be described as цоЭ',\n",
       " 'Noelle can be described as ���D��E�N�NE�N�W�RJ� N�',\n",
       " 'Sekke can be described as his personality is a similar to his personality is a similar to',\n",
       " 'Asta can be described as iced blue-green while the others are blue',\n",
       " 'Vanessa can be described as icky, wobbly, and a bit disconcerting',\n",
       " 'Asta can be described as iced wine that is composed of sweet herbs, such as the white cuneiformes, and was',\n",
       " \"Orsi can be described as _____ if he's strong\",\n",
       " 'Yuno can be described as ichiro and it is a type of cat that eats fruit and has special powers to be a good',\n",
       " 'Klaus can be described as 겡장유엑장섰�',\n",
       " 'Noelle can be described as ivet of people who have the same qualities as they are on the other end of the spectrum',\n",
       " 'Lily can be described as _________ _, or *, as *',\n",
       " 'Mimosa can be described as ːknee',\n",
       " \"Vanessa can be described as [ The story is 'After this I feel like a very good\",\n",
       " 'Sekke can be described as ࣄࣂࣁ and ࣄࣂࣂ',\n",
       " 'Julius can be described as iced like the sea level weaves through the air',\n",
       " 'Orsi can be described as ipsos and nipos',\n",
       " 'Yuno can be described as 企味企絢態 (祭勊紪',\n",
       " 'Klaus can be described as erymphatic',\n",
       " 'Mimosa can be described as ichinoplasty, with little to no special symptoms',\n",
       " 'Julius can be described as 一刲刲骅場否极馬�',\n",
       " 'Asta can be described as the ultimate physical weapon in the game series [note 1]',\n",
       " 'William can be described as an † individual in a number of ways – for instance, it is more in',\n",
       " 'Lily can be described as ˜a child',\n",
       " 'Yami can be described as イースーヘー',\n",
       " 'Magna can be described as 伊纃水让等加時縧',\n",
       " 'Luck can be described as сссапия',\n",
       " 'Yuno can be described as ikaze (an air-wave-like sound), which is the name for a non-flying',\n",
       " 'Noelle can be described as iced on the bottom edge with a small amount of water',\n",
       " 'Asta can be described as 二騣事',\n",
       " 'Vanessa can be described as icky, quiet, thin, very smart (not very athletic if you have to walk, or something',\n",
       " 'Luck can be described as iphonic or a synphony',\n",
       " 'Yuno can be described as 丝坲撯助贀贀堁�',\n",
       " 'Klaus can be described as ********,” he said, ‐* **–** and now he has to kill',\n",
       " 'Noelle can be described as the headstrong, tall, well liked, and able to stand out as a man',\n",
       " 'Mimosa can be described as a species with a wide range of different reproductive characteristics',\n",
       " 'Asta can be described as ichonist',\n",
       " 'William can be described as _____ \"Linda\" \"',\n",
       " 'Mars can be described as iphone-shaped',\n",
       " 'Luck can be described as ',\n",
       " 'Yuno can be described as __________',\n",
       " 'Klaus can be described as ____-____- ____- ____- ____- ____- ____-',\n",
       " 'Noelle can be described as __________',\n",
       " 'Mimosa can be described as vernacular',\n",
       " 'Asta can be described as ː-∝',\n",
       " 'Mars can be described as ilem-like',\n",
       " 'Luck can be described as 【【】※】 and is based on the power of lightning, and is composed of a',\n",
       " 'Yuno can be described as iced tea',\n",
       " 'Klaus can be described as ͜͜ and the world cannot be ͜',\n",
       " \"Noelle can be described as *************'y\",\n",
       " 'Asta can be described as vernacular for the type of face and the number of days to have it changed',\n",
       " 'Mars can be described as Â a ‖a-magnitude orbit (or over the ground)',\n",
       " 'Yuno can be described as 『『『大怫』』…it\\u200d~。茫謲',\n",
       " 'Klaus can be described as iced up a nice little thing, but iced up is more of a t-shirt design than',\n",
       " 'Noelle can be described as icky',\n",
       " 'Mimosa can be described as стойойносца',\n",
       " 'Asta can be described as ˜ ( ˜) that connects us with the solar system and its moons, and they can be',\n",
       " 'Fana can be described as iced or a sweet raspberry tart',\n",
       " 'Mars can be described as ㎁, with the two arms of the one sitting together instead of each other',\n",
       " 'Luck can be described as \\u202a \\u202c”',\n",
       " 'Yuno can be described as ションティマイブ 人来会会',\n",
       " 'Klaus can be described as าัเท่ัเนเง',\n",
       " 'Noelle can be described as icky, thin and thin with a gentle smell',\n",
       " 'Mimosa can be described as iced coffee, black chocolates, and green chocolates that are high in calcium and potassium',\n",
       " 'Asta can be described as ( ',\n",
       " 'Mars can be described as the name of the \"new generation\" of the world',\n",
       " 'Luck can be described as ปุ้นงิูกจก',\n",
       " 'Yuno can be described as icky-sweet',\n",
       " 'Klaus can be described as _________',\n",
       " 'Noelle can be described as iced-creamy-coated',\n",
       " 'Mimosa can be described as urchins (a common condition in the population)',\n",
       " 'Asta can be described as urn\" of an \"acanthic genus',\n",
       " 'Julius can be described as an agile artist and a very popular poet',\n",
       " 'Leopold can be described as eryxicocephalus - a large yellow-ish-gray spiny disc with a medium length',\n",
       " 'Fuegoleon can be described as iced blue',\n",
       " 'Yuno can be described as 不要。 The next step is to create a text input',\n",
       " \"Solid can be described as a '\",\n",
       " \"Noelle can be described as iphone type 'n'-shaped\",\n",
       " 'Asta can be described as iced as a brown pepper, roasted black pepper, and a white pepper',\n",
       " 'Nozel can be described as 一爇爇爇定',\n",
       " 'Julius can be described as izinilip, and the izinilip is a person of \"high intelligence\"',\n",
       " 'Leopold can be described as iphone which is a 5-gram polycarbonate material',\n",
       " 'Fuegoleon can be described as _____1~2\\\\e0\\\\e0\\\\e0\\\\)\\\\e0\\\\e0',\n",
       " 'Yuno can be described as 『大正』 but he has also found her in a dungeon called Yuki Tsurun',\n",
       " 'Klaus can be described as icky, lazy, and somewhat annoying',\n",
       " 'Solid can be described as 『Vibrant-Wielding Sword』 in its entirety when it s pierced in its',\n",
       " 'Noelle can be described as 『Rabbi,” she says]',\n",
       " 'Sol can be described as icky and an out-there-lobbyist who loves to see the world unfold',\n",
       " 'Charlotte can be described as ~~ What can I say to you',\n",
       " 'Asta can be described as 퍌 Sappling A small, black, sandy-white (or brown',\n",
       " 'Nozel can be described as _________ _________ 1 2 3 4 5 6 7 8 9 10 11 12 13',\n",
       " \"Leopold can be described as iaquatici - 'a reddish light green light orange'\",\n",
       " 'Charmy can be described as',\n",
       " \"Asta can be described as _____[8] or “_____[9]”, but it's a fairly small\",\n",
       " 'Nozel can be described as [1i] a small ball rolling westerly over the edges of his neck',\n",
       " 'Julius can be described as vernacularly',\n",
       " 'Leopold can be described as icky and hard-working-and-not-really-impossible',\n",
       " 'Fuegoleon can be described as iced',\n",
       " 'Yuno can be described as 【3-1】 【4-3】 【2-1】 【3',\n",
       " 'Noelle can be described as ianna\\u200ci\\u200ce of ianna\\u200ci\\u200ce of',\n",
       " 'Asta can be described as ˜˜˜˜˜˜˜˜˜˜˜˜˜˜˜˜˜˜˜˜',\n",
       " 'Nozel can be described as ikra , a medium-sized figure capable of eating much more than a typical head',\n",
       " 'Leopold can be described as vernacular',\n",
       " 'Fuegoleon can be described as ichalomander, an ichalomander, that forms a branch of a turtle',\n",
       " 'Yuno can be described as iced cream with a lemon and lemon zest',\n",
       " 'Charmy can be described as ivelaxmoid',\n",
       " 'Noelle can be described as ichir (gibber-wearing)',\n",
       " 'Asta can be described as iced cream with an olive oil',\n",
       " 'Leopold can be described as erythrocytes, a group of lizards who have been isolated from the land',\n",
       " 'Noelle can be described as ʒɴɑʒa',\n",
       " 'Asta can be described as erythema erythema, but in fact it appears to have been the result of its',\n",
       " 'Julius can be described as ˜Curtis and his three daughters [in their own words], including his four daughters',\n",
       " 'Leopold can be described as ˜˜˜˜˜˜˜˜˜˜˜˜˜˜˜˜˜˜˜˜',\n",
       " 'Yami can be described as ikalani’s favorite character and the series has evolved into a very close family',\n",
       " 'Magna can be described as ˈraɪlmɪˈraːrɪlmɪ',\n",
       " 'Fuegoleon can be described as ____',\n",
       " 'Yuno can be described as スタード 、カミーズキーズ カー、椇',\n",
       " 'Charmy can be described as ссделут с̄иим синил',\n",
       " 'Noelle can be described as iced as a bit of a sweet nectar, this one is especially interesting because it makes her take',\n",
       " 'Klaus can be described as ˈɪl and, at least, \"the first part of a new world',\n",
       " 'Charlotte can be described as a beautiful and wonderful man',\n",
       " 'Asta can be described as ichiro or a zebra, or as a zebra',\n",
       " 'Nozel can be described as icky, a little bit taut and quick, but he just got to the stage and there�',\n",
       " 'Julius can be described as',\n",
       " 'Gauche can be described as icky and a great trainer',\n",
       " 'Finral can be described as 가가가래니니니',\n",
       " 'Gordon can be described as __________, being kind of a small-time leader, and he‖ts and lul',\n",
       " 'Magna can be described as iz-shalakana by a lot of students, especially in Japan, and this study has',\n",
       " 'Luck can be described as vernacular',\n",
       " 'Charmy can be described as icky icky koolie icky koolie',\n",
       " 'Noelle can be described as iced to be able to sing, or to sing',\n",
       " 'Sekke can be described as ersatz',\n",
       " 'Asta can be described as 튥霼, 紑爗 and 홰�',\n",
       " 'Gordon can be described as 𝐶𝐶𝐶𝐶',\n",
       " 'Yami can be described as 【ろよ】 and 【ろ] can be the main cast, but when',\n",
       " 'Mars can be described as ichuanian',\n",
       " 'Orsi can be described as сnip,” a type of greenish, brownish cream, that contains a hint',\n",
       " 'Yuno can be described as いうか',\n",
       " 'Klaus can be described as iced and smooth',\n",
       " 'Sekke can be described as erytheonic, and the name is actually †pike”',\n",
       " 'Noelle can be described as “ “ “ “ “ “ “ ““,',\n",
       " 'Mimosa can be described as ɔːi, or at least “ɝt',\n",
       " 'Asta can be described as iced like it does iced as it does iced as it does iced as it does',\n",
       " 'Gauche can be described as icky“keb”',\n",
       " 'Theresa can be described as _____ in the name of Chelsea, but there is no reference to the name of Chelsea‹',\n",
       " 'Yami can be described as ike-man who is a young girl in a blue suit and tan brown hair',\n",
       " 'Orsi can be described as ɓm or ɛn',\n",
       " 'Magna can be described as the same as the following \"possum\" to have its own special effects',\n",
       " 'Yuno can be described as 会钌綻金晗 and 圁卉�',\n",
       " \"Klaus can be described as ikl, a short stature that doesn't require moving from height to length\",\n",
       " 'Charmy can be described as an old man named Richard O\\u202a who had just left the town due to his brother�',\n",
       " 'Noelle can be described as _______________',\n",
       " 'Marie can be described as iphobic in general but more so in the specific sexual orientation (e',\n",
       " 'Mimosa can be described as icky yellow and yellow so that they are not easily identifiable',\n",
       " 'Asta can be described as izier, and its light source is known as fission',\n",
       " 'Lily can be described as \\ue8c6 \\ue8c6 \\ue8c6',\n",
       " 'Gauche can be described as , - ',\n",
       " 'Theresa can be described as very nice,” but this is a much better compliment for you',\n",
       " 'Noelle can be described as ike’s big, big, great, big',\n",
       " 'Sekke can be described as \"The most impressive of all\"',\n",
       " 'Marie can be described as \"the father of munchies',\n",
       " 'Asta can be described as се̂ я́ роге́́́�',\n",
       " 'Gauche can be described as Â-Â-Â-Â-Â-Â-Â-Â-Â-Â-',\n",
       " 'Gordon can be described as ˜A member of the royal family, as though they are simply a very intelligent and talented member of',\n",
       " 'Asta can be described as slightly taller',\n",
       " 'Theresa can be described as iced in a way that is refreshing to people',\n",
       " 'Yami can be described as izuki',\n",
       " 'Fuegoleon can be described as ichai no no no (although it really does look like it has an unusual shape and is not',\n",
       " 'Noelle can be described as ㅠㅠ (Source',\n",
       " 'Sally can be described as солокех спростейа',\n",
       " 'Marie can be described as iced with sweet white sugar or white vinegar or honey, while I take the fruit juice and juice from',\n",
       " 'Sekke can be described as icky, clumsy, and quite possibly weak',\n",
       " 'Lily can be described as icky, but the other two of them appear to lack the same basic characteristics',\n",
       " 'Gauche can be described as ick or †chic,‰nacin,‰sibut or �',\n",
       " \"Theresa can be described as 'a lovely woman that I never have met before, or something you can understand\",\n",
       " 'Licht can be described as ikell‽z',\n",
       " 'Yuno can be described as vernacular\\u202c while it is not clear when it will start',\n",
       " 'Sally can be described as Ânaked by the female, and this man is the leader who brought him to heaven',\n",
       " 'Marie can be described as ››\\u200e (†‡) or †\\u200e (Dot in',\n",
       " 'Asta can be described as a bit dark to the naked eye but is a slightly warmer than the original in this species',\n",
       " 'Finral can be described as iced up',\n",
       " 'Theresa can be described as ilephatic',\n",
       " \"Yami can be described as ikami's self\",\n",
       " 'Licht can be described as icky, uninterested in the topic',\n",
       " 'Fuegoleon can be described as “ the world that” can appear from the right',\n",
       " 'Sally can be described as ive seen above during the trial and the following',\n",
       " 'Asta can be described as more like a different person than a different person than a specific person or',\n",
       " \"Gauche can be described as a -'-'-'-'-'' -'- '\",\n",
       " 'Finral can be described as ʁwɛ and its body, resembling the shape of a giant tree',\n",
       " 'Fana can be described as icky and not quite as scary',\n",
       " 'Jack can be described as _____',\n",
       " 'Licht can be described as ich a hatchet',\n",
       " 'Yami can be described as and can also be described as and can also be described as and can also',\n",
       " 'Theresa can be described as',\n",
       " 'Noelle can be described as iphone’s favorite song',\n",
       " 'Marie can be described as 【I]x-X-X-Y-L-Q-Z (an abbreviation',\n",
       " 'Charlotte can be described as icky-sweet',\n",
       " 'Vetto can be described as iced or made of a sweet chocolate flavoured syrup while you eat and eat in the cold',\n",
       " 'Asta can be described as ธโะาางบกู฿',\n",
       " 'Nozel can be described as 기젱뼄의 싁다젂�',\n",
       " 'Rill can be described as 『ペーンコンクロージェンデアーージック 』',\n",
       " 'Yami can be described as ivelkin who is a very active personality, his best friend-friend, and the very last',\n",
       " 'Fuegoleon can be described as vernacular, but is used as an English-language vocabulary',\n",
       " \"Charlotte can be described as icky 'Hair' in Charlotte, Charlotte, New York\",\n",
       " 'Asta can be described as _____, _____, _____, _____ or _____(if you have the same name',\n",
       " 'Julius can be described as icky but very friendly on one side of the table',\n",
       " 'Gauche can be described as ixiigang‾skellt',\n",
       " 'Finral can be described as 一酝路刑路刑路刑�',\n",
       " 'Gordon can be described as vernacular',\n",
       " 'Yami can be described as 〣穮笻萲, and the two characters who had an affinity',\n",
       " 'Magna can be described as the † the eye‡ of the eye‡ of',\n",
       " 'Luck can be described as _____,‛, and a very unique character',\n",
       " 'Yuno can be described as 껉라',\n",
       " 'Klaus can be described as iced on all sides of the planet',\n",
       " 'Noelle can be described as iliac',\n",
       " 'Charmy can be described as Â-5',\n",
       " 'Mimosa can be described as ____\\u200f\\u200f\\u200f\\u200f\\u200f\\u200f\\u200f\\u200f\\u200f�',\n",
       " 'Asta can be described as ~~ (Cannabis) or \"Marijuana',\n",
       " 'Vanessa can be described as urchin’d’d’d’d’d’d',\n",
       " 'Gauche can be described as ivet of an earthian, a spongy, and a snarling beast',\n",
       " 'Yami can be described as 【1】~【2】~【3】~霪己九,',\n",
       " 'Magna can be described as the biggest ‡in\\u202c and the least of the 2',\n",
       " 'Luck can be described as _____',\n",
       " 'Charmy can be described as icky',\n",
       " 'Noelle can be described as ÂÂfantastical',\n",
       " 'Asta can be described as “ “ “ This image is',\n",
       " 'Vanessa can be described as iced wine-like, and some people would say she is quite a culinary chef',\n",
       " 'Gauche can be described as มฝัู้ถู or วง',\n",
       " 'Yami can be described as 『ハイスナド』 by 歬校めーよう,',\n",
       " 'Magna can be described as iced with a broad brush and thick blackish brown to make a smooth line between the top and bottom',\n",
       " 'Luck can be described as \"the second-highest power in the game\", with an ability to “make one turn',\n",
       " 'Charmy can be described as an aggressive warrior, who deals a lot of damage to his enemies with a melee attack made as',\n",
       " 'Noelle can be described as urnia and be found at a place called \\u202cCobble Park, owned by the owners',\n",
       " 'Grey can be described as iced black as a black eye',\n",
       " 'Vetto can be described as in this post',\n",
       " 'Asta can be described as numerous –s›',\n",
       " 'Gauche can be described as iced tea',\n",
       " 'Finral can be described as iced sweet and dark brown with a hint of ginger',\n",
       " 'Licht can be described as iced or cured by a special oil',\n",
       " 'Yami can be described as บลกาลธ (and he did not get him killed',\n",
       " 'Yuno can be described as 俴洀',\n",
       " 'Noelle can be described as ike',\n",
       " 'Vetto can be described as Â of a small, long, broad band of people, each of whom had their entire right to',\n",
       " 'Asta can be described as iced in the most fundamental way possible, the water vapor and the water vapor molecules',\n",
       " \"Vanessa can be described as _________________________________________________ To be fair you can tell me the reason why I'm here in the United States\",\n",
       " 'Finral can be described as ixi',\n",
       " 'Fana can be described as iced with a creamy finish with a creamy texture',\n",
       " 'Licht can be described as ichkein können wann oder äber anselleich',\n",
       " 'Mars can be described as 【~<5~>~~',\n",
       " 'Asta can be described as vernacular, but it is not as straightforward',\n",
       " 'Asta can be described as ixvorbital and has many other features',\n",
       " 'Yami can be described as a good man',\n",
       " 'Yuno can be described as 『‼』 a very simple and easy friend',\n",
       " 'Sol can be described as iphantastic or mopiphantastic',\n",
       " 'Charlotte can be described as a sweet sweet little woman whose eyes open to eyes - that’s where her head first',\n",
       " 'Jack can be described as very fun and fun and I think it is good to have the fun',\n",
       " 'Nozel can be described as icky,” he said',\n",
       " 'Julius can be described as izuki, the ‐yuki\\u202c',\n",
       " 'Charmy can be described as ichthy, which is generally a common form of yellowish hair',\n",
       " 'Yami can be described as 信枠綰発正騀智�',\n",
       " 'William can be described as \\ue012a laboratory to the various \\ue030cousers in his work',\n",
       " 'Rill can be described as ˈɼstell, ˈɼrɾlɪm,',\n",
       " 'Licht can be described as _______________',\n",
       " 'Yami can be described as ikimatsu',\n",
       " 'Fuegoleon can be described as 〒s,〒s,〒s,〒s,〒s,',\n",
       " 'Luck can be described as iced and used to change your character but the same is not used anymore',\n",
       " 'Zora can be described as 『クカノ・ナイト・スリート・ロスデビー』』',\n",
       " 'Noelle can be described as in the middle of the process',\n",
       " 'Sol can be described as urn-shaped, and the space is approximately 25 miles (60 kilometers) wide',\n",
       " 'Kirsch can be described as icky',\n",
       " 'Charlotte can be described as Â the best queen in the world',\n",
       " 'Asta can be described as the \\u202d\\u202d\\u202d\\u202d\\u202d\\u202d\\u202d\\u202d\\u202d',\n",
       " 'Julius can be described as iced',\n",
       " 'Yuno can be described as 【★★★★★★★★★★★★★★★★★★★★',\n",
       " 'Orsi can be described as ikellelelelele',\n",
       " 'Asta can be described as a cold, hard-to-reach type that has been classified in the category b',\n",
       " 'Lily can be described as icky-looking but she has an overall, very light build',\n",
       " 'Gauche can be described as iancipheb, who can be considered a \"strong guy\"',\n",
       " 'Gordon can be described as “ the greatest “ in the world“',\n",
       " 'Henry can be described as urnish',\n",
       " 'Magna can be described as цечься (i',\n",
       " 'Luck can be described as iced coffee with butter',\n",
       " 'Charmy can be described as ____ or biceps',\n",
       " 'Grey can be described as срягаротащ‰лидиа',\n",
       " 'Asta can be described as ວວວວວວ�',\n",
       " 'Vanessa can be described as iced with a sharp, clean, and very pleasant taste',\n",
       " 'Secre can be described as ____ with regards to the following phrases',\n",
       " \"Secre can be described as *********** from the'sourced version of this article\",\n",
       " 'Yami can be described as ikele',\n",
       " 'Asta can be described as Â Â Â Â Â Â 3Â Â 3Â',\n",
       " 'Henry can be described as vernacular but is an example of how you can describe it - even in a particular language where you',\n",
       " 'Yami can be described as',\n",
       " 'Asta can be described as ˍt-f-t-m-y-b, and is described as �',\n",
       " 'Gauche can be described as iced watermelon',\n",
       " 'Gordon can be described as icky, so when he tells it, he’s a little bit depressed',\n",
       " 'Magna can be described as 『アンアーム】…it can be used with its normal forms\\u200d…it',\n",
       " 'Zora can be described as ຈາ\\u0ebfຳູຕ�',\n",
       " 'Noelle can be described as the son of “ an extremely talented young man, who has been married to Anna for three',\n",
       " 'Grey can be described as ichthy-red, mocha-coughed, or a manly, and have',\n",
       " 'Asta can be described as an impromptu play by one team',\n",
       " 'Vanessa can be described as urchin, a tall 5-foot-7 with thin hair, and long brown eyes',\n",
       " 'Finral can be described as vernacular and it is difficult to grasp the proper sense of the word',\n",
       " 'Leopold can be described as iced, but the colour of his head also resembles iced',\n",
       " 'Rill can be described as ikert who is described as ikert who has some of his physical features',\n",
       " 'Orsi can be described as ichorlian-hormous and a great strength with long arms',\n",
       " 'Luck can be described as ills with strong hands and a smooth motion',\n",
       " 'Yuno can be described as Â Â Â Â Â Â Â Â • (1) The',\n",
       " 'Charmy can be described as iced up',\n",
       " \"Noelle can be described as ,'' '\",\n",
       " 'Secre can be described as 𝑯\\U0001d3f7” on this thread, which is currently being cleaned by a thread',\n",
       " 'Mimosa can be described as icky (i',\n",
       " 'Asta can be described as ersatz',\n",
       " 'Lily can be described as 【【{{|[{{|[{{ ||{{ | | | ||}}|}}']"
      ]
     },
     "execution_count": 26,
     "metadata": {},
     "output_type": "execute_result"
    }
   ],
   "source": [
    "non_greedy_generated_descriptions_simple"
   ]
  },
  {
   "cell_type": "code",
   "execution_count": 27,
   "metadata": {},
   "outputs": [
    {
     "data": {
      "text/plain": [
       "['In Hage, a priest finds two babies abandoned outside his church',\n",
       " 'In Hage, a priest finds two babies abandoned outside his church',\n",
       " 'In Hage, a priest finds two babies abandoned outside his church',\n",
       " 'A city is being attacked by a giant demon',\n",
       " 'A city is being attacked by a giant demon',\n",
       " 'A city is being attacked by a giant demon',\n",
       " 'A city is being attacked by a giant demon',\n",
       " 'The boys arrive in Kikka and register for the Magic Knights Entrance Exam',\n",
       " 'The boys arrive in Kikka and register for the Magic Knights Entrance Exam',\n",
       " 'The boys arrive in Kikka and register for the Magic Knights Entrance Exam',\n",
       " 'The boys arrive in Kikka and register for the Magic Knights Entrance Exam',\n",
       " 'The boys arrive in Kikka and register for the Magic Knights Entrance Exam',\n",
       " 'The boys arrive in Kikka and register for the Magic Knights Entrance Exam',\n",
       " 'The boys arrive in Kikka and register for the Magic Knights Entrance Exam',\n",
       " 'The boys arrive in Kikka and register for the Magic Knights Entrance Exam',\n",
       " 'The boys arrive in Kikka and register for the Magic Knights Entrance Exam',\n",
       " 'The boys arrive in Kikka and register for the Magic Knights Entrance Exam',\n",
       " 'The boys arrive in Kikka and register for the Magic Knights Entrance Exam',\n",
       " 'The boys arrive in Kikka and register for the Magic Knights Entrance Exam',\n",
       " 'The boys arrive in Kikka and register for the Magic Knights Entrance Exam',\n",
       " 'After Asta defeats Sekke Bronzazza and announces his intention to become the Wizard King, the crowd thinks that Asta is being delusional',\n",
       " 'After Asta defeats Sekke Bronzazza and announces his intention to become the Wizard King, the crowd thinks that Asta is being delusional',\n",
       " 'After Asta defeats Sekke Bronzazza and announces his intention to become the Wizard King, the crowd thinks that Asta is being delusional',\n",
       " 'After Asta defeats Sekke Bronzazza and announces his intention to become the Wizard King, the crowd thinks that Asta is being delusional',\n",
       " \"Yuno is introduced to Klaus Lunettes at Golden Dawn's base\",\n",
       " \"Yuno is introduced to Klaus Lunettes at Golden Dawn's base\",\n",
       " \"Yuno is introduced to Klaus Lunettes at Golden Dawn's base\",\n",
       " \"Yuno is introduced to Klaus Lunettes at Golden Dawn's base\",\n",
       " 'Asta is taken to his new room',\n",
       " 'Asta is taken to his new room',\n",
       " 'Asta is taken to his new room',\n",
       " 'Asta is taken to his new room',\n",
       " 'Asta is taken to his new room',\n",
       " 'Asta is taken to his new room',\n",
       " 'Asta is taken to his new room',\n",
       " 'Asta cleans, does the laundry, and feeds the beasts',\n",
       " 'Asta cleans, does the laundry, and feeds the beasts',\n",
       " 'Asta cleans, does the laundry, and feeds the beasts',\n",
       " 'Asta cleans, does the laundry, and feeds the beasts',\n",
       " 'Asta cleans, does the laundry, and feeds the beasts',\n",
       " 'Asta gets chased by a wild boar while Noelle Silva and Magna Swing watch',\n",
       " 'Asta gets chased by a wild boar while Noelle Silva and Magna Swing watch',\n",
       " 'Asta gets chased by a wild boar while Noelle Silva and Magna Swing watch',\n",
       " \"Magna Swing is proud of Noelle Silva for creating the Sea Dragon's Nest around the townspeople\",\n",
       " \"Magna Swing is proud of Noelle Silva for creating the Sea Dragon's Nest around the townspeople\",\n",
       " \"Magna Swing is proud of Noelle Silva for creating the Sea Dragon's Nest around the townspeople\",\n",
       " \"Asta, Magna Swing, and Noelle Silva return to the Black Bull's base\",\n",
       " \"Asta, Magna Swing, and Noelle Silva return to the Black Bull's base\",\n",
       " \"Asta, Magna Swing, and Noelle Silva return to the Black Bull's base\",\n",
       " \"Asta, Magna Swing, and Noelle Silva return to the Black Bull's base\",\n",
       " \"Asta, Magna Swing, and Noelle Silva return to the Black Bull's base\",\n",
       " \"Asta, Magna Swing, and Noelle Silva return to the Black Bull's base\",\n",
       " \"Asta, Magna Swing, and Noelle Silva return to the Black Bull's base\"]"
      ]
     },
     "execution_count": 27,
     "metadata": {},
     "output_type": "execute_result"
    }
   ],
   "source": [
    "greedy_generated_descriptions_simple"
   ]
  },
  {
   "cell_type": "code",
   "execution_count": null,
   "metadata": {},
   "outputs": [],
   "source": []
  }
 ],
 "metadata": {
  "kernelspec": {
   "display_name": "Python 3.10.6 64-bit",
   "language": "python",
   "name": "python3"
  },
  "language_info": {
   "codemirror_mode": {
    "name": "ipython",
    "version": 3
   },
   "file_extension": ".py",
   "mimetype": "text/x-python",
   "name": "python",
   "nbconvert_exporter": "python",
   "pygments_lexer": "ipython3",
   "version": "3.10.6"
  },
  "orig_nbformat": 4,
  "vscode": {
   "interpreter": {
    "hash": "e7370f93d1d0cde622a1f8e1c04877d8463912d04d973331ad4851f04de6915a"
   }
  }
 },
 "nbformat": 4,
 "nbformat_minor": 2
}
