{
 "cells": [
  {
   "cell_type": "code",
   "execution_count": 8,
   "metadata": {},
   "outputs": [],
   "source": [
    "from utils.json_utils import read_json"
   ]
  },
  {
   "cell_type": "code",
   "execution_count": 9,
   "metadata": {},
   "outputs": [],
   "source": [
    "summarized = read_json(\"20_summarizing_w_bert_docs.json\")\n",
    "characters = read_json(\"3_characters_black_clover.json\")"
   ]
  },
  {
   "cell_type": "code",
   "execution_count": 10,
   "metadata": {},
   "outputs": [
    {
     "data": {
      "text/plain": [
       "{'Yuno': [{'token': 'evil', 'prob': 0.5039066672325134},\n",
       "  {'token': 'demonic', 'prob': 0.05361984297633171},\n",
       "  {'token': 'possessed', 'prob': 0.021556610241532326},\n",
       "  {'token': 'Satan', 'prob': 0.017449866980314255},\n",
       "  {'token': 'bad', 'prob': 0.011732258833944798}],\n",
       " 'Asta': [{'token': 'evil', 'prob': 0.5200517177581787},\n",
       "  {'token': 'demonic', 'prob': 0.06260091066360474},\n",
       "  {'token': 'Satan', 'prob': 0.026190709322690964},\n",
       "  {'token': 'possessed', 'prob': 0.01931644231081009},\n",
       "  {'token': 'bad', 'prob': 0.013336768373847008}],\n",
       " 'Lily': [{'token': 'evil', 'prob': 0.4212772846221924},\n",
       "  {'token': 'possessed', 'prob': 0.04062346741557121},\n",
       "  {'token': 'demonic', 'prob': 0.0402461439371109},\n",
       "  {'token': 'beautiful', 'prob': 0.028998661786317825},\n",
       "  {'token': 'hell', 'prob': 0.010810873471200466}]}"
      ]
     },
     "execution_count": 10,
     "metadata": {},
     "output_type": "execute_result"
    }
   ],
   "source": [
    "summarized[0]"
   ]
  },
  {
   "cell_type": "code",
   "execution_count": 11,
   "metadata": {},
   "outputs": [],
   "source": [
    "by_character_first_token = dict()\n",
    "by_character_tokens = dict()\n",
    "\n",
    "for character in characters:\n",
    "    by_character_first_token[character] = []\n",
    "    by_character_tokens[character] = []\n",
    "\n",
    "for x in summarized:\n",
    "    for c in x:\n",
    "        for k in x[c][0]:\n",
    "            if k == \"token\":\n",
    "                by_character_first_token[c].append(x[c][0][k])\n",
    "        for o in x[c]:\n",
    "            for k in o:\n",
    "                if k == \"token\":\n",
    "                    by_character_tokens[c].append(o[k])"
   ]
  },
  {
   "cell_type": "code",
   "execution_count": 12,
   "metadata": {},
   "outputs": [],
   "source": [
    "import pandas as pd"
   ]
  },
  {
   "cell_type": "code",
   "execution_count": 13,
   "metadata": {},
   "outputs": [
    {
     "name": "stderr",
     "output_type": "stream",
     "text": [
      "/tmp/ipykernel_2680721/3440840642.py:5: FutureWarning: The default dtype for empty Series will be 'object' instead of 'float64' in a future version. Specify a dtype explicitly to silence this warning.\n",
      "  by_character_first_token_as_series[character] = pd.Series(by_character_first_token[character])\n",
      "/tmp/ipykernel_2680721/3440840642.py:6: FutureWarning: The default dtype for empty Series will be 'object' instead of 'float64' in a future version. Specify a dtype explicitly to silence this warning.\n",
      "  by_character_tokens_as_series[character] = pd.Series(by_character_tokens[character])\n"
     ]
    }
   ],
   "source": [
    "by_character_first_token_as_series = dict()\n",
    "by_character_tokens_as_series = dict()\n",
    "\n",
    "for character in characters:\n",
    "    by_character_first_token_as_series[character] = pd.Series(by_character_first_token[character])\n",
    "    by_character_tokens_as_series[character] = pd.Series(by_character_tokens[character])"
   ]
  },
  {
   "cell_type": "code",
   "execution_count": 14,
   "metadata": {},
   "outputs": [],
   "source": [
    "for character in characters:\n",
    "    with open(\"20_\" + character + \"_tokens.txt\", \"w\") as f:\n",
    "        print(by_character_tokens_as_series[character].value_counts().to_string(), file=f)\n",
    "    with open(\"20_\" + character + \"_first_tokens.txt\", \"w\") as f:\n",
    "        print(by_character_first_token_as_series[character].value_counts().to_string(), file=f)"
   ]
  },
  {
   "cell_type": "code",
   "execution_count": null,
   "metadata": {},
   "outputs": [],
   "source": []
  }
 ],
 "metadata": {
  "kernelspec": {
   "display_name": "Python 3.10.6 64-bit",
   "language": "python",
   "name": "python3"
  },
  "language_info": {
   "codemirror_mode": {
    "name": "ipython",
    "version": 3
   },
   "file_extension": ".py",
   "mimetype": "text/x-python",
   "name": "python",
   "nbconvert_exporter": "python",
   "pygments_lexer": "ipython3",
   "version": "3.10.6"
  },
  "orig_nbformat": 4,
  "vscode": {
   "interpreter": {
    "hash": "e7370f93d1d0cde622a1f8e1c04877d8463912d04d973331ad4851f04de6915a"
   }
  }
 },
 "nbformat": 4,
 "nbformat_minor": 2
}
