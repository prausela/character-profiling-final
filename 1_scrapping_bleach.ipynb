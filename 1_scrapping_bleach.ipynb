{
 "cells": [
  {
   "cell_type": "code",
   "execution_count": 1,
   "metadata": {},
   "outputs": [],
   "source": [
    "from bs4 import BeautifulSoup\n",
    "import requests"
   ]
  },
  {
   "cell_type": "code",
   "execution_count": 2,
   "metadata": {},
   "outputs": [],
   "source": [
    "wiki_page = \"https://bleach.fandom.com\""
   ]
  },
  {
   "cell_type": "code",
   "execution_count": 3,
   "metadata": {},
   "outputs": [],
   "source": [
    "def getPageSoup(page):\n",
    "    r       = requests.get(page.replace(\"\\n\", \"\"))\n",
    "    soup    = BeautifulSoup(r.content, \"html.parser\")\n",
    "    return soup"
   ]
  },
  {
   "cell_type": "code",
   "execution_count": 4,
   "metadata": {},
   "outputs": [],
   "source": [
    "def getEpSoup(ep_name):\n",
    "    bleach_wiki             = wiki_page\n",
    "    bleach_wiki_ep_endpoint = bleach_wiki + ep_name\n",
    "    return getPageSoup(bleach_wiki_ep_endpoint)"
   ]
  },
  {
   "cell_type": "code",
   "execution_count": 5,
   "metadata": {},
   "outputs": [],
   "source": [
    "def recoverSummaryFromSoup(ep_summary_soup, allowed_tags=None):\n",
    "    ep_summary = \"\"\n",
    "    for element in ep_summary_soup:\n",
    "        ep_summary += element.getText()\n",
    "    return ep_summary"
   ]
  },
  {
   "cell_type": "code",
   "execution_count": 6,
   "metadata": {},
   "outputs": [],
   "source": [
    "def process_text(element, tag_count):\n",
    "    return element\n",
    "\n",
    "def process_p(element, tag_count):\n",
    "    text = \"\"\n",
    "    for child in element.children:\n",
    "        text += process_element(child, tag_count)\n",
    "    return text\n",
    "\n",
    "def process_a(element, tag_count):\n",
    "    text = \"\"\n",
    "    for child in element.children:\n",
    "        text += process_element(child, tag_count)\n",
    "    return text\n",
    "\n",
    "def process_sup(element, tag_count):\n",
    "    return \"\"\n",
    "\n",
    "def process_br(element, tag_count):\n",
    "    return \"\"\n",
    "\n",
    "def process_i(element, tag_count):\n",
    "    text = \"\"\n",
    "    for child in element.children:\n",
    "        text += process_element(child, tag_count)\n",
    "    return text\n",
    "\n",
    "def process_b(element, tag_count):\n",
    "    text = \"\"\n",
    "    for child in element.children:\n",
    "        text += process_element(child, tag_count)\n",
    "    return text\n",
    "\n",
    "def process_figure(element, tag_count):\n",
    "    return \"\"\n",
    "\n",
    "def default_process(element, tag_count):\n",
    "    return str(element)"
   ]
  },
  {
   "cell_type": "code",
   "execution_count": 7,
   "metadata": {},
   "outputs": [],
   "source": [
    "tag_processors = {\n",
    "    None     : process_text,\n",
    "    \"p\"      : process_p,\n",
    "    \"a\"      : process_a,\n",
    "    \"sup\"    : process_sup,\n",
    "    \"br\"     : process_br,\n",
    "    \"i\"      : process_i,\n",
    "    \"figure\" : process_figure,\n",
    "    \"b\"      : process_b\n",
    "}\n",
    "\n",
    "def update_tag_count(tag_name, tag_count):\n",
    "    if(tag_name in tag_count):\n",
    "        tag_count[tag_name] += 1\n",
    "    else:\n",
    "        tag_count[tag_name] = 1\n",
    "\n",
    "def process_element(element, tag_count):\n",
    "    \n",
    "    update_tag_count(element.name, tag_count)\n",
    "\n",
    "    if(element.name in tag_processors):\n",
    "        return tag_processors[element.name](element, tag_count)\n",
    "    return default_process(element, tag_count)"
   ]
  },
  {
   "cell_type": "code",
   "execution_count": 8,
   "metadata": {},
   "outputs": [],
   "source": [
    "def getEpSummary(ep_name, soup_tag_count=dict()):\n",
    "    ep_soup                 = getEpSoup(ep_name)\n",
    "    ep_summary_title_soup   = ep_soup.select(\"#Summary\").pop().parent\n",
    "    ep_summary_soup_elem    = ep_summary_title_soup.find_next_sibling()\n",
    "    ep_summary = \"\"\n",
    "    while(ep_summary_soup_elem.name != 'h2'):\n",
    "        ep_summary += process_element(ep_summary_soup_elem, soup_tag_count)\n",
    "        ep_summary_soup_elem = ep_summary_soup_elem.find_next_sibling()\n",
    "    try:\n",
    "        next_ep_page = next(ep_soup.select(\"table\").pop().select(\"th\").pop().children)[\"href\"]\n",
    "    except:\n",
    "        next_ep_page = \"\"\n",
    "    return (ep_summary, soup_tag_count, next_ep_page)"
   ]
  },
  {
   "cell_type": "code",
   "execution_count": 9,
   "metadata": {},
   "outputs": [],
   "source": [
    "def getEpsSummary(start_ep_name, number_of_eps):\n",
    "    soup_tag_count = dict()\n",
    "    eps_summary = []\n",
    "    for ep_number in range(0, number_of_eps):\n",
    "        ep_summary, _, next_ep_page = getEpSummary(start_ep_name, soup_tag_count)\n",
    "        start_ep_name = next_ep_page\n",
    "        eps_summary.append(ep_summary)\n",
    "        #print(ep_number+1)\n",
    "    return eps_summary, soup_tag_count"
   ]
  },
  {
   "cell_type": "code",
   "execution_count": 10,
   "metadata": {},
   "outputs": [
    {
     "name": "stdout",
     "output_type": "stream",
     "text": [
      "In a barren location filled with white sand and craggy spires of blue rock, the shadows grow long over the desert, and two blobs of darkness rise from the shade into the air before bursting out of the clouds in the nighttime sky over Karakura Town. The two blobs reveal themselves to be invisible monsters that land on a riverbank running beneath a bridge below.\n",
      "Elsewhere, a Jigokuchō flies toward a full moon while Rukia Kuchiki stands on top of a telephone poll nearby. Noting she senses a powerful Reiatsu, Rukia jumps to another telephone pole before leaping toward the town below. The following evening, at twilight, Ichigo Kurosaki stands in front of five skateboarding teenagers, one of whom is lying on the ground, while a belligerent Toshi-Bro confronts him over kicking down Yama-Bro, who lies unconscious nearby, and telling them to get out of his way. When Ichigo does not respond, Toshi-Bro demands he say something and angrily moves to punch him in the face.\n",
      "However, Ichigo nonchalantly kicks Toshi-Bro in the face, and when the latter collapses, Ichigo continues to kick him in the back as his fellow skateboarders watch in horror. After driving Toshi-Bro's head through the concrete road, Ichigo directs the attention of the remaining skateboarders to the vase of flowers on the sidewalk behind him, which has been knocked over, and demands that Mit-Bro tell him what that is, prompting Mit-Bro to admit that it is a vase of flowers set up for a child who died in this location a couple days ago, which leads Ichigo to kick Mit-Bro in the face as well while confirming this is correct.\n",
      "Ichigo asks the other two skateboarders why the vase is on its side, and when one of them reveals that they knocked it over while skateboarding, Ichigo kicks them both down before proclaiming that he will make sure people will have to put up flowers for their souls too if they ever do this again. Screaming in terror, the skateboarders apologize and run away, prompting Ichigo to note that they likely will not return if he made them that afraid. When Ichigo turns around and promises to bring fresh flowers tomorrow, the Dead Girl that the flowers had been set up for appears and thanks him for getting rid of the skateboarders so she can rest in peace.\n",
      "After putting the vase of flowers back up, Ichigo tells the girl that she is welcome and that she should cross over soon before walking away while the girl fades from view. While he walks home in the night, Ichigo begins to outline his life: he is 15 years old and in the tenth grade, his family runs a clinic, and he has been able to see ghosts for as long as he can remember. Walking through the front door of his house, Ichigo announces his arrival, only to be kicked in the face by Isshin Kurosaki, who reprimands him for being late despite knowing dinner is always served at 7:00 pm, prompting Ichigo to ask if this is how he treats someone who just helped a spirit pass over.\n",
      "Declaring that he does not care what Ichigo's excuse is, Isshin proclaims that anyone who disturbs the peace and happiness of his household will be punished while he butts heads with Ichigo. As he and Ichigo begin sparring fiercely, Isshin demands to know if Ichigo is gloating over the fact that only he can touch and talk to ghosts, only for Ichigo to remind his father that he did not asks to be born like this. Yuzu Kurosaki tries to tell her brother and father to stop it because dinner is getting cold, but Karin Kurosaki tells her to leave them along before nonchalantly asking for more rice, prompting Yuzu to express concern over her lack of reaction.\n",
      "Kicking Isshin into the wall, Ichigo begins to angrily complain about his strict curfew of 7:00 pm despite being a healthy young man, but is interrupted when Karin points out that a new spirit has begun to follow him. Upon seeing a bespectacled Plus behind him, a shocked Ichigo wonders when he got here and tries to swipe the spirit away while bemoaning the fact that he is never fully rid of spirits no matter how hard he tries to get rid of them. After thanking Yuzu for dinner, Karin expresses sympathy for Ichigo being so popular with spirits, but Yuzu admits she is somewhat jealous because she can only sense them.\n",
      "When Karin claims that she does not believe in ghosts, Yuzu points out that she can see them as well and their father is the only one who cannot interact with ghosts at all, only for Karin to clarify that ghosts do not exist to her regardless of whether she can see them as long as she does not believe in them, leaving Yuzu and the Plus feeling chilled by her harsh words. Calming down, Ichigo tries to get dinner, but Isshin slides into his feet to trip him up before putting him in an armlock on the floor, only for Ichigo to angrily push him away before they both punch each other in the face, which leads Isshin to fall to the floor as Ichigo stays standing.\n",
      "Irritated by this, Ichigo decides to just go to bed and leaves while Karin blames Isshin for his reaction, prompting a bewildered Isshin to ask why. While Ichigo lies in his bed upstairs, Yuzu states that he is having a rough time right now, prompting Karin to note that Ichigo mentioned seeing more spirits than ever as of late. When a shocked Isshin wonders why Ichigo never tells him about such things, Karin points out that he is over 40 years old but can only communicate in an immature way and states that no one would ever want to confide in him, leading a tearful Isshin to ask the memorial poster of his wife what he should do about his children being so cold to him.\n",
      "Seeing this, Karin tells him that he should take down the memorial poster to start with. The next day, a reporter on television relays the news that the ground shook and the walls of many buildings were damaged one block away from the main street outside of Karakura Station at 7:30 am this morning. As Karin and Yuzu eat breakfast in the dining room, Ichigo enters the room and greets them before asking where Isshin is, prompting Karin to reveal that he has a meeting and will not be home that night. Taking a piece of toast from the toaster, Ichigo acknowledges this before looking at the television while the reporter states that investigators are working to determine what happened.\n",
      "When Yuzu asks him what is wrong, Ichigo notes that the incident took place near their house. Shortly afterward, Ichigo walks past the site of the incident with fresh flowers in his bag and arrives at the street with the dead girl's memorial site, where he calls out for her. However, upon hearing a scream and a strange roar from afar, a startled Ichigo begins running toward the source of the sound. Elsewhere in the city, a woman wonders what that sound was before screaming when another explosion occurs nearby and giant claw marks are dug into the side of a building. As the civilians flee, Ichigo runs past them toward the ongoing incident.\n",
      "Upon being engulfed in a cloud of smoke, Ichigo sees a large masked monster standing in the midst of the destruction, to his confusion. Suddenly, the dead girl runs toward him while calling out, leading Ichigo to tell her to run while they begin fleeing together. With the monster in pursuit, the dead girl asks Ichigo what it is, prompting him to admit that he does not know, before tripping and falling on the ground. As Ichigo runs back to help her up, the monster catches up to them and moves to attack. Suddenly, while Ichigo sees a Jigokuchō fly in front of his face, Rukia appears in front of the monster and unsheathes her Zanpakutō before slashing the monster's mouth.\n",
      "With blood spurting from the wound, Rukia lands on the ground before leaping toward the monster once more and cutting through its entire body vertically from the head down, causing it to disintegrate and disappear. When Rukia lands before him and the dead girl while sheathing her Zanpakutō, a stunned Ichigo tries to get her attention, only for Rukia to briefly look at him before walking away. As civilians begin returning to the scene and wondering what happened, Ichigo sees that the dead girl has disappeared and looks ahead in shock. Soon afterward, sirens fill the air while emergency services respond and arrive at the scene of the incident.\n",
      "That night, as Ichigo lies in bed, he notes to himself that he cannot figure out what happened earlier that day. Upon seeing another Jigokuchō fly in front of him, a shocked Ichigo watches while Rukia steps into his room on top of his desk and asks who she is. When Rukia grips her Zanpakutō, Ichigo asks with trepidation what she wants. Stepping down onto the floor, Rukia notes that \"it\" is close, only to be interrupted when Ichigo angrily kicks her in the back while demanding to know what she is talking about. As she lies on the floor, a stunned Rukia asks Ichigo if he can see her and notes that he just kicked her.\n",
      "Wondering what Rukia is talking about, Ichigo confirms that he can see her while Rukia gets to her feet and realizes Ichigo was the one who was present when she defeated the monster earlier. As she grasps his chin and moves his head from side to side, Rukia notes that people cannot usually see her, prompting Ichigo to tell her to stop talking nonsense before attempting to kick her again. However, Rukia effortlessly dodges his kick and leaps off his leg before pushing Ichigo to the ground with a foot to the head. While Ichigo expresses irritation at this, Rukia solemnly informs him that she is a Shinigami.\n",
      "Meanwhile, the dead girl runs down the street while thundering footsteps echo behind her and wonders where it is coming from as two telephone lines are torn apart, revealing a large monster with their surge of electricity. Seeing this, the dead girl continues to run away while large footsteps appear in the ground behind her. Back at the Kurosaki Clinic, Ichigo recounts Rukia's explanation that she is a Shinigami sent from Soul Society to exorcise demons like the one who attacked the dead girl earlier, and while Rukia nods along, Ichigo claims to believe this before flipping a table and demanding to know how he could ever believe such a thing.\n",
      "Watching this, a surprised Rukia asks if he really does not believe in Shinigami despite being able to see ghosts, which Ichigo confirms before elaborating that he has never seen a Shinigami before and does not believe in what he cannot see. When Rukia points out that he is seeing her right now, Ichigo admits that she is clearly not Human before telling her to stop playing Shinigami and calling her a \"pipsqueak\" as he grabs her head. Angered by this, Rukia uses Bakudō #1. Sai, causing Ichigo's hands to be bound behind his back while he falls forward in surprise and demands to know what Rukia did to him.\n",
      "Taunting Ichigo over his inability to move, Rukia explains that this is Kidō, a high-level spell that only Shinigami can use, and reveals that she has lived ten times longer than Ichigo despite her appearance before claiming that not being permitted to execute anyone not named in her orders is the only thing preventing her from killing Ichigo on the spot for his insolence, which he should be grateful for. While an angered Ichigo curses her and her attitude, he is shocked when Rukia pulls out her Zanpakutō and brings it down, only to see her press the end of its hilt against the forehead of the glasses-wearing Plus that had been hanging around him.\n",
      "The Plus begs her to not send him to Hell, but Rukia assures him that he is instead going to Soul Society and that it is a restful place. Once Rukia removes the hilt from his forehead, leaving a shining emblem on it, the Plus clasps his hands and smiles as he sinks into the floor in Plus a pool of blue light. While the light fades and a Jigokuchō flies away from the center, a confused Ichigo asks Rukia what happened to the Soul, prompting her to reiterate that she sent him to Soul Society, which is referred to as \"passing over\" in the Human World, and decides to take the time to explain it to him so that he fully understands.\n",
      "Pulling out a sketchbook and marker, Rukia explains that there are two types of spirits in the world: Pluses, the normal spirits that Ichigo normally sees, and Hollows, evil spirits that attack both the living and the dead to devour their souls, both of which she illustrates. When Rukia asks him if he has any questions so far, Ichigo sarcastically wonders why her drawings are so bad, prompting Rukia to draw a mustache on his face with her marker, to his horror, before continuing. Rukia details how Shinigami have two jobs: the first is to send Pluses to Soul Society with Konsō as she just did, while the second is to purify Hollows, as she did earlier that day.\n",
      "While Fishbone D pursues the dead girl through the streets elsewhere in town, Ichigo asks Rukia why the Hollow she purified earlier was pursuing the dead girl, prompting Rukia to admit that she does not know because Soul Society has yet to grasp everything about Hollows. While the dead girl trips and falls to the ground, Fishbone D reaches out to grab her, but suddenly stops short and notes that he can smell an especially tasty soul nearby alongside that of a Shinigami. Standing up, Fishbone D begins walking in a different direction and roars, causing the windows nearby to explode. Hearing this, a startled Ichigo asks Rukia what that was.\n",
      "When Rukia notes that there is another Hollow wandering around the area, a startled Ichigo tells her to hurry up and get rid of it, only for Rukia to admit that she has not been able to sense it recently and theorize that there is a powerful force obstructing her senses within the same area. However, Ichigo demands to know if she cannot hear the terrible cries outside and if this is not the Hollow she is after, prompting a confused Rukia to state that she does not know what Ichigo is talking about before stopping in shock as she suddenly hears Fishbone D's roar from afar, which she identifies as definitely belonging to a Hollow.\n",
      "Upon hearing a crash below and Yuzu screaming, Rukia runs to the door and opens it, only to stop in shock when she suddenly feels Fishbone D's powerful Reiatsu. While Rukia wonders how she could not have sensed this Reiatsu before, an injured Yuzu calls out to Ichigo and stumbles through the hall before falling in front of Ichigo's door. Reaching out to Ichigo, Yuzu reveals something happened to Karin and begs him to save her as she falls unconscious. While kneeling down to check on Yuzu, Rukia hears Karin crying in pain and runs downstairs while a distraught Ichigo gets to his knees. Rukia reaches the ground floor, where she sees Fishbone D holding Karin.\n",
      "As Fishbone D grips Karin while she begs him to stop, Rukia draws her Zanpakutō before Ichigo falls down the stairs behind her. Rukia tells Ichigo to stay back, but he instead stands up while calling out to Karin, prompting Rukia to express surprise at him being able to move despite the binding spell placed on him. Seeing Fishbone D holding Karin, Ichigo begins screaming in anger and straining against his invisible binds, prompting Rukia to warn him that no human strength can break them. However, while several floating kanji appear around him and his restraints become visible, Ichigo glows with golden light before completely shattering his bonds.\n",
      "With Rukia left shocked by a Human like Ichigo breaking through a spell with his own power, Ichigo grabs a folding chair and runs forward to attack Fishbone D, who punches him away with his free hand. As Ichigo is sent flying back, Fishbone approaches him and declares that he has found Ichigo before reaching for him, only for Ichigo to roll away while Rukia cuts deep into Fishbone D's right arm. Roaring in pain, Fishbone D drops Karin, who is caught by Ichigo, and disappears from view. As Ichigo frantically calls out to Karin, Rukia sternly tells him to compose himself because Fishbone D has not yet devoured his sisters' souls, to his surprise.\n",
      "When Ichigo asks her if she is sure, Rukia confirms this and notes that Fishbone D is seeking a soul with a higher amount of Reiryoku before realizing that the Hollow she purified earlier was not after the dead girl. Ichigo asks what she means, prompting Rukia to explain that his power was almost completely suppressed until just now before stating that this is why she did not sense anything about him and why he was never attacked by a Hollow before. Admitting that it may just be conjecture, Rukia theorizes that Ichigo's power began pouring out due to his contact with the dead girl and that the Hollows sensed his power through that same girl, which makes him their real target.\n",
      "While a stunned Ichigo processes this, Fishbone D reappears in front of Rukia, prompting her to tell Ichigo to stay back. However, he tells her to shut up and asks if it is his fault that the dead girl was attacked and that his sisters' lives are in danger. Recalling his sisters in pain, Ichigo yells and runs in front of Fishbone D, whom he asks if he is after Ichigo's power before demanding that the Hollow fight him one-on-one. A roaring Fishbone D extends his neck to devour Ichigo, only for Rukia to intercept the attack with her body, damaging Fishbone D's mouth in the process. As Fishbone D rears back in pain, Rukia falls to her knees while blood trails behind her.\n",
      "Berating a shocked Ichigo for not realizing he would be no match for Fishbone D, Rukia asks if he thought everything would be over if he gave the Hollow his soul before stating that they will all become food for him at this point. While Fishbone D recovers and narrows his eyes, Rukia pulls herself to a nearby pole and asks Ichigo if he wants to save his family, which Ichigo immediately confirms before asking if there is a way to do so. Affirming this, Rukia leans against the pole and points her Zanpakutō at Ichigo before declaring he must become a Shinigami himself and detailing how Ichigo must be stabbed by her Zanpakutō so she can pour her powers into him.\n",
      "While Fishbone D continues to roar, Rukia admits that she does not know if this will work before asserting that there is nothing else they can do. As Fishbone D begins to walk toward them, Ichigo tells Rukia to give him her Zanpakutō and addresses her as a Shinigami, prompting Rukia to tell him her name. With Fishbone D charging toward them, Ichigo grabs Rukia's Zanpakutō by the blade and introduces himself in turn before pulling the blade into himself while Rukia pushes, resulting in a powerful surge of energy that releases waves of force in all directions. Pushing through the force, Fishbone D suddenly has his left arm cut off by Ichigo.\n",
      "With Ichigo having successfully gained Shinigami powers and a large Zanpakutō of his own, a stunned Rukia, now clad in a white shihakushō, notes that Ichigo took all of her power despite her only meaning to give him half and wonders who he is as Ichigo charges at Fishbone D. While Rukia states with disbelief that she has never met a Human with enough Reiryoku to confuse her senses, enough strength to break through a binding spell, and enough power to make a Zanpakutō as large as their own body, Ichigo cuts off Fishbone D's right leg and declares that he will pay for hurting his family before slashing through the Hollow's mask, causing Fishbone D to disintegrate and disappear, with Ichigo confidently standing on the street afterward.\n",
      "\n",
      "{'figure': 30, 'p': 30, None: 110, 'a': 32, 'b': 6, 'i': 5}\n",
      "/wiki/The_Shinigami%27s_Work\n"
     ]
    }
   ],
   "source": [
    "ep_summary, soup_tag_count, next_ep_page = getEpSummary(\"/wiki/The_Day_I_Became_a_Shinigami\")\n",
    "print(ep_summary)\n",
    "print(soup_tag_count)\n",
    "print(next_ep_page)"
   ]
  },
  {
   "cell_type": "code",
   "execution_count": 11,
   "metadata": {},
   "outputs": [
    {
     "name": "stdout",
     "output_type": "stream",
     "text": [
      "{'figure': 6916, 'p': 7390, None: 44312, 'a': 13576, 'b': 6647, 'i': 569, 'br': 178, 'span': 1}\n"
     ]
    }
   ],
   "source": [
    "eps_summary, soup_tag_count = getEpsSummary(\"/wiki/The_Day_I_Became_a_Shinigami\", 379)\n",
    "print(soup_tag_count)"
   ]
  },
  {
   "cell_type": "code",
   "execution_count": 12,
   "metadata": {},
   "outputs": [],
   "source": [
    "import matplotlib.pyplot as plt"
   ]
  },
  {
   "cell_type": "code",
   "execution_count": 13,
   "metadata": {},
   "outputs": [
    {
     "data": {
      "text/plain": [
       "([<matplotlib.axis.XTick at 0x7f0795ed4a60>,\n",
       "  <matplotlib.axis.XTick at 0x7f0795ed4a30>,\n",
       "  <matplotlib.axis.XTick at 0x7f0795dd1fc0>,\n",
       "  <matplotlib.axis.XTick at 0x7f0795e9ab60>,\n",
       "  <matplotlib.axis.XTick at 0x7f0795e9b2b0>,\n",
       "  <matplotlib.axis.XTick at 0x7f0795e9ba00>,\n",
       "  <matplotlib.axis.XTick at 0x7f0795e9b220>,\n",
       "  <matplotlib.axis.XTick at 0x7f0795eb4070>],\n",
       " [Text(0, 0, 'figure'),\n",
       "  Text(1, 0, 'p'),\n",
       "  Text(2, 0, ''),\n",
       "  Text(3, 0, 'a'),\n",
       "  Text(4, 0, 'b'),\n",
       "  Text(5, 0, 'i'),\n",
       "  Text(6, 0, 'br'),\n",
       "  Text(7, 0, 'span')])"
      ]
     },
     "execution_count": 13,
     "metadata": {},
     "output_type": "execute_result"
    },
    {
     "data": {
      "image/png": "[encoded data removed]",
      "text/plain": [
       "<Figure size 432x288 with 1 Axes>"
      ]
     },
     "metadata": {
      "needs_background": "light"
     },
     "output_type": "display_data"
    }
   ],
   "source": [
    "plots = plt.bar(range(len(soup_tag_count)), list(soup_tag_count.values()), data=list(soup_tag_count.values()), align='center')\n",
    "\n",
    "for bar in plots.patches:\n",
    "    plt.annotate(format(bar.get_height(), '.2f'),\n",
    "                   (bar.get_x() + bar.get_width() / 2,\n",
    "                    bar.get_height()), ha='center', va='center',\n",
    "                   size=15, xytext=(0, 8),\n",
    "                   textcoords='offset points')\n",
    "\n",
    "plt.xticks(range(len(soup_tag_count)), list(soup_tag_count.keys()))"
   ]
  },
  {
   "cell_type": "code",
   "execution_count": 14,
   "metadata": {},
   "outputs": [
    {
     "data": {
      "text/plain": [
       "(0.0, 50000.0)"
      ]
     },
     "execution_count": 14,
     "metadata": {},
     "output_type": "execute_result"
    },
    {
     "data": {
      "image/png": "[encoded data removed]",
      "text/plain": [
       "<Figure size 432x288 with 1 Axes>"
      ]
     },
     "metadata": {
      "needs_background": "light"
     },
     "output_type": "display_data"
    }
   ],
   "source": [
    "plots = plt.bar(range(len(soup_tag_count)), list(soup_tag_count.values()), data=list(soup_tag_count.values()), align='center')\n",
    "\n",
    "for bar in plots.patches:\n",
    "    plt.annotate(format(bar.get_height(), '.2f'),\n",
    "                   (bar.get_x() + bar.get_width() / 2,\n",
    "                    bar.get_height()), ha='center', va='center',\n",
    "                   size=15, xytext=(0, 8),\n",
    "                   textcoords='offset points')\n",
    "\n",
    "plt.xticks(range(len(soup_tag_count)), list(soup_tag_count.keys()))\n",
    "plt.ylim((0, 50000))"
   ]
  },
  {
   "cell_type": "code",
   "execution_count": 15,
   "metadata": {},
   "outputs": [],
   "source": [
    "import json\n",
    "\n",
    "json_object = json.dumps(eps_summary)\n",
    "\n",
    "with open(\"1_scrapping_bleach.json\", \"w\") as outfile:\n",
    "    outfile.write(json_object)"
   ]
  }
 ],
 "metadata": {
  "kernelspec": {
   "display_name": "Python 3.10.6 64-bit",
   "language": "python",
   "name": "python3"
  },
  "language_info": {
   "codemirror_mode": {
    "name": "ipython",
    "version": 3
   },
   "file_extension": ".py",
   "mimetype": "text/x-python",
   "name": "python",
   "nbconvert_exporter": "python",
   "pygments_lexer": "ipython3",
   "version": "3.10.6"
  },
  "orig_nbformat": 4,
  "vscode": {
   "interpreter": {
    "hash": "e7370f93d1d0cde622a1f8e1c04877d8463912d04d973331ad4851f04de6915a"
   }
  }
 },
 "nbformat": 4,
 "nbformat_minor": 2
}
