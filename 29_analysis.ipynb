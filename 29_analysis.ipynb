{
 "cells": [
  {
   "cell_type": "code",
   "execution_count": 2,
   "metadata": {},
   "outputs": [],
   "source": [
    "from utils.json_utils import read_json"
   ]
  },
  {
   "cell_type": "code",
   "execution_count": null,
   "metadata": {},
   "outputs": [],
   "source": [
    "characters = read_json(\"3_characters_black_clover.json\")"
   ]
  },
  {
   "cell_type": "code",
   "execution_count": 5,
   "metadata": {},
   "outputs": [
    {
     "name": "stdout",
     "output_type": "stream",
     "text": [
      "absent-minded\n",
      "warm-hearted\n",
      "charismatic\n",
      "reclusive\n",
      "flamboyant\n",
      "rotund\n",
      "diligent\n",
      "crestfallen\n",
      "kind-hearted\n",
      "generous\n",
      "stern\n",
      "fussy\n",
      "restless\n",
      "ardent\n",
      "zealous\n",
      "demure\n",
      "fervent\n",
      "morose\n",
      "irascible\n",
      "venal\n",
      "obnoxious\n",
      "grouchy\n",
      "timid\n",
      "boisterous\n",
      "chic\n",
      "petulant\n",
      "lanky\n",
      "independent\n",
      "naive\n",
      "fastidious\n",
      "clumsy\n",
      "haughty\n",
      "meddlesome\n",
      "shrewd\n",
      "funny\n",
      "nosy\n",
      "cantankerous\n",
      "humble\n",
      "tetchy\n",
      "jovial\n",
      "drowsy\n",
      "proficient\n",
      "mature\n",
      "naughty\n",
      "level-headed\n",
      "enthusiastic\n",
      "unstable\n",
      "easy-going\n",
      "hot-headed\n",
      "outspoken\n"
     ]
    }
   ],
   "source": [
    "for character in characters:\n",
    "    described = read_json(\"29_\"+ character +\"_described_perplexity_10.json\")\n",
    "    with open(\"29_\" + character + \"_described_perplexity_10.txt\", \"w\") as f:\n",
    "        for l in described:\n",
    "            print(l[0], file=f)"
   ]
  },
  {
   "cell_type": "code",
   "execution_count": 24,
   "metadata": {},
   "outputs": [
    {
     "data": {
      "text/plain": [
       "{'Yuno': [{'token': 'well', 'prob': 0.061498939990997314},\n",
       "  {'token': '[CLS]', 'prob': 0.04403240606188774},\n",
       "  {'token': 'depressed', 'prob': 0.006903379689902067},\n",
       "  {'token': 'possessed', 'prob': 0.004973285365849733},\n",
       "  {'token': 'drunk', 'prob': 0.004861949011683464}]}"
      ]
     },
     "execution_count": 24,
     "metadata": {},
     "output_type": "execute_result"
    }
   ],
   "source": [
    "summarized[0]"
   ]
  },
  {
   "cell_type": "code",
   "execution_count": 25,
   "metadata": {},
   "outputs": [],
   "source": [
    "by_character_first_token = dict()\n",
    "by_character_tokens = dict()\n",
    "\n",
    "for character in characters:\n",
    "    by_character_first_token[character] = []\n",
    "    by_character_tokens[character] = []\n",
    "\n",
    "for x in summarized:\n",
    "    for c in x:\n",
    "        for k in x[c][0]:\n",
    "            if k == \"token\":\n",
    "                by_character_first_token[c].append(x[c][0][k])\n",
    "        for o in x[c]:\n",
    "            for k in o:\n",
    "                if k == \"token\":\n",
    "                    by_character_tokens[c].append(o[k])"
   ]
  },
  {
   "cell_type": "code",
   "execution_count": 26,
   "metadata": {},
   "outputs": [],
   "source": [
    "import pandas as pd"
   ]
  },
  {
   "cell_type": "code",
   "execution_count": 27,
   "metadata": {},
   "outputs": [],
   "source": [
    "by_character_first_token_as_series = dict()\n",
    "by_character_tokens_as_series = dict()\n",
    "\n",
    "for character in characters:\n",
    "    by_character_first_token_as_series[character] = pd.Series(by_character_first_token[character])\n",
    "    by_character_tokens_as_series[character] = pd.Series(by_character_tokens[character])"
   ]
  },
  {
   "cell_type": "code",
   "execution_count": 28,
   "metadata": {},
   "outputs": [],
   "source": [
    "for character in characters:\n",
    "    with open(\"27_\" + character + \"_tokens.txt\", \"w\") as f:\n",
    "        print(by_character_tokens_as_series[character].value_counts().to_string(), file=f)\n",
    "    with open(\"27_\" + character + \"_first_tokens.txt\", \"w\") as f:\n",
    "        print(by_character_first_token_as_series[character].value_counts().to_string(), file=f)"
   ]
  },
  {
   "cell_type": "code",
   "execution_count": null,
   "metadata": {},
   "outputs": [],
   "source": []
  }
 ],
 "metadata": {
  "kernelspec": {
   "display_name": "Python 3.10.6 64-bit",
   "language": "python",
   "name": "python3"
  },
  "language_info": {
   "codemirror_mode": {
    "name": "ipython",
    "version": 3
   },
   "file_extension": ".py",
   "mimetype": "text/x-python",
   "name": "python",
   "nbconvert_exporter": "python",
   "pygments_lexer": "ipython3",
   "version": "3.10.6"
  },
  "orig_nbformat": 4,
  "vscode": {
   "interpreter": {
    "hash": "e7370f93d1d0cde622a1f8e1c04877d8463912d04d973331ad4851f04de6915a"
   }
  }
 },
 "nbformat": 4,
 "nbformat_minor": 2
}
