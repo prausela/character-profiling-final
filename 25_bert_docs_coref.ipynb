{
 "cells": [
  {
   "cell_type": "markdown",
   "metadata": {},
   "source": [
    "# Summarizing (w/ GPT-2)"
   ]
  },
  {
   "cell_type": "markdown",
   "metadata": {},
   "source": [
    "## Packages"
   ]
  },
  {
   "cell_type": "code",
   "execution_count": 1,
   "metadata": {},
   "outputs": [
    {
     "name": "stderr",
     "output_type": "stream",
     "text": [
      "/home/pauli/.local/lib/python3.10/site-packages/tqdm/auto.py:22: TqdmWarning: IProgress not found. Please update jupyter and ipywidgets. See https://ipywidgets.readthedocs.io/en/stable/user_install.html\n",
      "  from .autonotebook import tqdm as notebook_tqdm\n"
     ]
    }
   ],
   "source": [
    "from utils.json_utils import read_json\n",
    "from datasets import Dataset\n",
    "import pandas as pd"
   ]
  },
  {
   "cell_type": "markdown",
   "metadata": {},
   "source": [
    "## Tokenizing"
   ]
  },
  {
   "cell_type": "code",
   "execution_count": 2,
   "metadata": {},
   "outputs": [],
   "source": [
    "nonTokenizedWsubj_docs = read_json(\"18_docs_with_subjects.json\")\n",
    "#nonTokenizedWsubj_docs"
   ]
  },
  {
   "cell_type": "code",
   "execution_count": 3,
   "metadata": {},
   "outputs": [],
   "source": [
    "varied_set_adjectives = read_json(\"14_varied_set_adjectives_definitions.json\")\n",
    "#varied_set_adjectives"
   ]
  },
  {
   "cell_type": "code",
   "execution_count": 4,
   "metadata": {},
   "outputs": [],
   "source": [
    "training_sents = list(map(lambda x : x[\"doc\"], nonTokenizedWsubj_docs))\n",
    "#training_sents"
   ]
  },
  {
   "cell_type": "markdown",
   "metadata": {},
   "source": [
    "## Transformer"
   ]
  },
  {
   "cell_type": "code",
   "execution_count": 5,
   "metadata": {},
   "outputs": [
    {
     "name": "stderr",
     "output_type": "stream",
     "text": [
      "2023-01-24 16:32:57.371341: I tensorflow/core/platform/cpu_feature_guard.cc:193] This TensorFlow binary is optimized with oneAPI Deep Neural Network Library (oneDNN) to use the following CPU instructions in performance-critical operations:  AVX2 FMA\n",
      "To enable them in other operations, rebuild TensorFlow with the appropriate compiler flags.\n",
      "2023-01-24 16:32:57.444756: W tensorflow/compiler/xla/stream_executor/platform/default/dso_loader.cc:64] Could not load dynamic library 'libcudart.so.11.0'; dlerror: libcudart.so.11.0: cannot open shared object file: No such file or directory\n",
      "2023-01-24 16:32:57.444767: I tensorflow/compiler/xla/stream_executor/cuda/cudart_stub.cc:29] Ignore above cudart dlerror if you do not have a GPU set up on your machine.\n",
      "2023-01-24 16:32:57.864495: W tensorflow/compiler/xla/stream_executor/platform/default/dso_loader.cc:64] Could not load dynamic library 'libnvinfer.so.7'; dlerror: libnvinfer.so.7: cannot open shared object file: No such file or directory\n",
      "2023-01-24 16:32:57.864534: W tensorflow/compiler/xla/stream_executor/platform/default/dso_loader.cc:64] Could not load dynamic library 'libnvinfer_plugin.so.7'; dlerror: libnvinfer_plugin.so.7: cannot open shared object file: No such file or directory\n",
      "2023-01-24 16:32:57.864538: W tensorflow/compiler/tf2tensorrt/utils/py_utils.cc:38] TF-TRT Warning: Cannot dlopen some TensorRT libraries. If you would like to use Nvidia GPU with TensorRT, please make sure the missing libraries mentioned above are installed properly.\n"
     ]
    }
   ],
   "source": [
    "from transformers import AutoTokenizer, AutoModelForCausalLM, DataCollatorForLanguageModeling, Trainer, TrainingArguments\n",
    "import torch"
   ]
  },
  {
   "cell_type": "code",
   "execution_count": 6,
   "metadata": {},
   "outputs": [],
   "source": [
    "model_checkpoint = \"distilgpt2\""
   ]
  },
  {
   "cell_type": "code",
   "execution_count": 7,
   "metadata": {},
   "outputs": [],
   "source": [
    "tokenizer = AutoTokenizer.from_pretrained(model_checkpoint, use_fast=True)"
   ]
  },
  {
   "cell_type": "code",
   "execution_count": 8,
   "metadata": {},
   "outputs": [],
   "source": [
    "tokenizer.pad_token = tokenizer.eos_token\n",
    "data_collator = DataCollatorForLanguageModeling(tokenizer, mlm=False)"
   ]
  },
  {
   "cell_type": "code",
   "execution_count": 9,
   "metadata": {},
   "outputs": [],
   "source": [
    "tokenize_fn = lambda doc : tokenizer(\n",
    "        doc,\n",
    "        truncation=True,\n",
    "        max_length=1024\n",
    "    )\n",
    "\n",
    "tokenized_dataset = list(map(tokenize_fn, training_sents))"
   ]
  },
  {
   "cell_type": "code",
   "execution_count": 10,
   "metadata": {},
   "outputs": [],
   "source": [
    "tokenized_dataset = pd.DataFrame(tokenized_dataset)\n",
    "tokenized_dataset = Dataset.from_pandas(tokenized_dataset)"
   ]
  },
  {
   "cell_type": "code",
   "execution_count": 11,
   "metadata": {},
   "outputs": [],
   "source": [
    "model = AutoModelForCausalLM.from_pretrained(\n",
    "    model_checkpoint, pad_token_id=tokenizer.eos_token_id)"
   ]
  },
  {
   "cell_type": "code",
   "execution_count": 12,
   "metadata": {},
   "outputs": [],
   "source": [
    "device = f\"cuda:{torch.cuda.current_device()}\" if torch.cuda.is_available() else \"cpu\""
   ]
  },
  {
   "cell_type": "code",
   "execution_count": 13,
   "metadata": {},
   "outputs": [],
   "source": [
    "training_args = TrainingArguments(\n",
    "    f\"{model_checkpoint}-finetuned-docs-coref-black-clover\",\n",
    "    num_train_epochs=2,\n",
    "    per_device_train_batch_size=10,\n",
    "    per_device_eval_batch_size=10,    \n",
    "    learning_rate=2e-5,\n",
    "    weight_decay=0.01,\n",
    "    do_eval=True, # eval en validation set\n",
    "    evaluation_strategy=\"steps\", # eval en validation set\n",
    "    eval_steps=100,\n",
    "    save_steps=100, # checkpoint model every 500 steps\n",
    "    logging_dir='./logs', # logging\n",
    "    logging_strategy=\"steps\",\n",
    "    logging_steps=1,\n",
    "    fp16=False, # float16 en training (only on CUDA)\n",
    "    push_to_hub=False,\n",
    ")"
   ]
  },
  {
   "cell_type": "code",
   "execution_count": 14,
   "metadata": {},
   "outputs": [],
   "source": [
    "trainer = Trainer(\n",
    "    model=model,\n",
    "    args=training_args,\n",
    "    data_collator=data_collator,\n",
    "    train_dataset=tokenized_dataset, #.select(range(0, 128)),\n",
    "    eval_dataset=tokenized_dataset, #.select(range(0, 128)),\n",
    ")"
   ]
  },
  {
   "cell_type": "code",
   "execution_count": 15,
   "metadata": {},
   "outputs": [
    {
     "name": "stderr",
     "output_type": "stream",
     "text": [
      "/home/pauli/.local/lib/python3.10/site-packages/transformers/optimization.py:306: FutureWarning: This implementation of AdamW is deprecated and will be removed in a future version. Use the PyTorch implementation torch.optim.AdamW instead, or set `no_deprecation_warning=True` to disable this warning\n",
      "  warnings.warn(\n",
      "***** Running training *****\n",
      "  Num examples = 52\n",
      "  Num Epochs = 2\n",
      "  Instantaneous batch size per device = 10\n",
      "  Total train batch size (w. parallel, distributed & accumulation) = 10\n",
      "  Gradient Accumulation steps = 1\n",
      "  Total optimization steps = 12\n",
      "  0%|          | 0/12 [00:00<?, ?it/s]You're using a GPT2TokenizerFast tokenizer. Please note that with a fast tokenizer, using the `__call__` method is faster than using a method to encode the text followed by a call to the `pad` method to get a padded encoding.\n",
      "  8%|▊         | 1/12 [00:30<05:33, 30.35s/it]"
     ]
    },
    {
     "name": "stdout",
     "output_type": "stream",
     "text": [
      "{'loss': 3.8829, 'learning_rate': 1.8333333333333333e-05, 'epoch': 0.17}\n"
     ]
    },
    {
     "name": "stderr",
     "output_type": "stream",
     "text": [
      " 17%|█▋        | 2/12 [01:05<05:33, 33.36s/it]"
     ]
    },
    {
     "name": "stdout",
     "output_type": "stream",
     "text": [
      "{'loss': 3.9362, 'learning_rate': 1.6666666666666667e-05, 'epoch': 0.33}\n"
     ]
    },
    {
     "name": "stderr",
     "output_type": "stream",
     "text": [
      " 25%|██▌       | 3/12 [01:35<04:44, 31.57s/it]"
     ]
    },
    {
     "name": "stdout",
     "output_type": "stream",
     "text": [
      "{'loss': 3.9006, 'learning_rate': 1.5000000000000002e-05, 'epoch': 0.5}\n"
     ]
    },
    {
     "name": "stderr",
     "output_type": "stream",
     "text": [
      " 33%|███▎      | 4/12 [02:02<04:00, 30.03s/it]"
     ]
    },
    {
     "name": "stdout",
     "output_type": "stream",
     "text": [
      "{'loss': 3.6338, 'learning_rate': 1.3333333333333333e-05, 'epoch': 0.67}\n"
     ]
    },
    {
     "name": "stderr",
     "output_type": "stream",
     "text": [
      " 42%|████▏     | 5/12 [02:22<03:03, 26.16s/it]"
     ]
    },
    {
     "name": "stdout",
     "output_type": "stream",
     "text": [
      "{'loss': 3.7165, 'learning_rate': 1.1666666666666668e-05, 'epoch': 0.83}\n"
     ]
    },
    {
     "name": "stderr",
     "output_type": "stream",
     "text": [
      " 50%|█████     | 6/12 [02:27<01:55, 19.17s/it]"
     ]
    },
    {
     "name": "stdout",
     "output_type": "stream",
     "text": [
      "{'loss': 3.6796, 'learning_rate': 1e-05, 'epoch': 1.0}\n"
     ]
    },
    {
     "name": "stderr",
     "output_type": "stream",
     "text": [
      " 58%|█████▊    | 7/12 [02:47<01:36, 19.25s/it]"
     ]
    },
    {
     "name": "stdout",
     "output_type": "stream",
     "text": [
      "{'loss': 3.8655, 'learning_rate': 8.333333333333334e-06, 'epoch': 1.17}\n"
     ]
    },
    {
     "name": "stderr",
     "output_type": "stream",
     "text": [
      " 67%|██████▋   | 8/12 [03:05<01:15, 19.00s/it]"
     ]
    },
    {
     "name": "stdout",
     "output_type": "stream",
     "text": [
      "{'loss': 3.6831, 'learning_rate': 6.666666666666667e-06, 'epoch': 1.33}\n"
     ]
    },
    {
     "name": "stderr",
     "output_type": "stream",
     "text": [
      " 75%|███████▌  | 9/12 [03:35<01:06, 22.31s/it]"
     ]
    },
    {
     "name": "stdout",
     "output_type": "stream",
     "text": [
      "{'loss': 3.8989, 'learning_rate': 5e-06, 'epoch': 1.5}\n"
     ]
    },
    {
     "name": "stderr",
     "output_type": "stream",
     "text": [
      " 83%|████████▎ | 10/12 [04:03<00:48, 24.13s/it]"
     ]
    },
    {
     "name": "stdout",
     "output_type": "stream",
     "text": [
      "{'loss': 3.763, 'learning_rate': 3.3333333333333333e-06, 'epoch': 1.67}\n"
     ]
    },
    {
     "name": "stderr",
     "output_type": "stream",
     "text": [
      " 92%|█████████▏| 11/12 [04:32<00:25, 25.54s/it]"
     ]
    },
    {
     "name": "stdout",
     "output_type": "stream",
     "text": [
      "{'loss': 3.4472, 'learning_rate': 1.6666666666666667e-06, 'epoch': 1.83}\n"
     ]
    },
    {
     "name": "stderr",
     "output_type": "stream",
     "text": [
      "100%|██████████| 12/12 [04:37<00:00, 19.47s/it]\n",
      "\n",
      "Training completed. Do not forget to share your model on huggingface.co/models =)\n",
      "\n",
      "\n",
      "100%|██████████| 12/12 [04:37<00:00, 23.15s/it]"
     ]
    },
    {
     "name": "stdout",
     "output_type": "stream",
     "text": [
      "{'loss': 3.6197, 'learning_rate': 0.0, 'epoch': 2.0}\n",
      "{'train_runtime': 277.8513, 'train_samples_per_second': 0.374, 'train_steps_per_second': 0.043, 'train_loss': 3.7522533535957336, 'epoch': 2.0}\n"
     ]
    },
    {
     "name": "stderr",
     "output_type": "stream",
     "text": [
      "\n"
     ]
    }
   ],
   "source": [
    "train_output = trainer.train()"
   ]
  },
  {
   "cell_type": "code",
   "execution_count": 16,
   "metadata": {},
   "outputs": [],
   "source": [
    "def generate(\n",
    "    prompt=None, max_length=1024, max_new_tokens=20, greedy=True, model=model, tokenizer=tokenizer, device=device\n",
    "):\n",
    "    \"\"\"None stands for beggining of sequence.\n",
    "    NOTE si bien parece que GPT2 puede generar a partir de BOS token, la \n",
    "    documentacion es poco clara. Ademas hicimos nuestro finetuning sin BOS token.\n",
    "    Entonces solo vamos a usar la funcion pasandole un contexto.\n",
    "\n",
    "    Ver:\n",
    "    https://github.com/huggingface/transformers/issues/3311#issuecomment-601264426\n",
    "    https://github.com/openai/gpt-2/blob/a74da5d99abaaba920de8131d64da2862a8f213b/src/generate_unconditional_samples.py#L60\n",
    "    \"\"\"\n",
    "    do_sample = False if greedy else True\n",
    "    # model.eval() to set dropout and batch normalization layers to evaluation \n",
    "    # mode before running inference\n",
    "    if prompt:\n",
    "        input_ids = tokenizer.encode(prompt, return_tensors=\"pt\").to(device)\n",
    "        model.eval()\n",
    "        outputs = model.generate(input_ids, do_sample=do_sample, max_new_tokens=max_new_tokens)\n",
    "    else:\n",
    "        model.eval()\n",
    "        outputs = model.generate(do_sample=do_sample, max_new_tokens=max_new_tokens)\n",
    "    return tokenizer.batch_decode(outputs, skip_special_tokens=True)"
   ]
  },
  {
   "cell_type": "markdown",
   "metadata": {},
   "source": [
    "## Summarize"
   ]
  },
  {
   "cell_type": "code",
   "execution_count": 17,
   "metadata": {},
   "outputs": [
    {
     "data": {
      "text/plain": [
       "[\"Microsoft's CEO is ick. ick.. I know where this is, but I\\u202am not kidding.\\n\"]"
      ]
     },
     "execution_count": 17,
     "metadata": {},
     "output_type": "execute_result"
    }
   ],
   "source": [
    "generate(\"Microsoft's CEO is \", greedy=False)"
   ]
  },
  {
   "cell_type": "code",
   "execution_count": 18,
   "metadata": {},
   "outputs": [],
   "source": [
    "import re"
   ]
  },
  {
   "cell_type": "code",
   "execution_count": 19,
   "metadata": {},
   "outputs": [],
   "source": [
    "non_greedy_generated_descriptions = []\n",
    "for doc in nonTokenizedWsubj_docs:\n",
    "    for subject in doc[\"subjects\"]:\n",
    "        generated_doc = generate(doc[\"doc\"] + \" \" + subject + \" can be described as \", max_length=1024, greedy=False)\n",
    "        if len(re.split(doc[\"doc\"], generated_doc[0])) >= 2:\n",
    "            generated_desc = re.sub(r\"\\s+\", \" \", (re.split(r\"[.;:!?]\",list(map(lambda x : x.strip(), re.split(doc[\"doc\"], generated_doc[0])))[1]))[0])\n",
    "            non_greedy_generated_descriptions.append(generated_desc)"
   ]
  },
  {
   "cell_type": "code",
   "execution_count": 20,
   "metadata": {},
   "outputs": [],
   "source": [
    "greedy_generated_descriptions = []\n",
    "for doc in nonTokenizedWsubj_docs[:10]:\n",
    "    for subject in doc[\"subjects\"]:\n",
    "        generated_doc = generate(doc[\"doc\"] + \" \" + subject + \" can be described as \", max_length=1024, greedy=True)\n",
    "        if len(re.split(doc[\"doc\"], generated_doc[0])) >= 2:\n",
    "            generated_desc = re.sub(r\"\\s+\", \" \", (re.split(r\"[.;:!?]\",list(map(lambda x : x.strip(), re.split(doc[\"doc\"], generated_doc[0])))[1]))[0])\n",
    "            greedy_generated_descriptions.append(generated_desc)"
   ]
  },
  {
   "cell_type": "code",
   "execution_count": 21,
   "metadata": {},
   "outputs": [
    {
     "data": {
      "text/plain": [
       "['hol', '']"
      ]
     },
     "execution_count": 21,
     "metadata": {},
     "output_type": "execute_result"
    }
   ],
   "source": [
    "re.split(\"\\.\", \"hol.\")"
   ]
  },
  {
   "cell_type": "code",
   "execution_count": 22,
   "metadata": {},
   "outputs": [
    {
     "data": {
      "text/plain": [
       "['Yuno can be described as icky, but it is not clear what type of magic the devil possesses',\n",
       " 'Asta can be described as erythematic',\n",
       " 'Lily can be described as vernacular',\n",
       " 'Yuno can be described as ichyunzu, or an average white man',\n",
       " \"Orsi can be described as iced at night by the magic knight and the girls' school\",\n",
       " 'Asta can be described as ersatz',\n",
       " 'Lily can be described as 게륿다',\n",
       " 'Finral can be described as ikinyo, but he cannot distinguish himself from the blue-haired black wizard',\n",
       " 'Nozel can be described as 价博镶。 While at the start of the test, the students are',\n",
       " 'Gordon can be described as ссорлань, a type of mage',\n",
       " 'Rill can be described as 伕人身因慜',\n",
       " 'Jack can be described as ive heartless, not a good fighter',\n",
       " 'Dorothy can be described as urchinish, who makes an offensive move',\n",
       " 'Yami can be described as 三即。 The first few candidates, one of which is not an actual wizard, show great',\n",
       " 'Fuegoleon can be described as _____',\n",
       " 'Yuno can be described as ikinyukan, but Asta is more like a blacksmith, with a lot of power',\n",
       " 'Sekke can be described as 꽖 꽖 and says that Asta has lost his powers of war with Y',\n",
       " 'Charlotte can be described as 『Mekko』 while he is the White Prince',\n",
       " 'Asta can be described as ikon, a warrior of the light from that magical dimension, and a dragon who can move at',\n",
       " 'William can be described as icky with a smile on his face',\n",
       " 'Yuno can be described as 但。一盤。。中度。猬杦。�',\n",
       " 'Yami can be described as icha who has mastered the healing powers of magic (for the first time) and uses it as',\n",
       " 'Sekke can be described as 해지재튬, 제나�',\n",
       " 'Asta can be described as ileal, a blacksmith, or a magical healer, but they all attack the Black Bull and',\n",
       " 'Klaus can be described as \"lucky\" by his friend\\'s name',\n",
       " 'Magna can be described as 검어것 is a male knight knight',\n",
       " 'Asta can be described as very old and the only one who made this attack in the forest was one who had lost two',\n",
       " 'Noelle can be described as “ ㅥ ㅥ ㅥ ㅥ',\n",
       " 'Finral can be described as ikido type and is seen as being a man of speed',\n",
       " 'Yami can be described as',\n",
       " 'Magna can be described as 「Magic',\n",
       " 'Yuno can be described as ichiro in his early life',\n",
       " 'Klaus can be described as 任宽穁穁',\n",
       " 'Noelle can be described as ㅖ ㅖ 매은하국 작',\n",
       " 'Asta can be described as iced brown',\n",
       " 'Finral can be described as ikazoo in Japanese and is taken to the Magic Club',\n",
       " 'Yami can be described as ikon, noel, noel, noel',\n",
       " 'Magna can be described as icky but that no-one knows where',\n",
       " 'Noelle can be described as - - the first person to be teleported to the village to tell the others that',\n",
       " 'Asta can be described as للللللم',\n",
       " 'Noelle can be described as icky but the clouds stop with both',\n",
       " 'Asta can be described as iced',\n",
       " 'Magna can be described as vernacular for the spell',\n",
       " 'Magna can be described as ichai',\n",
       " \"Noelle can be described as ~~ but the magical spell can be seen in Noelle's eyes\",\n",
       " 'Asta can be described as',\n",
       " 'Finral can be described as _______________',\n",
       " 'Magna can be described as izuka and a black knight is fighting in an attempt to stop the two of them, although the',\n",
       " 'Lily can be described as 【霞】 by the Magic Investigations Department',\n",
       " 'Noelle can be described as ikon as very attractive and can be easily spotted',\n",
       " 'Sekke can be described as ',\n",
       " 'Asta can be described as 【The Elder King】 because Noelle wants to tell her about the situation',\n",
       " 'Vanessa can be described as ichiro-pale',\n",
       " 'Asta can be described as vernacular and can be heard crying hysterically from the church',\n",
       " 'Orsi can be described as ััััิีไฅข and it',\n",
       " 'Yuno can be described as ฿ุ้ลาบฏดฐณ',\n",
       " 'Klaus can be described as ikalike, as \"a boy with a strong build like a boy',\n",
       " 'Noelle can be described as ickering at the children and Father Orsi takes them',\n",
       " 'Lily can be described as сачтьоговся, and is more worried about the whole',\n",
       " 'Mimosa can be described as iced',\n",
       " 'Vanessa can be described as э сиронновд куклию',\n",
       " 'Sekke can be described as _____ but the other two are very angry',\n",
       " 'Julius can be described as iced, pale, and pale in complexion, and the whole room is covered by the flames',\n",
       " 'Orsi can be described as _____ who is a thief',\n",
       " 'Yuno can be described as of the Wizard King but can be described as a the Wizard King',\n",
       " 'Klaus can be described as сс прунольнол',\n",
       " 'Mimosa can be described as 『Fairy Dragon』 but says that they are supposed to have a dragon for the rest of the',\n",
       " 'Julius can be described as ___________, who was already very angry after finding out the mysterious magic dragon that he was able to',\n",
       " 'Asta can be described as ʻỜụ ʻỴụ because we all',\n",
       " 'William can be described as 【【【【【【【【【【【【【【【【【【【【',\n",
       " 'Lily can be described as ~~a type of magic with white hair and an empty head',\n",
       " 'Yami can be described as 什鬑到参。 The castle is not finished yet so after the first',\n",
       " 'Magna can be described as 『インチュスカリ』 and a magic wand',\n",
       " 'Luck can be described as',\n",
       " 'Yuno can be described as 『Yuki』 and the Wizard King of Yuna',\n",
       " 'Noelle can be described as 他丸国像像 and thinks that Noelle must try to',\n",
       " 'Asta can be described as 【Magic】 but no one was able to say anything',\n",
       " 'Vanessa can be described as Â a monster',\n",
       " 'Luck can be described as ersatz, but the Magic Kingdom Mage is not the same, so Luck cannot be identified by the',\n",
       " 'Yuno can be described as ick and powerful',\n",
       " 'Klaus can be described as iced up because the Sorcerer King has gotten sick',\n",
       " 'Noelle can be described as icky and timid',\n",
       " 'Mimosa can be described as urchin',\n",
       " 'Asta can be described as icky and energetic but the Golden Dawns quickly break her attack and kill off a Golden Dawn Sorceress',\n",
       " 'William can be described as 『【【【【】】】 and appears as a lightning chakra',\n",
       " 'Mars can be described as icha-moule-housle-poule, a blue-collar guy',\n",
       " 'Luck can be described as icky looking but when the Diamond mage gets hurt, Yuno tells him that he can always just help',\n",
       " 'Yuno can be described as urchin-king, but this is not exactly a magic attack',\n",
       " 'Klaus can be described as 『ラレクト〞)',\n",
       " 'Noelle can be described as ike, but Yuno can only speak so much about this',\n",
       " 'Mimosa can be described as 『King of the Fire』 by this time',\n",
       " 'Asta can be described as 今王珛 and a cute little boy',\n",
       " 'Mars can be described as ~~~~~~~ Rice',\n",
       " 'Luck can be described as 『Golch』',\n",
       " 'Yuno can be described as ㌀㍅㎃㎃ so much that Klaus uses one magic against',\n",
       " 'Klaus can be described as eryxian',\n",
       " 'Noelle can be described as 个都九',\n",
       " 'Asta can be described as ____ with a long face, white and purple eyes, but with a short white hair and dark hair',\n",
       " 'Mars can be described as 》イクグレジャレー, and while the boy was killed by the boy',\n",
       " 'Yuno can be described as vernacular, which is extremely common to many people',\n",
       " 'Klaus can be described as icky like a person with very little understanding',\n",
       " 'Noelle can be described as ikomaki',\n",
       " \"Mimosa can be described as iced but doesn't know if the boy is drinking or sleeping\",\n",
       " \"Asta can be described as Â and the boy's face goes into the darkness, which results in an aura cloud\",\n",
       " 'Fana can be described as ixivian, and Yuno was not surprised that Lotus Whomalt took Fana to visit',\n",
       " 'Mars can be described as 『クロスクロス』 and a little bit like an ancient fairy',\n",
       " 'Luck can be described as ikasunui and is seen as an all-seeing type',\n",
       " 'Yuno can be described as 【Mimi】 while Yuno laughs and laughs, but Yuno laughs again',\n",
       " 'Klaus can be described as icky and uncharacteristic, but he can also be described as nice, kind and confident, but',\n",
       " 'Noelle can be described as ichonderexotic and unrepentant',\n",
       " 'Mimosa can be described as erythemic and in her final form the Princess Moon',\n",
       " 'Asta can be described as ikas who look at the stars, but Yuno is very nervous as when he sees Asta',\n",
       " 'Mars can be described as _______',\n",
       " 'Luck can be described as 【Cannot] be given any merit for having made one rank',\n",
       " 'Yuno can be described as 一大極拉, or 中籺卍国,',\n",
       " 'Klaus can be described as - “ The Moon Kingdom Royal capital is an empty area',\n",
       " 'Noelle can be described as 『Preston』 as someone who is an 『Magic Knight』 leader because he is a',\n",
       " 'Mimosa can be described as 【X】-E】-E 【Y】-E】-Y【V】',\n",
       " 'Asta can be described as _____',\n",
       " 'Julius can be described as 〧〕〕〕〕〕〕〕〕〕',\n",
       " 'Leopold can be described as **********',\n",
       " 'Fuegoleon can be described as ichiro and has a power source',\n",
       " 'Yuno can be described as 가원밀원',\n",
       " \"Klaus can be described as ikalist and also gives no warning as the zombies don't want to know how they will go\",\n",
       " 'Solid can be described as 『廝女』',\n",
       " 'Noelle can be described as ikudama',\n",
       " 'Sol can be described as Â sucking up a big blue butterfly with a red wings',\n",
       " 'Charlotte can be described as izure',\n",
       " 'Asta can be described as ikey like a normal, but it looks weird',\n",
       " 'Nozel can be described as icky and tired when Nozel finds him, but he is able to understand Yuno because only him',\n",
       " 'Leopold can be described as 『Evil』 and “Evil』',\n",
       " 'Charmy can be described as of a mage who is dressed up to get it so that if they were to escape, it',\n",
       " 'Asta can be described as ͡°°̬, but nobody is seen until they get inside everyone',\n",
       " 'Nozel can be described as Â orÂ, but Leopold turns to the wizard who is in the magical building, where',\n",
       " 'Julius can be described as ȝsaying to be worried',\n",
       " 'Leopold can be described as iced from orange',\n",
       " 'Fuegoleon can be described as 『酢の巖』 and is unable to stand a spell that has been put in',\n",
       " 'Yuno can be described as white dwarf',\n",
       " 'Noelle can be described as ikin, but neither a mage nor do they have the same magical devices',\n",
       " 'Asta can be described as 【Touya】 and can be described as 【Oyomi】 and can be described',\n",
       " 'Nozel can be described as ian, but just as with most magic that Yuno learned from their time with the mage one year',\n",
       " 'Leopold can be described as iced',\n",
       " 'Fuegoleon can be described as ikki',\n",
       " 'Yuno can be described as',\n",
       " 'Charmy can be described as 〜〜〜〜〜〜〜〜 the whole thing',\n",
       " 'Noelle can be described as 『the one who stopped Manna',\n",
       " 'Asta can be described as ichoum no longer speaking about the magic and now the people they saved were truly the same',\n",
       " 'Leopold can be described as iced in the same way as Julius Novachrono, but when Julius notices those three are still',\n",
       " 'Noelle can be described as ː, and when the Magic Knights come around they know it is coming from behind',\n",
       " 'Asta can be described as eringing',\n",
       " 'Julius can be described as ikul and can be observed fighting',\n",
       " 'Leopold can be described as イベター',\n",
       " 'Yami can be described as iced tea but Yami decides to wait until they get to work',\n",
       " 'Magna can be described as 〜〜〜〜 in English',\n",
       " 'Fuegoleon can be described as 主天駈茇如現想身�',\n",
       " 'Yuno can be described as icky and he likes to make sure that all the other magic are working together',\n",
       " 'Charmy can be described as icky and weak',\n",
       " 'Noelle can be described as 个儶躕',\n",
       " 'Klaus can be described as ersatz',\n",
       " 'Charlotte can be described as ____',\n",
       " 'Asta can be described as erytheonic',\n",
       " 'Nozel can be described as iced and so Nozel gets to work but Nozel comes along and Roulacase tells No',\n",
       " 'Julius can be described as 【S',\n",
       " 'Gauche can be described as ____, especially with only a short amount of blueberries',\n",
       " 'Finral can be described as iced at times by Asta, with no one noticing that Noelle Silva used his glasses and that',\n",
       " 'Gordon can be described as iced but does not say anything about anyone',\n",
       " 'Magna can be described as iced tea on a table',\n",
       " 'Luck can be described as _____________ while Luck tries to catch a Magic Knight by moving the other one into the basket',\n",
       " 'Charmy can be described as icky',\n",
       " 'Noelle can be described as 〜♡♡♡♡',\n",
       " 'Sekke can be described as iced in a soft drink',\n",
       " 'Asta can be described as 『『『『』』・社』 but Luck says that Luck thinks that Luck thought',\n",
       " 'Gordon can be described as iced',\n",
       " 'Yami can be described as ~~k~k~k~k~k~k~k~k~k~k',\n",
       " 'Mars can be described as iced or iced, after which Yuno tries to prove that Mars had never been used to magic',\n",
       " 'Orsi can be described as ˜[Yungok]¨\\x8c ‡ (T) Yung',\n",
       " 'Yuno can be described as ____',\n",
       " 'Klaus can be described as ichin, but he is also very proud of their new friendship',\n",
       " 'Sekke can be described as iced by a very tall female woman named Yama, and has some pretty nice eyes like her,',\n",
       " 'Noelle can be described as ~~~yokosuki ~yokosuki ~yokosuki ~yokos',\n",
       " 'Mimosa can be described as 『Klaus-Klaus』 and his party has gathered a group of knights, including a priest',\n",
       " 'Asta can be described as urchinly',\n",
       " \"Gauche can be described as urchin, but Gauche didn't believe in the children\",\n",
       " 'Theresa can be described as ikarou, and Rosana appears',\n",
       " 'Yami can be described as 『アリティ』 and Marco Scarlet is about to say that',\n",
       " 'Orsi can be described as icky or weak',\n",
       " \"Magna can be described as iliess after the village's name for a girl named Gudia\",\n",
       " 'Yuno can be described as 伊刀 and the people in the school district are waiting for Yuno and Asta to',\n",
       " 'Klaus can be described as iced tea and was drinking water',\n",
       " 'Charmy can be described as iced and very angry if not a little nervous',\n",
       " 'Noelle can be described as 『糒子』 but the children are still alive',\n",
       " 'Marie can be described as iced like a giant ice cream in the night',\n",
       " 'Mimosa can be described as 【1】',\n",
       " 'Asta can be described as _____ in Chinese who is going by name',\n",
       " 'Lily can be described as iced and a little bit of cold by Asta',\n",
       " 'Gauche can be described as iced',\n",
       " 'Theresa can be described as iced by the other kids as iced by Alice and Alice',\n",
       " 'Noelle can be described as',\n",
       " 'Sekke can be described as 《自渄, a blacksmith and an artificer, but Sekke',\n",
       " 'Marie can be described as ㅠ 겤횄한 설횄한',\n",
       " 'Asta can be described as ilein',\n",
       " 'Gauche can be described as iced magic',\n",
       " 'Gordon can be described as ikabara ika',\n",
       " \"Asta can be described as ikken but Gauche's eyes see Gauche and Gauche's hands go out in anger\",\n",
       " 'Theresa can be described as ingersis',\n",
       " 'Yami can be described as 【Black Magic 】',\n",
       " \"Fuegoleon can be described as ikar's maw and Gauche mentions that a bunch of maw are on the way\",\n",
       " 'Noelle can be described as ichy',\n",
       " 'Sally can be described as ikiri while Gauche appears but Gauche can be described as a mudgeon',\n",
       " 'Marie can be described as iced with a red devil sword and is attacked by an evil man',\n",
       " 'Sekke can be described as --------------------------------------------------------------',\n",
       " 'Lily can be described as ileptic but can be seen as strong and has a weak heart',\n",
       " 'Gauche can be described as сゃн костолиясть',\n",
       " 'Theresa can be described as クロイブロイク',\n",
       " 'Licht can be described as 【TEMPER-] or a mage like that',\n",
       " 'Yuno can be described as 一根花魔化見 一根迹年本',\n",
       " 'Sally can be described as iced and purple at the end of this battle',\n",
       " 'Marie can be described as 不世刲。 Licht gives Licht a small golden ring and shows his own one',\n",
       " 'Asta can be described as 〃〃〃〃〃〃〃〃〃〃',\n",
       " 'Finral can be described as vernacular',\n",
       " 'Theresa can be described as ichie-kun who used the power to make a cat called Bishan',\n",
       " 'Yami can be described as magic',\n",
       " 'Licht can be described as ersatz by the English translation as Zaino Zaino Zaino Zaino Z',\n",
       " 'Fuegoleon can be described as Kōma no Vouma no Gekis',\n",
       " 'Sally can be described as 『Fuegole』 and she says that because it caused it to happen the katana that',\n",
       " 'Asta can be described as izuka and Yami Sukehiro',\n",
       " 'Gauche can be described as iced green and has a very soft, cold heart when he touches them, but he likes it warm',\n",
       " 'Finral can be described as ichai-zuki',\n",
       " 'Fana can be described as icky, shy and unashamed, but can be very effective when the magic is able to hold',\n",
       " 'Jack can be described as _________',\n",
       " 'Licht can be described as ive-eyed',\n",
       " 'Yami can be described as 仅ぽちーイン 仅ぽちーイン',\n",
       " 'Theresa can be described as ia or, depending on who they are, \\u200f[♪] Noel',\n",
       " 'Noelle can be described as',\n",
       " 'Marie can be described as icha-like',\n",
       " 'Charlotte can be described as iced tea, filled with water, a lemon and oranges, and an orange',\n",
       " 'Vetto can be described as 【Mikomichi】kouuuuuuuuuuuuuūu',\n",
       " 'Asta can be described as ____, and when one of the Magic Knights gets too excited, everyone is laughing',\n",
       " 'Nozel can be described as ick and cold',\n",
       " 'Rill can be described as iliac who came up to the Seabed Temple to bring back the Seabed Temple,',\n",
       " 'Yami can be described as ixi (yes, xi, giz) or xi (yes, xi,',\n",
       " 'Fuegoleon can be described as ikachu, a creature that fights with a large spear with a red flame',\n",
       " 'Charlotte can be described as ikiri',\n",
       " 'Asta can be described as ich a white horse, that is really a White Horse',\n",
       " 'Julius can be described as irculumcised or uncirculated and knows how to be circumcised',\n",
       " 'Gauche can be described as izomitable and has to be very polite, but with no sense of responsibility, he can see',\n",
       " 'Finral can be described as 『アロリーヘ』 by this point',\n",
       " \"Gordon can be described as icky and cold and doesn't say anything\",\n",
       " 'Yami can be described as ivelauistic and cheerful, who looks almost like a leopard cub',\n",
       " 'Magna can be described as ikayuna, who is a human that is not much older than a human',\n",
       " 'Luck can be described as 乀乀乀乀乀乀乀乀乀乀',\n",
       " 'Yuno can be described as 京雐回璌, a tall man looking to be in the middle',\n",
       " 'Klaus can be described as ~~~ Yami Kurei~~~ Yami Kurei~~~ Yami Kure',\n",
       " 'Noelle can be described as icky and not funny, but the girl seems to feel really confused over who is doing it',\n",
       " 'Charmy can be described as icky and slightly jolly, but she is very impressed by this',\n",
       " 'Mimosa can be described as icky, and is much more like Ruby',\n",
       " 'Asta can be described as 九輁品 and Yuya Biao',\n",
       " 'Vanessa can be described as iz-like, but her eyes quickly become unfocused, with Asta confused',\n",
       " 'Gauche can be described as 丫旍楽拚要利',\n",
       " 'Yami can be described as 会会音撾絗今 (or 貰',\n",
       " 'Magna can be described as ian',\n",
       " 'Luck can be described as icky and tired because his legs are a bit sore and the one on the other is getting crushed',\n",
       " 'Charmy can be described as the most famous magician in the world',\n",
       " 'Noelle can be described as ikōmoku or kana but once he comes in, Asta thinks that he is a',\n",
       " 'Asta can be described as ikatsu, ichiro, and the other two',\n",
       " 'Vanessa can be described as _____ to go on',\n",
       " 'Gauche can be described as 『イス・・・・・・・・・・・・・・・・・',\n",
       " 'Yami can be described as iced, but Yami only knows that Yami is a girl, but Kyami is not happy',\n",
       " 'Magna can be described as icky which makes Magna say I love her',\n",
       " 'Luck can be described as illsome',\n",
       " 'Charmy can be described as - - - - - - -',\n",
       " 'Noelle can be described as iced as a chubby pinkie or red-haired girl with eyes so small they only get so',\n",
       " 'Grey can be described as _____ and also Blue Eyes, Blue Eyes and Blue Eyes',\n",
       " 'Vetto can be described as icky and very sad but is rather happy with the things about it',\n",
       " 'Asta can be described as ikis',\n",
       " 'Gauche can be described as 『Shikarotan, Nastika,\\u202asoka, and 『K',\n",
       " 'Finral can be described as Â and there are two creatures in the room',\n",
       " 'Licht can be described as ersatz of all things but Roulacase and Vetto are both strong',\n",
       " 'Yami can be described as iziric',\n",
       " 'Yuno can be described as 【哔分】 【哔分】 【哔',\n",
       " 'Noelle can be described as 【イア】',\n",
       " 'Vetto can be described as ixinna like no other woman, but it is a beautiful figure',\n",
       " 'Asta can be described as',\n",
       " \"Vanessa can be described as ____ being in Yami's body in a different way, but that is not even close to the\",\n",
       " 'Finral can be described as 众下, but Asta thinks it is really different for Asta',\n",
       " 'Fana can be described as He then looks at Maty and tells him that she',\n",
       " 'Licht can be described as ilement of magical energy',\n",
       " 'Mars can be described as',\n",
       " 'Asta can be described as ˜˜˜˜˜˜˜˜˜˜˜˜˜˜˜˜˜˜˜˜',\n",
       " 'Asta can be described as Mereoleona, an older woman, and a woman with dark hair',\n",
       " 'Yami can be described as ōgashiro but Yami can be described as a boy, and the group laughs nervously',\n",
       " 'Yuno can be described as iced black, having lost several spells as a result of the magic spell, but was able to get',\n",
       " 'Sol can be described as icky, however, however, but Yami Mereoleona quickly tells him that no one knows',\n",
       " 'Charlotte can be described as (in Chinese only) \"Foug\" and the name \"King\" is changed to',\n",
       " 'Jack can be described as iced and the two of them battle under the watchful eye of their own eyes',\n",
       " 'Nozel can be described as ixiluvian',\n",
       " 'Julius can be described as 『沭期』, the legendary magician',\n",
       " 'Charmy can be described as ive, ‒Pappitson,‒ Pappitson‒, and P',\n",
       " 'Yami can be described as icky and very sweet',\n",
       " 'William can be described as the most powerful wizard to defeat Harry Potter, and then on his way out',\n",
       " 'Rill can be described as icky and shy',\n",
       " 'Licht can be described as Âshizarro',\n",
       " 'Yami can be described as ilemma, \"I\\'m afraid of all the monsters, I\\'m scared of all the things I',\n",
       " 'Fuegoleon can be described as icky but weak',\n",
       " 'Luck can be described as iced, white, brown, bright, and dark with blue eyes',\n",
       " \"Zora can be described as erystic and is fighting on top of Fuegoleon and Fuegoleon Vermillion's\",\n",
       " 'Noelle can be described as iced but does not care about anything',\n",
       " \"Sol can be described as ilius/fuegoleon and Kirsch Vermillion's father are standing in a hallway that\",\n",
       " 'Kirsch can be described as iced and a strong person',\n",
       " 'Charlotte can be described as ills, but with very little memory of the pain that Charlotte had, the Witch and the Black Magic',\n",
       " 'Asta can be described as ixiaxiaxiaxiaxiaxiaxiaxiaxiaxia',\n",
       " 'Julius can be described as iced with green fur and red eyes',\n",
       " 'Yuno can be described as',\n",
       " 'Orsi can be described as _____',\n",
       " 'Asta can be described as 『Fool』 or “Blair Mage and Mother Mage',\n",
       " 'Lily can be described as ian and a spirit on earth',\n",
       " 'Gauche can be described as iced, purple and green',\n",
       " 'Gordon can be described as 『『《』 from the beginning and it is an easy path to escape',\n",
       " 'Henry can be described as _____ to the White Bulls',\n",
       " 'Magna can be described as ikarish',\n",
       " 'Luck can be described as ikael from the Dark Sky, the White Magic Guard',\n",
       " 'Charmy can be described as urchin-eyed, as being in a normal mood but has no sense of humor',\n",
       " 'Grey can be described as iced-cold and bright light, but also a little worried about the magic',\n",
       " 'Asta can be described as eryxic-fairy',\n",
       " 'Vanessa can be described as Â-ÆÆÖ',\n",
       " 'Secre can be described as ipsunchievous and friendly as a human being who only speaks German, but no real history of',\n",
       " 'Secre can be described as icky and aggressive, and there is even some evidence that a third Elf Tribe was actually a Elf Tribe',\n",
       " 'Yami can be described as ikiny \"black black\" but Yami cannot find them, so Yami tries to keep Y',\n",
       " 'Asta can be described as vernacular, whereas Asta is more of a traditional beast',\n",
       " 'Henry can be described as Â’scentred ',\n",
       " 'Yami can be described as ichinzu, but Yami can be described as a type two being a normal-looking boy',\n",
       " 'Asta can be described as icky and uninterested in anyone',\n",
       " 'Gauche can be described as ichiro-shoey or 對忖',\n",
       " 'Gordon can be described as * * The final scene of the match is on the stage where the Demon-Slayer Sword',\n",
       " 'Magna can be described as ersatzis (or, as they would call it) at this point',\n",
       " 'Zora can be described as ˜Gadah\\u202c',\n",
       " 'Noelle can be described as ikalikalikalikalikalikalikalikalikalikal',\n",
       " 'Grey can be described as ʖuːkə̉n, a young knight from a family of priests',\n",
       " 'Asta can be described as ikou-papa or as ‥gajka-papa',\n",
       " 'Vanessa can be described as igorated when she tells her that it was like a magic sword that can kill anyone']"
      ]
     },
     "execution_count": 22,
     "metadata": {},
     "output_type": "execute_result"
    }
   ],
   "source": [
    "non_greedy_generated_descriptions"
   ]
  },
  {
   "cell_type": "code",
   "execution_count": 23,
   "metadata": {},
   "outputs": [
    {
     "data": {
      "text/plain": [
       "['Yuno can be described as 『『『『『『『『『『『『『『『『『『『『',\n",
       " 'Asta can be described as 『『『『『『『『『『『『『『『『『『『『',\n",
       " 'Lily can be described as 『『『『『『『『『『『『『『『『『『『『',\n",
       " 'Yuno can be described as 『『『『『『『『『『『『『『『『『『『『',\n",
       " 'Orsi can be described as 『『『『『『『『『『『『『『『『『『『『',\n",
       " 'Asta can be described as 『『『『『『『『『『『『『『『『『『『『',\n",
       " 'Lily can be described as iced tea, but the boys are not very good at it',\n",
       " 'Finral can be described as 『『『『『『『『『『『『『『『『『『『『',\n",
       " 'Nozel can be described as 『『『『『『『『『『『『『『『『『『『『',\n",
       " 'Gordon can be described as',\n",
       " 'Rill can be described as 『『『『『『『『『『『『『『『『『『『『',\n",
       " 'Jack can be described as',\n",
       " 'Dorothy can be described as 『『『『『『『『『『『『『『『『『『『『',\n",
       " 'Yami can be described as 『『『『『『『『『『『『『『『『『『『『',\n",
       " 'Fuegoleon can be described as 『『『『『『『『『『『『『『『『『『『『',\n",
       " 'Yuno can be described as 『『『『『『『『『『『『『『『『『『『『',\n",
       " 'Sekke can be described as 『『『『『『『『『『『『『『『『『『『『',\n",
       " 'Charlotte can be described as',\n",
       " 'Asta can be described as 『『『『『『『『『『『『『『『『『『『『',\n",
       " 'William can be described as',\n",
       " 'Yuno can be described as 『『『『『『『『『『『『『『『『『『『『',\n",
       " 'Yami can be described as 『『『『『『『『『『『『『『『『『『『『',\n",
       " 'Sekke can be described as 『『『『『『『『『『『『『『『『『『『『',\n",
       " 'Asta can be described as 【【【【【【【【【【【【【【【【【【【【',\n",
       " 'Klaus can be described as iced up and is very impressed by the new recruit',\n",
       " 'Magna can be described as 『『『『『『『『『『『『『『『『『『『『',\n",
       " 'Asta can be described as 『『『『『『『『『『『『『『『『『『『『',\n",
       " 'Noelle can be described as iced',\n",
       " 'Finral can be described as icky and angry',\n",
       " 'Yami can be described as icky and very nervous',\n",
       " 'Magna can be described as icky and very nervous',\n",
       " 'Yuno can be described as icky and very nervous',\n",
       " 'Klaus can be described as icky and very nervous',\n",
       " 'Noelle can be described as icky and a little nervous',\n",
       " 'Asta can be described as icky and very nervous',\n",
       " 'Finral can be described as iced and green',\n",
       " 'Yami can be described as iced and green',\n",
       " 'Magna can be described as icky and angry but no one can be seen',\n",
       " 'Noelle can be described as icky and angry',\n",
       " 'Asta can be described as icky and angry',\n",
       " 'Noelle can be described as iced',\n",
       " 'Asta can be described as iced and a little bit of a bit of a bit of a bit of a bit of a bit',\n",
       " 'Magna can be described as iced and a little bit of a bit of a bit of a bit of a bit of a bit',\n",
       " 'Magna can be described as',\n",
       " 'Noelle can be described as iced',\n",
       " 'Asta can be described as',\n",
       " 'Finral can be described as',\n",
       " 'Magna can be described as ikaze',\n",
       " 'Lily can be described as ikaze',\n",
       " 'Noelle can be described as ikaze',\n",
       " 'Sekke can be described as ikaze',\n",
       " 'Asta can be described as ikaze',\n",
       " 'Vanessa can be described as ikaze']"
      ]
     },
     "execution_count": 23,
     "metadata": {},
     "output_type": "execute_result"
    }
   ],
   "source": [
    "greedy_generated_descriptions"
   ]
  },
  {
   "cell_type": "code",
   "execution_count": 24,
   "metadata": {},
   "outputs": [],
   "source": [
    "non_greedy_generated_descriptions_simple = []\n",
    "for doc in nonTokenizedWsubj_docs:\n",
    "    for subject in doc[\"subjects\"]:\n",
    "        generated_doc = generate(subject + \" can be described as \", max_length=1024, greedy=False)\n",
    "        generated_desc = re.sub(r\"\\s+\", \" \", (re.split(r\"[.;:!?]\", generated_doc[0].strip())[0]))\n",
    "        non_greedy_generated_descriptions_simple.append(generated_desc)"
   ]
  },
  {
   "cell_type": "code",
   "execution_count": 25,
   "metadata": {},
   "outputs": [],
   "source": [
    "greedy_generated_descriptions_simple = []\n",
    "for doc in nonTokenizedWsubj_docs[:10]:\n",
    "    for subject in doc[\"subjects\"]:\n",
    "        generated_doc = generate(subject + \" can be described as \", max_length=1024, greedy=True)\n",
    "        generated_desc = re.sub(r\"\\s+\", \" \", (re.split(r\"[.;:!?]\", generated_doc[0].strip())[0]))\n",
    "        greedy_generated_descriptions_simple.append(generated_desc)"
   ]
  },
  {
   "cell_type": "code",
   "execution_count": 26,
   "metadata": {},
   "outputs": [
    {
     "data": {
      "text/plain": [
       "['Yuno can be described as icky',\n",
       " 'Asta can be described as --------------,›,',\n",
       " 'Lily can be described as 『Won 不陻』',\n",
       " 'Yuno can be described as 今慒展事。 I can think of them as 今',\n",
       " 'Orsi can be described as a super superman, the hero of the movie, the character of the film, and the',\n",
       " 'Asta can be described as ˈɛn̄jɒdəˈsɭnəz',\n",
       " 'Lily can be described as 七足, but 七足 makes a huge difference',\n",
       " 'Finral can be described as \"Cerberus\\'s light-haired red mage apprentice',\n",
       " 'Nozel can be described as iced and hot, sweet and creamy',\n",
       " 'Gordon can be described as',\n",
       " 'Rill can be described as ____',\n",
       " 'Jack can be described as icky',\n",
       " 'Dorothy can be described as eryxic, the term eryxic, or the term eryxal',\n",
       " 'Yami can be described as iced coffee',\n",
       " 'Fuegoleon can be described as ____ ____ ____ ____ ____ ____ ____ ____ ____ ____',\n",
       " 'Yuno can be described as 企田奇毇吉, or 們丅吉 (',\n",
       " 'Sekke can be described as iano',\n",
       " 'Charlotte can be described as urchin, although her expression has not been taken into account',\n",
       " 'Asta can be described as ㅧㅧㅧㅧㅧㅧ�',\n",
       " 'William can be described as one of the most important things that comes to mind',\n",
       " 'Yuno can be described as 【�】+★+++*】- The second phase was revealed on 2nd',\n",
       " \"Yami can be described as icky but you can't take a look at him until you see the outline - he's not like\",\n",
       " 'Sekke can be described as ˈkəikmɛəijəmː/ ki',\n",
       " 'Asta can be described as ____ as a good player',\n",
       " 'Klaus can be described as iced',\n",
       " 'Magna can be described as _____',\n",
       " 'Asta can be described as ㅜㅜㅜㅜ',\n",
       " 'Noelle can be described as like having a big dick in her vagina so much',\n",
       " 'Finral can be described as a little bit different from most cats',\n",
       " 'Yami can be described as ',\n",
       " 'Magna can be described as 𝚱, ∆, + ∆, (included) the same formula for',\n",
       " 'Yuno can be described as ichai 巴简高, that is, the name of the main ingredient',\n",
       " 'Klaus can be described as 『『』』 “Heck, you‖',\n",
       " 'Noelle can be described as ilexed, a dark, slender man with a large scarlet scruffy skin (possibly',\n",
       " 'Asta can be described as ㅍㅚㅠㅍ ㅍㅍ�',\n",
       " 'Finral can be described as ʶʶ̄ʶ̄ʶ̄ʶ̄ʶ',\n",
       " 'Yami can be described as 틳있\\u200f (面쒈는 �',\n",
       " 'Magna can be described as Âsolar as a large, dark-skinned, dark-skinned creature which is about 40 m',\n",
       " 'Noelle can be described as 【Punch】 [Punch】 「「Kamaya',\n",
       " 'Asta can be described as _____________________ I use my eyes only for myself and will not forget I will remember the',\n",
       " 'Noelle can be described as ichie ichie ichio ichie ichie ichy ichie',\n",
       " 'Asta can be described as a strong type of the light type',\n",
       " 'Magna can be described as ia [Nyar-Lalh] - (Miy',\n",
       " 'Magna can be described as',\n",
       " 'Noelle can be described as Â\\u202cÂ a mike who has lived in a mansion he called a ‒°�',\n",
       " 'Asta can be described as ~~ ~~ ~~ ~~ ~~ ~~ ~ ~~ ~ ~~ ~',\n",
       " 'Finral can be described as ㅡ으한겠젭 낤적',\n",
       " 'Magna can be described as',\n",
       " 'Lily can be described as erygonic or lerygonic',\n",
       " 'Noelle can be described as 【アルクトょうい】・マンアスカズのオイ',\n",
       " 'Sekke can be described as icky',\n",
       " 'Asta can be described as ���엝궵의싱첩니�',\n",
       " 'Vanessa can be described as ianna and the woman sitting in the room next to her, which she described as a \"d',\n",
       " 'Asta can be described as iced tea containing a mixture of mixtures of Maiti, Kano and Maran',\n",
       " 'Orsi can be described as ichicin, and it has a positive and negative, and an extra-terrestrial factor that',\n",
       " 'Yuno can be described as ',\n",
       " 'Klaus can be described as ____ and ____ for _______',\n",
       " 'Noelle can be described as 【【【【【【【【【】】】】】) The day',\n",
       " 'Lily can be described as icky',\n",
       " 'Mimosa can be described as ive type ives',\n",
       " 'Vanessa can be described as icky and an experienced actress',\n",
       " 'Sekke can be described as ikken',\n",
       " 'Julius can be described as _______________',\n",
       " 'Orsi can be described as a an the same – that we get from our',\n",
       " 'Yuno can be described as 【1 x HP】 At this time, with the addition of the number of',\n",
       " 'Klaus can be described as 『Aerial Spatial Spatial Spatial Spatial Spatial Spatial Spatial Spatial Sp',\n",
       " 'Mimosa can be described as ɤnǔā, although also mentioned by the term tàō, because tà',\n",
       " 'Julius can be described as urnalike from his home in the Netherlands, but his story is so strange that his friends have',\n",
       " 'Asta can be described as iced by an aromatic sweet note',\n",
       " 'William can be described as vernacular and idiomatic, with a more accurate sense of English, French and Turkish',\n",
       " 'Lily can be described as able to read that at the same time he is more difficult to hear that from',\n",
       " 'Yami can be described as 『〚ンティーム,” 「火』',\n",
       " 'Magna can be described as a large black black black white',\n",
       " 'Luck can be described as 𝐉𝐉𝐉 the same way in the real world',\n",
       " 'Yuno can be described as 中利祍屨了物、兵为二',\n",
       " 'Noelle can be described as ��A big, strong, and strong',\n",
       " 'Asta can be described as ㅆㅢ, a single letter, 峱 甍牁',\n",
       " 'Vanessa can be described as ianna',\n",
       " 'Luck can be described as icky and extremely difficult to pull off',\n",
       " 'Yuno can be described as 传貌',\n",
       " 'Klaus can be described as icky',\n",
       " 'Noelle can be described as 【】 【】 【】 【】 【】 【】 【】',\n",
       " 'Mimosa can be described as erythemic',\n",
       " 'Asta can be described as 《A《A《A A A�',\n",
       " 'William can be described as icky and slow,› says the group',\n",
       " 'Mars can be described as ˹˦˞˘˞ˠ˖˘˞ˑ',\n",
       " 'Luck can be described as ㅡㅡㅡㅡㅡㅡ�',\n",
       " 'Yuno can be described as 仁の「ライキック」 「ハイコンク」 「',\n",
       " 'Klaus can be described as a pretty bright light colour when it comes to the night sky or in the evening sky',\n",
       " 'Noelle can be described as iced coffee',\n",
       " 'Mimosa can be described as iafterytic and spinner-like',\n",
       " 'Asta can be described as чοском чοскому, Ам',\n",
       " 'Mars can be described as ‡ the most powerful force in the cosmos',\n",
       " 'Luck can be described as',\n",
       " 'Yuno can be described as 岩り、「こじっていう」がなら、',\n",
       " 'Klaus can be described as a well loved, but sadly he is very stubborn and very difficult',\n",
       " 'Noelle can be described as icky, but the same kind of person has been told by the same guy that has been playing the',\n",
       " 'Asta can be described as __________________',\n",
       " 'Mars can be described as iced or warm',\n",
       " 'Yuno can be described as 결선결을 as 겯산�',\n",
       " 'Klaus can be described as the \"goldfish shark',\n",
       " 'Noelle can be described as _______‿ _______‿ _______‿ ¯¯¯¯ \\\\_______‿ _______',\n",
       " 'Mimosa can be described as iced with a thin membrane at 6',\n",
       " 'Asta can be described as 『暌人于』 with strong intuition',\n",
       " 'Fana can be described as ichai a niyāe or ichai i niyāe',\n",
       " 'Mars can be described as vernacular, especially the phonological or phonological system that has been present in many languages since earliest',\n",
       " 'Luck can be described as being a hilt, as using and using',\n",
       " 'Yuno can be described as 保婁譀目跥,”尽位',\n",
       " 'Klaus can be described as izkom',\n",
       " 'Noelle can be described as iphone number #7458929 (English',\n",
       " 'Mimosa can be described as What he tells me from the book is that he‖s only about to go',\n",
       " 'Asta can be described as Â an Â an Â anÂ anÂ anÂ anÂ anÂ anÂ an',\n",
       " 'Mars can be described as \" \", and can be described as \" \"',\n",
       " 'Luck can be described as icky',\n",
       " 'Yuno can be described as 不是诗,答你,这了是魔导王�',\n",
       " 'Klaus can be described as _____',\n",
       " 'Noelle can be described as icky-eyed, and she has a tendency to smile',\n",
       " 'Mimosa can be described as urchinal or white, or grayish or brownish, or greyish',\n",
       " 'Asta can be described as',\n",
       " 'Julius can be described as Âan idealistic leader who works through his own mistakes before he becomes the embodiment of social authority in',\n",
       " 'Leopold can be described as iced cream with smooth, smooth texture',\n",
       " 'Fuegoleon can be described as iktiktiktiktiktiktiktiktiktikt',\n",
       " 'Yuno can be described as 临乳拡杔, but not an actual Japanese katame',\n",
       " 'Solid can be described as ɐɐˈΔβθ',\n",
       " 'Noelle can be described as ʼehn‼l',\n",
       " 'Asta can be described as urn-shaped, with some type of antenna',\n",
       " 'Nozel can be described as 강가',\n",
       " 'Julius can be described as 价板, because the second is 价板, because he is �',\n",
       " 'Leopold can be described as ichondrollephant (c',\n",
       " 'Fuegoleon can be described as 【※・ピー】 or ※・ピー・ピー。',\n",
       " 'Yuno can be described as 世猺位曰。。',\n",
       " 'Klaus can be described as хаеросский, хиха',\n",
       " 'Solid can be described as ˈmwkɡn/\\u200e, or ˈmekɡn/',\n",
       " 'Noelle can be described as Â․ Â Â․ I\\u202at know why',\n",
       " 'Sol can be described as ɻn with a similar pattern, and has similar patterns as the normal shapes of the tangle',\n",
       " 'Charlotte can be described as icky, shy, nervous, and unassuming',\n",
       " 'Asta can be described as iced or iced',\n",
       " 'Nozel can be described as a very small guy, his legs are really not big enough to move, very small and he',\n",
       " 'Leopold can be described as iced tea, coffee and tea, both of which contain the most important nutrients',\n",
       " 'Charmy can be described as _______, and its eyes',\n",
       " 'Asta can be described as 【4】 or【5】 or【5】 or【5】',\n",
       " 'Nozel can be described as icky but he loves it',\n",
       " 'Julius can be described as ************* The first time the sun hit the Moon at 4',\n",
       " 'Leopold can be described as 【Narcissimus 】[Narcissimus 】[Narcissimus',\n",
       " 'Fuegoleon can be described as Ã‡̱́́́́́́͡�',\n",
       " 'Yuno can be described as ikizawa-kai-no-joujū (折販�',\n",
       " 'Noelle can be described as urchin’s sweet, dark brown brown hair',\n",
       " 'Asta can be described as',\n",
       " 'Nozel can be described as 【T-G-A,【R-R-B],【R-A-R',\n",
       " 'Leopold can be described as icky, wacky, snappy, and not quite the ideal mood for the day',\n",
       " 'Fuegoleon can be described as urnocean',\n",
       " 'Yuno can be described as 以作用, 畾些譢申, 讋',\n",
       " 'Charmy can be described as eryxium',\n",
       " 'Noelle can be described as ʻal, and ʻfeare’',\n",
       " 'Asta can be described as icky',\n",
       " 'Leopold can be described as [8]',\n",
       " 'Noelle can be described as icky at the end of the article, when he does something stupid, with all the tears',\n",
       " 'Asta can be described as ______',\n",
       " 'Julius can be described as ichychre or ichychre',\n",
       " 'Leopold can be described as iliomantic',\n",
       " 'Yami can be described as 々斸 (pronounced \\u200dゲ) a ‐ゲ (pron',\n",
       " 'Magna can be described as симих (literally ‘иомова́ or �',\n",
       " 'Fuegoleon can be described as',\n",
       " 'Yuno can be described as one of the best and most fun types for beginners who have a very hard time building the first',\n",
       " 'Charmy can be described as ilean',\n",
       " 'Noelle can be described as iced with a lightish white toothbrush, which would be helpful if people had a glass of coffee',\n",
       " 'Klaus can be described as a gentle woman with a strong will that allows her to be loved and cherished',\n",
       " 'Charlotte can be described as icky, cold, and almost comical',\n",
       " 'Asta can be described as _____________ _____ _____ _____ _____ _____ _____ _____ _____ _____',\n",
       " 'Nozel can be described as 会可有会可今台事抺�',\n",
       " 'Julius can be described as more difficult to describe',\n",
       " 'Gauche can be described as ссавая',\n",
       " 'Finral can be described as iced tea, although not so much',\n",
       " \"Gordon can be described as 현, he always knows he'll always know a way\",\n",
       " 'Magna can be described as a beautiful, beautiful man who looks like a wonderful man with some kind of mystical magic',\n",
       " 'Luck can be described as icky/dude',\n",
       " 'Charmy can be described as 丢会定',\n",
       " 'Noelle can be described as iced by the black magic in the mirror',\n",
       " 'Sekke can be described as 『・」】\"A strong heart」',\n",
       " 'Asta can be described as ivel and ivel',\n",
       " 'Gordon can be described as ɵ-sɡpɽsɡnɪtɪt',\n",
       " 'Yami can be described as iaikana',\n",
       " 'Mars can be described as ā-ː-ː-ː ː-ː-ː-',\n",
       " 'Orsi can be described as 『Pink’s』',\n",
       " 'Yuno can be described as 【�めり】 He must have been surprised before and had already been looking',\n",
       " 'Klaus can be described as ilection',\n",
       " 'Sekke can be described as something of a badass',\n",
       " 'Noelle can be described as ʼʼʼʼslim',\n",
       " 'Mimosa can be described as \\ue800 \\ue928 \\ue800 \\ue928',\n",
       " 'Asta can be described as erythema, but in her own right, that is a little bit closer',\n",
       " 'Gauche can be described as Â a great and lovely place for hiking and camping, and an incredible and fascinating place for walking,',\n",
       " 'Theresa can be described as iced/gluten free',\n",
       " 'Yami can be described as ㅄㅄㅄㅄㅄㅄ�',\n",
       " 'Orsi can be described as селяталау селяталау',\n",
       " 'Magna can be described as ɛnɪlós',\n",
       " 'Yuno can be described as インロース (pronounced \"I\" or \"I\"), which means \"little girl',\n",
       " 'Klaus can be described as iced-up, because he\\u202as a pretty good student',\n",
       " 'Charmy can be described as icky, and very sensitive to the senses, but their ability to be very careful not to touch them',\n",
       " 'Noelle can be described as irl',\n",
       " 'Marie can be described as icky, icky, icky and lovable',\n",
       " 'Mimosa can be described as \\ue005-x a sphinged form of black sphinged sphinging of sphing',\n",
       " 'Asta can be described as ikimabala which is used as a means of healing and cleansing through the use of magic or',\n",
       " 'Lily can be described as The following chart displays',\n",
       " 'Gauche can be described as Âa simple spigot-footed fish called Cocelacias, but the name C',\n",
       " 'Theresa can be described as “one of the most brilliant and powerful people in the 21st century',\n",
       " 'Noelle can be described as _________________',\n",
       " 'Sekke can be described as ikki, the black guy',\n",
       " 'Marie can be described as ileum, but the effect is probably not only severe',\n",
       " 'Asta can be described as ㅕㅕㅕㅕㅕㅕ�',\n",
       " 'Gauche can be described as ich from a distance in my right hand',\n",
       " 'Gordon can be described as',\n",
       " 'Asta can be described as icky but the term \\u202aanecdotal’ is used to describe the behaviour of cats,',\n",
       " 'Theresa can be described as iced and in English',\n",
       " 'Yami can be described as the ‘ a person who loves you and‘ loves you, the person who doesn�',\n",
       " 'Fuegoleon can be described as ~~ ~~ ~~ ~~ ~~ ~~ ~~ The ~~ ~~',\n",
       " 'Noelle can be described as ikey’’s father',\n",
       " 'Sally can be described as icky‑ in the Chinese as having a hard time understanding the context of this phenomenon',\n",
       " 'Marie can be described as ____ like a ____ like',\n",
       " 'Sekke can be described as icky/unwilled',\n",
       " 'Lily can be described as icky and aggressive with her arms',\n",
       " 'Gauche can be described as vernacular',\n",
       " 'Theresa can be described as \\ue152 \\ue152 \\ue152 \\ue152 \\ue152',\n",
       " 'Licht can be described as vernacular and dialectical, so that we can be able to use the same forms of dialect',\n",
       " 'Yuno can be described as iced rice',\n",
       " 'Sally can be described as a powerful combination of two skills that can be combined to make him a strong threat in a hurry',\n",
       " 'Marie can be described as iced tea-y-nail-nail-nail-nail-nail-',\n",
       " 'Asta can be described as Â-battling,” or …-battling',\n",
       " 'Finral can be described as ircal',\n",
       " 'Theresa can be described as ㅇㅇㅇ, a friend or friend',\n",
       " 'Yami can be described as eryxic',\n",
       " 'Licht can be described as ɼrɼrəhf',\n",
       " 'Fuegoleon can be described as ichingleon or ichingleon',\n",
       " 'Sally can be described as iced tea as a ‒pumpkin iced tea',\n",
       " 'Asta can be described as The second is the third, and the fourth is the final The first is the last',\n",
       " 'Gauche can be described as ______________________, in turn, that will increase the power of the ______________ and lead you to',\n",
       " 'Finral can be described as étit is the most stable way to achieve an immediate outcome when it is not being overwhelmed',\n",
       " 'Fana can be described as 『ちえい、ここがおえ」 or 『うか',\n",
       " 'Jack can be described as',\n",
       " 'Licht can be described as ÂThe man who did not recognize the object that was at the bottom of the cliff and his foot',\n",
       " 'Yami can be described as - - - - - -',\n",
       " 'Theresa can be described as icky\\u200d',\n",
       " 'Noelle can be described as ick’d ‘D’stell ‘d’n‘d',\n",
       " 'Marie can be described as eryxic',\n",
       " 'Charlotte can be described as icky, charming, and sweet, but she does not seem to have ever got to understand why she',\n",
       " 'Vetto can be described as ive (the most powerful of it)',\n",
       " 'Asta can be described as iced up by the following following attributes',\n",
       " 'Nozel can be described as ichyenne (bison) or sperian (beaver)',\n",
       " 'Rill can be described as vernacular There are so many variations to English spoken, which are very well known',\n",
       " 'Yami can be described as iced tea with a hint of lemons, sweet tea with a hint of kashiya (I',\n",
       " \"Fuegoleon can be described as ˜the devil', which is a serpentine type, or a dragon\",\n",
       " 'Charlotte can be described as iphilia-lifestyle and is often associated with the use of the body to achieve orgasm',\n",
       " 'Asta can be described as ersatz by the term \"nasty\", and it is actually a form of \"nasty\"',\n",
       " 'Julius can be described as ___________',\n",
       " 'Gauche can be described as \"trying to figure out what exactly a dog is,\\u202c he can think of nothing',\n",
       " 'Finral can be described as 『エクボルト』 as the strongest man in the world',\n",
       " 'Gordon can be described as a “anomalous but significant and extremely complex human being',\n",
       " 'Yami can be described as ōka to be found in the garden near the entrance to the temple',\n",
       " 'Magna can be described as ・A',\n",
       " 'Luck can be described as Â the same thing',\n",
       " 'Yuno can be described as icky, unruly and unselfish',\n",
       " 'Klaus can be described as 《达年十圕》\\u200b',\n",
       " 'Noelle can be described as iphone-like',\n",
       " 'Charmy can be described as ˑ˙˔˔˔˔˔˔˔˔',\n",
       " 'Mimosa can be described as ˈɑmɑt, \"sombre\", \"cute\", \"mute',\n",
       " 'Asta can be described as ',\n",
       " 'Vanessa can be described as ivan or ivan, according to a 2001 arrest warrant',\n",
       " 'Gauche can be described as ichai-paint',\n",
       " 'Yami can be described as ____kitty\\u202c',\n",
       " 'Magna can be described as че, or чаΤ',\n",
       " 'Luck can be described as iced over with a simple, easy and easy way of making ice cream',\n",
       " 'Charmy can be described as erythmically speaking\\u202d (or \\u202dράιων), who speaks',\n",
       " 'Noelle can be described as ichalchorrent’ for his work in the film',\n",
       " 'Asta can be described as iced in color, but iced on the upper half of a head and so on',\n",
       " 'Vanessa can be described as iced with red wine in this manner while she is still wearing it',\n",
       " 'Gauche can be described as ikalit – the \\u202bvahir․shat which is associated with the name',\n",
       " 'Yami can be described as 그도',\n",
       " 'Magna can be described as 【【【【【【【【】】】】】【】【】】【】',\n",
       " 'Luck can be described as icky',\n",
       " 'Charmy can be described as icky with a wide brim and a brownish brown skin',\n",
       " 'Noelle can be described as ͡то',\n",
       " 'Grey can be described as a ‑ ‑ ‑ ‑ ‑ ‑ ‑ ‑',\n",
       " 'Vetto can be described as ง ฑฑตาร้, ง',\n",
       " 'Asta can be described as 𝜷\\U0001ded2𝗇\\U0001d3d9𝗇\\U0001d3d9�',\n",
       " 'Gauche can be described as iced tea, although is one of those that only can be described as iced tea',\n",
       " 'Finral can be described as †- in English (also known as †- in Icelandic)',\n",
       " 'Licht can be described as ____',\n",
       " 'Yami can be described as 不想得和。 \"It\\'s a beautiful place',\n",
       " 'Yuno can be described as 三年严空',\n",
       " 'Noelle can be described as ute and the leader of Dancer',\n",
       " 'Vetto can be described as ikxorototis',\n",
       " 'Asta can be described as urnish-shaped with some other markings like a dragon',\n",
       " 'Vanessa can be described as iced, and her cheeks seem to be drawn with a mixture of cold, and a bit pale',\n",
       " 'Finral can be described as icky or hard to spot when the light is moving',\n",
       " 'Fana can be described as \\ue471頭 戍 酄 戍 矨 �',\n",
       " 'Licht can be described as ______________',\n",
       " 'Mars can be described as 『Avenu』, a strange, white creature',\n",
       " 'Asta can be described as لہلہ',\n",
       " 'Asta can be described as 》-β\\u200f',\n",
       " 'Yami can be described as ike, so it does not matter if there is a certain one, or if there is no one',\n",
       " 'Yuno can be described as 伊心の匉找',\n",
       " 'Sol can be described as กยฃาำฟบ',\n",
       " 'Charlotte can be described as ichai',\n",
       " 'Jack can be described as icky (although in English it uses words with meanings not just \"y\", and \"he/she',\n",
       " \"Nozel can be described as ,' ,' or ' The most versatile combination of the\",\n",
       " 'Julius can be described as ____ and has been an example of how an entire worldview of all human beings can be developed, and',\n",
       " 'Charmy can be described as icky, linty, and white, though not quite the same type of brown eye',\n",
       " 'Yami can be described as ~~a light-yellow, but only in a few colors',\n",
       " 'William can be described as ian on the right foot, which is a symbol of the divine spirit, of human dignity and an',\n",
       " 'Rill can be described as ꄰ옘�적하석활�',\n",
       " 'Licht can be described as ickering around the city',\n",
       " 'Yami can be described as icky but does come with a slight change of attitude',\n",
       " 'Fuegoleon can be described as ix-dotted',\n",
       " 'Luck can be described as ia-fleeing, a type of sexual assault committed by a sex fiend',\n",
       " 'Zora can be described as _______________________',\n",
       " 'Noelle can be described as \" \" \" \" \" \"',\n",
       " 'Sol can be described as iced or buttery',\n",
       " 'Kirsch can be described as iced and sweet',\n",
       " 'Charlotte can be described as iced like every man in town',\n",
       " 'Asta can be described as ㅥㅥㅥㅥㅥㅥ�',\n",
       " 'Julius can be described as at least one person as he is \"tired of his being to',\n",
       " 'Yuno can be described as \"Good\" or \"Great\"',\n",
       " 'Orsi can be described as сротря and сость',\n",
       " 'Asta can be described as urchinidic\\u202c',\n",
       " 'Lily can be described as ian and an old man who grew up in their early 20s but then slowly moved onto college as',\n",
       " 'Gauche can be described as iced over a glass of wine, but iced over a glass of beer, and iced over',\n",
       " 'Gordon can be described as 껭궀 밀민 섌사하�',\n",
       " 'Henry can be described as -',\n",
       " 'Magna can be described as ㅡ今日 ㅡ今炙业, not',\n",
       " \"Luck can be described as ichai ni, chibi chika hain'ai vintae\",\n",
       " 'Charmy can be described as urchin or a little lanky while you have the most free space in the house',\n",
       " 'Grey can be described as ____________',\n",
       " \"Asta can be described as ian's age in a number of different forms\",\n",
       " 'Vanessa can be described as ㅀㅀㅀㅀㅀㅀ�',\n",
       " 'Secre can be described as the current version of the toolkit (which makes very complicated in its',\n",
       " 'Secre can be described as ㅠㅠㅠㅠㅠㅠ�',\n",
       " 'Yami can be described as ____',\n",
       " 'Asta can be described as ili-eugenetic, as a type of human, except its eyes will be completely blinded by',\n",
       " 'Henry can be described as iced with a thin, thin powdery, coarse, dry, dark-brown coat on the top',\n",
       " \"Yami can be described as ikiguchi's mother but also as a normal girl\",\n",
       " 'Asta can be described as _____+--, as a \"bibliography of non-magical phenomena and phenomena\" that can',\n",
       " 'Gauche can be described as салокщиной, зук со�',\n",
       " 'Gordon can be described as этрочущьним помор',\n",
       " 'Magna can be described as Â Â Â Â Â Â Â Â Â Â',\n",
       " 'Zora can be described as アバスプロット,※滝知,〜キャ',\n",
       " 'Noelle can be described as ******** *** ****[email protected]',\n",
       " 'Grey can be described as icky, but if you look around you often find the same thing',\n",
       " 'Asta can be described as ˅a\\u200c, sometimes spelled ̅̀, and some other names are actually',\n",
       " 'Vanessa can be described as сполервескии наски�',\n",
       " 'Finral can be described as vernacular',\n",
       " 'Leopold can be described as ͡, and the next two words in this translation are ты, ты,',\n",
       " 'Rill can be described as icky wearing about clothes (and shorts), but that\\u200ds not what he was wearing',\n",
       " 'Orsi can be described as ids, which, in combination, are the dominant and dominant types of animals, such as the p',\n",
       " 'Luck can be described as icky, not a lot, but it seems odd that anyone in the market could come up with an',\n",
       " 'Yuno can be described as 以きるしだ。 What exactly does this refer to',\n",
       " 'Charmy can be described as ˜Amanus of earth',\n",
       " 'Noelle can be described as 【R-G]【-L】。。',\n",
       " 'Secre can be described as a simple ‘re‘re‘(x) in the text',\n",
       " 'Mimosa can be described as Â and she has been identified as Â at all times',\n",
       " 'Asta can be described as ',\n",
       " 'Lily can be described as iced out of the wood by her grandmother, This young woman wears a silk-haired scarf']"
      ]
     },
     "execution_count": 26,
     "metadata": {},
     "output_type": "execute_result"
    }
   ],
   "source": [
    "non_greedy_generated_descriptions_simple"
   ]
  },
  {
   "cell_type": "code",
   "execution_count": 27,
   "metadata": {},
   "outputs": [
    {
     "data": {
      "text/plain": [
       "['Yuno can be described as 『『『『『『『『『『『『『『『『『『『』',\n",
       " 'Asta can be described as a “a “a “a “a “a “a',\n",
       " 'Lily can be described as icky, but she is also a very good person',\n",
       " 'Yuno can be described as 『『『『『『『『『『『『『『『『『『『』',\n",
       " 'Orsi can be described as icky, but he is also a very good player',\n",
       " 'Asta can be described as a “a “a “a “a “a “a',\n",
       " 'Lily can be described as icky, but she is also a very good person',\n",
       " 'Finral can be described as a “a “a “a “a “a “a',\n",
       " 'Nozel can be described as iced with a very strong, strong, strong, and very strong',\n",
       " 'Gordon can be described as a “a “a “a “a “a “a',\n",
       " 'Rill can be described as a “a “a “a “a “a “a',\n",
       " 'Jack can be described as a “a “a “a “a “a “a',\n",
       " 'Dorothy can be described as a “a “a “a “a “a “a',\n",
       " 'Yami can be described as',\n",
       " 'Fuegoleon can be described as ichthyroid',\n",
       " 'Yuno can be described as 『『『『『『『『『『『『『『『『『『『』',\n",
       " 'Sekke can be described as a “a “a “a “a “a “a',\n",
       " 'Charlotte can be described as a “a “a “a “a “a “a',\n",
       " 'Asta can be described as a “a “a “a “a “a “a',\n",
       " 'William can be described as a “a “a “a “a “a “a',\n",
       " 'Yuno can be described as 『『『『『『『『『『『『『『『『『『『』',\n",
       " 'Yami can be described as',\n",
       " 'Sekke can be described as a “a “a “a “a “a “a',\n",
       " 'Asta can be described as a “a “a “a “a “a “a',\n",
       " 'Klaus can be described as a “a “a “a “a “a “a',\n",
       " 'Magna can be described as a “a “a “a “a “a “a',\n",
       " 'Asta can be described as a “a “a “a “a “a “a',\n",
       " 'Noelle can be described as iced with a soft, soft, soft, and soft, and she is a very good girl',\n",
       " 'Finral can be described as a “a “a “a “a “a “a',\n",
       " 'Yami can be described as',\n",
       " 'Magna can be described as a “a “a “a “a “a “a',\n",
       " 'Yuno can be described as 『『『『『『『『『『『『『『『『『『『』',\n",
       " 'Klaus can be described as a “a “a “a “a “a “a',\n",
       " 'Noelle can be described as iced with a soft, soft, soft, and soft, and she is a very good girl',\n",
       " 'Asta can be described as a “a “a “a “a “a “a',\n",
       " 'Finral can be described as a “a “a “a “a “a “a',\n",
       " 'Yami can be described as',\n",
       " 'Magna can be described as a “a “a “a “a “a “a',\n",
       " 'Noelle can be described as iced with a soft, soft, soft, and soft, and she is a very good girl',\n",
       " 'Asta can be described as a “a “a “a “a “a “a',\n",
       " 'Noelle can be described as iced with a soft, soft, soft, and soft, and she is a very good girl',\n",
       " 'Asta can be described as a “a “a “a “a “a “a',\n",
       " 'Magna can be described as a “a “a “a “a “a “a',\n",
       " 'Magna can be described as a “a “a “a “a “a “a',\n",
       " 'Noelle can be described as iced with a soft, soft, soft, and soft, and she is a very good girl',\n",
       " 'Asta can be described as a “a “a “a “a “a “a',\n",
       " 'Finral can be described as a “a “a “a “a “a “a',\n",
       " 'Magna can be described as a “a “a “a “a “a “a',\n",
       " 'Lily can be described as icky, but she is also a very good person',\n",
       " 'Noelle can be described as iced with a soft, soft, soft, and soft, and she is a very good girl',\n",
       " 'Sekke can be described as a “a “a “a “a “a “a',\n",
       " 'Asta can be described as a “a “a “a “a “a “a',\n",
       " 'Vanessa can be described as a “a very good person“']"
      ]
     },
     "execution_count": 27,
     "metadata": {},
     "output_type": "execute_result"
    }
   ],
   "source": [
    "greedy_generated_descriptions_simple"
   ]
  },
  {
   "cell_type": "code",
   "execution_count": null,
   "metadata": {},
   "outputs": [],
   "source": []
  }
 ],
 "metadata": {
  "kernelspec": {
   "display_name": "Python 3.10.6 64-bit",
   "language": "python",
   "name": "python3"
  },
  "language_info": {
   "codemirror_mode": {
    "name": "ipython",
    "version": 3
   },
   "file_extension": ".py",
   "mimetype": "text/x-python",
   "name": "python",
   "nbconvert_exporter": "python",
   "pygments_lexer": "ipython3",
   "version": "3.10.6"
  },
  "orig_nbformat": 4,
  "vscode": {
   "interpreter": {
    "hash": "e7370f93d1d0cde622a1f8e1c04877d8463912d04d973331ad4851f04de6915a"
   }
  }
 },
 "nbformat": 4,
 "nbformat_minor": 2
}
